{
  "nbformat": 4,
  "nbformat_minor": 0,
  "metadata": {
    "colab": {
      "name": "Welcome To Colaboratory",
      "provenance": [],
      "collapsed_sections": [],
      "toc_visible": true,
      "include_colab_link": true
    },
    "kernelspec": {
      "display_name": "Python 3",
      "name": "python3"
    }
  },
  "cells": [
    {
      "cell_type": "markdown",
      "metadata": {
        "id": "view-in-github",
        "colab_type": "text"
      },
      "source": [
        "<a href=\"https://colab.research.google.com/github/AnoVando/MSIS/blob/master/MSIS521-IndividualAssignment1.ipynb\" target=\"_parent\"><img src=\"https://colab.research.google.com/assets/colab-badge.svg\" alt=\"Open In Colab\"/></a>"
      ]
    },
    {
      "cell_type": "code",
      "metadata": {
        "id": "ipNrDwk1AEsV",
        "colab_type": "code",
        "colab": {}
      },
      "source": [
        "## Spider #1\n",
        "# -*- coding: utf-8 -*-\n",
        "import scrapy\n",
        "class CarsSpider(scrapy.Spider):\n",
        "    name = \"cars\"\n",
        "    allowed_domains = [\"craigslist.org\"]\n",
        "    start_urls = ['https://seattle.craigslist.org/search/est/cta']\n",
        "    def parse(self, response):\n",
        "        titles = response.xpath('//a[@class=\"result-title hdrlnk\"]/text()').extract()\n",
        "        for title in titles:\n",
        "            yield {'Title': title}\n"
      ],
      "execution_count": 0,
      "outputs": []
    },
    {
      "cell_type": "code",
      "metadata": {
        "id": "KhR3vncYAEvR",
        "colab_type": "code",
        "colab": {}
      },
      "source": [
        "## Spider #2\n",
        "# -*- coding: utf-8 -*-\n",
        "import scrapy\n",
        "class CarsSpider(scrapy.Spider):\n",
        "    name = \"cars\"\n",
        "    allowed_domains = [\"craigslist.org\"]\n",
        "    start_urls = ['https://seattle.craigslist.org/search/est/cta']\n",
        "    def parse(self, response):\n",
        "        cars = response.xpath('//p[@class=\"result-info\"]')\n",
        "for car in cars:\n",
        "title = car.xpath('a/text()').extract_first()\n",
        "address = car.xpath('span[@class=\"result-meta\"]/span[@class=\"result-hood\"]/text()').extract_first(\"\")[2:-1]\n",
        "relative_url = car.xpath('a/@href').extract_first()\n",
        "absolute_url = response.urljoin(relative_url)\n",
        "yield{'URL':absolute_url, 'Title':title, 'Address':address}\n"
      ],
      "execution_count": 0,
      "outputs": []
    },
    {
      "cell_type": "code",
      "metadata": {
        "id": "W3axqRrbAEyZ",
        "colab_type": "code",
        "colab": {}
      },
      "source": [
        "## Spider #3\n",
        "# -*- coding: utf-8 -*-\n",
        "import scrapy\n",
        "from scrapy import Request\n",
        "class CarsSpider(scrapy.Spider):\n",
        "    name = \"cars\"\n",
        "    allowed_domains = [\"craigslist.org\"]\n",
        "    start_urls = ['https://seattle.craigslist.org/search/est/cta']\n",
        "    def parse(self, response):\n",
        "        cars = response.xpath('//p[@class=\"result-info\"]')\n",
        "for car in cars:\n",
        "title = car.xpath('a/text()').extract_first()\n",
        "address = car.xpath('span[@class=\"result-meta\"]/span[@class=\"result-hood\"]/text()').extract_first(\"\")[2:-1]\n",
        "relative_url = car.xpath('a/@href').extract_first()\n",
        "absolute_url = response.urljoin(relative_url)\n",
        "yield{'URL':absolute_url, 'Title':title, 'Address':address}\n",
        "relative_next_url = response.xpath('//a[@class=\"button next\"]/@href').extract_first()\n",
        "absolute_next_url = response.urljoin(relative_next_url)\n",
        "yield Request(absolute_next_url, callback=self.parse)\n"
      ],
      "execution_count": 0,
      "outputs": []
    },
    {
      "cell_type": "code",
      "metadata": {
        "id": "frXfGPs4AE1X",
        "colab_type": "code",
        "colab": {}
      },
      "source": [
        "## Spider #4\n",
        "# -*- coding: utf-8 -*-\n",
        "import scrapy\n",
        "from scrapy import Request\n",
        "class CarsSpider(scrapy.Spider):\n",
        "    name = \"cars\"\n",
        "    allowed_domains = [\"craigslist.org\"]\n",
        "    start_urls = ['https://seattle.craigslist.org/search/est/cta']\n",
        "    def parse(self, response):\n",
        "        cars = response.xpath('//p[@class=\"result-info\"]')\n",
        "for car in cars:\n",
        "title = car.xpath('a/text()').extract_first()\n",
        "address = car.xpath('span[@class=\"result-meta\"]/span[@class=\"result-hood\"]/text()').extract_first(\"\")[2:-1]\n",
        "relative_url = car.xpath('a/@href').extract_first()\n",
        "absolute_url = response.urljoin(relative_url)\n",
        "yield Request(absolute_url, callback=self.parse_page, meta={'URL': absolute_url, 'Title': title, 'Address':address})\n",
        "def parse_page(self, response):\n",
        "description = \"\".join(line for line in response.xpath('//*[@id=\"postingbody\"]/text()').extract()) \n",
        "response.meta['Description'] = description\n",
        "yield response.meta\n"
      ],
      "execution_count": 0,
      "outputs": []
    }
  ]
}