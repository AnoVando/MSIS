{
  "nbformat": 4,
  "nbformat_minor": 0,
  "metadata": {
    "colab": {
      "name": "Welcome To Colaboratory",
      "provenance": [],
      "collapsed_sections": [],
      "include_colab_link": true
    },
    "kernelspec": {
      "display_name": "Python 3",
      "name": "python3"
    }
  },
  "cells": [
    {
      "cell_type": "markdown",
      "metadata": {
        "id": "view-in-github",
        "colab_type": "text"
      },
      "source": [
        "<a href=\"https://colab.research.google.com/github/AnoVando/MSIS/blob/master/MSIS521-IndividualAssignment1.ipynb\" target=\"_parent\"><img src=\"https://colab.research.google.com/assets/colab-badge.svg\" alt=\"Open In Colab\"/></a>"
      ]
    },
    {
      "cell_type": "code",
      "metadata": {
        "id": "9JlLCgXQMJ1h",
        "colab_type": "code",
        "colab": {}
      },
      "source": [
        "# -*- coding: utf-8 -*-\n",
        "import scrapy\n",
        "from scrapy import Request\n",
        "​\n",
        "class VRSpider(scrapy.Spider):\n",
        "    name = 'VR'\n",
        "    allowed_domains = ['craigslist.org']\n",
        "    start_urls = ['https://seattle.craigslist.org/search/skc/vac']\n",
        "​\n",
        "    def parse(self, response):\n",
        "        vr=response.xpath('//p[@class=\"result-info\"]')\n",
        "        for x in vr:\n",
        "            title =  vr.xpath('a/text()').extract_first()\n",
        "            date = vr.xpath('time[@class=\"result-date\"]/text()').extract_first() \n",
        "            price = vr.xpath('span[@class=\"result-meta\"]/span[@class=\"result-price\"]/text()').extract_first()\n",
        "            rooms = vr.xpath('span[@class=\"result-meta\"]/span[@class=\"housing\"]/text()').extract_first(\"\")[21:-29]\n",
        "            hood = vr.xpath('span[@class=\"result-meta\"]/span[@class=\"result-hood\"]/text()').extract_first(\"\")[2:-1]\n",
        "            url = vr.xpath('a/@href').extract_first()\n",
        "            \n",
        "            yield Request(url,callback=self.parse_page, meta={'Title':title, 'Posted Date':posted_date,\\\n",
        "                                                              'Rental Price':rental_price, '#Bedrooms':housing, \"Neighborhood\":address})\n",
        "                \n",
        "    def parse_page(self, response):\n",
        "        description = \"\".join(line for line in response.xpath('//section[@id=\"postingbody\"]/text()').extract())\n",
        "        response.meta['Description'] = description.strip()\n",
        "        \n",
        "       \n",
        "                          \n",
        "        yield response.meta\n",
        "        pass"
      ],
      "execution_count": 0,
      "outputs": []
    }
  ]
}