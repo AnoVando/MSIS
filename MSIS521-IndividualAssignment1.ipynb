{
  "nbformat": 4,
  "nbformat_minor": 0,
  "metadata": {
    "colab": {
      "name": "Welcome To Colaboratory",
      "provenance": [],
      "collapsed_sections": [],
      "include_colab_link": true
    },
    "kernelspec": {
      "display_name": "Python 3",
      "name": "python3"
    }
  },
  "cells": [
    {
      "cell_type": "markdown",
      "metadata": {
        "id": "view-in-github",
        "colab_type": "text"
      },
      "source": [
        "<a href=\"https://colab.research.google.com/github/AnoVando/MSIS/blob/master/MSIS521-IndividualAssignment1.ipynb\" target=\"_parent\"><img src=\"https://colab.research.google.com/assets/colab-badge.svg\" alt=\"Open In Colab\"/></a>"
      ]
    },
    {
      "cell_type": "code",
      "metadata": {
        "id": "Vaf6vQjv0oNw",
        "colab_type": "code",
        "colab": {}
      },
      "source": [
        "# use this to get attributes \n",
        "response.xpath('//p[@class=\"attrgroup\"]/span[1]/b/text()').extract_first()"
      ],
      "execution_count": 0,
      "outputs": []
    },
    {
      "cell_type": "code",
      "metadata": {
        "id": "9JlLCgXQMJ1h",
        "colab_type": "code",
        "colab": {}
      },
      "source": [
        "# -*- coding: utf-8 -*-\n",
        "import scrapy\n",
        "from scrapy import Request\n",
        "​\n",
        "class VacsSpider(scrapy.Spider):\n",
        "    name = 'vacs'\n",
        "    allowed_domains = ['craigslist.org']\n",
        "    start_urls = ['https://seattle.craigslist.org/search/skc/vac']\n",
        "​\n",
        "    def parse(self, response):\n",
        "        vacs=response.xpath('//p[@class=\"result-info\"]')\n",
        "        for vac in vacs:\n",
        "            title =  vac.xpath('a/text()').extract_first()\n",
        "            posted_date = vac.xpath('time[@class=\"result-date\"]/text()').extract_first() #Posted Date Answer\n",
        "            rental_price = vac.xpath('span[@class=\"result-meta\"]/span[@class=\"result-price\"]/text()').extract_first() #Rental Price Answer\n",
        "            housing = vac.xpath('span[@class=\"result-meta\"]/span[@class=\"housing\"]/text()').extract_first(\"\")[21:-29] #No of Bedrooms\n",
        "            address = vac.xpath('span[@class=\"result-meta\"]/span[@class=\"result-hood\"]/text()').extract_first(\"\")[2:-1] #Neighborhood\n",
        "            url = vac.xpath('a/@href').extract_first()\n",
        "            \n",
        "            yield Request(url,callback=self.parse_page, meta={'Title':title, 'Posted Date':posted_date, 'Rental Price':rental_price, '#Bedrooms':housing, \"Neighborhood\":address})\n",
        "            \n",
        "        #titles = response.xpath('//a[@class=\"result-title hdrlnk\"]/text()').extract() # Title\n",
        "        #for title in titles:\n",
        "            #yield{'Title':title} #convert to dictionary\n",
        "            \n",
        "    def parse_page(self, response):\n",
        "        description = \"\".join(line for line in response.xpath('//section[@id=\"postingbody\"]/text()').extract()) #Description\n",
        "        response.meta['Description'] = description.strip() #(4) remove spaces at the beginning\n",
        "        \n",
        "        #ad_text = \"\".join(line for line in response.xpath('//p[@class=\"attrgroup\"/span[1]/b/text()').extract_first()\n",
        "        #response.meta['Ad Text'] = ad_text #Still need to work on this.\n",
        "                          \n",
        "        yield response.meta\n",
        "        pass"
      ],
      "execution_count": 0,
      "outputs": []
    }
  ]
}