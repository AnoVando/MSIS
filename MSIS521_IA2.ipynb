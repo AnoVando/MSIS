{
  "nbformat": 4,
  "nbformat_minor": 0,
  "metadata": {
    "colab": {
      "name": "Welcome To Colaboratory",
      "provenance": [],
      "collapsed_sections": [],
      "include_colab_link": true
    },
    "kernelspec": {
      "display_name": "Python 3",
      "name": "python3"
    }
  },
  "cells": [
    {
      "cell_type": "markdown",
      "metadata": {
        "id": "view-in-github",
        "colab_type": "text"
      },
      "source": [
        "<a href=\"https://colab.research.google.com/github/AnoVando/MSIS/blob/master/MSIS521_IA2.ipynb\" target=\"_parent\"><img src=\"https://colab.research.google.com/assets/colab-badge.svg\" alt=\"Open In Colab\"/></a>"
      ]
    },
    {
      "cell_type": "code",
      "metadata": {
        "id": "oTIHcVguF5qI",
        "colab_type": "code",
        "outputId": "03724e0d-630d-441c-9048-a8b9b4b7254e",
        "colab": {
          "base_uri": "https://localhost:8080/",
          "height": 187
        }
      },
      "source": [
        "import nltk\n",
        "nltk.download('punkt') # tokenizer\n",
        "nltk.download('wordnet') # lemmatizer\n",
        "nltk.download('stopwords') # used to handle words like a, an, the\n",
        "nltk.download('averaged_perceptron_tagger') # Part of Speech\n",
        "import pandas as pd"
      ],
      "execution_count": 23,
      "outputs": [
        {
          "output_type": "stream",
          "text": [
            "[nltk_data] Downloading package punkt to /root/nltk_data...\n",
            "[nltk_data]   Package punkt is already up-to-date!\n",
            "[nltk_data] Downloading package wordnet to /root/nltk_data...\n",
            "[nltk_data]   Package wordnet is already up-to-date!\n",
            "[nltk_data] Downloading package stopwords to /root/nltk_data...\n",
            "[nltk_data]   Package stopwords is already up-to-date!\n",
            "[nltk_data] Downloading package averaged_perceptron_tagger to\n",
            "[nltk_data]     /root/nltk_data...\n",
            "[nltk_data]   Package averaged_perceptron_tagger is already up-to-\n",
            "[nltk_data]       date!\n"
          ],
          "name": "stdout"
        }
      ]
    },
    {
      "cell_type": "code",
      "metadata": {
        "id": "TcT7WHOlF56J",
        "colab_type": "code",
        "colab": {
          "base_uri": "https://localhost:8080/",
          "height": 204
        },
        "outputId": "8b1bf970-b940-48c5-a1f5-44bcfd344105"
      },
      "source": [
        "url = 'https://github.com/AnoVando/MSIS/raw/master/IA2.csv'\n",
        "data = pd.read_csv(url, header=None)\n",
        "data.columns = ['index', 'comment']\n",
        "data.head()"
      ],
      "execution_count": 30,
      "outputs": [
        {
          "output_type": "execute_result",
          "data": {
            "text/html": [
              "<div>\n",
              "<style scoped>\n",
              "    .dataframe tbody tr th:only-of-type {\n",
              "        vertical-align: middle;\n",
              "    }\n",
              "\n",
              "    .dataframe tbody tr th {\n",
              "        vertical-align: top;\n",
              "    }\n",
              "\n",
              "    .dataframe thead th {\n",
              "        text-align: right;\n",
              "    }\n",
              "</style>\n",
              "<table border=\"1\" class=\"dataframe\">\n",
              "  <thead>\n",
              "    <tr style=\"text-align: right;\">\n",
              "      <th></th>\n",
              "      <th>index</th>\n",
              "      <th>comment</th>\n",
              "    </tr>\n",
              "  </thead>\n",
              "  <tbody>\n",
              "    <tr>\n",
              "      <th>0</th>\n",
              "      <td>1</td>\n",
              "      <td>This is the place to go after this branch to t...</td>\n",
              "    </tr>\n",
              "    <tr>\n",
              "      <th>1</th>\n",
              "      <td>2</td>\n",
              "      <td>The direct delivery from Star Theater in Chian...</td>\n",
              "    </tr>\n",
              "    <tr>\n",
              "      <th>2</th>\n",
              "      <td>3</td>\n",
              "      <td>It is very delicious food. Good taste Unspoilt...</td>\n",
              "    </tr>\n",
              "    <tr>\n",
              "      <th>3</th>\n",
              "      <td>4</td>\n",
              "      <td>This house is the second time. I used to be a ...</td>\n",
              "    </tr>\n",
              "    <tr>\n",
              "      <th>4</th>\n",
              "      <td>5</td>\n",
              "      <td>Featured is majestic. Located on the road 107 ...</td>\n",
              "    </tr>\n",
              "  </tbody>\n",
              "</table>\n",
              "</div>"
            ],
            "text/plain": [
              "   index                                            comment\n",
              "0      1  This is the place to go after this branch to t...\n",
              "1      2  The direct delivery from Star Theater in Chian...\n",
              "2      3  It is very delicious food. Good taste Unspoilt...\n",
              "3      4  This house is the second time. I used to be a ...\n",
              "4      5  Featured is majestic. Located on the road 107 ..."
            ]
          },
          "metadata": {
            "tags": []
          },
          "execution_count": 30
        }
      ]
    },
    {
      "cell_type": "code",
      "metadata": {
        "id": "J2B_TX__F-TN",
        "colab_type": "code",
        "colab": {}
      },
      "source": [
        "# iterate through the list and tokenize each comment\n",
        "for row in data.comment:\n",
        "  comments = nltk.word_tokenize(row)"
      ],
      "execution_count": 0,
      "outputs": []
    },
    {
      "cell_type": "code",
      "metadata": {
        "id": "h9soc7SlRebS",
        "colab_type": "code",
        "colab": {
          "base_uri": "https://localhost:8080/",
          "height": 54
        },
        "outputId": "4c896ee9-22a8-454e-91c9-6532fe557dad"
      },
      "source": [
        "print(comments)"
      ],
      "execution_count": 28,
      "outputs": [
        {
          "output_type": "stream",
          "text": [
            "['Some', 'of', 'Liu', 'Zhenyun', '’', 's', 'works', 'have', 'been', 'read', 'intermittently', '.', 'The', 'small', 'forest', 'in', 'the', '“', 'Unit', '”', 'and', '“', 'Chicken', 'of', 'the', 'Land', '”', 'grew', 'up', 'under', 'the', 'reform', 'and', 'opening', 'up', 'and', 'the', 'market', 'economy', '.', 'Many', 'historical', 'figures', 'in', 'the', '“', 'Hometown', '”', 'series', 'encircle', 'the', 'historical', 'reality', ',', 'nothing', 'more', 'than', 'Liu', 'Zhenyun', '’', 's', 'black', 'humor', '.', 'The', 'language', 'reveals', 'his', 'embarrassment', 'as', 'a', 'writer', '.', 'The', 'characters', 'are', 'not', 'important', '.', 'What', 'is', 'important', 'is', 'to', 'dispel', 'the', 'grand', 'narrative', 'in', 'the', 'historical', 'context', ',', 'to', 'defeat', 'the', 'tall', 'and', 'complete', ',', 'and', 'to', 'return', 'a', 'real', 'name', 'to', 'the', 'world', '.', 'In', 'Liu', 'Zhenyun', '&', '#', '39', ';', 's', 'works', ',', 'you', 'can', 'almost', 'see', 'too', 'many', 'postmodernist', 'techniques', ',', 'rather', 'than', 'the', 'pure', 'modernity', 'of', 'the', 'sorrowful', ',', 'magical', 'realism', ',', 'in', 'the', '&', 'quot', ';', 'hometown', 'circulate', '&', 'quot', ';', ',', 'the', 'six', 'fingers', 'of', 'the', 'excess', 'fingers', 'set', 'up', 'a', 'bridge', ',', 'let', 'Hundreds', 'of', 'thousands', 'of', 'immigrant', 'Yanjin', 'people', 'have', 'successfully', 'crossed', 'the', 'Yellow', 'River', '.', 'In', 'the', 'new', 'historicalism', ',', 'in', 'the', '&', 'quot', ';', 'Hometown', 'of', 'the', 'Yellow', 'Flower', '&', 'quot', ';', ',', 'the', 'village', 'committee', 'cadres', 'are', 'not', 'headed', 'for', 'the', 'people', 'like', 'the', 'textbooks', 'of', 'history', '.', 'Instead', ',', 'they', 'ride', 'on', 'the', 'people', '&', '#', '39', ';', 's', 'heads', 'to', 'make', 'a', 'fortune', 'and', 'fight', '.', 'Through', 'the', 'ubiquity', 'of', 'historical', 'figures', 'in', '&', 'quot', ';', 'The', 'Story', 'of', 'Hometown', '&', 'quot', ';', ',', 'Liu', 'Zhenyun', 'also', 'broke', 'the', 'traditional', 'narrative', ',', 'and', 'the', 'meta-fictional', 'narrative', 'technique', 'has', 'stirred', 'up', 'the', 'history', '.', 'At', 'the', 'end', 'of', 'the', 'day', ',', 'it', '’', 's', 'a', 'slap', 'in', 'the', 'word', ',', 'it', '’', 's', 'written', 'in', 'a', 'fascinating', 'way', ',', 'and', 'it', '’', 's', 'nothing', 'more', 'than', 'a', 'slap', 'in', 'the', 'face', '.', 'It', '’', 's', 'nothing', 'more', 'than', 'a', 'ready-made', 'material', '.', 'It', '’', 's', 'nothing', 'more', 'than', 'an', 'attempt', 'to', 'dispel', 'the', 'real', ',', 'blinded', 'review', '.', 'Writing', 'strategies', ',', 'in', 'terms', 'of', 'materials', ',', 'are', 'neither', 'beneficial', 'nor', 'serious', '.', 'Everyone', 'can', 'write', 'novels', ',', 'but', 'not', 'everyone', 'is', 'a', 'novelist', ',', 'and', 'not', 'everyone', 'is', 'a', 'writer', '.', 'Mr.', 'Liu', 'Zhenyun', 'is', 'more', 'willing', 'to', 'put', 'it', 'between', 'the', 'novelist', 'and', 'the', 'writer', '.', 'Once', 'the', 'language', 'of', 'Liu', 'Zhenyun', '&', '#', '39', ';', 's', 'novels', 'is', 'heard', ',', 'everyone', 'can', 'imitate', 'it', '.', 'Secondly', ',', 'Liu', 'Zhenyun', '&', '#', '39', ';', 's', 'delicate', 'observation', 'is', 'unparalleled', '.', 'In', '&', 'quot', ';', 'Wen', 'Wen', '1942', '&', 'quot', ';', ',', 'it', 'is', 'to', 'use', 'data', 'to', 'speak', ',', 'half', 'is', 'like', 'late', 'reportage', ',', 'and', 'in', '&', 'quot', ';', 'Unit', '&', 'quot', ';', ',', '&', 'quot', ';', 'One', 'Place', 'Chicken', '&', 'quot', ';', ',', 'the', 'language', 'of', 'the', 'new', 'realist', 'writer', 'is', 'infinitely', 'close', 'to', 'real', 'life', ',', 'unlimited', 'The', 'degree', 'of', 'closeness', 'to', 'the', 'real', 'life', 'of', 'rice', ',', 'oil', 'and', 'salt', ',', 'unlimited', 'feelings', 'helpless', ',', 'and', 'even', 'a', 'little', 'gloating', '.', 'In', 'the', '&', 'quot', ';', 'Hometown', '&', 'quot', ';', 'series', ',', 'this', 'language', 'has', 'flooded', 'to', 'the', 'extreme', ',', 'and', 'the', 'fart', 'is', 'flying', ',', 'and', 'the', 'spit', 'is', 'smeared', '.', 'Although', 'it', 'likes', 'the', 'extreme', ',', 'the', 'language', '&', '#', '39', ';', 's', 'popularization', 'restricts', 'the', 'theme', 'to', 'a', 'deeper', 'level', '.', 'The', 'biggest', 'characteristic', 'of', 'Liu', 'Zhenyun', 'is', 'that', 'he', 'can', 'go', 'freely', 'in', 'the', 'switching', 'between', 'the', 'microscope', 'and', 'the', 'magnifying', 'glass', '.', 'His', 'microscope', 'is', 'generally', 'meticulously', 'observing', 'life', '.', 'In', 'the', '&', 'quot', ';', 'Unit', '&', 'quot', ';', '&', 'quot', ';', 'The', 'Chicken', 'in', 'a', 'Field', '&', 'quot', ';', ',', 'he', 'is', 'alert', 'to', 'the', 'possibility', 'of', 'a', 'loose', 'political', 'atmosphere', ',', 'and', 'the', 'fledgling', 'The', 'growth', 'of', 'Kobayashi', 'is', 'a', 'true', 'portrayal', 'of', 'the', 'history', 'of', 'this', 'loose', 'atmosphere', '.', 'If', 'a', 'person', 'wants', 'to', 'grow', ',', 'he', 'must', 'be', 'washed', 'by', 'the', 'unit.Practice', 'can', 'only', 'succeed', '.', 'In', 'the', '&', 'quot', ';', 'Hometown', '&', 'quot', ';', 'series', ',', 'he', 'keenly', 'wrote', 'that', 'the', 'subtle', 'relationship', 'between', 'people', 'changes', 'the', 'existence', 'of', 'the', 'hidden', 'class', 'with', 'the', 'difference', 'of', 'economic', 'status', 'and', 'power', 'possession', ',', 'and', 'the', 'story', 'of', '&', 'quot', ';', 'The', 'Hometown', 'Gossip', '&', 'quot', ';', 'from', 'the', 'Three', 'Kingdoms', 'Period', 'The', 'bear-like', 'look', 'turned', 'into', 'a', 'heroic', 'village', 'party', 'secretary', 'for', '59-61', 'years', '.', 'The', 'different', 'attitudes', 'of', 'the', 'dogs', 'are', 'the', 'proof', '.', 'During', 'the', 'great', 'migration', 'period', 'of', 'the', 'Ming', 'Dynasty', ',', 'the', 'people', '’', 's', 'return', 'to', 'the', 'six-finger', 'attitude', 'was', 'also', 'supported', '.', 'Liu', 'Zhenyun', '’', 's', 'magnifying', 'glass', 'tells', 'a', 'weak', ',', 'humble', ',', 'bullying', 'and', 'hard-working', 'nation', 'through', 'these', 'small', 'things', 'that', 'seem', 'to', 'be', 'overwhelmed', 'by', 'historical', 'floods', '.', 'It', 'has', 'always', 'been', 'used', 'in', 'power', 'changes', 'for', 'thousands', 'of', 'years', '.', 'In', '&', 'quot', ';', 'Hometown', 'of', 'the', 'Yellow', 'Flower', '&', 'quot', ';', ',', 'large-scale', 'slogans', 'and', 'policies', 'were', 'replaced', 'by', 'the', 'game', 'of', 'power', '.', 'The', 'power', 'given', 'by', 'the', 'people', 'to', 'be', 'the', 'master', 'of', 'the', 'house', 'was', 'swallowed', 'up', 'by', 'flattery', ',', 'selfishness', ',', 'and', 'numbness', ',', 'for', 'thousands', 'of', 'years', '.', 'I', 'remember', 'listening', 'to', 'Liu', 'Zhenyun', '’', 's', 'speech', 'once', '.', 'He', 'said', 'that', 'he', 'wanted', 'to', 'write', 'the', 'old', 'forest', '30', 'years', 'later', '.', 'Xiaolin', 'was', '30', 'years', 'ago', '.', 'The', 'old', 'forest', 'is', '30', 'years', 'later', ',', 'and', 'people', 'may', 'not', '.', 'He', 'perceives', 'changes', 'in', 'social', 'trends', ',', 'and', 'we', 'will', 'not', 'be', 'remembered', 'by', 'history', '.', 'However', ',', 'changes', 'in', 'history', 'and', 'society', 'will', 'bring', 'about', 'changes', 'in', 'the', 'principles', 'of', 'affairs', 'and', 'interpersonal', 'relationships', '.', 'In', 'the', 'context', 'of', 'small', 'people', ',', 'it', 'is', 'a', 'pity', 'that', 'genes', 'are', 'not', 'necessarily', '.', 'Got', 'the', 'money', '.', 'In', 'a', 'carnival-like', 'discourse', 'magnetic', 'field', 'made', 'up', 'of', 'rough', 'language', ',', 'it', 'is', 'enchanting', 'and', 'fascinating', '.', 'I', 'waited', 'for', 'the', 'heavenly', 'ass', ',', 'the', 'dance', 'of', 'the', 'natural', 'hand', '.']\n"
          ],
          "name": "stdout"
        }
      ]
    },
    {
      "cell_type": "code",
      "metadata": {
        "id": "B86bWymlTQP0",
        "colab_type": "code",
        "outputId": "1d52572d-ee61-4d26-be81-a5387a3a6102",
        "colab": {
          "base_uri": "https://localhost:8080/",
          "height": 54
        }
      },
      "source": [
        "# Perform lemmatization on all of the words in the comments\n",
        "\n",
        "lemmatizer = nltk.stem.WordNetLemmatizer()\n",
        "lemmatized = [lemmatizer.lemmatize(token) for token in comments if token.isalpha()]\n",
        "print(lemmatized)"
      ],
      "execution_count": 31,
      "outputs": [
        {
          "output_type": "stream",
          "text": [
            "['Some', 'of', 'Liu', 'Zhenyun', 's', 'work', 'have', 'been', 'read', 'intermittently', 'The', 'small', 'forest', 'in', 'the', 'Unit', 'and', 'Chicken', 'of', 'the', 'Land', 'grew', 'up', 'under', 'the', 'reform', 'and', 'opening', 'up', 'and', 'the', 'market', 'economy', 'Many', 'historical', 'figure', 'in', 'the', 'Hometown', 'series', 'encircle', 'the', 'historical', 'reality', 'nothing', 'more', 'than', 'Liu', 'Zhenyun', 's', 'black', 'humor', 'The', 'language', 'reveals', 'his', 'embarrassment', 'a', 'a', 'writer', 'The', 'character', 'are', 'not', 'important', 'What', 'is', 'important', 'is', 'to', 'dispel', 'the', 'grand', 'narrative', 'in', 'the', 'historical', 'context', 'to', 'defeat', 'the', 'tall', 'and', 'complete', 'and', 'to', 'return', 'a', 'real', 'name', 'to', 'the', 'world', 'In', 'Liu', 'Zhenyun', 's', 'work', 'you', 'can', 'almost', 'see', 'too', 'many', 'postmodernist', 'technique', 'rather', 'than', 'the', 'pure', 'modernity', 'of', 'the', 'sorrowful', 'magical', 'realism', 'in', 'the', 'quot', 'hometown', 'circulate', 'quot', 'the', 'six', 'finger', 'of', 'the', 'excess', 'finger', 'set', 'up', 'a', 'bridge', 'let', 'Hundreds', 'of', 'thousand', 'of', 'immigrant', 'Yanjin', 'people', 'have', 'successfully', 'crossed', 'the', 'Yellow', 'River', 'In', 'the', 'new', 'historicalism', 'in', 'the', 'quot', 'Hometown', 'of', 'the', 'Yellow', 'Flower', 'quot', 'the', 'village', 'committee', 'cadre', 'are', 'not', 'headed', 'for', 'the', 'people', 'like', 'the', 'textbook', 'of', 'history', 'Instead', 'they', 'ride', 'on', 'the', 'people', 's', 'head', 'to', 'make', 'a', 'fortune', 'and', 'fight', 'Through', 'the', 'ubiquity', 'of', 'historical', 'figure', 'in', 'quot', 'The', 'Story', 'of', 'Hometown', 'quot', 'Liu', 'Zhenyun', 'also', 'broke', 'the', 'traditional', 'narrative', 'and', 'the', 'narrative', 'technique', 'ha', 'stirred', 'up', 'the', 'history', 'At', 'the', 'end', 'of', 'the', 'day', 'it', 's', 'a', 'slap', 'in', 'the', 'word', 'it', 's', 'written', 'in', 'a', 'fascinating', 'way', 'and', 'it', 's', 'nothing', 'more', 'than', 'a', 'slap', 'in', 'the', 'face', 'It', 's', 'nothing', 'more', 'than', 'a', 'material', 'It', 's', 'nothing', 'more', 'than', 'an', 'attempt', 'to', 'dispel', 'the', 'real', 'blinded', 'review', 'Writing', 'strategy', 'in', 'term', 'of', 'material', 'are', 'neither', 'beneficial', 'nor', 'serious', 'Everyone', 'can', 'write', 'novel', 'but', 'not', 'everyone', 'is', 'a', 'novelist', 'and', 'not', 'everyone', 'is', 'a', 'writer', 'Liu', 'Zhenyun', 'is', 'more', 'willing', 'to', 'put', 'it', 'between', 'the', 'novelist', 'and', 'the', 'writer', 'Once', 'the', 'language', 'of', 'Liu', 'Zhenyun', 's', 'novel', 'is', 'heard', 'everyone', 'can', 'imitate', 'it', 'Secondly', 'Liu', 'Zhenyun', 's', 'delicate', 'observation', 'is', 'unparalleled', 'In', 'quot', 'Wen', 'Wen', 'quot', 'it', 'is', 'to', 'use', 'data', 'to', 'speak', 'half', 'is', 'like', 'late', 'reportage', 'and', 'in', 'quot', 'Unit', 'quot', 'quot', 'One', 'Place', 'Chicken', 'quot', 'the', 'language', 'of', 'the', 'new', 'realist', 'writer', 'is', 'infinitely', 'close', 'to', 'real', 'life', 'unlimited', 'The', 'degree', 'of', 'closeness', 'to', 'the', 'real', 'life', 'of', 'rice', 'oil', 'and', 'salt', 'unlimited', 'feeling', 'helpless', 'and', 'even', 'a', 'little', 'gloating', 'In', 'the', 'quot', 'Hometown', 'quot', 'series', 'this', 'language', 'ha', 'flooded', 'to', 'the', 'extreme', 'and', 'the', 'fart', 'is', 'flying', 'and', 'the', 'spit', 'is', 'smeared', 'Although', 'it', 'like', 'the', 'extreme', 'the', 'language', 's', 'popularization', 'restricts', 'the', 'theme', 'to', 'a', 'deeper', 'level', 'The', 'biggest', 'characteristic', 'of', 'Liu', 'Zhenyun', 'is', 'that', 'he', 'can', 'go', 'freely', 'in', 'the', 'switching', 'between', 'the', 'microscope', 'and', 'the', 'magnifying', 'glass', 'His', 'microscope', 'is', 'generally', 'meticulously', 'observing', 'life', 'In', 'the', 'quot', 'Unit', 'quot', 'quot', 'The', 'Chicken', 'in', 'a', 'Field', 'quot', 'he', 'is', 'alert', 'to', 'the', 'possibility', 'of', 'a', 'loose', 'political', 'atmosphere', 'and', 'the', 'fledgling', 'The', 'growth', 'of', 'Kobayashi', 'is', 'a', 'true', 'portrayal', 'of', 'the', 'history', 'of', 'this', 'loose', 'atmosphere', 'If', 'a', 'person', 'want', 'to', 'grow', 'he', 'must', 'be', 'washed', 'by', 'the', 'can', 'only', 'succeed', 'In', 'the', 'quot', 'Hometown', 'quot', 'series', 'he', 'keenly', 'wrote', 'that', 'the', 'subtle', 'relationship', 'between', 'people', 'change', 'the', 'existence', 'of', 'the', 'hidden', 'class', 'with', 'the', 'difference', 'of', 'economic', 'status', 'and', 'power', 'possession', 'and', 'the', 'story', 'of', 'quot', 'The', 'Hometown', 'Gossip', 'quot', 'from', 'the', 'Three', 'Kingdoms', 'Period', 'The', 'look', 'turned', 'into', 'a', 'heroic', 'village', 'party', 'secretary', 'for', 'year', 'The', 'different', 'attitude', 'of', 'the', 'dog', 'are', 'the', 'proof', 'During', 'the', 'great', 'migration', 'period', 'of', 'the', 'Ming', 'Dynasty', 'the', 'people', 's', 'return', 'to', 'the', 'attitude', 'wa', 'also', 'supported', 'Liu', 'Zhenyun', 's', 'magnifying', 'glass', 'tell', 'a', 'weak', 'humble', 'bullying', 'and', 'nation', 'through', 'these', 'small', 'thing', 'that', 'seem', 'to', 'be', 'overwhelmed', 'by', 'historical', 'flood', 'It', 'ha', 'always', 'been', 'used', 'in', 'power', 'change', 'for', 'thousand', 'of', 'year', 'In', 'quot', 'Hometown', 'of', 'the', 'Yellow', 'Flower', 'quot', 'slogan', 'and', 'policy', 'were', 'replaced', 'by', 'the', 'game', 'of', 'power', 'The', 'power', 'given', 'by', 'the', 'people', 'to', 'be', 'the', 'master', 'of', 'the', 'house', 'wa', 'swallowed', 'up', 'by', 'flattery', 'selfishness', 'and', 'numbness', 'for', 'thousand', 'of', 'year', 'I', 'remember', 'listening', 'to', 'Liu', 'Zhenyun', 's', 'speech', 'once', 'He', 'said', 'that', 'he', 'wanted', 'to', 'write', 'the', 'old', 'forest', 'year', 'later', 'Xiaolin', 'wa', 'year', 'ago', 'The', 'old', 'forest', 'is', 'year', 'later', 'and', 'people', 'may', 'not', 'He', 'perceives', 'change', 'in', 'social', 'trend', 'and', 'we', 'will', 'not', 'be', 'remembered', 'by', 'history', 'However', 'change', 'in', 'history', 'and', 'society', 'will', 'bring', 'about', 'change', 'in', 'the', 'principle', 'of', 'affair', 'and', 'interpersonal', 'relationship', 'In', 'the', 'context', 'of', 'small', 'people', 'it', 'is', 'a', 'pity', 'that', 'gene', 'are', 'not', 'necessarily', 'Got', 'the', 'money', 'In', 'a', 'discourse', 'magnetic', 'field', 'made', 'up', 'of', 'rough', 'language', 'it', 'is', 'enchanting', 'and', 'fascinating', 'I', 'waited', 'for', 'the', 'heavenly', 'as', 'the', 'dance', 'of', 'the', 'natural', 'hand']\n"
          ],
          "name": "stdout"
        }
      ]
    },
    {
      "cell_type": "code",
      "metadata": {
        "id": "Ra_fmLQeXzay",
        "colab_type": "code",
        "colab": {}
      },
      "source": [
        ""
      ],
      "execution_count": 0,
      "outputs": []
    }
  ]
}