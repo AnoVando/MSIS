{
  "nbformat": 4,
  "nbformat_minor": 0,
  "metadata": {
    "colab": {
      "name": "Welcome To Colaboratory",
      "provenance": [],
      "collapsed_sections": [],
      "toc_visible": true,
      "include_colab_link": true
    },
    "kernelspec": {
      "display_name": "Python 3",
      "name": "python3"
    }
  },
  "cells": [
    {
      "cell_type": "markdown",
      "metadata": {
        "id": "view-in-github",
        "colab_type": "text"
      },
      "source": [
        "<a href=\"https://colab.research.google.com/github/AnoVando/MSIS/blob/master/MSIS521_IA2.ipynb\" target=\"_parent\"><img src=\"https://colab.research.google.com/assets/colab-badge.svg\" alt=\"Open In Colab\"/></a>"
      ]
    },
    {
      "cell_type": "code",
      "metadata": {
        "id": "oTIHcVguF5qI",
        "colab_type": "code",
        "colab": {
          "base_uri": "https://localhost:8080/",
          "height": 187
        },
        "outputId": "a5f3f974-70a5-47ac-b3ca-1eb6ee75c57b"
      },
      "source": [
        "import nltk\n",
        "nltk.download('punkt') # tokenizer\n",
        "nltk.download('wordnet') # lemmatizer\n",
        "nltk.download('stopwords') # used to handle words like a, an, the\n",
        "nltk.download('averaged_perceptron_tagger') # Part of Speech\n",
        "import pandas as pd"
      ],
      "execution_count": 4,
      "outputs": [
        {
          "output_type": "stream",
          "text": [
            "[nltk_data] Downloading package punkt to /root/nltk_data...\n",
            "[nltk_data]   Package punkt is already up-to-date!\n",
            "[nltk_data] Downloading package wordnet to /root/nltk_data...\n",
            "[nltk_data]   Package wordnet is already up-to-date!\n",
            "[nltk_data] Downloading package stopwords to /root/nltk_data...\n",
            "[nltk_data]   Package stopwords is already up-to-date!\n",
            "[nltk_data] Downloading package averaged_perceptron_tagger to\n",
            "[nltk_data]     /root/nltk_data...\n",
            "[nltk_data]   Package averaged_perceptron_tagger is already up-to-\n",
            "[nltk_data]       date!\n"
          ],
          "name": "stdout"
        }
      ]
    },
    {
      "cell_type": "code",
      "metadata": {
        "id": "TcT7WHOlF56J",
        "colab_type": "code",
        "colab": {}
      },
      "source": [
        "url = 'https://github.com/AnoVando/MSIS/raw/master/IA2.csv'\n",
        "data = pd.read_csv(url, header=None)\n",
        "data.columns = ['index', 'comment']\n",
        "rows = data['comment'].tolist() # store comments as a list"
      ],
      "execution_count": 0,
      "outputs": []
    },
    {
      "cell_type": "code",
      "metadata": {
        "id": "J2B_TX__F-TN",
        "colab_type": "code",
        "colab": {}
      },
      "source": [
        "comments = [] # list to store all tokens, one token per row\n",
        "\n",
        "# iterate through the list and tokenize each comment\n",
        "for row in rows:\n",
        "  comments.append(nltk.word_tokenize(row))"
      ],
      "execution_count": 0,
      "outputs": []
    },
    {
      "cell_type": "code",
      "metadata": {
        "id": "B86bWymlTQP0",
        "colab_type": "code",
        "colab": {}
      },
      "source": [
        ""
      ],
      "execution_count": 0,
      "outputs": []
    }
  ]
}