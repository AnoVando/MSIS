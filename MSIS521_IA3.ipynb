{
  "nbformat": 4,
  "nbformat_minor": 0,
  "metadata": {
    "colab": {
      "name": "Welcome To Colaboratory",
      "provenance": [],
      "collapsed_sections": [],
      "include_colab_link": true
    },
    "kernelspec": {
      "display_name": "Python 3",
      "name": "python3"
    }
  },
  "cells": [
    {
      "cell_type": "markdown",
      "metadata": {
        "id": "view-in-github",
        "colab_type": "text"
      },
      "source": [
        "<a href=\"https://colab.research.google.com/github/AnoVando/MSIS/blob/master/MSIS521_IA3.ipynb\" target=\"_parent\"><img src=\"https://colab.research.google.com/assets/colab-badge.svg\" alt=\"Open In Colab\"/></a>"
      ]
    },
    {
      "cell_type": "code",
      "metadata": {
        "id": "LbVNDUFthGZ4",
        "colab_type": "code",
        "outputId": "0d910444-193f-437e-9fec-b1c2165ace18",
        "colab": {
          "base_uri": "https://localhost:8080/",
          "height": 187
        }
      },
      "source": [
        "import pandas as pd\n",
        "import numpy as np\n",
        "import nltk\n",
        "nltk.download('punkt') # tokenizer\n",
        "nltk.download('wordnet') # lemmatizer\n",
        "nltk.download('stopwords') # used to handle words like a, an, the\n",
        "nltk.download('averaged_perceptron_tagger') # Part of Speech\n",
        "\n",
        "from nltk.corpus import stopwords\n",
        "from sklearn.feature_extraction.text import TfidfVectorizer\n",
        "from sklearn.feature_extraction.text import CountVectorizer\n",
        "\n",
        "import gensim\n",
        "from gensim.utils import simple_preprocess\n",
        "from gensim.parsing.preprocessing import STOPWORDS\n",
        "from nltk.stem import WordNetLemmatizer, SnowballStemmer\n",
        "from nltk.stem.porter import *\n",
        "np.random.seed(2018)\n",
        "\n",
        "from sklearn.decomposition import LatentDirichletAllocation\n",
        "from sklearn.metrics import *\n",
        "from sklearn.metrics.pairwise import *\n",
        "from sklearn.cluster import AgglomerativeClustering\n",
        "\n"
      ],
      "execution_count": 1,
      "outputs": [
        {
          "output_type": "stream",
          "text": [
            "[nltk_data] Downloading package punkt to /root/nltk_data...\n",
            "[nltk_data]   Package punkt is already up-to-date!\n",
            "[nltk_data] Downloading package wordnet to /root/nltk_data...\n",
            "[nltk_data]   Package wordnet is already up-to-date!\n",
            "[nltk_data] Downloading package stopwords to /root/nltk_data...\n",
            "[nltk_data]   Package stopwords is already up-to-date!\n",
            "[nltk_data] Downloading package averaged_perceptron_tagger to\n",
            "[nltk_data]     /root/nltk_data...\n",
            "[nltk_data]   Package averaged_perceptron_tagger is already up-to-\n",
            "[nltk_data]       date!\n"
          ],
          "name": "stdout"
        }
      ]
    },
    {
      "cell_type": "code",
      "metadata": {
        "id": "2FnJ3WbafJHs",
        "colab_type": "code",
        "colab": {}
      },
      "source": [
        "url = 'https://github.com/AnoVando/MSIS/raw/master/IA3.csv'\n",
        "data = pd.read_csv(url, header='infer')\n",
        "reviews = data['review'].tolist()"
      ],
      "execution_count": 0,
      "outputs": []
    },
    {
      "cell_type": "code",
      "metadata": {
        "id": "A8iqJL8LhDxt",
        "colab_type": "code",
        "outputId": "f92dada2-cbf1-4e4e-9736-7270b1ff0289",
        "colab": {
          "base_uri": "https://localhost:8080/",
          "height": 119
        }
      },
      "source": [
        "print(data[:5])"
      ],
      "execution_count": 3,
      "outputs": [
        {
          "output_type": "stream",
          "text": [
            "   id                                             review       label\n",
            "0   1  About the shop: There is a restaurant in Soi L...  restaurant\n",
            "1   2  About the shop: Through this store for about t...  restaurant\n",
            "2   3  Roast Coffee &amp; Eatery is a restaurant loca...  restaurant\n",
            "3   4  Eat from the children. The shop is opposite. P...  restaurant\n",
            "4   5  The Ak 1 shop at another branch tastes the sam...  restaurant\n"
          ],
          "name": "stdout"
        }
      ]
    },
    {
      "cell_type": "code",
      "metadata": {
        "id": "8-iBJXnZwCfB",
        "colab_type": "code",
        "colab": {}
      },
      "source": [
        "custom_list = ['quot', 'ha', 'wa']"
      ],
      "execution_count": 0,
      "outputs": []
    },
    {
      "cell_type": "markdown",
      "metadata": {
        "id": "4IKQu0w_fGFD",
        "colab_type": "text"
      },
      "source": [
        "Part 1. Topic Model\n",
        "There are 1000 reviews for restaurants and films in a collection under the attached csv file. All of those\n",
        "reviews are saved as text files. In this assignment, you are required to investigate the topics of those\n",
        "reviews. In particular, please follow the steps listed below:\n",
        "1. Transform those reviews into a term‐document matrix, lemmatize all the words, remove the\n",
        "stop‐words and punctuations, set the minimal document frequency for each term to be 5 and\n",
        "include 2‐gram.\n",
        "2. Use the LDA model to extract the topics of each document. In particular, we assume there are 6\n",
        "topics.\n",
        "3. Report the topic distribution and the top‐2 topics of the first 10 restaurant reviews (id = [1:10])\n",
        "and the first 10 movie reviews (id = [501:510]).\n",
        "4. Find the top‐5 terms (terms with the top‐5 highest weights) for each of the 6 topics. Based on\n",
        "those terms, describe what those topics are about.\n",
        "5. Based on finding in 3 and 4, describe what review 1 [ID=1] and review 501 [ID=501] are about?\n",
        "Please submit 1 file:\n",
        "A word file includes python code with your comment #, and one screenshot on your Jupyter\n",
        "Notebook showing that your code has run through successfully for each of the first four steps (4\n",
        "screenshots in total). Also, report your answers to question 3, 4, and 5 at the end of the word\n",
        "file."
      ]
    },
    {
      "cell_type": "markdown",
      "metadata": {
        "id": "Nt_sB5dk8F-k",
        "colab_type": "text"
      },
      "source": [
        "1. Transform those reviews into a term‐document matrix, lemmatize all the words, remove the\n",
        "stop‐words and punctuations, set the minimal document frequency for each term to be 5 and\n",
        "include 2‐gram."
      ]
    },
    {
      "cell_type": "code",
      "metadata": {
        "id": "m234VGQOOG0o",
        "colab_type": "code",
        "colab": {}
      },
      "source": [
        "# Tokenize, Lemmatize and Remove Stop Words\n",
        "lemmatizer = nltk.stem.WordNetLemmatizer()\n",
        "processed = []\n",
        "for review in reviews:\n",
        "    tokens = nltk.word_tokenize(review.lower())\n",
        "    tokens = [lemmatizer.lemmatize(token) for token in tokens if token.isalpha()]\n",
        "    tokens = [token for token in tokens if not token in stopwords.words('english')]\n",
        "    tokens = [token for token in tokens if not token in STOPWORDS]\n",
        "    tokens = [token for token in tokens if not token in custom_list]\n",
        "    processed.append(tokens)\n"
      ],
      "execution_count": 0,
      "outputs": []
    },
    {
      "cell_type": "code",
      "metadata": {
        "colab_type": "code",
        "outputId": "5b54871f-2a5b-420f-bcbd-e140866a65c9",
        "id": "RaPD0J0cfwcj",
        "colab": {
          "base_uri": "https://localhost:8080/",
          "height": 190
        }
      },
      "source": [
        "# Generate TF-IDF Vectors\n",
        "processed_tfidf = [\" \".join(x) for x in processed]\n",
        "\n",
        "tfidf = TfidfVectorizer(ngram_range=(2, 2), min_df=5) # 2-grams and min. document frequency of 5\n",
        "tfidf.fit(processed_tfidf)\n",
        "vector = tfidf.transform(processed_tfidf)\n",
        "vector = vector.toarray()\n",
        "print(tfidf.vocabulary_)\n",
        "print(vector)\n",
        "print(vector.shape)"
      ],
      "execution_count": 6,
      "outputs": [
        {
          "output_type": "stream",
          "text": [
            "{'restaurant decorated': 876, 'average price': 19, 'price baht': 836, 'soup sweet': 977, 'sweet taste': 1045, 'cream cheese': 142, 'topic lt': 1129, 'gt atmosphere': 455, 'atmosphere nice': 14, 'lt food': 644, 'food taste': 376, 'taste gt': 1056, 'gt lt': 457, 'lt service': 645, 'service gt': 935, 'gt good': 456, 'good service': 442, 'service good': 934, 'good food': 421, 'lt value': 646, 'price expensive': 837, 'atmosphere good': 13, 'good delicious': 416, 'delicious food': 175, 'like forgive': 560, 'forgive think': 380, 'think comment': 1083, 'comment win': 126, 'win competition': 1189, 'competition good': 132, 'good restaurant': 441, 'restaurant thank': 884, 'time try': 1118, 'restaurant located': 880, 'located soi': 599, 'bottle baht': 79, 'chicken wing': 104, 'spicy taste': 991, 'united state': 1147, 'value money': 1149, 'money gt': 693, 'menu like': 674, 'look good': 607, 'want eat': 1164, 'eat restaurant': 233, 'menu recommended': 681, 'sauce delicious': 911, 'delicious delicious': 171, 'delicious sweet': 184, 'sweet sour': 1043, 'people like': 780, 'like eat': 558, 'tomato sauce': 1128, 'personally think': 810, 'italian restaurant': 505, 'people eat': 769, 'eat lot': 227, 'like drink': 557, 'better think': 53, 'shop opposite': 944, 'taste restaurant': 1058, 'food eat': 366, 'think good': 1085, 'good idea': 424, 'delicious dish': 172, 'park car': 758, 'store store': 1009, 'today eat': 1124, 'baht person': 30, 'eat pork': 232, 'sweet delicious': 1040, 'delicious taste': 185, 'fresh meat': 384, 'beef pork': 42, 'dipping sauce': 194, 'sauce good': 915, 'sauce sweet': 918, 'delicious like': 177, 'like taste': 577, 'overall taste': 755, 'service staff': 936, 'high compared': 476, 'variety food': 1152, 'personal opinion': 809, 'place people': 815, 'people love': 785, 'love eat': 621, 'long ago': 600, 'sit table': 961, 'good time': 447, 'menu lot': 675, 'dish ordered': 202, 'try try': 1140, 'style restaurant': 1028, 'outside frame': 752, 'taste like': 1057, 'dish delicious': 198, 'pork rib': 834, 'baht pork': 32, 'food price': 374, 'try menu': 1139, 'good atmosphere': 412, 'doe know': 205, 'know restaurant': 521, 'good choice': 414, 'good eat': 418, 'like like': 566, 'taste good': 1055, 'good dish': 417, 'dish eat': 199, 'eat eat': 220, 'eat meat': 229, 'friend eat': 398, 'good price': 438, 'eat want': 239, 'raw fish': 852, 'worth price': 1206, 'grilled pork': 453, 'dish like': 200, 'soft delicious': 970, 'baht eat': 28, 'eat rice': 234, 'long time': 601, 'thai restaurant': 1072, 'eat lunch': 228, 'restaurant nice': 882, 'eat cake': 217, 'atmosphere restaurant': 15, 'staff attentive': 993, 'good value': 448, 'service charge': 933, 'taste food': 1054, 'food ordered': 372, 'taste sour': 1059, 'sour sweet': 979, 'french fry': 381, 'new york': 723, 'chocolate cake': 112, 'idea good': 495, 'restaurant atmosphere': 874, 'eat vegetable': 238, 'chiang mai': 100, 'compared price': 131, 'going eat': 407, 'like big': 554, 'tom yum': 1127, 'fried fish': 390, 'fish fish': 360, 'fish sauce': 363, 'like think': 578, 'shrimp fresh': 951, 'food menu': 371, 'eat people': 231, 'restaurant good': 879, 'good standard': 443, 'food delicious': 365, 'restaurant delicious': 877, 'people lot': 784, 'try eat': 1138, 'whipped cream': 1186, 'crepe cake': 149, 'strawberry sauce': 1025, 'sweet sweet': 1044, 'shop located': 942, 'open music': 736, 'feel like': 282, 'good feeling': 420, 'thing life': 1076, 'fried rice': 394, 'rice noodle': 889, 'expensive compared': 258, 'food good': 368, 'food people': 373, 'eat food': 221, 'eat today': 237, 'stir fried': 1006, 'fried pork': 393, 'good quality': 439, 'fresh shrimp': 386, 'good taste': 445, 'taste eat': 1053, 'eat good': 223, 'restaurant food': 878, 'italian food': 504, 'good menu': 432, 'menu delicious': 672, 'food tasty': 377, 'small shop': 966, 'vanilla ice': 1151, 'ice cream': 494, 'cream good': 144, 'eat ice': 225, 'sweet bitter': 1038, 'let try': 540, 'second time': 927, 'open new': 737, 'know know': 519, 'fast food': 272, 'green tea': 452, 'price reasonable': 839, 'cream shop': 145, 'tea ice': 1064, 'delicious price': 180, 'baht piece': 31, 'topped chocolate': 1130, 'thai food': 1070, 'sit eat': 959, 'delicious good': 176, 'good good': 423, 'menu price': 679, 'restaurant come': 875, 'choose sit': 115, 'menu menu': 676, 'staff good': 994, 'little bit': 589, 'know think': 522, 'cheese cake': 97, 'eat delicious': 219, 'parking lot': 759, 'restaurant open': 883, 'beautifully decorated': 41, 'come restaurant': 123, 'raw material': 853, 'live music': 596, 'look beautiful': 603, 'beautiful picture': 38, 'like dish': 556, 'mellow taste': 668, 'wait long': 1159, 'pork chop': 831, 'compare price': 130, 'big glass': 58, 'caesar salad': 86, 'baht delicious': 26, 'table chair': 1047, 'like child': 555, 'red bean': 868, 'taste standard': 1061, 'shop open': 943, 'dish menu': 201, 'today come': 1123, 'recommended menu': 867, 'menu ordered': 677, 'delicious shop': 182, 'fish fresh': 361, 'overall delicious': 754, 'soy sauce': 985, 'crab fried': 140, 'dim sum': 193, 'price high': 838, 'crispy pork': 151, 'food restaurant': 375, 'smoked salmon': 968, 'fried chicken': 388, 'meat soft': 666, 'salted egg': 908, 'sure case': 1036, 'single dish': 958, 'pork leg': 832, 'time finally': 1101, 'year ago': 1212, 'japanese food': 507, 'japanese restaurant': 509, 'people come': 765, 'deep fried': 168, 'baht dish': 27, 'want order': 1167, 'order menu': 744, 'fish fried': 362, 'new menu': 719, 'great place': 451, 'know good': 517, 'country world': 137, 'fresh vegetable': 387, 'sauce baht': 910, 'sour taste': 980, 'fish ball': 358, 'coffee shop': 118, 'end year': 254, 'tea coffee': 1063, 'recommended eat': 866, 'cake cake': 87, 'cake like': 89, 'sweet hot': 1042, 'menu recommend': 680, 'fried garlic': 392, 'delicious menu': 178, 'lot people': 615, 'good place': 437, 'place eat': 813, 'like old': 571, 'let look': 537, 'eat cup': 218, 'cup coffee': 154, 'owner shop': 756, 'eat menu': 230, 'drink coffee': 215, 'cake soft': 90, 'doe like': 206, 'meet need': 667, 'dish restaurant': 203, 'order dish': 741, 'chili sauce': 106, 'sauce dish': 912, 'hong kong': 486, 'soft drink': 971, 'food like': 369, 'today ordered': 1125, 'new zealand': 724, 'zealand mussel': 1224, 'food expensive': 367, 'thai people': 1071, 'fresh fish': 383, 'fresh seafood': 385, 'food lot': 370, 'different kind': 190, 'quality food': 849, 'fried shrimp': 396, 'delicious expensive': 174, 'crab meat': 141, 'best way': 52, 'feel good': 281, 'decoration shop': 166, 'order food': 742, 'vegetable vegetable': 1154, 'taste dish': 1052, 'large piece': 529, 'coconut milk': 117, 'shrimp paste': 952, 'fish fillet': 359, 'eat like': 226, 'taste sweet': 1062, 'lemon juice': 532, 'new year': 722, 'year year': 1216, 'sea bass': 923, 'bass fish': 34, 'seafood sauce': 924, 'taste delicious': 1051, 'baht menu': 29, 'time think': 1116, 'old day': 731, 'curry powder': 157, 'stir fry': 1007, 'dessert shop': 188, 'atmosphere shop': 16, 'price right': 840, 'restaurant menu': 881, 'shrimp shrimp': 953, 'good like': 428, 'let eat': 535, 'want sit': 1168, 'time come': 1096, 'day day': 161, 'eat time': 236, 'cream delicious': 143, 'time order': 1110, 'wait minute': 1160, 'delicious eat': 173, 'noodle pork': 725, 'rice crab': 887, 'want try': 1171, 'good day': 415, 'time ago': 1095, 'star like': 996, 'ordered today': 748, 'today try': 1126, 'eat hot': 224, 'chinese restaurant': 111, 'eat shop': 235, 'menu try': 683, 'rice fried': 888, 'good way': 449, 'people menu': 787, 'far away': 271, 'taste spicy': 1060, 'half hour': 460, 'people lost': 783, 'time know': 1104, 'eat friend': 222, 'coffee tea': 119, 'left right': 531, 'air room': 7, 'read review': 856, 'past year': 761, 'delicious shrimp': 183, 'chocolate delicious': 113, 'cake delicious': 88, 'delicious people': 179, 'shop shop': 946, 'sauce salty': 917, 'chicken fried': 101, 'add little': 3, 'thing people': 1079, 'good friend': 422, 'chocolate lava': 114, 'delicious sauce': 181, 'menu choose': 671, 'sauce like': 916, 'sticky rice': 1005, 'cream vanilla': 147, 'sauce eat': 913, 'spend money': 989, 'come eat': 122, 'happy happy': 466, 'like sauce': 575, 'steamed rice': 1003, 'star star': 997, 'doe mean': 208, 'walk away': 1161, 'opened door': 738, 'outside world': 753, 'looking forward': 610, 'time passed': 1111, 'cream topped': 146, 'people time': 796, 'fried sea': 395, 'sauce fried': 914, 'rice baht': 886, 'like green': 562, 'pork neck': 833, 'drinking water': 216, 'time people': 1112, 'people know': 778, 'small piece': 965, 'orange juice': 740, 'place sit': 816, 'store good': 1008, 'people want': 799, 'chinese people': 110, 'like eating': 559, 'ordered eat': 746, 'chicken rice': 102, 'feel little': 283, 'think like': 1087, 'shop said': 945, 'hot cold': 490, 'family member': 269, 'people table': 793, 'papaya salad': 757, 'menu pork': 678, 'like menu': 569, 'soft texture': 973, 'chance try': 93, 'little price': 592, 'new restaurant': 720, 'menu good': 673, 'spring roll': 992, 'siam center': 954, 'time eat': 1098, 'hot chocolate': 489, 'sweet chocolate': 1039, 'wait little': 1158, 'high school': 479, 'good luck': 430, 'sour sauce': 978, 'cream whipped': 148, 'fried egg': 389, 'egg yolk': 243, 'egg shrimp': 242, 'som tam': 975, 'menu restaurant': 682, 'sweet good': 1041, 'good work': 450, 'sit outside': 960, 'fried fried': 391, 'book read': 75, 'fried vegetable': 397, 'dessert like': 186, 'thing like': 1077, 'ordered menu': 747, 'time time': 1117, 'fresh delicious': 382, 'main dish': 650, 'lot thing': 616, 'like people': 572, 'little little': 591, 'like pork': 574, 'read book': 854, 'love come': 618, 'roasted pork': 895, 'think better': 1082, 'star good': 995, 'expensive food': 259, 'oil painting': 728, 'younger brother': 1223, 'reasonable price': 864, 'come try': 124, 'open kitchen': 735, 'pork bone': 830, 'salty like': 909, 'love good': 626, 'love long': 630, 'shop like': 941, 'good night': 434, 'lot fun': 613, 'like know': 565, 'fall love': 265, 'food think': 378, 'time want': 1119, 'heart people': 469, 'half year': 461, 'vegetable fresh': 1153, 'good let': 426, 'starting point': 1000, 'quality ingredient': 850, 'life like': 550, 'soft meat': 972, 'kind love': 513, 'number people': 727, 'lot money': 614, 'like home': 563, 'good people': 435, 'like talk': 576, 'line like': 586, 'use word': 1148, 'important thing': 498, 'people pay': 788, 'doe want': 209, 'personal experience': 808, 'glutinous rice': 406, 'want tell': 1170, 'person like': 804, 'look people': 609, 'dessert menu': 187, 'good look': 429, 'want know': 1166, 'know want': 525, 'good thing': 446, 'bad people': 24, 'look like': 608, 'love want': 641, 'know time': 523, 'japanese japanese': 508, 'order let': 743, 'time good': 1102, 'time like': 1107, 'inside outside': 499, 'life good': 546, 'pay attention': 762, 'people good': 773, 'late night': 530, 'people walk': 798, 'friend said': 399, 'right hand': 892, 'life people': 552, 'year old': 1215, 'people live': 781, 'time little': 1108, 'chicken soup': 103, 'people think': 795, 'day ago': 160, 'college student': 121, 'time day': 1097, 'love way': 642, 'time look': 1109, 'time went': 1121, 'friend want': 400, 'blue sky': 72, 'bit bit': 66, 'person person': 806, 'like good': 561, 'star war': 998, 'people feel': 771, 'good job': 425, 'love world': 643, 'know people': 520, 'day night': 163, 'bit like': 67, 'hard work': 468, 'small town': 967, 'good person': 436, 'love family': 623, 'sense humor': 931, 'day like': 162, 'work hard': 1197, 'current situation': 156, 'dog blood': 210, 'rest life': 873, 'seen people': 929, 'world view': 1203, 'human nature': 492, 'difficult thing': 191, 'thing know': 1075, 'family love': 268, 'taken away': 1048, 'played role': 819, 'life love': 551, 'original intention': 750, 'think movie': 1088, 'highlight film': 480, 'love hate': 627, 'help think': 473, 'think film': 1084, 'shot film': 950, 'happy life': 467, 'life life': 549, 'life film': 544, 'south korea': 981, 'western movie': 1185, 'film movie': 333, 'film kind': 327, 'pay tribute': 763, 'film story': 342, 'film television': 346, 'television drama': 1065, 'episode episode': 256, 'tv series': 1143, 'protagonist story': 844, 'protagonist film': 843, 'box office': 80, 'narrative structure': 713, 'work like': 1198, 'tell story': 1067, 'passed away': 760, 'new generation': 716, 'said people': 905, 'people willing': 800, 'republic china': 872, 'middle school': 686, 'film good': 324, 'mobile phone': 690, 'modern people': 691, 'book book': 74, 'film director': 314, 'narrative technique': 714, 'beginning end': 43, 'fighting scene': 296, 'film film': 321, 'film course': 310, 'lin xue': 582, 'add lot': 4, 'lot film': 612, 'chinese film': 108, 'film market': 332, 'domestic film': 211, 'quality film': 848, 'film year': 353, 'people film': 772, 'film work': 351, 'good reputation': 440, 'cannon fodder': 91, 'film tell': 347, 'heavy taste': 472, 'blind date': 70, 'popular film': 829, 'men woman': 669, 'year later': 1214, 'man woman': 664, 'filial piety': 297, 'kind people': 514, 'know kind': 518, 'bai fumei': 33, 'young men': 1220, 'big screen': 62, 'true love': 1136, 'watching movie': 1183, 'special effect': 987, 'like kind': 564, 'director screenwriter': 196, 'female host': 288, 'commit suicide': 128, 'father daughter': 274, 'fatherly love': 279, 'local tyrant': 598, 'tried best': 1133, 'rich man': 890, 'second generation': 925, 'real world': 863, 'world like': 1201, 'heavy rain': 471, 'black white': 69, 'science fiction': 922, 'time read': 1113, 'read novel': 855, 'drama conflict': 214, 'young woman': 1222, 'river lake': 894, 'middle night': 685, 'young man': 1219, 'like woman': 581, 'martial art': 665, 'skill good': 962, 'like person': 573, 'big brother': 56, 'girl love': 405, 'love end': 622, 'burst tear': 85, 'shoot movie': 939, 'movie movie': 704, 'woman think': 1193, 'look forward': 606, 'people world': 801, 'fell love': 285, 'love beginning': 617, 'beginning film': 44, 'film called': 307, 'story story': 1021, 'action movie': 2, 'love story': 637, 'said want': 907, 'justice evil': 510, 'jackie chan': 506, 'american movie': 9, 'film like': 328, 'movie good': 699, 'chemical reaction': 98, 'family life': 267, 'good life': 427, 'female owner': 291, 'love love': 631, 'main theme': 652, 'theme movie': 1074, 'woman like': 1191, 'ren dahua': 871, 'chen sicheng': 99, 'kong film': 526, 'murder case': 711, 'police officer': 827, 'police film': 826, 'kind film': 511, 'making people': 654, 'final result': 354, 'xu ruo': 1211, 'good evil': 419, 'time saw': 1114, 'tough guy': 1131, 'embarked road': 246, 'wu yusen': 1210, 'film world': 352, 'movie like': 700, 'fairy tale': 264, 'beautiful woman': 40, 'like male': 568, 'beginning movie': 45, 'movie film': 698, 'story second': 1019, 'people end': 770, 'fact film': 261, 'brain powder': 81, 'big villain': 63, 'bright spot': 82, 'life death': 541, 'character plot': 96, 'people sense': 792, 'said time': 906, 'recent year': 865, 'word mouth': 1195, 'ming dynasty': 687, 'film creation': 311, 'da ming': 158, 'visual effect': 1156, 'ming robbery': 688, 'thousand mile': 1092, 'main line': 651, 'history book': 481, 'line film': 585, 'let talk': 539, 'writer director': 1209, 'contradiction conflict': 135, 'taking care': 1050, 'reading article': 857, 'want author': 1163, 'deeply touched': 170, 'people meet': 786, 'thing want': 1080, 'book author': 73, 'old man': 733, 'little story': 593, 'car accident': 92, 'little girl': 590, 'time life': 1106, 'crime film': 150, 'ordinary people': 749, 'film big': 304, 'film time': 348, 'time film': 1100, 'film unique': 349, 'theme film': 1073, 'daily life': 159, 'thousand people': 1093, 'know truth': 524, 'word said': 1196, 'like love': 567, 'slap face': 963, 'thousand year': 1094, 'solve problem': 974, 'human body': 491, 'point view': 825, 'simple story': 956, 'think year': 1091, 'let know': 536, 'male protagonist': 661, 'want kill': 1165, 'male lead': 657, 'twist turn': 1145, 'story plot': 1017, 'domestic movie': 212, 'film taken': 345, 'film plot': 336, 'watch movie': 1179, 'ancient time': 10, 'movie feel': 697, 'horror film': 487, 'foreign country': 379, 'film rare': 337, 'film fact': 318, 'magic weapon': 647, 'good movie': 433, 'feeling film': 284, 'woman film': 1190, 'face good': 260, 'acting skill': 0, 'domestically produced': 213, 'said child': 902, 'book think': 77, 'finally got': 355, 'movie seen': 707, 'best choice': 48, 'minute second': 689, 'good man': 431, 'effect good': 241, 'film review': 338, 'month ago': 694, 'movie people': 705, 'people kind': 777, 'character character': 94, 'like movie': 570, 'story structure': 1022, 'right wrong': 893, 'live life': 595, 'group people': 454, 'wife wife': 1188, 'real life': 861, 'people play': 790, 'fact people': 262, 'people life': 779, 'elf hostel': 245, 'comedy film': 125, 'subject matter': 1029, 'story character': 1011, 'vampire dracula': 1150, 'let daughter': 534, 'people look': 782, 'twilight city': 1144, 'effect film': 240, 'father love': 276, 'story people': 1016, 'love friendship': 625, 'animated film': 11, 'film want': 350, 'oscar best': 751, 'golden globe': 408, 'best film': 50, 'film best': 303, 'best director': 49, 'feature film': 280, 'film example': 317, 'male female': 656, 'large number': 528, 'male owner': 660, 'second half': 926, 'half film': 459, 'film people': 335, 'point film': 823, 'old age': 729, 'old lady': 732, 'award best': 20, 'worth mentioning': 1205, 'best supporting': 51, 'supporting actress': 1034, 'watching film': 1182, 'time watched': 1120, 'female lord': 289, 'people understand': 797, 'tv drama': 1142, 'female master': 290, 'fact think': 263, 'male master': 659, 'think way': 1090, 'point time': 824, 'people believe': 764, 'suspense film': 1037, 'american drama': 8, 'film feel': 319, 'small fresh': 964, 'nearly year': 715, 'young people': 1221, 'fierce battle': 295, 'film industry': 326, 'seen movie': 928, 'shooting technique': 940, 'relationship character': 869, 'film art': 300, 'time space': 1115, 'period time': 803, 'history film': 482, 'normal person': 726, 'big breast': 55, 'female student': 294, 'woman woman': 1194, 'end life': 250, 'love small': 636, 'good bad': 413, 'child child': 105, 'commercial film': 127, 'single day': 957, 'romantic comedy': 897, 'handsome men': 464, 'woman love': 1192, 'save money': 919, 'love comedy': 619, 'golden shell': 410, 'play little': 817, 'young girl': 1218, 'film festival': 320, 'people group': 774, 'brother sister': 83, 'let audience': 533, 'suddenly realized': 1033, 'protect daughter': 845, 'rainy night': 851, 'high iq': 478, 'step step': 1004, 'think important': 1086, 'life let': 548, 'reading film': 859, 'love think': 638, 'entire film': 255, 'like watch': 579, 'advantage disadvantage': 6, 'school student': 921, 'black hole': 68, 'book written': 78, 'life experience': 542, 'real thing': 862, 'movie character': 696, 'selling point': 930, 'stark contrast': 999, 'count dracula': 136, 'love film': 624, 'background story': 21, 'story film': 1012, 'believe people': 47, 'invisible people': 502, 'true feeling': 1135, 'evil spirit': 257, 'traditional chinese': 1132, 'chinese audience': 107, 'war scene': 1175, 'film different': 313, 'hero film': 474, 'film especially': 316, 'cure disease': 155, 'people difficult': 768, 'person want': 807, 'people said': 791, 'sorrow sorrow': 976, 'qing dynasty': 847, 'end world': 253, 'big man': 59, 'thing world': 1081, 'love sight': 635, 'female protagonist': 292, 'type film': 1146, 'end film': 249, 'new idea': 717, 'heroine life': 475, 'film comedy': 309, 'line movie': 587, 'movie plot': 706, 'supporting role': 1035, 'look awkward': 602, 'movie look': 701, 'time let': 1105, 'strong strong': 1026, 'battle stalingrad': 36, 'battle film': 35, 'hollywood film': 484, 'completely different': 133, 'film lot': 330, 'cruelty war': 152, 'audience like': 17, 'soviet soldier': 983, 'german officer': 403, 'war war': 1176, 'war film': 1173, 'film strong': 343, 'deep deep': 167, 'film critic': 312, 'sneak peek': 969, 'heaven earth': 470, 'people day': 766, 'year film': 1213, 'watched film': 1180, 'story protagonist': 1018, 'good story': 444, 'male character': 655, 'intentionally unintentionally': 500, 'main character': 649, 'end story': 252, 'style film': 1027, 'mainland movie': 653, 'director want': 197, 'addition film': 5, 'said film': 903, 'positive energy': 835, 'life kind': 547, 'time feel': 1099, 'kind life': 512, 'returned home': 885, 'title book': 1122, 'biggest feature': 64, 'love like': 629, 'like way': 580, 'german soldier': 404, 'pure love': 846, 'russian girl': 900, 'narrative rhythm': 712, 'russian soldier': 901, 'literature art': 588, 'death injury': 164, 'russian film': 899, 'special force': 988, 'world war': 1204, 'television work': 1066, 'war ii': 1174, 'way love': 1184, 'working hard': 1200, 'movie market': 703, 'taken granted': 1049, 'man doe': 662, 'doe love': 207, 'new world': 721, 'sense substitution': 932, 'piece art': 811, 'scene film': 920, 'finally realized': 356, 'main body': 648, 'warm heart': 1177, 'fat man': 273, 'man love': 663, 'world people': 1202, 'short worth': 949, 'worth seeing': 1207, 'telling story': 1069, 'tell truth': 1068, 'love time': 639, 'finally turned': 357, 'love man': 632, 'opening film': 739, 'bloody battle': 71, 'father father': 275, 'big production': 61, 'film actor': 298, 'police station': 828, 'mental illness': 670, 'plot film': 820, 'performance film': 802, 'bruce lee': 84, 'kung fu': 527, 'successful people': 1031, 'rich second': 891, 'beautiful love': 37, 'character film': 95, 'female character': 287, 'lost life': 611, 'difficult understand': 192, 'action film': 1, 'husband wife': 493, 'look film': 605, 'old people': 734, 'shed tear': 938, 'death squad': 165, 'flesh blood': 364, 'male lord': 658, 'play role': 818, 'emotional drama': 247, 'people help': 775, 'director film': 195, 'film box': 306, 'real estate': 860, 'south korean': 982, 'film audience': 301, 'cultural revolution': 153, 'bad film': 22, 'big money': 60, 'film look': 329, 'hollywood blockbuster': 483, 'bad guy': 23, 'father son': 278, 'film finally': 322, 'story love': 1015, 'true portrayal': 1137, 'film golden': 323, 'golden horse': 409, 'life family': 543, 'volga river': 1157, 'story good': 1013, 'film style': 344, 'film actually': 299, 'german army': 402, 'film high': 325, 'high degree': 477, 'soviet union': 984, 'film simple': 340, 'doe care': 204, 'want talk': 1169, 'committed suicide': 129, 'father mother': 277, 'turning point': 1141, 'walk life': 1162, 'short story': 948, 'stay away': 1002, 'ideal country': 496, 'international film': 501, 'story begin': 1010, 'story tell': 1023, 'story woman': 1024, 'iron man': 503, 'love men': 633, 'viewing experience': 1155, 'process watching': 842, 'true face': 1134, 'female star': 293, 'piece film': 812, 'emotional entanglement': 248, 'life finally': 545, 'plot movie': 821, 'reading book': 858, 'film seen': 339, 'shaping character': 937, 'climax film': 116, 'course film': 138, 'film doe': 315, 'people different': 767, 'look feel': 604, 'beautiful thing': 39, 'little time': 594, 'love movie': 634, 'role film': 896, 'place film': 814, 'believe love': 46, 'happy ending': 465, 'horror movie': 488, 'spent day': 990, 'biggest problem': 65, 'problem film': 841, 'short period': 947, 'film character': 308, 'big girl': 57, 'living environment': 597, 'handsome guy': 463, 'golden shelling': 411, 'film starring': 341, 'order survive': 745, 'think want': 1089, 'want world': 1172, 'people thing': 794, 'romantic love': 898, 'element film': 244, 'hollywood movie': 485, 'family ethic': 266, 'film narrative': 334, 'bad thing': 25, 'moment life': 692, 'movie thought': 709, 'love life': 628, 'movie year': 710, 'life want': 553, 'art film': 12, 'watch film': 1178, 'gun battle': 458, 'plot plot': 822, 'story human': 1014, 'movie story': 708, 'film love': 331, 'book review': 76, 'suddenly felt': 1032, 'kind person': 515, 'people people': 789, 'mother said': 695, 'big bos': 54, 'movie love': 702, 'collective memory': 120, 'young boy': 1217, 'watched movie': 1181, 'end movie': 251, 'hammer brother': 462, 'person love': 805, 'let people': 538, 'worked hard': 1199, 'people human': 776, 'relationship people': 870, 'important role': 497, 'kind thing': 516, 'thing need': 1078, 'space time': 986, 'content film': 134, 'success failure': 1030, 'new life': 718, 'die die': 189, 'lin zhiling': 584, 'zhang hanyu': 1225, 'old bone': 730, 'audience watching': 18, 'love drama': 620, 'wife child': 1187, 'middle age': 684, 'female audience': 286, 'fang zuming': 270, 'film based': 302, 'chinese movie': 109, 'write book': 1208, 'simple simple': 955, 'status quo': 1001, 'course movie': 139, 'time knew': 1103, 'deeply immersed': 169, 'story simple': 1020, 'sweetheart chocolate': 1046, 'gave birth': 401, 'love triangle': 640, 'lin yue': 583, 'film boring': 305, 'said like': 904}\n",
            "[[0. 0. 0. ... 0. 0. 0.]\n",
            " [0. 0. 0. ... 0. 0. 0.]\n",
            " [0. 0. 0. ... 0. 0. 0.]\n",
            " ...\n",
            " [0. 0. 0. ... 0. 0. 0.]\n",
            " [0. 0. 0. ... 0. 0. 0.]\n",
            " [0. 0. 0. ... 0. 0. 0.]]\n",
            "(1000, 1226)\n"
          ],
          "name": "stdout"
        }
      ]
    },
    {
      "cell_type": "markdown",
      "metadata": {
        "id": "XevlJaMF8O3K",
        "colab_type": "text"
      },
      "source": [
        "2. Use the LDA model to extract the topics of each document. In particular, we assume there are 6\n",
        "topics."
      ]
    },
    {
      "cell_type": "code",
      "metadata": {
        "id": "irtdaelDvifl",
        "colab_type": "code",
        "outputId": "d9ed7ded-cd2f-419f-d37f-c5ee31ad3ada",
        "colab": {
          "base_uri": "https://localhost:8080/",
          "height": 275
        }
      },
      "source": [
        "dictionary = gensim.corpora.Dictionary(processed)\n",
        "bow_corpora = [dictionary.doc2bow(doc) for doc in processed]\n",
        "print(bow_corpora[1])\n",
        "\n",
        "lda_model = gensim.models.LdaModel(bow_corpora, num_topics=6, id2word=dictionary)\n",
        "\n",
        "for idx, topic in lda_model.print_topics(-1):\n",
        "    print('Topic: {} \\nWords: {}'.format(idx, topic))\n",
        "\n",
        "lda_model[bow_corpora[1]]"
      ],
      "execution_count": 7,
      "outputs": [
        {
          "output_type": "stream",
          "text": [
            "[(1, 1), (2, 2), (4, 1), (8, 1), (9, 1), (18, 1), (21, 3), (22, 1), (26, 3), (27, 4), (28, 1), (33, 1), (34, 2), (35, 4), (39, 1), (47, 1), (49, 2), (50, 1), (53, 3), (54, 1), (55, 1), (59, 1), (63, 2), (64, 1), (66, 2), (69, 1), (73, 1), (74, 1), (75, 2), (76, 1), (77, 1), (78, 2), (80, 1), (81, 1), (82, 2), (87, 1), (90, 1), (91, 3), (92, 2), (93, 2), (94, 1), (95, 1), (96, 1), (97, 1), (98, 1), (99, 1), (100, 2), (101, 1), (102, 1), (103, 1), (104, 1), (105, 1), (106, 1), (107, 1), (108, 1), (109, 1), (110, 1), (111, 1), (112, 2), (113, 1), (114, 1), (115, 2), (116, 1), (117, 1), (118, 1), (119, 1), (120, 1), (121, 1), (122, 1), (123, 1), (124, 1), (125, 1), (126, 1), (127, 1), (128, 1), (129, 1), (130, 1), (131, 1), (132, 1), (133, 1), (134, 1), (135, 1), (136, 1), (137, 1), (138, 2), (139, 1), (140, 1), (141, 1), (142, 3), (143, 1), (144, 1)]\n",
            "Topic: 0 \n",
            "Words: 0.010*\"film\" + 0.008*\"good\" + 0.007*\"eat\" + 0.006*\"like\" + 0.006*\"delicious\" + 0.006*\"people\" + 0.006*\"shop\" + 0.005*\"food\" + 0.005*\"time\" + 0.005*\"love\"\n",
            "Topic: 1 \n",
            "Words: 0.012*\"people\" + 0.010*\"time\" + 0.009*\"film\" + 0.007*\"love\" + 0.006*\"like\" + 0.006*\"story\" + 0.005*\"life\" + 0.005*\"good\" + 0.003*\"movie\" + 0.003*\"family\"\n",
            "Topic: 2 \n",
            "Words: 0.008*\"film\" + 0.007*\"time\" + 0.006*\"people\" + 0.005*\"eat\" + 0.005*\"food\" + 0.005*\"like\" + 0.005*\"movie\" + 0.005*\"good\" + 0.005*\"taste\" + 0.004*\"know\"\n",
            "Topic: 3 \n",
            "Words: 0.010*\"film\" + 0.008*\"good\" + 0.007*\"like\" + 0.007*\"time\" + 0.006*\"people\" + 0.005*\"movie\" + 0.005*\"eat\" + 0.005*\"year\" + 0.004*\"love\" + 0.004*\"think\"\n",
            "Topic: 4 \n",
            "Words: 0.011*\"like\" + 0.011*\"good\" + 0.009*\"people\" + 0.007*\"film\" + 0.005*\"love\" + 0.004*\"time\" + 0.004*\"movie\" + 0.004*\"year\" + 0.004*\"life\" + 0.003*\"world\"\n",
            "Topic: 5 \n",
            "Words: 0.020*\"film\" + 0.009*\"love\" + 0.009*\"people\" + 0.007*\"like\" + 0.006*\"good\" + 0.006*\"life\" + 0.006*\"woman\" + 0.006*\"movie\" + 0.005*\"story\" + 0.004*\"think\"\n"
          ],
          "name": "stdout"
        },
        {
          "output_type": "execute_result",
          "data": {
            "text/plain": [
              "[(0, 0.99311703)]"
            ]
          },
          "metadata": {
            "tags": []
          },
          "execution_count": 7
        }
      ]
    },
    {
      "cell_type": "markdown",
      "metadata": {
        "id": "PdFQZ52O8avy",
        "colab_type": "text"
      },
      "source": [
        "3. Report the topic distribution and the top‐2 topics of the first 10 restaurant reviews (id = [1:10])\n",
        "and the first 10 movie reviews (id = [501:510])."
      ]
    },
    {
      "cell_type": "code",
      "metadata": {
        "id": "dRvtJ9pvZj8y",
        "colab_type": "code",
        "colab": {
          "base_uri": "https://localhost:8080/",
          "height": 105
        },
        "outputId": "09ef53e9-37a9-4ed1-92b6-03f55d70d33b"
      },
      "source": [
        "url = 'https://github.com/AnoVando/MSIS/raw/master/IA3.csv'\n",
        "data = pd.read_csv(url, header='infer')\n",
        "data1 = data[0:9]\n",
        "data2 = data[500:509]\n",
        "data3 = data1.append(data2)\n",
        "reviews2 = data3['review'].tolist()\n",
        "\n",
        "# Tokenize, Lemmatize and Remove Stop Words\n",
        "lemmatizer = nltk.stem.WordNetLemmatizer()\n",
        "processed2 = []\n",
        "for review in reviews2:\n",
        "    tokens = nltk.word_tokenize(review.lower())\n",
        "    tokens = [lemmatizer.lemmatize(token) for token in tokens if token.isalpha()]\n",
        "    tokens = [token for token in tokens if not token in stopwords.words('english')]\n",
        "    tokens = [token for token in tokens if not token in STOPWORDS]\n",
        "    tokens = [token for token in tokens if not token in custom_list]\n",
        "    processed2.append(tokens)\n",
        "\n",
        "text = gensim.corpora.Dictionary(processed2)\n",
        "corpus = [text.doc2bow(doc) for doc in processed2]\n",
        "\n",
        "lda_model2 = gensim.models.LdaModel(corpus, num_topics=2, id2word=text)\n",
        "\n",
        "for idx, topic in lda_model2.print_topics(-1):\n",
        "    print('Topic: {} \\nWords: {}'.format(idx, topic))"
      ],
      "execution_count": 8,
      "outputs": [
        {
          "output_type": "stream",
          "text": [
            "Topic: 0 \n",
            "Words: 0.013*\"film\" + 0.010*\"like\" + 0.008*\"good\" + 0.007*\"people\" + 0.007*\"dolphin\" + 0.006*\"eat\" + 0.005*\"price\" + 0.005*\"life\" + 0.005*\"delicious\" + 0.005*\"baht\"\n",
            "Topic: 1 \n",
            "Words: 0.010*\"film\" + 0.007*\"good\" + 0.006*\"like\" + 0.006*\"eat\" + 0.005*\"time\" + 0.005*\"dolphin\" + 0.005*\"restaurant\" + 0.005*\"food\" + 0.005*\"think\" + 0.005*\"people\"\n"
          ],
          "name": "stdout"
        }
      ]
    },
    {
      "cell_type": "code",
      "metadata": {
        "id": "a0pubMMO3NHq",
        "colab_type": "code",
        "colab": {}
      },
      "source": [
        "# install pyLDAvis if necessary\n",
        "# !pip install pyLDAvis"
      ],
      "execution_count": 0,
      "outputs": []
    },
    {
      "cell_type": "code",
      "metadata": {
        "id": "HKhvrHO-M4Nm",
        "colab_type": "code",
        "colab": {
          "base_uri": "https://localhost:8080/",
          "height": 997
        },
        "outputId": "11981ecb-0fee-4d1b-966e-4511d7b5be22"
      },
      "source": [
        "# Visualize the topics\n",
        "import pyLDAvis\n",
        "import pyLDAvis.gensim\n",
        "pyLDAvis.enable_notebook()\n",
        "vis = pyLDAvis.gensim.prepare(lda_model2, corpus, text)\n",
        "vis"
      ],
      "execution_count": 10,
      "outputs": [
        {
          "output_type": "stream",
          "text": [
            "/usr/local/lib/python3.6/dist-packages/pyLDAvis/_prepare.py:257: FutureWarning: Sorting because non-concatenation axis is not aligned. A future version\n",
            "of pandas will change to not sort by default.\n",
            "\n",
            "To accept the future behavior, pass 'sort=False'.\n",
            "\n",
            "To retain the current behavior and silence the warning, pass 'sort=True'.\n",
            "\n",
            "  return pd.concat([default_term_info] + list(topic_dfs))\n"
          ],
          "name": "stderr"
        },
        {
          "output_type": "execute_result",
          "data": {
            "text/html": [
              "\n",
              "<link rel=\"stylesheet\" type=\"text/css\" href=\"https://cdn.rawgit.com/bmabey/pyLDAvis/files/ldavis.v1.0.0.css\">\n",
              "\n",
              "\n",
              "<div id=\"ldavis_el25551401478902762967372424089\"></div>\n",
              "<script type=\"text/javascript\">\n",
              "\n",
              "var ldavis_el25551401478902762967372424089_data = {\"mdsDat\": {\"x\": [0.00794282928109169, -0.00794282928109169], \"y\": [0.0, 0.0], \"topics\": [1, 2], \"cluster\": [1, 1], \"Freq\": [51.01933288574219, 48.98066711425781]}, \"tinfo\": {\"Category\": [\"Default\", \"Default\", \"Default\", \"Default\", \"Default\", \"Default\", \"Default\", \"Default\", \"Default\", \"Default\", \"Default\", \"Default\", \"Default\", \"Default\", \"Default\", \"Default\", \"Default\", \"Default\", \"Default\", \"Default\", \"Default\", \"Default\", \"Default\", \"Default\", \"Default\", \"Default\", \"Default\", \"Default\", \"Default\", \"Default\", \"Topic1\", \"Topic1\", \"Topic1\", \"Topic1\", \"Topic1\", \"Topic1\", \"Topic1\", \"Topic1\", \"Topic1\", \"Topic1\", \"Topic1\", \"Topic1\", \"Topic1\", \"Topic1\", \"Topic1\", \"Topic1\", \"Topic1\", \"Topic1\", \"Topic1\", \"Topic1\", \"Topic1\", \"Topic1\", \"Topic1\", \"Topic1\", \"Topic1\", \"Topic1\", \"Topic1\", \"Topic1\", \"Topic1\", \"Topic1\", \"Topic1\", \"Topic1\", \"Topic1\", \"Topic1\", \"Topic1\", \"Topic1\", \"Topic1\", \"Topic1\", \"Topic1\", \"Topic1\", \"Topic1\", \"Topic1\", \"Topic1\", \"Topic1\", \"Topic1\", \"Topic1\", \"Topic1\", \"Topic1\", \"Topic1\", \"Topic1\", \"Topic1\", \"Topic1\", \"Topic1\", \"Topic1\", \"Topic1\", \"Topic1\", \"Topic1\", \"Topic1\", \"Topic1\", \"Topic1\", \"Topic1\", \"Topic1\", \"Topic1\", \"Topic1\", \"Topic1\", \"Topic1\", \"Topic1\", \"Topic1\", \"Topic1\", \"Topic1\", \"Topic2\", \"Topic2\", \"Topic2\", \"Topic2\", \"Topic2\", \"Topic2\", \"Topic2\", \"Topic2\", \"Topic2\", \"Topic2\", \"Topic2\", \"Topic2\", \"Topic2\", \"Topic2\", \"Topic2\", \"Topic2\", \"Topic2\", \"Topic2\", \"Topic2\", \"Topic2\", \"Topic2\", \"Topic2\", \"Topic2\", \"Topic2\", \"Topic2\", \"Topic2\", \"Topic2\", \"Topic2\", \"Topic2\", \"Topic2\", \"Topic2\", \"Topic2\", \"Topic2\", \"Topic2\", \"Topic2\", \"Topic2\", \"Topic2\", \"Topic2\", \"Topic2\", \"Topic2\", \"Topic2\", \"Topic2\", \"Topic2\", \"Topic2\", \"Topic2\", \"Topic2\", \"Topic2\", \"Topic2\", \"Topic2\", \"Topic2\", \"Topic2\", \"Topic2\", \"Topic2\", \"Topic2\", \"Topic2\", \"Topic2\", \"Topic2\", \"Topic2\", \"Topic2\", \"Topic2\", \"Topic2\", \"Topic2\", \"Topic2\", \"Topic2\", \"Topic2\"], \"Freq\": [5.0, 21.0, 7.0, 15.0, 4.0, 2.0, 2.0, 2.0, 9.0, 3.0, 5.0, 6.0, 4.0, 6.0, 29.0, 4.0, 2.0, 6.0, 2.0, 5.0, 2.0, 2.0, 1.0, 4.0, 2.0, 1.0, 2.0, 1.0, 3.0, 5.0, 1.735622763633728, 1.7197805643081665, 2.19282865524292, 1.6415268182754517, 1.6251108646392822, 1.6095091104507446, 1.6039243936538696, 1.5934362411499023, 1.5817537307739258, 1.046994924545288, 1.0439047813415527, 1.043747901916504, 1.0406285524368286, 1.0394563674926758, 1.029269814491272, 1.026509165763855, 1.0077195167541504, 1.5103719234466553, 1.0067546367645264, 1.0058114528656006, 1.0024584531784058, 0.9986830949783325, 0.998181164264679, 0.9956764578819275, 0.9934866428375244, 0.9926758408546448, 0.9901500940322876, 0.9900496006011963, 0.9864368438720703, 0.9864286184310913, 4.259917736053467, 2.406965970993042, 3.2992630004882812, 1.4628561735153198, 4.17466402053833, 1.4607360363006592, 2.7980246543884277, 3.6391677856445312, 2.346163511276245, 1.4521385431289673, 6.589263439178467, 6.532216548919678, 4.667790412902832, 5.401452541351318, 6.076785087585449, 7.322694301605225, 4.177676200866699, 6.7471466064453125, 3.321185350418091, 2.237420082092285, 3.9568581581115723, 3.9525063037872314, 6.103520393371582, 13.271191596984863, 7.607115745544434, 9.037378311157227, 5.742924213409424, 3.8147685527801514, 2.9364020824432373, 6.7678446769714355, 5.839447021484375, 8.255939483642578, 5.558701992034912, 4.614191055297852, 6.227959156036377, 4.206382751464844, 4.54958438873291, 3.141197681427002, 3.514970541000366, 3.715625286102295, 4.128442764282227, 1.4572093486785889, 1.448647141456604, 1.4334577322006226, 2.350896120071411, 1.4083149433135986, 3.2231974601745605, 1.3670459985733032, 1.3642085790634155, 0.903634250164032, 0.8948470950126648, 0.8942173719406128, 1.7871628999710083, 0.8920482397079468, 3.11669659614563, 0.8871710300445557, 0.8858311176300049, 0.8853220343589783, 5.310306549072266, 0.8841372728347778, 3.092759847640991, 0.8817963004112244, 0.8811878561973572, 0.8810668587684631, 0.8799880146980286, 0.8790305256843567, 0.8786466717720032, 0.8785877823829651, 0.8785614967346191, 3.5135881900787354, 2.1790924072265625, 1.7416566610336304, 2.583098888397217, 3.421776056289673, 4.239419460296631, 12.883522033691406, 6.1763787269592285, 9.630631446838379, 3.659034252166748, 16.640432357788086, 1.294276237487793, 3.6035256385803223, 1.6928623914718628, 8.518630981445312, 6.066908836364746, 2.4545228481292725, 10.292774200439453, 3.8825032711029053, 6.8160858154296875, 6.433699607849121, 7.772445201873779, 4.458798885345459, 3.4244213104248047, 3.109715461730957, 5.637917518615723, 4.745481014251709, 4.476065635681152, 5.317316055297852, 5.377067565917969, 5.497347831726074, 3.292788505554199, 4.304172515869141, 4.253453254699707, 4.077098846435547, 3.4135427474975586], \"Term\": [\"friend\", \"like\", \"soup\", \"people\", \"girl\", \"bigger\", \"wing\", \"car\", \"delicious\", \"forget\", \"meat\", \"lt\", \"buffet\", \"want\", \"film\", \"type\", \"bbq\", \"gt\", \"beginner\", \"said\", \"chicken\", \"money\", \"later\", \"dish\", \"thb\", \"girlfriend\", \"told\", \"emma\", \"know\", \"bay\", \"bigger\", \"car\", \"wing\", \"bbq\", \"beginner\", \"chicken\", \"money\", \"thb\", \"told\", \"concentrated\", \"straight\", \"idea\", \"ak\", \"branch\", \"park\", \"canon\", \"wrong\", \"bangkok\", \"professional\", \"textbook\", \"east\", \"indesign\", \"gradual\", \"aspect\", \"designer\", \"manual\", \"reader\", \"spicy\", \"obvious\", \"rack\", \"lt\", \"medium\", \"dish\", \"necessary\", \"gt\", \"final\", \"phone\", \"bay\", \"book\", \"function\", \"food\", \"think\", \"value\", \"shop\", \"ranger\", \"time\", \"western\", \"restaurant\", \"american\", \"indian\", \"lot\", \"love\", \"lone\", \"film\", \"eat\", \"good\", \"taste\", \"service\", \"mobile\", \"dolphin\", \"price\", \"like\", \"life\", \"pork\", \"people\", \"menu\", \"baht\", \"forgive\", \"sweet\", \"delicious\", \"friend\", \"later\", \"girlfriend\", \"emma\", \"forget\", \"maybe\", \"girl\", \"staff\", \"entangled\", \"abominable\", \"disappear\", \"familiar\", \"feeling\", \"unforgettable\", \"buffet\", \"study\", \"anymore\", \"attention\", \"soup\", \"concern\", \"type\", \"laughed\", \"patiently\", \"rest\", \"sad\", \"body\", \"proficiency\", \"laughing\", \"expected\", \"meat\", \"market\", \"avenger\", \"know\", \"said\", \"want\", \"like\", \"delicious\", \"people\", \"store\", \"film\", \"listen\", \"duck\", \"shabu\", \"dolphin\", \"baht\", \"course\", \"good\", \"atmosphere\", \"price\", \"life\", \"eat\", \"sweet\", \"sauce\", \"donto\", \"taste\", \"pork\", \"menu\", \"lone\", \"restaurant\", \"time\", \"chi\", \"think\", \"food\", \"ranger\", \"shop\"], \"Total\": [5.0, 21.0, 7.0, 15.0, 4.0, 2.0, 2.0, 2.0, 9.0, 3.0, 5.0, 6.0, 4.0, 6.0, 29.0, 4.0, 2.0, 6.0, 2.0, 5.0, 2.0, 2.0, 1.0, 4.0, 2.0, 1.0, 2.0, 1.0, 3.0, 5.0, 2.088479995727539, 2.0867230892181396, 2.7711827754974365, 2.0780439376831055, 2.076223373413086, 2.074492931365967, 2.073873519897461, 2.0727100372314453, 2.0714144706726074, 1.3801103830337524, 1.3797675371170044, 1.3797502517700195, 1.379404067993164, 1.3792740106582642, 1.378144383430481, 1.377838134765625, 1.3757541179656982, 2.063497304916382, 1.3756470680236816, 1.3755425214767456, 1.3751705884933472, 1.3747520446777344, 1.3746962547302246, 1.3744184970855713, 1.3741755485534668, 1.3740856647491455, 1.3738054037094116, 1.373794436454773, 1.3733937740325928, 1.3733927011489868, 6.160412788391113, 3.426926374435425, 4.789878845214844, 2.058227300643921, 6.1509575843811035, 2.0579919815063477, 4.102292537689209, 5.459571361541748, 3.420182704925537, 2.0570385456085205, 10.842716217041016, 10.836389541625977, 7.469636917114258, 8.814994812011719, 10.153883934020996, 12.82004165649414, 6.7832841873168945, 12.124214172363281, 5.424304008483887, 3.4081215858459473, 6.758793830871582, 6.758310317993164, 11.420836448669434, 29.911624908447266, 15.379560470581055, 19.33015251159668, 11.380842208862305, 6.743034362792969, 4.7496337890625, 15.286476135253906, 12.655532836914062, 21.139461517333984, 11.992401123046875, 9.359672546386719, 15.858591079711914, 8.682448387145996, 10.616493225097656, 5.404341220855713, 7.973769187927246, 9.892004013061523, 5.17164945602417, 1.950715184211731, 1.9517834186553955, 1.9536781311035156, 3.2608957290649414, 1.9568145275115967, 4.5737433433532715, 1.9619629383087158, 1.9623167514801025, 1.3089395761489868, 1.3100357055664062, 1.3101142644882202, 2.620387315750122, 1.310384750366211, 4.587029933929443, 1.3109931945800781, 1.3111603260040283, 1.3112237453460693, 7.867546081542969, 1.3113718032836914, 4.590015411376953, 1.3116637468338013, 1.3117396831512451, 1.3117547035217285, 1.311889410018921, 1.3120087385177612, 1.312056541442871, 1.3120640516281128, 1.3120672702789307, 5.248351097106934, 3.282327651977539, 2.626063823699951, 3.9427614212036133, 5.259804725646973, 6.579470634460449, 21.139461517333984, 9.892004013061523, 15.858591079711914, 5.9410400390625, 29.911624908447266, 1.9710406064987183, 5.947964668273926, 2.632150888442993, 15.286476135253906, 10.616493225097656, 3.95880126953125, 19.33015251159668, 6.623995304107666, 12.655532836914062, 11.992401123046875, 15.379560470581055, 7.973769187927246, 5.970307350158691, 5.298733234405518, 11.380842208862305, 9.359672546386719, 8.682448387145996, 11.420836448669434, 12.124214172363281, 12.82004165649414, 5.986727714538574, 10.836389541625977, 10.842716217041016, 10.153883934020996, 8.814994812011719], \"loglift\": [30.0, 29.0, 28.0, 27.0, 26.0, 25.0, 24.0, 23.0, 22.0, 21.0, 20.0, 19.0, 18.0, 17.0, 16.0, 15.0, 14.0, 13.0, 12.0, 11.0, 10.0, 9.0, 8.0, 7.0, 6.0, 5.0, 4.0, 3.0, 2.0, 1.0, 0.4878999888896942, 0.4796000123023987, 0.4388999938964844, 0.43720000982284546, 0.42800000309944153, 0.41920000314712524, 0.41600000858306885, 0.4099999964237213, 0.4032999873161316, 0.396699994802475, 0.39399999380111694, 0.3939000070095062, 0.3910999894142151, 0.39010000228881836, 0.38109999895095825, 0.37860000133514404, 0.36169999837875366, 0.36090001463890076, 0.36079999804496765, 0.35989999771118164, 0.35679998993873596, 0.35339999198913574, 0.3528999984264374, 0.350600004196167, 0.34860000014305115, 0.34779998660087585, 0.34549999237060547, 0.34540000557899475, 0.34200000762939453, 0.34200000762939453, 0.30410000681877136, 0.3197000026702881, 0.3001999855041504, 0.33149999380111694, 0.28540000319480896, 0.3301999866962433, 0.29030001163482666, 0.26739999651908875, 0.296099990606308, 0.3246999979019165, 0.17489999532699585, 0.16680000722408295, 0.20280000567436218, 0.18320000171661377, 0.15960000455379486, 0.11289999634027481, 0.1882999986410141, 0.0869000032544136, 0.18240000307559967, 0.25209999084472656, 0.13760000467300415, 0.13650000095367432, 0.04639999940991402, -0.1396999955177307, -0.03099999949336052, -0.08730000257492065, -0.010999999940395355, 0.10329999774694443, 0.19210000336170197, -0.14180000126361847, -0.10050000250339508, -0.2671999931335449, -0.09589999914169312, -0.034299999475479126, -0.26170000433921814, -0.05169999971985817, -0.17440000176429749, 0.13040000200271606, -0.1462000012397766, -0.3061999976634979, 0.4884999990463257, 0.4221000075340271, 0.4156000018119812, 0.4041000008583069, 0.3865000009536743, 0.384799987077713, 0.3637999892234802, 0.35249999165534973, 0.35019999742507935, 0.3431999981403351, 0.3325999975204468, 0.33180001378059387, 0.3310999870300293, 0.32919999957084656, 0.3273000121116638, 0.323199987411499, 0.3215999901294708, 0.32100000977516174, 0.3206000030040741, 0.31949999928474426, 0.3188999891281128, 0.3167000114917755, 0.3158999979496002, 0.3158000111579895, 0.31439998745918274, 0.3131999969482422, 0.31279999017715454, 0.3127000033855438, 0.3127000033855438, 0.3125, 0.30410000681877136, 0.30309998989105225, 0.29089999198913574, 0.28380000591278076, 0.2741999924182892, 0.21860000491142273, 0.24269999563694, 0.2150000035762787, 0.22910000383853912, 0.12729999423027039, 0.2930999994277954, 0.2125999927520752, 0.27239999175071716, 0.1289999932050705, 0.1542000025510788, 0.23569999635219574, 0.08349999785423279, 0.17949999868869781, 0.09489999711513519, 0.09099999815225601, 0.031300000846385956, 0.13249999284744263, 0.15790000557899475, 0.18080000579357147, 0.011300000362098217, 0.03449999913573265, 0.05119999870657921, -0.050700001418590546, -0.09929999709129333, -0.13300000131130219, 0.11590000241994858, -0.20960000157356262, -0.22200000286102295, -0.19869999587535858, -0.23499999940395355], \"logprob\": [30.0, 29.0, 28.0, 27.0, 26.0, 25.0, 24.0, 23.0, 22.0, 21.0, 20.0, 19.0, 18.0, 17.0, 16.0, 15.0, 14.0, 13.0, 12.0, 11.0, 10.0, 9.0, 8.0, 7.0, 6.0, 5.0, 4.0, 3.0, 2.0, 1.0, -6.648099899291992, -6.657299995422363, -6.414299964904785, -6.70389986038208, -6.713900089263916, -6.723599910736084, -6.7270002365112305, -6.73360013961792, -6.741000175476074, -7.153600215911865, -7.156499862670898, -7.156700134277344, -7.1596999168396, -7.160799980163574, -7.170599937438965, -7.173299789428711, -7.191800117492676, -6.787099838256836, -7.192800045013428, -7.193699836730957, -7.197000026702881, -7.200799942016602, -7.201300144195557, -7.203800201416016, -7.205999851226807, -7.2067999839782715, -7.209400177001953, -7.209499835968018, -7.213099956512451, -7.213200092315674, -5.750199794769287, -6.321100234985352, -6.005799770355225, -6.8190999031066895, -5.770500183105469, -6.820499897003174, -6.170599937438965, -5.907700061798096, -6.346700191497803, -6.826499938964844, -5.314000129699707, -5.322700023651123, -5.65880012512207, -5.512800216674805, -5.394999980926514, -5.208499908447266, -5.769700050354004, -5.29040002822876, -5.999199867248535, -6.394199848175049, -5.823999881744385, -5.825099945068359, -5.390600204467773, -4.613900184631348, -5.170400142669678, -4.9980998039245605, -5.451499938964844, -5.860599994659424, -6.122300148010254, -5.287300109863281, -5.434899806976318, -5.088600158691406, -5.484099864959717, -5.670400142669678, -5.3703999519348145, -5.762899875640869, -5.684500217437744, -6.054900169372559, -5.942500114440918, -5.886899948120117, -5.740799903869629, -6.782199859619141, -6.788099765777588, -6.798600196838379, -6.303899765014648, -6.816299915313721, -5.98829984664917, -6.846099853515625, -6.848100185394287, -7.260000228881836, -7.269800186157227, -7.270500183105469, -6.578100204467773, -7.272900104522705, -6.021900177001953, -7.27839994430542, -7.279900074005127, -7.2804999351501465, -5.489099979400635, -7.281899929046631, -6.029600143432617, -7.2845001220703125, -7.285200119018555, -7.285299777984619, -7.286600112915039, -7.287600040435791, -7.288099765777588, -7.2881999015808105, -7.2881999015808105, -5.902100086212158, -6.379799842834473, -6.603899955749512, -6.209700107574463, -5.928599834442139, -5.714300155639648, -4.602799892425537, -5.3379998207092285, -4.893799781799316, -5.861499786376953, -4.34689998626709, -6.9008002281188965, -5.876800060272217, -6.632299900054932, -5.016499996185303, -5.355899810791016, -6.260799884796143, -4.827300071716309, -5.802199840545654, -5.2393999099731445, -5.2972002029418945, -5.108099937438965, -5.66379976272583, -5.927800178527832, -6.024199962615967, -5.429200172424316, -5.601500034332275, -5.659999847412109, -5.48769998550415, -5.476600170135498, -5.454400062561035, -5.9670000076293945, -5.699100017547607, -5.710999965667725, -5.753300189971924, -5.931000232696533]}, \"token.table\": {\"Topic\": [2, 1, 1, 2, 2, 1, 1, 2, 2, 1, 2, 1, 2, 1, 2, 1, 2, 1, 1, 1, 2, 1, 2, 1, 1, 2, 1, 1, 1, 2, 1, 1, 2, 1, 2, 1, 2, 1, 2, 1, 2, 1, 2, 1, 2, 1, 2, 1, 1, 2, 1, 2, 1, 2, 2, 2, 1, 2, 1, 2, 1, 2, 1, 2, 1, 2, 1, 2, 1, 2, 1, 2, 1, 2, 1, 2, 1, 2, 1, 1, 2, 1, 1, 1, 2, 1, 2, 2, 2, 2, 1, 2, 1, 2, 1, 2, 1, 2, 1, 2, 1, 2, 1, 2, 1, 1, 2, 1, 2, 1, 2, 1, 2, 1, 2, 1, 2, 1, 1, 2, 1, 1, 2, 1, 2, 1, 2, 1, 2, 1, 2, 1, 2, 1, 1, 2, 1, 2, 1, 2, 2, 1, 2, 1, 2, 1, 2, 1, 2, 1, 2, 1, 2, 1, 1, 2, 1, 2, 1, 2, 1, 2, 1, 2, 1, 1, 1, 2, 1, 2, 1, 1, 2, 2, 1, 2, 1, 2, 1, 2, 1, 2, 1], \"Freq\": [0.7639772295951843, 0.7249507308006287, 0.5530663728713989, 0.3687109053134918, 0.7626832127571106, 0.7275804281234741, 0.45289885997772217, 0.6038651466369629, 0.7626463770866394, 0.3807980418205261, 0.7615960836410522, 0.47096529603004456, 0.5651583671569824, 0.9692283272743225, 0.48461416363716125, 0.7326582670211792, 0.3663291335105896, 0.9624435305595398, 0.9632874727249146, 0.9576342701911926, 0.762190043926239, 0.5847640633583069, 0.29238203167915344, 0.725019097328186, 0.2180059850215912, 0.654017984867096, 0.7257746458053589, 0.9584405422210693, 0.5011084675788879, 0.5011084675788879, 0.9640910029411316, 0.7245797514915466, 0.762560248374939, 0.5052034258842468, 0.5052034258842468, 0.40436699986457825, 0.6065505146980286, 0.7277090549468994, 0.7633379697799683, 0.6263206601142883, 0.20877355337142944, 0.4579210877418518, 0.58875572681427, 0.377448707818985, 0.5661730766296387, 0.3362494707107544, 0.6724989414215088, 0.7271825075149536, 0.5201709270477295, 0.5201709270477295, 0.5118550658226013, 0.5118550658226013, 0.5096017122268677, 0.5096017122268677, 0.762156069278717, 0.7632921934127808, 0.38162297010421753, 0.7632459402084351, 0.4346136450767517, 0.5683408975601196, 0.4859105348587036, 0.4859105348587036, 0.6455947160720825, 0.3689112365245819, 0.30666419863700867, 0.6133283972740173, 0.5551092624664307, 0.3700728714466095, 0.19336190819740295, 0.7734476327896118, 0.4861357510089874, 0.4861357510089874, 0.2186392843723297, 0.6559178829193115, 0.512351930141449, 0.512351930141449, 0.4655938446521759, 0.5173264741897583, 0.727433443069458, 0.6503052711486816, 0.3251526355743408, 0.724768877029419, 0.7274038791656494, 0.5868335366249084, 0.2934167683124542, 0.2536293566226959, 0.7608880400657654, 0.5126324892044067, 0.7623904943466187, 0.7621579170227051, 0.5003167986869812, 0.5003167986869812, 0.37843915820121765, 0.6149636507034302, 0.5073462128639221, 0.5073462128639221, 0.5253555774688721, 0.43779629468917847, 0.591821551322937, 0.44386619329452515, 0.5918639302253723, 0.44389793276786804, 0.649307131767273, 0.3246535658836365, 0.727756679058075, 0.3046618402004242, 0.6093236804008484, 0.5110346078872681, 0.5110346078872681, 0.381072074174881, 0.762144148349762, 0.5836133360862732, 0.2918066680431366, 0.46069952845573425, 0.46069952845573425, 0.63162761926651, 0.42108508944511414, 0.9643789529800415, 0.48585498332977295, 0.48585498332977295, 0.7281233072280884, 0.7256133556365967, 0.7623463869094849, 0.3783438205718994, 0.630573034286499, 0.7312983870506287, 0.24376612901687622, 0.534206748008728, 0.534206748008728, 0.4741009473800659, 0.5531177520751953, 0.7269306182861328, 0.7621622681617737, 0.7281238436698914, 0.5909069180488586, 0.3939379155635834, 0.7279051542282104, 0.7623376250267029, 0.5773569941520691, 0.4123978614807129, 0.7622593641281128, 0.380242258310318, 0.5703634023666382, 0.5024867057800293, 0.5024867057800293, 0.5932047367095947, 0.44490355253219604, 0.3799174427986145, 0.759834885597229, 0.5672153234481812, 0.3403291702270508, 0.381313294172287, 0.635522186756134, 0.7279109358787537, 0.5096936225891113, 0.5096936225891113, 0.336641401052475, 0.67328280210495, 0.7247597575187683, 0.762780487537384, 0.5016447901725769, 0.5016447901725769, 0.527201771736145, 0.527201771736145, 0.7269858717918396, 0.9649202823638916, 0.6459715962409973, 0.36912664771080017, 0.5460200905799866, 0.39001432061195374, 0.9655238389968872, 0.21786418557167053, 0.653592586517334, 0.7631346583366394, 0.66937655210495, 0.40162596106529236, 0.30397582054138184, 0.6079516410827637, 0.5896848440170288, 0.4422636330127716, 0.7217134833335876, 0.3608567416667938, 0.726874053478241], \"Term\": [\"abominable\", \"ak\", \"american\", \"american\", \"anymore\", \"aspect\", \"atmosphere\", \"atmosphere\", \"attention\", \"avenger\", \"avenger\", \"baht\", \"baht\", \"bangkok\", \"bangkok\", \"bay\", \"bay\", \"bbq\", \"beginner\", \"bigger\", \"body\", \"book\", \"book\", \"branch\", \"buffet\", \"buffet\", \"canon\", \"car\", \"chi\", \"chi\", \"chicken\", \"concentrated\", \"concern\", \"course\", \"course\", \"delicious\", \"delicious\", \"designer\", \"disappear\", \"dish\", \"dish\", \"dolphin\", \"dolphin\", \"donto\", \"donto\", \"duck\", \"duck\", \"east\", \"eat\", \"eat\", \"emma\", \"emma\", \"entangled\", \"entangled\", \"expected\", \"familiar\", \"feeling\", \"feeling\", \"film\", \"film\", \"final\", \"final\", \"food\", \"food\", \"forget\", \"forget\", \"forgive\", \"forgive\", \"friend\", \"friend\", \"function\", \"function\", \"girl\", \"girl\", \"girlfriend\", \"girlfriend\", \"good\", \"good\", \"gradual\", \"gt\", \"gt\", \"idea\", \"indesign\", \"indian\", \"indian\", \"know\", \"know\", \"later\", \"laughed\", \"laughing\", \"life\", \"life\", \"like\", \"like\", \"listen\", \"listen\", \"lone\", \"lone\", \"lot\", \"lot\", \"love\", \"love\", \"lt\", \"lt\", \"manual\", \"market\", \"market\", \"maybe\", \"maybe\", \"meat\", \"meat\", \"medium\", \"medium\", \"menu\", \"menu\", \"mobile\", \"mobile\", \"money\", \"necessary\", \"necessary\", \"obvious\", \"park\", \"patiently\", \"people\", \"people\", \"phone\", \"phone\", \"pork\", \"pork\", \"price\", \"price\", \"professional\", \"proficiency\", \"rack\", \"ranger\", \"ranger\", \"reader\", \"rest\", \"restaurant\", \"restaurant\", \"sad\", \"said\", \"said\", \"sauce\", \"sauce\", \"service\", \"service\", \"shabu\", \"shabu\", \"shop\", \"shop\", \"soup\", \"soup\", \"spicy\", \"staff\", \"staff\", \"store\", \"store\", \"straight\", \"study\", \"sweet\", \"sweet\", \"taste\", \"taste\", \"textbook\", \"thb\", \"think\", \"think\", \"time\", \"time\", \"told\", \"type\", \"type\", \"unforgettable\", \"value\", \"value\", \"want\", \"want\", \"western\", \"western\", \"wing\", \"wing\", \"wrong\"]}, \"R\": 30, \"lambda.step\": 0.01, \"plot.opts\": {\"xlab\": \"PC1\", \"ylab\": \"PC2\"}, \"topic.order\": [2, 1]};\n",
              "\n",
              "function LDAvis_load_lib(url, callback){\n",
              "  var s = document.createElement('script');\n",
              "  s.src = url;\n",
              "  s.async = true;\n",
              "  s.onreadystatechange = s.onload = callback;\n",
              "  s.onerror = function(){console.warn(\"failed to load library \" + url);};\n",
              "  document.getElementsByTagName(\"head\")[0].appendChild(s);\n",
              "}\n",
              "\n",
              "if(typeof(LDAvis) !== \"undefined\"){\n",
              "   // already loaded: just create the visualization\n",
              "   !function(LDAvis){\n",
              "       new LDAvis(\"#\" + \"ldavis_el25551401478902762967372424089\", ldavis_el25551401478902762967372424089_data);\n",
              "   }(LDAvis);\n",
              "}else if(typeof define === \"function\" && define.amd){\n",
              "   // require.js is available: use it to load d3/LDAvis\n",
              "   require.config({paths: {d3: \"https://cdnjs.cloudflare.com/ajax/libs/d3/3.5.5/d3.min\"}});\n",
              "   require([\"d3\"], function(d3){\n",
              "      window.d3 = d3;\n",
              "      LDAvis_load_lib(\"https://cdn.rawgit.com/bmabey/pyLDAvis/files/ldavis.v1.0.0.js\", function(){\n",
              "        new LDAvis(\"#\" + \"ldavis_el25551401478902762967372424089\", ldavis_el25551401478902762967372424089_data);\n",
              "      });\n",
              "    });\n",
              "}else{\n",
              "    // require.js not available: dynamically load d3 & LDAvis\n",
              "    LDAvis_load_lib(\"https://cdnjs.cloudflare.com/ajax/libs/d3/3.5.5/d3.min.js\", function(){\n",
              "         LDAvis_load_lib(\"https://cdn.rawgit.com/bmabey/pyLDAvis/files/ldavis.v1.0.0.js\", function(){\n",
              "                 new LDAvis(\"#\" + \"ldavis_el25551401478902762967372424089\", ldavis_el25551401478902762967372424089_data);\n",
              "            })\n",
              "         });\n",
              "}\n",
              "</script>"
            ],
            "text/plain": [
              "PreparedData(topic_coordinates=              x    y  topics  cluster       Freq\n",
              "topic                                           \n",
              "1      0.007943  0.0       1        1  51.019333\n",
              "0     -0.007943  0.0       2        1  48.980667, topic_info=    Category       Freq    Term      Total  loglift  logprob\n",
              "422  Default   5.000000  friend   5.000000  30.0000  30.0000\n",
              "34   Default  21.000000    like  21.000000  29.0000  29.0000\n",
              "67   Default   7.000000    soup   7.000000  28.0000  28.0000\n",
              "186  Default  15.000000  people  15.000000  27.0000  27.0000\n",
              "424  Default   4.000000    girl   4.000000  26.0000  26.0000\n",
              "..       ...        ...     ...        ...      ...      ...\n",
              "629   Topic2   3.292789     chi   5.986728   0.1159  -5.9670\n",
              "78    Topic2   4.304173   think  10.836390  -0.2096  -5.6991\n",
              "21    Topic2   4.253453    food  10.842716  -0.2220  -5.7110\n",
              "992   Topic2   4.077099  ranger  10.153884  -0.1987  -5.7533\n",
              "64    Topic2   3.413543    shop   8.814995  -0.2350  -5.9310\n",
              "\n",
              "[165 rows x 6 columns], token_table=      Topic      Freq        Term\n",
              "term                             \n",
              "391       2  0.763977  abominable\n",
              "266       1  0.724951          ak\n",
              "91        1  0.553066    american\n",
              "91        2  0.368711    american\n",
              "392       2  0.762683     anymore\n",
              "...     ...       ...         ...\n",
              "1043      1  0.589685     western\n",
              "1043      2  0.442264     western\n",
              "142       1  0.721713        wing\n",
              "142       2  0.360857        wing\n",
              "1161      1  0.726874       wrong\n",
              "\n",
              "[183 rows x 3 columns], R=30, lambda_step=0.01, plot_opts={'xlab': 'PC1', 'ylab': 'PC2'}, topic_order=[2, 1])"
            ]
          },
          "metadata": {
            "tags": []
          },
          "execution_count": 10
        }
      ]
    },
    {
      "cell_type": "markdown",
      "metadata": {
        "id": "VQaqHsATf81T",
        "colab_type": "text"
      },
      "source": [
        "4. Find the top‐5 terms (terms with the top‐5 highest weights) for each of the 6 topics. Based on\n",
        "those terms, describe what those topics are about."
      ]
    },
    {
      "cell_type": "code",
      "metadata": {
        "id": "yQkV8Jxxf5dj",
        "colab_type": "code",
        "colab": {
          "base_uri": "https://localhost:8080/",
          "height": 221
        },
        "outputId": "d26ad497-f01a-4bbd-9f65-ace72fd59e1d"
      },
      "source": [
        "lda_model.show_topics(num_topics=6, num_words=5)"
      ],
      "execution_count": 11,
      "outputs": [
        {
          "output_type": "execute_result",
          "data": {
            "text/plain": [
              "[(0,\n",
              "  '0.010*\"film\" + 0.008*\"good\" + 0.007*\"eat\" + 0.006*\"like\" + 0.006*\"delicious\"'),\n",
              " (1,\n",
              "  '0.012*\"people\" + 0.010*\"time\" + 0.009*\"film\" + 0.007*\"love\" + 0.006*\"like\"'),\n",
              " (2,\n",
              "  '0.008*\"film\" + 0.007*\"time\" + 0.006*\"people\" + 0.005*\"eat\" + 0.005*\"food\"'),\n",
              " (3,\n",
              "  '0.010*\"film\" + 0.008*\"good\" + 0.007*\"like\" + 0.007*\"time\" + 0.006*\"people\"'),\n",
              " (4,\n",
              "  '0.011*\"like\" + 0.011*\"good\" + 0.009*\"people\" + 0.007*\"film\" + 0.005*\"love\"'),\n",
              " (5,\n",
              "  '0.020*\"film\" + 0.009*\"love\" + 0.009*\"people\" + 0.007*\"like\" + 0.006*\"good\"')]"
            ]
          },
          "metadata": {
            "tags": []
          },
          "execution_count": 11
        }
      ]
    },
    {
      "cell_type": "markdown",
      "metadata": {
        "id": "v72CInnT1e7o",
        "colab_type": "text"
      },
      "source": [
        "Topic 0 is about films and good food.\n",
        "Topic 1 is about people and films about times they love.\n",
        "Topic 2 is about people and films about eating good food.\n",
        "Topic 3 is about people and films about people they like.\n",
        "Topic 4 is about films that people love.\n",
        "Topic 5 is about films about loving people."
      ]
    },
    {
      "cell_type": "code",
      "metadata": {
        "id": "IVdNQ7Q7urN9",
        "colab_type": "code",
        "colab": {}
      },
      "source": [
        ""
      ],
      "execution_count": 0,
      "outputs": []
    }
  ]
}