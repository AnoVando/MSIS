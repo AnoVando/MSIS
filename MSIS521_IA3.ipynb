{
  "nbformat": 4,
  "nbformat_minor": 0,
  "metadata": {
    "colab": {
      "name": "Welcome To Colaboratory",
      "provenance": [],
      "collapsed_sections": [],
      "toc_visible": true,
      "include_colab_link": true
    },
    "kernelspec": {
      "display_name": "Python 3",
      "name": "python3"
    }
  },
  "cells": [
    {
      "cell_type": "markdown",
      "metadata": {
        "id": "view-in-github",
        "colab_type": "text"
      },
      "source": [
        "<a href=\"https://colab.research.google.com/github/AnoVando/MSIS/blob/master/MSIS521_IA3.ipynb\" target=\"_parent\"><img src=\"https://colab.research.google.com/assets/colab-badge.svg\" alt=\"Open In Colab\"/></a>"
      ]
    },
    {
      "cell_type": "code",
      "metadata": {
        "id": "LbVNDUFthGZ4",
        "colab_type": "code",
        "colab": {}
      },
      "source": [
        "import pandas as pd\n",
        "import numpy as np\n",
        "from sklearn.feature_extraction.text import TfidfVectorizer\n",
        "from sklearn.cluster import KMeans\n",
        "from sklearn.metrics import adjusted_rand_score\n",
        "import nltk\n",
        "import gensim\n",
        "from gensim.utils import simple_preprocess\n",
        "from gensim.parsing.preprocessing import STOPWORDS\n",
        "from nltk.stem import WordNetLemmatizer, SnowballStemmer\n",
        "from nltk.stem.porter import *\n",
        "np.random.seed(2018)\n"
      ],
      "execution_count": 0,
      "outputs": []
    },
    {
      "cell_type": "code",
      "metadata": {
        "id": "2FnJ3WbafJHs",
        "colab_type": "code",
        "colab": {}
      },
      "source": [
        "url = 'https://github.com/AnoVando/MSIS/raw/master/IA3.csv'\n",
        "data = pd.read_csv(url, header='infer')"
      ],
      "execution_count": 0,
      "outputs": []
    },
    {
      "cell_type": "code",
      "metadata": {
        "id": "A8iqJL8LhDxt",
        "colab_type": "code",
        "colab": {
          "base_uri": "https://localhost:8080/",
          "height": 204
        },
        "outputId": "d273eca7-377b-4855-f075-1d088c3e5f90"
      },
      "source": [
        "data.head()"
      ],
      "execution_count": 10,
      "outputs": [
        {
          "output_type": "execute_result",
          "data": {
            "text/html": [
              "<div>\n",
              "<style scoped>\n",
              "    .dataframe tbody tr th:only-of-type {\n",
              "        vertical-align: middle;\n",
              "    }\n",
              "\n",
              "    .dataframe tbody tr th {\n",
              "        vertical-align: top;\n",
              "    }\n",
              "\n",
              "    .dataframe thead th {\n",
              "        text-align: right;\n",
              "    }\n",
              "</style>\n",
              "<table border=\"1\" class=\"dataframe\">\n",
              "  <thead>\n",
              "    <tr style=\"text-align: right;\">\n",
              "      <th></th>\n",
              "      <th>id</th>\n",
              "      <th>review</th>\n",
              "      <th>label</th>\n",
              "    </tr>\n",
              "  </thead>\n",
              "  <tbody>\n",
              "    <tr>\n",
              "      <th>0</th>\n",
              "      <td>1</td>\n",
              "      <td>About the shop: There is a restaurant in Soi L...</td>\n",
              "      <td>restaurant</td>\n",
              "    </tr>\n",
              "    <tr>\n",
              "      <th>1</th>\n",
              "      <td>2</td>\n",
              "      <td>About the shop: Through this store for about t...</td>\n",
              "      <td>restaurant</td>\n",
              "    </tr>\n",
              "    <tr>\n",
              "      <th>2</th>\n",
              "      <td>3</td>\n",
              "      <td>Roast Coffee &amp;amp; Eatery is a restaurant loca...</td>\n",
              "      <td>restaurant</td>\n",
              "    </tr>\n",
              "    <tr>\n",
              "      <th>3</th>\n",
              "      <td>4</td>\n",
              "      <td>Eat from the children. The shop is opposite. P...</td>\n",
              "      <td>restaurant</td>\n",
              "    </tr>\n",
              "    <tr>\n",
              "      <th>4</th>\n",
              "      <td>5</td>\n",
              "      <td>The Ak 1 shop at another branch tastes the sam...</td>\n",
              "      <td>restaurant</td>\n",
              "    </tr>\n",
              "  </tbody>\n",
              "</table>\n",
              "</div>"
            ],
            "text/plain": [
              "   id                                             review       label\n",
              "0   1  About the shop: There is a restaurant in Soi L...  restaurant\n",
              "1   2  About the shop: Through this store for about t...  restaurant\n",
              "2   3  Roast Coffee &amp; Eatery is a restaurant loca...  restaurant\n",
              "3   4  Eat from the children. The shop is opposite. P...  restaurant\n",
              "4   5  The Ak 1 shop at another branch tastes the sam...  restaurant"
            ]
          },
          "metadata": {
            "tags": []
          },
          "execution_count": 10
        }
      ]
    },
    {
      "cell_type": "markdown",
      "metadata": {
        "id": "4IKQu0w_fGFD",
        "colab_type": "text"
      },
      "source": [
        "Part 1. Topic Model\n",
        "There are 1000 reviews for restaurants and films in a collection under the attached csv file. All of those\n",
        "reviews are saved as text files. In this assignment, you are required to investigate the topics of those\n",
        "reviews. In particular, please follow the steps listed below:\n",
        "1. Transform those reviews into a term‐document matrix, lemmatize all the words, remove the\n",
        "stop‐words and punctuations, set the minimal document frequency for each term to be 5 and\n",
        "include 2‐gram.\n",
        "2. Use the LDA model to extract the topics of each document. In particular, we assume there are 6\n",
        "topics.\n",
        "3. Report the topic distribution and the top‐2 topics of the first 10 restaurant reviews (id = [1:10])\n",
        "and the first 10 movie reviews (id = [501:510]).\n",
        "4. Find the top‐5 terms (terms with the top‐5 highest weights) for each of the 6 topics. Based on\n",
        "those terms, describe what those topics are about.\n",
        "5. Based on finding in 3 and 4, describe what review 1 [ID=1] and review 501 [ID=501] are about?\n",
        "Please submit 1 file:\n",
        "A word file includes python code with your comment #, and one screenshot on your Jupyter\n",
        "Notebook showing that your code has run through successfully for each of the first four steps (4\n",
        "screenshots in total). Also, report your answers to question 3, 4, and 5 at the end of the word\n",
        "file."
      ]
    },
    {
      "cell_type": "code",
      "metadata": {
        "id": "Dtzrs-yThf3Z",
        "colab_type": "code",
        "colab": {}
      },
      "source": [
        "\n"
      ],
      "execution_count": 0,
      "outputs": []
    }
  ]
}