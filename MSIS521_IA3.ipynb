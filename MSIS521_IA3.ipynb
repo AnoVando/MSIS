{
  "nbformat": 4,
  "nbformat_minor": 0,
  "metadata": {
    "colab": {
      "name": "Welcome To Colaboratory",
      "provenance": [],
      "collapsed_sections": [],
      "toc_visible": true,
      "include_colab_link": true
    },
    "kernelspec": {
      "display_name": "Python 3",
      "name": "python3"
    }
  },
  "cells": [
    {
      "cell_type": "markdown",
      "metadata": {
        "id": "view-in-github",
        "colab_type": "text"
      },
      "source": [
        "<a href=\"https://colab.research.google.com/github/AnoVando/MSIS/blob/master/MSIS521_IA3.ipynb\" target=\"_parent\"><img src=\"https://colab.research.google.com/assets/colab-badge.svg\" alt=\"Open In Colab\"/></a>"
      ]
    },
    {
      "cell_type": "markdown",
      "metadata": {
        "id": "4IKQu0w_fGFD",
        "colab_type": "text"
      },
      "source": [
        "Part 1. Topic Model\n",
        "There are 1000 reviews for restaurants and films in a collection under the attached csv file. All of those\n",
        "reviews are saved as text files. In this assignment, you are required to investigate the topics of those\n",
        "reviews. In particular, please follow the steps listed below:\n",
        "1. Transform those reviews into a term‐document matrix, lemmatize all the words, remove the\n",
        "stop‐words and punctuations, set the minimal document frequency for each term to be 5 and\n",
        "include 2‐gram.\n",
        "2. Use the LDA model to extract the topics of each document. In particular, we assume there are 6\n",
        "topics.\n",
        "3. Report the topic distribution and the top‐2 topics of the first 10 restaurant reviews (id = [1:10])\n",
        "and the first 10 movie reviews (id = [501:510]).\n",
        "4. Find the top‐5 terms (terms with the top‐5 highest weights) for each of the 6 topics. Based on\n",
        "those terms, describe what those topics are about.\n",
        "5. Based on finding in 3 and 4, describe what review 1 [ID=1] and review 501 [ID=501] are about?\n",
        "Please submit 1 file:\n",
        "A word file includes python code with your comment #, and one screenshot on your Jupyter\n",
        "Notebook showing that your code has run through successfully for each of the first four steps (4\n",
        "screenshots in total). Also, report your answers to question 3, 4, and 5 at the end of the word\n",
        "file."
      ]
    },
    {
      "cell_type": "code",
      "metadata": {
        "id": "2FnJ3WbafJHs",
        "colab_type": "code",
        "colab": {}
      },
      "source": [
        ""
      ],
      "execution_count": 0,
      "outputs": []
    }
  ]
}