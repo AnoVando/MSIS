{
  "nbformat": 4,
  "nbformat_minor": 0,
  "metadata": {
    "colab": {
      "name": "Welcome To Colaboratory",
      "provenance": [],
      "collapsed_sections": [],
      "include_colab_link": true
    },
    "kernelspec": {
      "display_name": "Python 3",
      "name": "python3"
    }
  },
  "cells": [
    {
      "cell_type": "markdown",
      "metadata": {
        "id": "view-in-github",
        "colab_type": "text"
      },
      "source": [
        "<a href=\"https://colab.research.google.com/github/AnoVando/MSIS/blob/master/MSIS521_IA3.ipynb\" target=\"_parent\"><img src=\"https://colab.research.google.com/assets/colab-badge.svg\" alt=\"Open In Colab\"/></a>"
      ]
    },
    {
      "cell_type": "code",
      "metadata": {
        "id": "LbVNDUFthGZ4",
        "colab_type": "code",
        "outputId": "bfcddf93-4b78-4cf6-845c-04779c7886be",
        "colab": {
          "base_uri": "https://localhost:8080/",
          "height": 187
        }
      },
      "source": [
        "import pandas as pd\n",
        "import numpy as np\n",
        "import nltk\n",
        "nltk.download('punkt') # tokenizer\n",
        "nltk.download('wordnet') # lemmatizer\n",
        "nltk.download('stopwords') # used to handle words like a, an, the\n",
        "nltk.download('averaged_perceptron_tagger') # Part of Speech\n",
        "\n",
        "from nltk.corpus import stopwords\n",
        "from sklearn.feature_extraction.text import TfidfVectorizer\n",
        "from sklearn.feature_extraction.text import CountVectorizer\n",
        "\n",
        "import gensim\n",
        "from gensim.utils import simple_preprocess\n",
        "from gensim.parsing.preprocessing import STOPWORDS\n",
        "from nltk.stem import WordNetLemmatizer, SnowballStemmer\n",
        "from nltk.stem.porter import *\n",
        "np.random.seed(2018)\n",
        "\n",
        "from sklearn.decomposition import LatentDirichletAllocation\n",
        "from sklearn.metrics import *\n",
        "from sklearn.metrics.pairwise import *\n",
        "from sklearn.cluster import AgglomerativeClustering\n",
        "\n"
      ],
      "execution_count": 1,
      "outputs": [
        {
          "output_type": "stream",
          "text": [
            "[nltk_data] Downloading package punkt to /root/nltk_data...\n",
            "[nltk_data]   Package punkt is already up-to-date!\n",
            "[nltk_data] Downloading package wordnet to /root/nltk_data...\n",
            "[nltk_data]   Package wordnet is already up-to-date!\n",
            "[nltk_data] Downloading package stopwords to /root/nltk_data...\n",
            "[nltk_data]   Package stopwords is already up-to-date!\n",
            "[nltk_data] Downloading package averaged_perceptron_tagger to\n",
            "[nltk_data]     /root/nltk_data...\n",
            "[nltk_data]   Package averaged_perceptron_tagger is already up-to-\n",
            "[nltk_data]       date!\n"
          ],
          "name": "stdout"
        }
      ]
    },
    {
      "cell_type": "code",
      "metadata": {
        "id": "2FnJ3WbafJHs",
        "colab_type": "code",
        "colab": {}
      },
      "source": [
        "url = 'https://github.com/AnoVando/MSIS/raw/master/IA3.csv'\n",
        "data = pd.read_csv(url, header='infer')\n",
        "reviews = data['review'].tolist()"
      ],
      "execution_count": 0,
      "outputs": []
    },
    {
      "cell_type": "code",
      "metadata": {
        "id": "A8iqJL8LhDxt",
        "colab_type": "code",
        "outputId": "96bb359d-f320-4284-907d-eb4191ee93d7",
        "colab": {
          "base_uri": "https://localhost:8080/",
          "height": 119
        }
      },
      "source": [
        "print(data[:5])"
      ],
      "execution_count": 3,
      "outputs": [
        {
          "output_type": "stream",
          "text": [
            "   id                                             review       label\n",
            "0   1  About the shop: There is a restaurant in Soi L...  restaurant\n",
            "1   2  About the shop: Through this store for about t...  restaurant\n",
            "2   3  Roast Coffee &amp; Eatery is a restaurant loca...  restaurant\n",
            "3   4  Eat from the children. The shop is opposite. P...  restaurant\n",
            "4   5  The Ak 1 shop at another branch tastes the sam...  restaurant\n"
          ],
          "name": "stdout"
        }
      ]
    },
    {
      "cell_type": "markdown",
      "metadata": {
        "id": "4IKQu0w_fGFD",
        "colab_type": "text"
      },
      "source": [
        "Part 1. Topic Model\n",
        "There are 1000 reviews for restaurants and films in a collection under the attached csv file. All of those\n",
        "reviews are saved as text files. In this assignment, you are required to investigate the topics of those\n",
        "reviews. In particular, please follow the steps listed below:\n",
        "1. Transform those reviews into a term‐document matrix, lemmatize all the words, remove the\n",
        "stop‐words and punctuations, set the minimal document frequency for each term to be 5 and\n",
        "include 2‐gram.\n",
        "2. Use the LDA model to extract the topics of each document. In particular, we assume there are 6\n",
        "topics.\n",
        "3. Report the topic distribution and the top‐2 topics of the first 10 restaurant reviews (id = [1:10])\n",
        "and the first 10 movie reviews (id = [501:510]).\n",
        "4. Find the top‐5 terms (terms with the top‐5 highest weights) for each of the 6 topics. Based on\n",
        "those terms, describe what those topics are about.\n",
        "5. Based on finding in 3 and 4, describe what review 1 [ID=1] and review 501 [ID=501] are about?\n",
        "Please submit 1 file:\n",
        "A word file includes python code with your comment #, and one screenshot on your Jupyter\n",
        "Notebook showing that your code has run through successfully for each of the first four steps (4\n",
        "screenshots in total). Also, report your answers to question 3, 4, and 5 at the end of the word\n",
        "file."
      ]
    },
    {
      "cell_type": "markdown",
      "metadata": {
        "id": "Nt_sB5dk8F-k",
        "colab_type": "text"
      },
      "source": [
        "1. Transform those reviews into a term‐document matrix, lemmatize all the words, remove the\n",
        "stop‐words and punctuations, set the minimal document frequency for each term to be 5 and\n",
        "include 2‐gram."
      ]
    },
    {
      "cell_type": "code",
      "metadata": {
        "id": "m234VGQOOG0o",
        "colab_type": "code",
        "colab": {}
      },
      "source": [
        "# Tokenize, Lemmatize and Remove Stop Words\n",
        "lemmatizer = nltk.stem.WordNetLemmatizer()\n",
        "processed = []\n",
        "for review in reviews:\n",
        "    tokens = nltk.word_tokenize(review.lower())\n",
        "    tokens = [lemmatizer.lemmatize(token) for token in tokens if token.isalpha()]\n",
        "    tokens = [token for token in tokens if not token in stopwords.words('english')]\n",
        "    processed.append(tokens)\n"
      ],
      "execution_count": 0,
      "outputs": []
    },
    {
      "cell_type": "code",
      "metadata": {
        "colab_type": "code",
        "outputId": "f6ecc2c7-36d0-4047-9611-176c6db4f3fa",
        "id": "RaPD0J0cfwcj",
        "colab": {
          "base_uri": "https://localhost:8080/",
          "height": 190
        }
      },
      "source": [
        "# Generate TF-IDF Vectors\n",
        "processed_tfidf = [\" \".join(x) for x in processed]\n",
        "\n",
        "tfidf = TfidfVectorizer(ngram_range=(2, 2), min_df=5) # 2-grams and min. document frequency of 5\n",
        "tfidf.fit(processed_tfidf)\n",
        "vector = tfidf.transform(processed_tfidf)\n",
        "vector = vector.toarray()\n",
        "print(tfidf.vocabulary_)\n",
        "print(vector)\n",
        "print(vector.shape)"
      ],
      "execution_count": 5,
      "outputs": [
        {
          "output_type": "stream",
          "text": [
            "{'restaurant decorated': 1499, 'average price': 74, 'price baht': 1254, 'soup sweet': 1646, 'sweet taste': 1726, 'cream cheese': 231, 'eat together': 342, 'topic lt': 1840, 'gt atmosphere': 641, 'atmosphere nice': 67, 'lt food': 934, 'food taste': 531, 'taste gt': 1741, 'gt lt': 643, 'lt service': 935, 'service gt': 1585, 'gt good': 642, 'good service': 629, 'service good': 1584, 'good food': 605, 'lt value': 936, 'price quite': 1259, 'quite expensive': 1275, 'atmosphere good': 66, 'good delicious': 601, 'delicious food': 269, 'like please': 853, 'please forgive': 1236, 'forgive think': 537, 'think one': 1780, 'one comment': 1103, 'comment win': 212, 'win competition': 2011, 'competition good': 219, 'good restaurant': 627, 'restaurant thank': 1508, 'three year': 1798, 'first time': 512, 'time try': 1825, 'restaurant located': 1505, 'located soi': 882, 'bottle baht': 141, 'chicken wing': 180, 'spicy taste': 1659, 'united state': 1883, 'good enough': 603, 'value money': 1886, 'money gt': 1029, 'three star': 1794, 'see menu': 1570, 'menu like': 1010, 'look good': 891, 'want eat': 1965, 'eat restaurant': 337, 'menu much': 1012, 'menu recommended': 1017, 'sauce delicious': 1535, 'delicious delicious': 265, 'delicious sweet': 278, 'sweet sour': 1724, 'people like': 1177, 'like eat': 838, 'tomato sauce': 1838, 'personally think': 1219, 'italian restaurant': 758, 'see people': 1571, 'people eat': 1166, 'eat lot': 333, 'like drink': 837, 'way make': 1995, 'make feel': 954, 'better think': 112, 'shop opposite': 1600, 'opposite side': 1128, 'food eat': 524, 'think good': 1778, 'good idea': 608, 'delicious dish': 266, 'park car': 1150, 'front shop': 560, 'go store': 587, 'today eat': 1834, 'baht per': 86, 'per person': 1207, 'two type': 1875, 'sweet delicious': 1721, 'delicious taste': 279, 'beef pork': 99, 'dipping sauce': 291, 'also good': 19, 'sauce sweet': 1542, 'delicious like': 271, 'like taste': 860, 'overall taste': 1147, 'service staff': 1586, 'price per': 1258, 'variety food': 1889, 'personal opinion': 1218, 'please come': 1235, 'another place': 59, 'many people': 987, 'people love': 1181, 'love eat': 908, 'long ago': 883, 'sit table': 1624, 'good time': 634, 'let say': 809, 'dish ordered': 300, 'shop full': 1597, 'try try': 1851, 'style restaurant': 1709, 'menu quot': 1015, 'quot say': 1410, 'baht quot': 87, 'outside frame': 1144, 'taste like': 1742, 'dish delicious': 297, 'pork rib': 1252, 'food price': 529, 'next time': 1085, 'another menu': 58, 'good atmosphere': 597, 'doe know': 306, 'know restaurant': 777, 'taste quite': 1743, 'good choice': 599, 'good eat': 602, 'like like': 845, 'taste good': 1740, 'dish eat': 298, 'eat eat': 327, 'eat meat': 335, 'friend eat': 556, 'quite good': 1276, 'good price': 623, 'eat want': 344, 'order another': 1130, 'raw fish': 1459, 'worth price': 2039, 'grilled pork': 639, 'dish like': 299, 'much eat': 1055, 'soft delicious': 1637, 'baht eat': 85, 'eat rice': 338, 'long time': 884, 'thai restaurant': 1761, 'eat lunch': 334, 'eat cake': 325, 'wa first': 1921, 'first branch': 499, 'atmosphere restaurant': 68, 'staff attentive': 1662, 'good value': 635, 'service charge': 1583, 'taste food': 1739, 'food ordered': 528, 'taste sour': 1746, 'sour sweet': 1648, 'french fry': 540, 'make good': 956, 'new york': 1078, 'chocolate cake': 192, 'idea good': 745, 'chiang mai': 176, 'compared price': 217, 'find good': 497, 'would like': 2041, 'going eat': 591, 'like big': 835, 'tom yum': 1837, 'fried fish': 548, 'fish fish': 517, 'fish sauce': 520, 'restaurant ha': 1504, 'shrimp fresh': 1611, 'food menu': 527, 'eat people': 336, 'taste restaurant': 1745, 'restaurant good': 1503, 'good standard': 630, 'food delicious': 523, 'restaurant delicious': 1500, 'people lot': 1180, 'try eat': 1850, 'whipped cream': 2000, 'crepe cake': 237, 'strawberry sauce': 1708, 'sweet sweet': 1725, 'shop located': 1599, 'open music': 1124, 'feel like': 417, 'good one': 619, 'like take': 858, 'take look': 1731, 'thing make': 1770, 'make life': 957, 'fried rice': 552, 'rice noodle': 1514, 'expensive compared': 384, 'food good': 525, 'eat food': 328, 'eat today': 341, 'stir fried': 1688, 'fried pork': 551, 'good quality': 624, 'fresh shrimp': 544, 'good taste': 632, 'taste eat': 1738, 'restaurant food': 1502, 'italian food': 757, 'good see': 628, 'many delicious': 981, 'food tasty': 532, 'small shop': 1632, 'vanilla ice': 1888, 'ice cream': 744, 'eat ice': 331, 'sweet bitter': 1719, 'hard find': 705, 'let try': 813, 'second time': 1566, 'time first': 1808, 'open new': 1125, 'quot look': 1375, 'know know': 774, 'better quot': 110, 'ha unique': 692, 'fast food': 407, 'green tea': 638, 'price reasonable': 1260, 'cream shop': 233, 'tea ice': 1751, 'delicious price': 273, 'per piece': 1208, 'topped chocolate': 1841, 'store ha': 1690, 'ha long': 674, 'thai food': 1759, 'sit eat': 1622, 'enough eat': 360, 'delicious good': 270, 'price may': 1257, 'choose sit': 196, 'menu menu': 1011, 'staff good': 1663, 'little bit': 871, 'know think': 779, 'go top': 588, 'top page': 1839, 'cheese cake': 173, 'eat delicious': 326, 'parking lot': 1151, 'restaurant open': 1507, 'beautifully decorated': 96, 'come restaurant': 208, 'raw material': 1460, 'live music': 878, 'look beautiful': 887, 'beautiful picture': 93, 'like dish': 836, 'mellow taste': 1003, 'shop ha': 1598, 'two side': 1871, 'side side': 1615, 'wait long': 1961, 'pork chop': 1249, 'wa delicious': 1915, 'compare price': 216, 'per plate': 1209, 'wa little': 1932, 'big glass': 117, 'caesar salad': 153, 'baht delicious': 83, 'quot chocolate': 1312, 'ha brought': 654, 'table chair': 1728, 'buy back': 152, 'red bean': 1491, 'taste standard': 1748, 'also ha': 20, 'today come': 1833, 'also many': 28, 'recommended menu': 1490, 'menu ordered': 1013, 'delicious shop': 276, 'divided three': 302, 'want find': 1966, 'fish fresh': 518, 'overall delicious': 1146, 'soy sauce': 1654, 'crab fried': 229, 'dim sum': 290, 'quite high': 1277, 'really want': 1486, 'want go': 1968, 'go home': 584, 'go work': 589, 'food wa': 534, 'crispy pork': 239, 'two part': 1869, 'food restaurant': 530, 'smoked salmon': 1634, 'fried chicken': 546, 'meat soft': 1001, 'salted egg': 1533, 'one time': 1119, 'sure case': 1717, 'single dish': 1620, 'pork leg': 1250, 'time finally': 1807, 'price high': 1256, 'many year': 992, 'year ago': 2048, 'get together': 574, 'japanese food': 760, 'always ha': 49, 'japanese restaurant': 762, 'people come': 1164, 'ha worked': 693, 'let see': 810, 'deep fried': 262, 'quot baht': 1293, 'baht dish': 84, 'want order': 1971, 'order menu': 1134, 'end quot': 356, 'fish fried': 519, 'quot new': 1390, 'new menu': 1074, 'eat well': 345, 'also available': 14, 'great place': 637, 'really good': 1478, 'around world': 63, 'girl quot': 577, 'fresh vegetable': 545, 'quot like': 1372, 'sour taste': 1649, 'fish ball': 515, 'coffee shop': 202, 'tea coffee': 1750, 'recommended eat': 1489, 'cake like': 156, 'sweet hot': 1723, 'menu recommend': 1016, 'fried garlic': 550, 'delicious menu': 272, 'lot people': 902, 'people may': 1182, 'good place': 622, 'place eat': 1225, 'wa born': 1907, 'day wa': 256, 'wa big': 1905, 'ha made': 677, 'made lot': 941, 'front store': 561, 'like old': 850, 'let take': 811, 'cup coffee': 243, 'owner shop': 1148, 'drink coffee': 323, 'quot sweet': 1426, 'cake soft': 159, 'doe like': 307, 'take care': 1730, 'shop also': 1596, 'meet need': 1002, 'take away': 1729, 'dish restaurant': 301, 'love much': 922, 'chili sauce': 184, 'sauce dish': 1536, 'hong kong': 729, 'soft drink': 1638, 'food like': 526, 'today ordered': 1835, 'menu delicious': 1007, 'wa impressed': 1928, 'wa good': 1926, 'order quot': 1135, 'new zealand': 1079, 'zealand mussel': 2066, 'thai people': 1760, 'fresh fish': 542, 'fresh seafood': 543, 'different kind': 284, 'quality food': 1273, 'many option': 986, 'fried shrimp': 554, 'delicious expensive': 268, 'take picture': 1732, 'come back': 206, 'crab meat': 230, 'quite lot': 1280, 'really delicious': 1475, 'best way': 109, 'two story': 1872, 'feel good': 416, 'decoration shop': 260, 'people much': 1184, 'order food': 1131, 'vegetable vegetable': 1892, 'like much': 849, 'large piece': 787, 'coconut milk': 201, 'shrimp paste': 1612, 'fish fillet': 516, 'sauce good': 1539, 'eat like': 332, 'taste sweet': 1749, 'lemon juice': 801, 'eat two': 343, 'high enough': 719, 'third time': 1785, 'new year': 1077, 'last year': 794, 'sea bass': 1561, 'bass fish': 89, 'sauce baht': 1534, 'seafood sauce': 1562, 'taste delicious': 1737, 'time think': 1823, 'curry powder': 246, 'stir fry': 1689, 'every time': 374, 'atmosphere shop': 69, 'price right': 1261, 'restaurant menu': 1506, 'shrimp shrimp': 1613, 'difficult find': 285, 'good like': 612, 'let eat': 805, 'want sit': 1975, 'time come': 1802, 'every day': 373, 'first day': 501, 'time many': 1815, 'know many': 775, 'cream delicious': 232, 'next day': 1080, 'time order': 1816, 'people say': 1193, 'say delicious': 1547, 'delicious eat': 267, 'noodle pork': 1087, 'rice crab': 1512, 'many menu': 983, 'ha many': 678, 'want try': 1979, 'good day': 600, 'time ago': 1800, 'place quot': 1227, 'go back': 583, 'first glance': 503, 'ordered today': 1140, 'today try': 1836, 'eat hot': 330, 'thing quot': 1774, 'chinese restaurant': 191, 'eat shop': 339, 'rice fried': 1513, 'make money': 959, 'many good': 982, 'far away': 406, 'wa enough': 1919, 'taste spicy': 1747, 'two people': 1870, 'half hour': 696, 'piece quot': 1224, 'price expensive': 1255, 'time know': 1810, 'eat friend': 329, 'never thought': 1070, 'thought would': 1787, 'coffee tea': 203, 'cake many': 157, 'back eat': 76, 'left right': 799, 'air room': 11, 'like wa': 861, 'read review': 1465, 'delicious really': 274, 'past year': 1157, 'get know': 571, 'really know': 1480, 'delicious shrimp': 277, 'menu ha': 1009, 'chocolate delicious': 193, 'cake delicious': 155, 'good good': 607, 'people really': 1191, 'shop shop': 1603, 'sauce salty': 1541, 'chicken fried': 177, 'good also': 596, 'add little': 4, 'two thing': 1873, 'thing people': 1773, 'good friend': 606, 'chocolate lava': 194, 'delicious sauce': 275, 'menu choose': 1006, 'sauce like': 1540, 'sticky rice': 1675, 'cream vanilla': 235, 'sauce eat': 1537, 'first part': 507, 'ha set': 687, 'wa full': 1923, 'several time': 1588, 'last time': 792, 'well good': 1996, 'quot atmosphere': 1289, 'spend money': 1658, 'happy happy': 702, 'like sauce': 856, 'steamed rice': 1673, 'star star': 1666, 'people still': 1197, 'doe mean': 309, 'life always': 816, 'walk away': 1963, 'opened door': 1126, 'outside world': 1145, 'shop quot': 1601, 'looking forward': 896, 'quot made': 1377, 'various angle': 1890, 'time ha': 1809, 'ha passed': 682, 'cream topped': 234, 'cake quot': 158, 'quot ha': 1355, 'people time': 1201, 'much like': 1056, 'fried sea': 553, 'let go': 806, 'sauce fried': 1538, 'like green': 841, 'ha lot': 676, 'pork neck': 1251, 'drinking water': 324, 'time people': 1817, 'small piece': 1631, 'word quot': 2024, 'orange juice': 1129, 'place sit': 1228, 'quot another': 1288, 'people want': 1204, 'enough get': 361, 'chinese people': 190, 'like eating': 839, 'quot still': 1423, 'ordered eat': 1138, 'also quot': 30, 'chicken rice': 178, 'feel little': 418, 'hot cold': 735, 'family member': 402, 'papaya salad': 1149, 'menu pork': 1014, 'soft texture': 1640, 'chance try': 167, 'always think': 52, 'little price': 874, 'like see': 857, 'see many': 1569, 'new restaurant': 1075, 'one like': 1109, 'many thing': 990, 'never seen': 1069, 'menu good': 1008, 'spring roll': 1660, 'siam center': 1614, 'one day': 1104, 'wa time': 1953, 'time eat': 1803, 'restaurant first': 1501, 'first one': 506, 'one wa': 1121, 'wa afraid': 1900, 'hot chocolate': 734, 'sweet chocolate': 1720, 'wait little': 1960, 'high school': 721, 'want see': 1974, 'good luck': 614, 'sour sauce': 1647, 'cream whipped': 236, 'fried egg': 547, 'egg yolk': 347, 'egg shrimp': 346, 'almost every': 12, 'along way': 13, 'enough time': 364, 'time wa': 1827, 'really big': 1474, 'som tam': 1642, 'people never': 1186, 'wa impressive': 1929, 'menu restaurant': 1018, 'sweet good': 1722, 'good work': 636, 'sit outside': 1623, 'fried fried': 549, 'mind quot': 1022, 'quot quot': 1401, 'although many': 41, 'last one': 791, 'good many': 616, 'book read': 135, 'wa almost': 1901, 'ha gone': 667, 'fried vegetable': 555, 'dessert like': 281, 'ordered menu': 1139, 'five year': 521, 'time time': 1824, 'quot big': 1302, 'fresh delicious': 541, 'back home': 77, 'day day': 252, 'main dish': 947, 'lot thing': 903, 'like people': 851, 'little little': 873, 'three people': 1793, 'quite like': 1279, 'like pork': 854, 'read book': 1462, 'love come': 905, 'roasted pork': 1521, 'think better': 1776, 'many time': 991, 'oil painting': 1094, 'younger brother': 2064, 'cake also': 154, 'quot first': 1341, 'reasonable price': 1487, 'back try': 78, 'two old': 1868, 'art quot': 65, 'open kitchen': 1123, 'pork bone': 1248, 'said quot': 1529, 'latter part': 797, 'part life': 1153, 'know much': 776, 'first wa': 514, 'good night': 618, 'wa quite': 1941, 'walk around': 1962, 'remember name': 1494, 'lot fun': 900, 'like know': 844, 'fall love': 397, 'even know': 367, 'eat time': 340, 'time want': 1828, 'want say': 1973, 'heart people': 709, 'half year': 697, 'vegetable fresh': 1891, 'eye quot': 387, 'come together': 209, 'good let': 610, 'one know': 1108, 'quot red': 1405, 'one night': 1111, 'wa quot': 1942, 'quot order': 1395, 'ha come': 658, 'starting point': 1669, 'name quot': 1065, 'made good': 939, 'quality ingredient': 1274, 'quot dark': 1322, 'one one': 1112, 'life like': 826, 'many story': 989, 'quot love': 1376, 'soft meat': 1639, 'must say': 1063, 'say quot': 1551, 'kind love': 766, 'number people': 1093, 'lot money': 901, 'think much': 1779, 'like home': 842, 'quot good': 1353, 'also simple': 34, 'two word': 1877, 'good people': 620, 'people see': 1194, 'enough think': 363, 'like talk': 859, 'food think': 533, 'many opportunity': 985, 'shop see': 1602, 'ha become': 652, 'whole family': 2001, 'line like': 867, 'use word': 1885, 'important thing': 750, 'people also': 1160, 'order see': 1136, 'two year': 1879, 'ha changed': 657, 'want get': 1967, 'divided two': 303, 'third part': 1784, 'doe want': 310, 'personal experience': 1217, 'glutinous rice': 582, 'want tell': 1978, 'two day': 1863, 'quot child': 1309, 'person like': 1213, 'people get': 1170, 'quot turned': 1437, 'look people': 893, 'dessert menu': 282, 'really like': 1481, 'quot classic': 1314, 'ha little': 673, 'think quot': 1781, 'good look': 613, 'know want': 781, 'good thing': 633, 'next door': 1081, 'look like': 892, 'fact make': 392, 'hard say': 706, 'even though': 372, 'ha good': 668, 'still ha': 1681, 'go see': 586, 'japanese japanese': 761, 'order let': 1132, 'time like': 1813, 'inside outside': 752, 'ha created': 660, 'life good': 823, 'good quot': 625, 'quot one': 1394, 'quot want': 1446, 'really need': 1483, 'pay attention': 1158, 'quot beautiful': 1296, 'star quot': 1665, 'quot well': 1448, 'first thing': 511, 'people know': 1175, 'people good': 1171, 'late night': 795, 'people walk': 1203, 'name good': 1064, 'friend said': 557, 'quot best': 1301, 'world quot': 2034, 'see food': 1568, 'quot think': 1432, 'right hand': 1517, 'really ha': 1479, 'year year': 2057, 'year old': 2053, 'people live': 1178, 'old one': 1099, 'quot youth': 1456, 'chicken soup': 179, 'people think': 1200, 'may like': 999, 'day ago': 251, 'college student': 205, 'like quot': 855, 'chocolate quot': 195, 'love way': 931, 'time went': 1830, 'see real': 1573, 'blue sky': 131, 'still good': 1680, 'first two': 513, 'much better': 1054, 'make people': 960, 'first place': 508, 'bit bit': 124, 'three hundred': 1792, 'like good': 840, 'something like': 1643, 'wa still': 1949, 'enough make': 362, 'came wa': 163, 'known quot': 782, 'people around': 1162, 'addition also': 6, 'star war': 1667, 'ha never': 679, 'know say': 778, 'ten thousand': 1757, 'still want': 1686, 'wa much': 1935, 'last two': 793, 'wa really': 1943, 'people feel': 1168, 'good job': 609, 'wa taken': 1951, 'love world': 932, 'anything else': 61, 'day night': 254, 'tv show': 1857, 'made feel': 937, 'also make': 27, 'one another': 1102, 'bit like': 125, 'hard work': 707, 'small amount': 1628, 'still little': 1682, 'called quot': 161, 'hero quot': 716, 'ha enough': 663, 'small town': 1633, 'one quot': 1115, 'say goodbye': 1549, 'shell quot': 1592, 'quot much': 1386, 'also line': 25, 'must said': 1062, 'sense humor': 1578, 'may also': 998, 'day like': 253, 'work hard': 2027, 'current situation': 245, 'get rid': 573, 'dog blood': 311, 'rest life': 1498, 'quot many': 1382, 'quot may': 1384, 'quot feel': 1336, 'world view': 2036, 'quot give': 1348, 'quot human': 1360, 'human nature': 741, 'difficult thing': 288, 'thing know': 1768, 'everyone ha': 377, 'see quot': 1572, 'quot go': 1349, 'quot american': 1287, 'meaning quot': 1000, 'family love': 401, 'taken away': 1734, 'played role': 1233, 'important part': 748, 'life love': 827, 'original intention': 1142, 'ha begun': 653, 'character also': 168, 'highlight film': 722, 'love hate': 915, 'help think': 714, 'think film': 1777, 'wa shot': 1948, 'shot film': 1607, 'enemy quot': 359, 'quot obviously': 1392, 'quot make': 1379, 'give quot': 581, 'one hand': 1106, 'happy life': 703, 'life life': 825, 'film also': 438, 'quot god': 1350, 'south korea': 1650, 'book quot': 134, 'film one': 474, 'one thing': 1118, 'going back': 590, 'ha always': 650, 'quot smile': 1418, 'go quot': 585, 'sentence quot': 1581, 'quot general': 1346, 'reading quot': 1468, 'quot thought': 1433, 'western movie': 1998, 'ha already': 648, 'wolf quot': 2013, 'movie quot': 1050, 'film quot': 476, 'film story': 482, 'drama ha': 317, 'ha repeatedly': 684, 'film television': 483, 'television drama': 1752, 'tv series': 1856, 'series quot': 1582, 'quot became': 1298, 'character quot': 172, 'quot wa': 1444, 'protagonist story': 1266, 'first episode': 502, 'however quot': 738, 'ha strong': 688, 'protagonist film': 1264, 'film almost': 437, 'quot combination': 1315, 'quot unfortunately': 1441, 'box office': 144, 'legend quot': 800, 'quot soul': 1419, 'soul quot': 1645, 'quot left': 1369, 'lost quot': 898, 'narrative structure': 1067, 'film wa': 488, 'tell story': 1754, 'passed away': 1154, 'new generation': 1071, 'people willing': 1205, 'wa written': 1957, 'republic china': 1497, 'wa always': 1904, 'looking back': 895, 'always feel': 47, 'work also': 2025, 'thing one': 1772, 'middle school': 1021, 'mother wa': 1034, 'woman wa': 2022, 'saw quot': 1544, 'quot life': 1371, 'life quot': 829, 'real quot': 1471, 'quot style': 1425, 'film good': 461, 'mobile phone': 1026, 'phone call': 1220, 'make difficult': 953, 'modern people': 1027, 'nothing wrong': 1090, 'quot avenger': 1292, 'film director': 450, 'although still': 44, 'still many': 1684, 'narrative technique': 1068, 'quot national': 1387, 'front quot': 559, 'beginning end': 100, 'fighting scene': 433, 'scene wa': 1558, 'two men': 1867, 'film film': 457, 'still young': 1687, 'film course': 447, 'course also': 227, 'lin xue': 863, 'add lot': 5, 'lot film': 899, 'chinese film': 188, 'film market': 471, 'domestic film': 312, 'quality film': 1272, 'without thinking': 2012, 'every year': 375, 'year still': 2055, 'people film': 1169, 'good reputation': 626, 'cannon fodder': 164, 'film tell': 484, 'heavy taste': 713, 'blind date': 128, 'popular film': 1247, 'men woman': 1004, 'year later': 2051, 'woman quot': 2020, 'quot really': 1404, 'quot blind': 1304, 'quot also': 1284, 'also see': 32, 'man woman': 978, 'filial piety': 434, 'kind people': 767, 'know kind': 773, 'quot special': 1420, 'made people': 942, 'bai fumei': 88, 'really make': 1482, 'love quot': 923, 'young men': 2061, 'big screen': 120, 'true love': 1848, 'love still': 926, 'whole movie': 2003, 'special effect': 1656, 'quot action': 1282, 'comedy quot': 211, 'quot later': 1368, 'time really': 1820, 'hundred year': 742, 'like kind': 843, 'director screenwriter': 295, 'female host': 425, 'commit suicide': 214, 'three time': 1795, 'quot time': 1435, 'quot dad': 1320, 'dad quot': 248, 'father quot': 411, 'ha seen': 686, 'seen many': 1574, 'father daughter': 409, 'fatherly love': 414, 'quot story': 1424, 'local tyrant': 881, 'two woman': 1876, 'wa killed': 1930, 'wa shocked': 1947, 'tried best': 1845, 'rich man': 1515, 'ha yet': 694, 'second generation': 1563, 'quot kind': 1363, 'real world': 1473, 'saying quot': 1553, 'quot joke': 1362, 'quot last': 1367, 'heavy rain': 712, 'want make': 1970, 'black white': 127, 'still lot': 1683, 'science fiction': 1560, 'wa bit': 1906, 'whole film': 2002, 'film ha': 462, 'ha feeling': 665, 'time read': 1819, 'read novel': 1463, 'wa also': 1903, 'drama conflict': 316, 'latter half': 796, 'young woman': 2063, 'wa given': 1924, 'river lake': 1519, 'wa child': 1912, 'brother wa': 149, 'middle night': 1020, 'still remember': 1685, 'remember quot': 1495, 'story wa': 1707, 'get along': 568, 'life wa': 833, 'wa young': 1959, 'young man': 2060, 'martial art': 993, 'wa abandoned': 1897, 'woman also': 2014, 'wa like': 1931, 'like person': 852, 'person wa': 1215, 'quot saw': 1409, 'look back': 886, 'quot zhang': 1457, 'live quot': 879, 'quot know': 1365, 'big brother': 115, 'quot wu': 1453, 'quot used': 1443, 'wrong quot': 2044, 'love end': 909, 'many character': 980, 'burst tear': 151, 'work wa': 2029, 'shoot movie': 1594, 'movie movie': 1047, 'three woman': 1797, 'woman think': 2021, 'film still': 481, 'still alive': 1676, 'look forward': 890, 'whole world': 2008, 'also let': 23, 'film even': 453, 'people world': 1206, 'fell love': 421, 'quot beginning': 1299, 'beginning film': 101, 'dream quot': 321, 'quot long': 1374, 'person ha': 1212, 'life ha': 824, 'film called': 445, 'blood quot': 129, 'quot blood': 1305, 'story story': 1703, 'scene quot': 1556, 'action movie': 2, 'even said': 370, 'love story': 927, 'quot film': 1338, 'quot however': 1359, 'saw wa': 1545, 'use quot': 1884, 'justice evil': 763, 'make audience': 951, 'jackie chan': 759, 'american movie': 55, 'film like': 466, 'movie good': 1040, 'chemical reaction': 174, 'get married': 572, 'always felt': 48, 'love also': 904, 'loved one': 933, 'woman ha': 2016, 'family life': 400, 'life make': 828, 'good life': 611, 'female owner': 428, 'love love': 918, 'main theme': 949, 'theme movie': 1763, 'woman like': 2017, 'quot uniform': 1442, 'uniform quot': 1882, 'ren dahua': 1496, 'chen sicheng': 175, 'theme quot': 1764, 'quot going': 1351, 'although plot': 42, 'two different': 1864, 'make quot': 961, 'kong film': 783, 'murder case': 1058, 'police officer': 1245, 'war quot': 1984, 'police film': 1244, 'kind film': 764, 'making people': 964, 'order make': 1133, 'final result': 492, 'quite interesting': 1278, 'still bit': 1678, 'xu ruo': 2047, 'quot crazy': 1318, 'quot dead': 1323, 'quot black': 1303, 'good evil': 604, 'quot year': 1454, 'quot fact': 1333, 'last moment': 790, 'left behind': 798, 'time saw': 1821, 'quot horror': 1358, 'death quot': 257, 'quot two': 1439, 'king quot': 771, 'tough guy': 1842, 'let quot': 808, 'ha completely': 659, 'embarked road': 351, 'road quot': 1520, 'quot series': 1414, 'quot seems': 1413, 'wu yusen': 2046, 'past quot': 1155, 'film world': 491, 'example quot': 383, 'similar quot': 1616, 'classic quot': 199, 'ha appeared': 651, 'appeared quot': 62, 'movie like': 1042, 'fairy tale': 396, 'ha grown': 671, 'beautiful woman': 95, 'episode quot': 366, 'last episode': 788, 'beginning movie': 102, 'story second': 1702, 'story quot': 1701, 'make whole': 963, 'end wa': 357, 'wa watching': 1956, 'watching movie': 1993, 'friend wa': 558, 'even quot': 369, 'house quot': 736, 'wa revealed': 1945, 'taste quot': 1744, 'wa strong': 1950, 'brain powder': 146, 'big villain': 121, 'bright spot': 147, 'ha also': 649, 'also become': 15, 'life death': 817, 'made quot': 943, 'quot character': 1308, 'character plot': 171, 'give people': 580, 'people sense': 1196, 'said time': 1530, 'recent year': 1488, 'word mouth': 2023, 'make mistake': 958, 'next year': 1086, 'year quot': 2054, 'city quot': 197, 'ming dynasty': 1023, 'film creation': 448, 'quot da': 1319, 'da ming': 247, 'quot former': 1344, 'two film': 1865, 'visual effect': 1895, 'ming robbery': 1024, 'robbery quot': 1522, 'thousand mile': 1788, 'whole process': 2005, 'although wa': 46, 'main line': 948, 'china ha': 185, 'history book': 723, 'quot thing': 1431, 'line film': 866, 'put bluntly': 1270, 'quot actually': 1283, 'quot small': 1417, 'better say': 111, 'quot chinese': 1311, 'ha ability': 645, 'let alone': 802, 'look quot': 894, 'difficult see': 287, 'writer director': 2043, 'contradiction conflict': 222, 'quot tell': 1429, 'taking care': 1736, 'picture quot': 1221, 'see author': 1567, 'everything ha': 381, 'deeply touched': 264, 'quot five': 1342, 'people meet': 1183, 'book say': 137, 'book author': 133, 'old man': 1098, 'thought wa': 1786, 'wa busy': 1909, 'little story': 875, 'car accident': 165, 'world still': 2035, 'little girl': 872, 'time life': 1812, 'love family': 910, 'quot people': 1396, 'crime film': 238, 'ordinary people': 1141, 'city wa': 198, 'film big': 444, 'film time': 485, 'time film': 1806, 'film unique': 486, 'wa used': 1954, 'wa released': 1944, 'made great': 940, 'theme film': 1762, 'also need': 29, 'daily life': 249, 'people always': 1161, 'ten year': 1758, 'thousand people': 1789, 'everyone know': 378, 'know truth': 780, 'ha nothing': 680, 'always people': 51, 'ha taken': 689, 'like love': 846, 'take time': 1733, 'slap face': 1627, 'one two': 1120, 'quot world': 1452, 'read quot': 1464, 'mirror quot': 1025, 'quot doe': 1327, 'wrote quot': 2045, 'thousand year': 1790, 'also said': 31, 'year ha': 2050, 'heart always': 708, 'solve problem': 1641, 'human body': 740, 'quot king': 1364, 'fact also': 390, 'also true': 36, 'novel wa': 1092, 'quot see': 1412, 'quot word': 1450, 'point view': 1243, 'simple story': 1618, 'wa one': 1937, 'nothing say': 1089, 'also know': 21, 'ha right': 685, 'male protagonist': 972, 'wa originally': 1938, 'want kill': 1969, 'death wa': 259, 'wa wa': 1955, 'male lead': 967, 'also caused': 17, 'movie one': 1048, 'twist turn': 1860, 'story plot': 1700, 'domestic movie': 313, 'fact film': 391, 'watch movie': 1989, 'ancient time': 56, 'movie made': 1045, 'time also': 1801, 'quot movie': 1385, 'quot domestic': 1328, 'film make': 469, 'make film': 955, 'horror film': 730, 'foreign country': 536, 'film fact': 454, 'fact quot': 394, 'therefore film': 1765, 'magic weapon': 944, 'good movie': 617, 'feeling film': 419, 'woman film': 2015, 'acting skill': 0, 'domestically produced': 314, 'said wa': 1531, 'three four': 1791, 'four year': 539, 'really think': 1484, 'past two': 1156, 'book think': 138, 'film many': 470, 'finally got': 494, 'movie ha': 1041, 'best choice': 105, 'good man': 615, 'really feel': 1477, 'people seem': 1195, 'many movie': 984, 'film review': 478, 'month ago': 1031, 'character character': 169, 'like movie': 848, 'story structure': 1704, 'right wrong': 1518, 'live life': 877, 'group people': 640, 'wife wife': 2010, 'real life': 1470, 'people play': 1188, 'call quot': 160, 'people life': 1176, 'quot elf': 1330, 'elf hostel': 350, 'hostel quot': 733, 'quot family': 1334, 'comedy film': 210, 'masterpiece quot': 995, 'cry quot': 241, 'family quot': 403, 'subject matter': 1710, 'story character': 1693, 'child also': 181, 'movie really': 1051, 'quot although': 1285, 'vampire dracula': 1887, 'let daughter': 804, 'people look': 1179, 'twilight city': 1859, 'although story': 45, 'father love': 410, 'story people': 1699, 'love friendship': 913, 'animated film': 57, 'film want': 489, 'quot ghost': 1347, 'oscar best': 1143, 'golden globe': 592, 'best film': 107, 'film best': 443, 'best director': 106, 'feature film': 415, 'male female': 966, 'large number': 786, 'male owner': 971, 'second half': 1564, 'half film': 695, 'point film': 1241, 'ha given': 666, 'protagonist quot': 1265, 'old age': 1095, 'quot old': 1393, 'old lady': 1097, 'award best': 75, 'although film': 38, 'worth mentioning': 2038, 'best supporting': 108, 'supporting actress': 1715, 'watching film': 1992, 'one point': 1114, 'drama wa': 320, 'male one': 970, 'one love': 1110, 'line quot': 869, 'time watched': 1829, 'female lord': 426, 'people understand': 1202, 'tv drama': 1855, 'female master': 427, 'fact think': 395, 'male master': 969, 'everyone see': 379, 'playing quot': 1234, 'man ha': 974, 'many case': 979, 'think way': 1783, 'time look': 1814, 'quot happy': 1356, 'happy quot': 704, 'book also': 132, 'film least': 465, 'think wa': 1782, 'whole people': 2004, 'quot man': 1381, 'finally found': 493, 'people believe': 1163, 'get better': 569, 'felt wa': 422, 'suspense film': 1718, 'film really': 477, 'american drama': 54, 'drama quot': 318, 'come quot': 207, 'film feel': 455, 'quot even': 1332, 'quot master': 1383, 'small fresh': 1630, 'also think': 35, 'say word': 1552, 'young people': 2062, 'fierce battle': 432, 'work ha': 2026, 'first half': 504, 'film industry': 463, 'one ha': 1105, 'seen movie': 1575, 'quot undoubtedly': 1440, 'shooting technique': 1595, 'boy quot': 145, 'give audience': 579, 'relationship character': 1492, 'film art': 441, 'time space': 1822, 'film often': 473, 'whole society': 2006, 'quot second': 1411, 'period time': 1211, 'history film': 724, 'director quot': 294, 'one person': 1113, 'seen quot': 1576, 'always make': 50, 'normal person': 1088, 'big breast': 114, 'get used': 575, 'say anything': 1546, 'situation quot': 1625, 'female student': 431, 'love small': 925, 'life two': 832, 'matter whether': 997, 'good bad': 598, 'must know': 1061, 'found wa': 538, 'commercial film': 213, 'single day': 1619, 'ha three': 690, 'romantic comedy': 1523, 'wa obviously': 1936, 'handsome men': 700, 'shouted quot': 1608, 'even think': 371, 'save money': 1543, 'love comedy': 906, 'year many': 2052, 'day quot': 255, 'youth quot': 2065, 'golden shell': 594, 'quot city': 1313, 'quot true': 1436, 'play little': 1229, 'several people': 1587, 'people put': 1189, 'young girl': 2059, 'could see': 223, 'director ha': 293, 'film festival': 456, 'brother sister': 148, 'let audience': 803, 'suddenly realized': 1714, 'story one': 1698, 'also called': 16, 'let talk': 812, 'protect daughter': 1267, 'wa year': 1958, 'child wa': 183, 'rainy night': 1458, 'wa discovered': 1918, 'twenty year': 1858, 'high iq': 720, 'step step': 1674, 'reading film': 1467, 'wa thinking': 1952, 'entire film': 365, 'like watch': 862, 'advantage disadvantage': 8, 'school student': 1559, 'black hole': 126, 'book written': 140, 'life experience': 819, 'real thing': 1472, 'must go': 1060, 'quot based': 1294, 'movie character': 1038, 'dark side': 250, 'story ha': 1695, 'selling point': 1577, 'stark contrast': 1668, 'quot focus': 1343, 'count dracula': 224, 'kind quot': 769, 'throughout film': 1799, 'still difficult': 1679, 'background story': 79, 'story film': 1694, 'quot terrorist': 1430, 'invisible people': 755, 'first sight': 510, 'ha gradually': 669, 'true feeling': 1847, 'wa finally': 1920, 'quot course': 1317, 'evil spirit': 382, 'quot daddy': 1321, 'traditional chinese': 1843, 'quot father': 1335, 'chinese audience': 187, 'quot work': 1451, 'war scene': 1985, 'people quot': 1190, 'quot difficult': 1325, 'hero film': 715, 'film especially': 452, 'cure disease': 244, 'quot end': 1331, 'wa forced': 1922, 'person want': 1216, 'people said': 1192, 'large amount': 785, 'sorrow sorrow': 1644, 'qing dynasty': 1271, 'ha caused': 655, 'played quot': 1232, 'time quot': 1818, 'history quot': 725, 'end world': 358, 'year wa': 2056, 'big man': 118, 'love first': 912, 'female protagonist': 429, 'type film': 1880, 'new idea': 1072, 'made film': 938, 'film full': 459, 'line movie': 868, 'movie plot': 1049, 'film seems': 479, 'quite satisfactory': 1281, 'supporting role': 1716, 'quot twilight': 1438, 'look awkward': 885, 'movie look': 1043, 'drama still': 319, 'knew wa': 772, 'wa going': 1925, 'country ha': 225, 'two hour': 1866, 'result wa': 1509, 'time let': 1811, 'film kind': 464, 'battle stalingrad': 91, 'battle film': 90, 'quot stalingrad': 1421, 'stalingrad quot': 1664, 'love two': 930, 'hollywood film': 727, 'completely different': 220, 'film used': 487, 'cruelty war': 240, 'audience like': 70, 'soviet soldier': 1652, 'german officer': 566, 'war war': 1986, 'war film': 1981, 'deep deep': 261, 'ha kind': 672, 'film critic': 449, 'sneak peek': 1635, 'love ha': 914, 'heaven earth': 711, 'watched film': 1990, 'quot popular': 1400, 'good story': 631, 'quot author': 1291, 'male character': 965, 'also show': 33, 'intentionally unintentionally': 753, 'title quot': 1832, 'quot main': 1378, 'main character': 946, 'quot dream': 1329, 'play quot': 1230, 'quot death': 1324, 'although ha': 39, 'also made': 26, 'sense quot': 1579, 'mainland movie': 950, 'pay tribute': 1159, 'part film': 1152, 'director want': 296, 'said film': 1528, 'positive energy': 1253, 'still believe': 1677, 'eye others': 386, 'time even': 1804, 'kind life': 765, 'life also': 814, 'returned home': 1511, 'quot boy': 1306, 'really understand': 1485, 'title book': 1831, 'quot play': 1398, 'biggest feature': 122, 'love like': 917, 'german soldier': 567, 'quot ninth': 1391, 'pure love': 1269, 'russian girl': 1526, 'narrative rhythm': 1066, 'russian soldier': 1527, 'literature art': 870, 'russian film': 1525, 'special force': 1657, 'society quot': 1636, 'world war': 2037, 'television work': 1753, 'war ii': 1983, 'quot show': 1415, 'way love': 1994, 'quot never': 1389, 'dream wa': 322, 'wa lost': 1934, 'working hard': 2031, 'wa difficult': 1917, 'film always': 440, 'movie market': 1046, 'plot quot': 1240, 'whole story': 2007, 'quot full': 1345, 'film whether': 490, 'taken granted': 1735, 'detail film': 283, 'small detail': 1629, 'man doe': 973, 'doe love': 308, 'turn around': 1852, 'quot great': 1354, 'new world': 1076, 'first chapter': 500, 'much possible': 1057, 'sense substitution': 1580, 'piece art': 1222, 'say film': 1548, 'impression quot': 751, 'scene two': 1557, 'girl ha': 576, 'scene film': 1554, 'image ha': 747, 'novel quot': 1091, 'generation quot': 564, 'finally realized': 495, 'main body': 945, 'warm heart': 1987, 'fat man': 408, 'man love': 975, 'world people': 2033, 'first reaction': 509, 'quot finally': 1339, 'year even': 2049, 'end film': 354, 'world ha': 2032, 'short worth': 1606, 'worth seeing': 2040, 'film first': 458, 'film although': 439, 'love see': 924, 'telling story': 1756, 'tell truth': 1755, 'love time': 928, 'however still': 739, 'life even': 818, 'finally turned': 496, 'mother quot': 1032, 'quot golden': 1352, 'woman love': 2018, 'love man': 919, 'opening film': 1127, 'bloody battle': 130, 'film actor': 435, 'sister wa': 1621, 'police station': 1246, 'like many': 847, 'mental illness': 1005, 'plot film': 1237, 'quot run': 1407, 'feeling quot': 420, 'ha certain': 656, 'bruce lee': 150, 'kung fu': 784, 'ha turned': 691, 'successful people': 1712, 'become new': 98, 'rich second': 1516, 'beautiful love': 92, 'matter many': 996, 'fire quot': 498, 'character film': 170, 'ha quot': 683, 'quot three': 1434, 'female character': 424, 'want take': 1976, 'quot said': 1408, 'quot let': 1370, 'ago wa': 10, 'lost life': 897, 'ha done': 662, 'quot take': 1428, 'difficult understand': 289, 'understand quot': 1881, 'action film': 1, 'also like': 24, 'husband wife': 743, 'came back': 162, 'time two': 1826, 'master quot': 994, 'point quot': 1242, 'quot audience': 1290, 'whether quot': 1999, 'look film': 889, 'therefore quot': 1766, 'three view': 1796, 'next generation': 1082, 'old people': 1100, 'show quot': 1610, 'quot need': 1388, 'shed tear': 1591, 'bottom heart': 142, 'heart wa': 710, 'ago quot': 9, 'quot commercial': 1316, 'quot iron': 1361, 'death squad': 258, 'squad quot': 1661, 'flesh blood': 522, 'male lord': 968, 'play role': 1231, 'emotional drama': 352, 'people help': 1173, 'desire quot': 280, 'director film': 292, 'people even': 1167, 'quot fire': 1340, 'dragon quot': 315, 'ha added': 647, 'quot war': 1447, 'quot starring': 1422, 'real estate': 1469, 'money quot': 1030, 'south korean': 1651, 'quot china': 1310, 'although quot': 43, 'quot beijing': 1300, 'quot wang': 1445, 'cultural revolution': 242, 'bad film': 80, 'big money': 119, 'film look': 467, 'wa completely': 1913, 'quot director': 1326, 'wa actually': 1899, 'hollywood blockbuster': 726, 'trick quot': 1844, 'movie wa': 1053, 'bad guy': 81, 'wa destroyed': 1916, 'father son': 412, 'wa dead': 1914, 'story two': 1706, 'true portrayal': 1849, 'ha one': 681, 'performance film': 1210, 'actor also': 3, 'quot kung': 1366, 'life seems': 830, 'golden horse': 593, 'life family': 820, 'movie always': 1037, 'people kind': 1174, 'volga river': 1896, 'film actually': 436, 'german army': 565, 'high degree': 718, 'horse quot': 732, 'soviet union': 1653, 'doe care': 304, 'want talk': 1977, 'time feel': 1805, 'thing life': 1769, 'father wa': 413, 'committed suicide': 215, 'people ha': 1172, 'people must': 1185, 'family wa': 404, 'difficult say': 286, 'ha experienced': 664, 'turning point': 1854, 'walk life': 1964, 'wa able': 1898, 'wa put': 1939, 'addition film': 7, 'short story': 1605, 'published quot': 1268, 'one year': 1122, 'stay away': 1672, 'country quot': 226, 'eight year': 348, 'wa looking': 1933, 'ideal country': 746, 'quot little': 1373, 'quot female': 1337, 'international film': 754, 'work quot': 2028, 'quot woman': 1449, 'story tell': 1705, 'make story': 962, 'author ha': 72, 'situation wa': 1626, 'force quot': 535, 'two actor': 1861, 'experience also': 385, 'compared quot': 218, 'second part': 1565, 'quot raytheon': 1402, 'raytheon quot': 1461, 'war ha': 1982, 'iron man': 756, 'scene ha': 1555, 'love men': 920, 'love film': 911, 'viewing experience': 1894, 'story behind': 1692, 'process watching': 1263, 'true face': 1846, 'wa burned': 1908, 'female star': 430, 'piece film': 1223, 'emotional entanglement': 353, 'quot high': 1357, 'version quot': 1893, 'ha great': 670, 'life although': 815, 'plot movie': 1238, 'reading book': 1466, 'beauty quot': 97, 'one important': 1107, 'climax film': 200, 'course film': 228, 'film doe': 451, 'one step': 1117, 'war also': 1980, 'doe give': 305, 'people different': 1165, 'look feel': 888, 'beautiful thing': 94, 'film quite': 475, 'family also': 398, 'man wa': 977, 'wa already': 1902, 'little time': 876, 'love movie': 921, 'place film': 1226, 'believe love': 104, 'happy ending': 701, 'film give': 460, 'old still': 1101, 'another point': 60, 'horror movie': 731, 'many place': 988, 'also want': 37, 'quot always': 1286, 'also gave': 18, 'biggest problem': 123, 'people take': 1198, 'wa happy': 1927, 'short period': 1604, 'two country': 1862, 'quot real': 1403, 'big girl': 116, 'living environment': 880, 'handsome guy': 699, 'golden shelling': 595, 'shelling quot': 1593, 'film starring': 480, 'two tough': 1874, 'order survive': 1137, 'quot male': 1380, 'book wa': 139, 'life full': 822, 'china quot': 186, 'one sentence': 1116, 'bottom line': 143, 'always thought': 53, 'next second': 1084, 'wa called': 1910, 'next one': 1083, 'romantic love': 1524, 'element film': 349, 'thing still': 1775, 'show love': 1609, 'get good': 570, 'said would': 1532, 'hollywood movie': 728, 'movie also': 1036, 'family ethic': 399, 'shadow quot': 1589, 'really easy': 1476, 'quot released': 1406, 'behind scene': 103, 'hidden behind': 717, 'man quot': 976, 'wa quickly': 1940, 'quot yes': 1455, 'good person': 621, 'bad thing': 82, 'move forward': 1035, 'first love': 505, 'girl wa': 578, 'moment life': 1028, 'quot person': 1397, 'love life': 916, 'even love': 368, 'life still': 831, 'life want': 834, 'art film': 64, 'watch film': 1988, 'gun battle': 644, 'plot plot': 1239, 'story human': 1696, 'movie story': 1052, 'movie full': 1039, 'film love': 468, 'film must': 472, 'quot basically': 1295, 'ha lost': 675, 'author quot': 73, 'book review': 136, 'fact many': 393, 'two world': 1878, 'people thing': 1199, 'suddenly felt': 1713, 'kind person': 768, 'thing done': 1767, 'mother said': 1033, 'big bos': 113, 'movie love': 1044, 'collective memory': 204, 'ha deeply': 661, 'face wa': 389, 'young boy': 2058, 'went back': 1997, 'watched movie': 1991, 'end movie': 355, 'hammer brother': 698, 'person love': 1214, 'let people': 807, 'worked hard': 2030, 'relationship people': 1493, 'also known': 22, 'important role': 749, 'people people': 1187, 'last minute': 789, 'wa caught': 1911, 'kind thing': 770, 'thing need': 1771, 'space time': 1655, 'content film': 221, 'success failure': 1711, 'film character': 446, 'must first': 1059, 'everyone else': 376, 'new life': 1073, 'everyone think': 380, 'lin zhiling': 865, 'turned around': 1853, 'zhang hanyu': 2067, 'game quot': 562, 'quot simple': 1416, 'child quot': 182, 'make big': 952, 'old bone': 1096, 'audience watching': 71, 'story also': 1691, 'state ha': 1670, 'want quot': 1972, 'love drama': 907, 'wife child': 2009, 'middle age': 1019, 'ha achieved': 646, 'return quot': 1510, 'female audience': 423, 'fang zuming': 405, 'story love': 1697, 'film based': 442, 'problem quot': 1262, 'chinese movie': 189, 'although know': 40, 'wa seriously': 1946, 'life finally': 821, 'eye wa': 388, 'however film': 737, 'write book': 2042, 'say movie': 1550, 'simple simple': 1617, 'status quo': 1671, 'deeply immersed': 263, 'shaping character': 1590, 'quot sweetheart': 1427, 'sweetheart chocolate': 1727, 'gave birth': 563, 'love triangle': 929, 'lin yue': 864, 'woman make': 2019, 'quot point': 1399, 'quot carpooling': 1307, 'carpooling quot': 166, 'quot beauty': 1297}\n",
            "[[0. 0. 0. ... 0. 0. 0.]\n",
            " [0. 0. 0. ... 0. 0. 0.]\n",
            " [0. 0. 0. ... 0. 0. 0.]\n",
            " ...\n",
            " [0. 0. 0. ... 0. 0. 0.]\n",
            " [0. 0. 0. ... 0. 0. 0.]\n",
            " [0. 0. 0. ... 0. 0. 0.]]\n",
            "(1000, 2068)\n"
          ],
          "name": "stdout"
        }
      ]
    },
    {
      "cell_type": "markdown",
      "metadata": {
        "id": "XevlJaMF8O3K",
        "colab_type": "text"
      },
      "source": [
        "2. Use the LDA model to extract the topics of each document. In particular, we assume there are 6\n",
        "topics."
      ]
    },
    {
      "cell_type": "code",
      "metadata": {
        "id": "irtdaelDvifl",
        "colab_type": "code",
        "outputId": "e4429e00-114c-4f8f-aced-5413835d2bca",
        "colab": {
          "base_uri": "https://localhost:8080/",
          "height": 275
        }
      },
      "source": [
        "dictionary = gensim.corpora.Dictionary(processed)\n",
        "bow_corpora = [dictionary.doc2bow(doc) for doc in processed]\n",
        "print(bow_corpora[1])\n",
        "\n",
        "lda_model = gensim.models.LdaModel(bow_corpora, num_topics=6, id2word=dictionary)\n",
        "\n",
        "for idx, topic in lda_model.print_topics(-1):\n",
        "    print('Topic: {} \\nWords: {}'.format(idx, topic))\n",
        "\n",
        "lda_model[bow_corpora[1]]"
      ],
      "execution_count": 6,
      "outputs": [
        {
          "output_type": "stream",
          "text": [
            "[(1, 1), (2, 2), (4, 1), (8, 1), (9, 1), (18, 1), (21, 3), (22, 1), (26, 3), (27, 4), (28, 1), (33, 1), (34, 2), (35, 4), (37, 1), (40, 1), (41, 2), (49, 1), (51, 1), (52, 2), (53, 1), (57, 3), (58, 1), (59, 1), (63, 1), (67, 2), (68, 1), (70, 2), (73, 1), (77, 1), (78, 1), (79, 2), (80, 1), (81, 1), (84, 2), (85, 2), (88, 1), (89, 1), (90, 2), (95, 1), (98, 1), (99, 1), (100, 3), (101, 2), (102, 2), (103, 1), (104, 1), (105, 1), (106, 1), (107, 1), (108, 1), (109, 2), (110, 1), (111, 1), (112, 1), (113, 1), (114, 1), (115, 1), (116, 1), (117, 1), (118, 1), (119, 1), (120, 1), (121, 1), (122, 1), (123, 2), (124, 1), (125, 1), (126, 2), (127, 1), (128, 1), (129, 1), (130, 1), (131, 1), (132, 1), (133, 1), (134, 1), (135, 1), (136, 1), (137, 1), (138, 1), (139, 1), (140, 1), (141, 1), (142, 1), (143, 1), (144, 1), (145, 1), (146, 1), (147, 1), (148, 1), (149, 2), (150, 1), (151, 1), (152, 1), (153, 3), (154, 1), (155, 1)]\n",
            "Topic: 0 \n",
            "Words: 0.026*\"quot\" + 0.012*\"film\" + 0.008*\"people\" + 0.008*\"wa\" + 0.007*\"also\" + 0.006*\"good\" + 0.006*\"ha\" + 0.005*\"like\" + 0.005*\"love\" + 0.004*\"time\"\n",
            "Topic: 1 \n",
            "Words: 0.022*\"quot\" + 0.011*\"wa\" + 0.008*\"people\" + 0.008*\"film\" + 0.007*\"ha\" + 0.007*\"also\" + 0.007*\"like\" + 0.006*\"good\" + 0.006*\"eat\" + 0.005*\"love\"\n",
            "Topic: 2 \n",
            "Words: 0.014*\"quot\" + 0.008*\"ha\" + 0.007*\"crab\" + 0.005*\"wa\" + 0.005*\"like\" + 0.005*\"film\" + 0.005*\"food\" + 0.004*\"people\" + 0.004*\"good\" + 0.004*\"also\"\n",
            "Topic: 3 \n",
            "Words: 0.050*\"quot\" + 0.011*\"wa\" + 0.008*\"film\" + 0.008*\"ha\" + 0.006*\"people\" + 0.006*\"time\" + 0.005*\"like\" + 0.005*\"also\" + 0.004*\"love\" + 0.004*\"life\"\n",
            "Topic: 4 \n",
            "Words: 0.029*\"quot\" + 0.014*\"film\" + 0.009*\"like\" + 0.009*\"good\" + 0.008*\"people\" + 0.008*\"ha\" + 0.007*\"wa\" + 0.007*\"also\" + 0.007*\"love\" + 0.005*\"time\"\n",
            "Topic: 5 \n",
            "Words: 0.022*\"quot\" + 0.007*\"ha\" + 0.007*\"wa\" + 0.007*\"time\" + 0.006*\"love\" + 0.006*\"like\" + 0.006*\"life\" + 0.006*\"good\" + 0.006*\"people\" + 0.005*\"also\"\n"
          ],
          "name": "stdout"
        },
        {
          "output_type": "execute_result",
          "data": {
            "text/plain": [
              "[(0, 0.14950535), (1, 0.8453608)]"
            ]
          },
          "metadata": {
            "tags": []
          },
          "execution_count": 6
        }
      ]
    },
    {
      "cell_type": "markdown",
      "metadata": {
        "id": "PdFQZ52O8avy",
        "colab_type": "text"
      },
      "source": [
        "3. Report the topic distribution and the top‐2 topics of the first 10 restaurant reviews (id = [1:10])\n",
        "and the first 10 movie reviews (id = [501:510])."
      ]
    },
    {
      "cell_type": "code",
      "metadata": {
        "id": "dRvtJ9pvZj8y",
        "colab_type": "code",
        "colab": {
          "base_uri": "https://localhost:8080/",
          "height": 105
        },
        "outputId": "1ee65970-2774-48d5-97d1-72f02a00f433"
      },
      "source": [
        "url = 'https://github.com/AnoVando/MSIS/raw/master/IA3.csv'\n",
        "data = pd.read_csv(url, header='infer')\n",
        "data1 = data[0:9]\n",
        "data2 = data[500:509]\n",
        "data = data1.append(data2)\n",
        "reviews = data['review'].tolist()\n",
        "\n",
        "# Tokenize, Lemmatize and Remove Stop Words\n",
        "lemmatizer = nltk.stem.WordNetLemmatizer()\n",
        "processed = []\n",
        "for review in reviews:\n",
        "    tokens = nltk.word_tokenize(review.lower())\n",
        "    tokens = [lemmatizer.lemmatize(token) for token in tokens if token.isalpha()]\n",
        "    tokens = [token for token in tokens if not token in stopwords.words('english')]\n",
        "    processed.append(tokens)\n",
        "\n",
        "text = gensim.corpora.Dictionary(processed)\n",
        "corpus = [text.doc2bow(doc) for doc in processed]\n",
        "\n",
        "lda_model = gensim.models.LdaModel(corpus, num_topics=2, id2word=text)\n",
        "\n",
        "for idx, topic in lda_model.print_topics(-1):\n",
        "    print('Topic: {} \\nWords: {}'.format(idx, topic))"
      ],
      "execution_count": 42,
      "outputs": [
        {
          "output_type": "stream",
          "text": [
            "Topic: 0 \n",
            "Words: 0.046*\"quot\" + 0.009*\"film\" + 0.007*\"wa\" + 0.007*\"like\" + 0.006*\"people\" + 0.006*\"lone\" + 0.005*\"dolphin\" + 0.005*\"ha\" + 0.005*\"good\" + 0.005*\"ranger\"\n",
            "Topic: 1 \n",
            "Words: 0.018*\"quot\" + 0.011*\"film\" + 0.008*\"good\" + 0.007*\"like\" + 0.006*\"price\" + 0.005*\"taste\" + 0.005*\"eat\" + 0.005*\"delicious\" + 0.005*\"dolphin\" + 0.005*\"baht\"\n"
          ],
          "name": "stdout"
        }
      ]
    },
    {
      "cell_type": "code",
      "metadata": {
        "id": "a0pubMMO3NHq",
        "colab_type": "code",
        "colab": {}
      },
      "source": [
        "# install pyLDAvis if necessary\n",
        "# !pip install pyLDAvis"
      ],
      "execution_count": 0,
      "outputs": []
    },
    {
      "cell_type": "code",
      "metadata": {
        "id": "HKhvrHO-M4Nm",
        "colab_type": "code",
        "colab": {}
      },
      "source": [
        "# Visualize the topics\n",
        "import pyLDAvis\n",
        "import pyLDAvis.gensim\n",
        "pyLDAvis.enable_notebook()\n",
        "vis = pyLDAvis.gensim.prepare(lda_model, bow_corpora, dictionary)\n",
        "vis"
      ],
      "execution_count": 0,
      "outputs": []
    },
    {
      "cell_type": "code",
      "metadata": {
        "id": "CVUXsbUJ2JIN",
        "colab_type": "code",
        "colab": {}
      },
      "source": [
        ""
      ],
      "execution_count": 0,
      "outputs": []
    }
  ]
}