{
  "nbformat": 4,
  "nbformat_minor": 0,
  "metadata": {
    "colab": {
      "name": "Welcome To Colaboratory",
      "provenance": [],
      "collapsed_sections": [],
      "include_colab_link": true
    },
    "kernelspec": {
      "display_name": "Python 3",
      "name": "python3"
    }
  },
  "cells": [
    {
      "cell_type": "markdown",
      "metadata": {
        "id": "view-in-github",
        "colab_type": "text"
      },
      "source": [
        "<a href=\"https://colab.research.google.com/github/AnoVando/MSIS/blob/master/MSIS521_IA3.ipynb\" target=\"_parent\"><img src=\"https://colab.research.google.com/assets/colab-badge.svg\" alt=\"Open In Colab\"/></a>"
      ]
    },
    {
      "cell_type": "code",
      "metadata": {
        "id": "LbVNDUFthGZ4",
        "colab_type": "code",
        "outputId": "fb8c2feb-1128-43e2-9aad-bec61f87e5d7",
        "colab": {
          "base_uri": "https://localhost:8080/",
          "height": 187
        }
      },
      "source": [
        "import pandas as pd\n",
        "import numpy as np\n",
        "import nltk\n",
        "nltk.download('punkt') # tokenizer\n",
        "nltk.download('wordnet') # lemmatizer\n",
        "nltk.download('stopwords') # used to handle words like a, an, the\n",
        "nltk.download('averaged_perceptron_tagger') # Part of Speech\n",
        "\n",
        "from nltk.corpus import stopwords\n",
        "from sklearn.feature_extraction.text import TfidfVectorizer\n",
        "from sklearn.feature_extraction.text import CountVectorizer\n",
        "\n",
        "import gensim\n",
        "from gensim.utils import simple_preprocess\n",
        "from gensim.parsing.preprocessing import STOPWORDS\n",
        "from nltk.stem import WordNetLemmatizer, SnowballStemmer\n",
        "from nltk.stem.porter import *\n",
        "np.random.seed(2018)\n",
        "\n",
        "from sklearn.decomposition import LatentDirichletAllocation\n",
        "from sklearn.metrics import *\n",
        "from sklearn.metrics.pairwise import *\n",
        "from sklearn.cluster import AgglomerativeClustering\n",
        "\n"
      ],
      "execution_count": 1,
      "outputs": [
        {
          "output_type": "stream",
          "text": [
            "[nltk_data] Downloading package punkt to /root/nltk_data...\n",
            "[nltk_data]   Package punkt is already up-to-date!\n",
            "[nltk_data] Downloading package wordnet to /root/nltk_data...\n",
            "[nltk_data]   Package wordnet is already up-to-date!\n",
            "[nltk_data] Downloading package stopwords to /root/nltk_data...\n",
            "[nltk_data]   Package stopwords is already up-to-date!\n",
            "[nltk_data] Downloading package averaged_perceptron_tagger to\n",
            "[nltk_data]     /root/nltk_data...\n",
            "[nltk_data]   Package averaged_perceptron_tagger is already up-to-\n",
            "[nltk_data]       date!\n"
          ],
          "name": "stdout"
        }
      ]
    },
    {
      "cell_type": "code",
      "metadata": {
        "id": "2FnJ3WbafJHs",
        "colab_type": "code",
        "colab": {}
      },
      "source": [
        "url = 'https://github.com/AnoVando/MSIS/raw/master/IA3.csv'\n",
        "data = pd.read_csv(url, header='infer')\n",
        "reviews = data['review'].tolist()"
      ],
      "execution_count": 0,
      "outputs": []
    },
    {
      "cell_type": "code",
      "metadata": {
        "id": "A8iqJL8LhDxt",
        "colab_type": "code",
        "outputId": "135a7274-1ade-4c1f-eee8-d3952aeb5627",
        "colab": {
          "base_uri": "https://localhost:8080/",
          "height": 119
        }
      },
      "source": [
        "print(data[:5])"
      ],
      "execution_count": 3,
      "outputs": [
        {
          "output_type": "stream",
          "text": [
            "   id                                             review       label\n",
            "0   1  About the shop: There is a restaurant in Soi L...  restaurant\n",
            "1   2  About the shop: Through this store for about t...  restaurant\n",
            "2   3  Roast Coffee &amp; Eatery is a restaurant loca...  restaurant\n",
            "3   4  Eat from the children. The shop is opposite. P...  restaurant\n",
            "4   5  The Ak 1 shop at another branch tastes the sam...  restaurant\n"
          ],
          "name": "stdout"
        }
      ]
    },
    {
      "cell_type": "code",
      "metadata": {
        "id": "8-iBJXnZwCfB",
        "colab_type": "code",
        "colab": {}
      },
      "source": [
        "custom_list = ['quot', 'ha', 'wa']"
      ],
      "execution_count": 0,
      "outputs": []
    },
    {
      "cell_type": "markdown",
      "metadata": {
        "id": "4IKQu0w_fGFD",
        "colab_type": "text"
      },
      "source": [
        "Part 1. Topic Model\n",
        "There are 1000 reviews for restaurants and films in a collection under the attached csv file. All of those\n",
        "reviews are saved as text files. In this assignment, you are required to investigate the topics of those\n",
        "reviews. In particular, please follow the steps listed below:\n",
        "1. Transform those reviews into a term‐document matrix, lemmatize all the words, remove the\n",
        "stop‐words and punctuations, set the minimal document frequency for each term to be 5 and\n",
        "include 2‐gram.\n",
        "2. Use the LDA model to extract the topics of each document. In particular, we assume there are 6\n",
        "topics.\n",
        "3. Report the topic distribution and the top‐2 topics of the first 10 restaurant reviews (id = [1:10])\n",
        "and the first 10 movie reviews (id = [501:510]).\n",
        "4. Find the top‐5 terms (terms with the top‐5 highest weights) for each of the 6 topics. Based on\n",
        "those terms, describe what those topics are about.\n",
        "5. Based on finding in 3 and 4, describe what review 1 [ID=1] and review 501 [ID=501] are about?\n",
        "Please submit 1 file:\n",
        "A word file includes python code with your comment #, and one screenshot on your Jupyter\n",
        "Notebook showing that your code has run through successfully for each of the first four steps (4\n",
        "screenshots in total). Also, report your answers to question 3, 4, and 5 at the end of the word\n",
        "file."
      ]
    },
    {
      "cell_type": "markdown",
      "metadata": {
        "id": "Nt_sB5dk8F-k",
        "colab_type": "text"
      },
      "source": [
        "1. Transform those reviews into a term‐document matrix, lemmatize all the words, remove the\n",
        "stop‐words and punctuations, set the minimal document frequency for each term to be 5 and\n",
        "include 2‐gram."
      ]
    },
    {
      "cell_type": "code",
      "metadata": {
        "id": "wfbEn_gdW_lm",
        "colab_type": "code",
        "colab": {}
      },
      "source": [
        "stemmer = PorterStemmer()\n",
        "def lemmatize_stemming(text):\n",
        "    return stemmer.stem(WordNetLemmatizer().lemmatize(text, pos='v'))\n",
        "def preprocess(text):\n",
        "    result = []\n",
        "    for token in gensim.utils.simple_preprocess(text):\n",
        "        if token not in stopwords.words('english'):\n",
        "            if token not in custom_list:\n",
        "                result.append(lemmatize_stemming(token))\n",
        "    return result"
      ],
      "execution_count": 0,
      "outputs": []
    },
    {
      "cell_type": "code",
      "metadata": {
        "id": "JwIp0pTcXWjL",
        "colab_type": "code",
        "colab": {}
      },
      "source": [
        "processed_docs = data['review'].fillna('').astype(str).map(preprocess)"
      ],
      "execution_count": 0,
      "outputs": []
    },
    {
      "cell_type": "code",
      "metadata": {
        "id": "Kgu7jVPTZmOU",
        "colab_type": "code",
        "colab": {
          "base_uri": "https://localhost:8080/",
          "height": 221
        },
        "outputId": "be222698-6336-4aad-cdec-3079c23e1189"
      },
      "source": [
        "print(processed_docs)"
      ],
      "execution_count": 7,
      "outputs": [
        {
          "output_type": "stream",
          "text": [
            "0      [shop, restaur, soi, langsuan, road, insid, lu...\n",
            "1      [shop, store, three, year, first, time, tri, r...\n",
            "2      [roast, coffe, amp, eateri, restaur, locat, se...\n",
            "3      [eat, children, shop, opposit, phra, prathat, ...\n",
            "4      [ak, shop, anoth, branch, tast, concentr, tell...\n",
            "                             ...                        \n",
            "995    [peopl, aliv, never, die, difficult, know, go,...\n",
            "996    [first, time, know, chen, tianx, movi, nuclear...\n",
            "997    [film, time, tear, liter, tear, ya, also, leav...\n",
            "998    [rememb, child, teacher, alway, take, troubl, ...\n",
            "999    [abil, episod, mouth, sasuk, year, old, gradua...\n",
            "Name: review, Length: 1000, dtype: object\n"
          ],
          "name": "stdout"
        }
      ]
    },
    {
      "cell_type": "code",
      "metadata": {
        "id": "h4t5uUx3aQe5",
        "colab_type": "code",
        "colab": {}
      },
      "source": [
        "dictionary = gensim.corpora.Dictionary(processed_docs)\n",
        "bow_corpus = [dictionary.doc2bow(doc) for doc in processed_docs]"
      ],
      "execution_count": 0,
      "outputs": []
    },
    {
      "cell_type": "code",
      "metadata": {
        "colab_type": "code",
        "id": "RaPD0J0cfwcj",
        "colab": {}
      },
      "source": [
        "# Generate TF-IDF Vectors\n",
        "#processed_tfidf = [\" \".join(x) for x in processed]\n",
        "\n",
        "#tfidf = TfidfVectorizer(ngram_range=(2, 2), min_df=5) # 2-grams and min. document frequency of 5\n",
        "#tfidf.fit(bow_corpus)\n",
        "#tfidf = tfidf.transform(bow_corpus)\n"
      ],
      "execution_count": 0,
      "outputs": []
    },
    {
      "cell_type": "markdown",
      "metadata": {
        "id": "XevlJaMF8O3K",
        "colab_type": "text"
      },
      "source": [
        "2. Use the LDA model to extract the topics of each document. In particular, we assume there are 6\n",
        "topics."
      ]
    },
    {
      "cell_type": "code",
      "metadata": {
        "id": "irtdaelDvifl",
        "colab_type": "code",
        "outputId": "5c790270-ce67-4595-a3f4-3cbdfaae2e93",
        "colab": {
          "base_uri": "https://localhost:8080/",
          "height": 221
        }
      },
      "source": [
        "lda_model = gensim.models.LdaModel(bow_corpus, num_topics=6, id2word=dictionary)\n",
        "\n",
        "for idx, topic in lda_model.print_topics(-1):\n",
        "    print('Topic: {} \\nWords: {}'.format(idx, topic))\n"
      ],
      "execution_count": 9,
      "outputs": [
        {
          "output_type": "stream",
          "text": [
            "Topic: 0 \n",
            "Words: 0.007*\"good\" + 0.007*\"like\" + 0.007*\"film\" + 0.006*\"also\" + 0.006*\"eat\" + 0.006*\"peopl\" + 0.004*\"delici\" + 0.004*\"tast\" + 0.004*\"stori\" + 0.004*\"one\"\n",
            "Topic: 1 \n",
            "Words: 0.010*\"also\" + 0.008*\"film\" + 0.008*\"peopl\" + 0.006*\"like\" + 0.005*\"one\" + 0.005*\"love\" + 0.005*\"say\" + 0.005*\"time\" + 0.004*\"stori\" + 0.004*\"make\"\n",
            "Topic: 2 \n",
            "Words: 0.008*\"also\" + 0.008*\"film\" + 0.008*\"peopl\" + 0.007*\"time\" + 0.007*\"good\" + 0.006*\"love\" + 0.006*\"like\" + 0.005*\"eat\" + 0.005*\"say\" + 0.004*\"think\"\n",
            "Topic: 3 \n",
            "Words: 0.008*\"love\" + 0.008*\"film\" + 0.008*\"peopl\" + 0.008*\"like\" + 0.007*\"also\" + 0.006*\"good\" + 0.005*\"life\" + 0.004*\"one\" + 0.004*\"make\" + 0.004*\"see\"\n",
            "Topic: 4 \n",
            "Words: 0.012*\"film\" + 0.007*\"peopl\" + 0.007*\"make\" + 0.006*\"good\" + 0.006*\"like\" + 0.005*\"love\" + 0.005*\"eat\" + 0.005*\"time\" + 0.005*\"movi\" + 0.005*\"also\"\n",
            "Topic: 5 \n",
            "Words: 0.014*\"film\" + 0.009*\"peopl\" + 0.009*\"like\" + 0.008*\"good\" + 0.007*\"time\" + 0.007*\"love\" + 0.006*\"think\" + 0.006*\"say\" + 0.005*\"also\" + 0.004*\"make\"\n"
          ],
          "name": "stdout"
        }
      ]
    },
    {
      "cell_type": "markdown",
      "metadata": {
        "id": "PdFQZ52O8avy",
        "colab_type": "text"
      },
      "source": [
        "3. Report the topic distribution and the top‐2 topics of the first 10 restaurant reviews (id = [1:10])\n",
        "and the first 10 movie reviews (id = [501:510])."
      ]
    },
    {
      "cell_type": "code",
      "metadata": {
        "id": "FzrMEeXjWbKn",
        "colab_type": "code",
        "colab": {
          "base_uri": "https://localhost:8080/",
          "height": 187
        },
        "outputId": "170d9c04-b905-4d75-d611-c2f14e42f7ef"
      },
      "source": [
        "for n in range(10):\n",
        "  print(lda_model[bow_corpus][n])\n",
        "      "
      ],
      "execution_count": 10,
      "outputs": [
        {
          "output_type": "stream",
          "text": [
            "[(0, 0.9939986)]\n",
            "[(0, 0.9935906)]\n",
            "[(0, 0.85997045), (3, 0.13639477)]\n",
            "[(0, 0.6581291), (4, 0.33355817)]\n",
            "[(0, 0.9728731)]\n",
            "[(0, 0.99535745)]\n",
            "[(0, 0.22570696), (4, 0.69325566), (5, 0.07516668)]\n",
            "[(0, 0.7837508), (2, 0.20763251)]\n",
            "[(0, 0.8798198), (1, 0.023958737), (2, 0.024051702), (3, 0.024031134), (4, 0.024066806), (5, 0.024071801)]\n",
            "[(2, 0.95060885)]\n"
          ],
          "name": "stdout"
        }
      ]
    },
    {
      "cell_type": "markdown",
      "metadata": {
        "id": "We9PLWpatowT",
        "colab_type": "text"
      },
      "source": [
        "The top 2 topics for the first 10 restaurant reviews are 3 & 4."
      ]
    },
    {
      "cell_type": "code",
      "metadata": {
        "id": "ypdCZB5fhTZK",
        "colab_type": "code",
        "colab": {
          "base_uri": "https://localhost:8080/",
          "height": 187
        },
        "outputId": "74fe94ab-3c13-4171-ebdf-3ef6b3a240c7"
      },
      "source": [
        "for n in range(510):\n",
        "  if n >= 500:\n",
        "      print(lda_model[bow_corpus][n])\n",
        "  if n > 510:\n",
        "      break\n",
        "  n = n + 1"
      ],
      "execution_count": 11,
      "outputs": [
        {
          "output_type": "stream",
          "text": [
            "[(2, 0.035257466), (5, 0.9596021)]\n",
            "[(2, 0.1539163), (3, 0.84395987)]\n",
            "[(3, 0.49371675), (5, 0.50510055)]\n",
            "[(2, 0.96498054)]\n",
            "[(3, 0.99588525)]\n",
            "[(0, 0.7140922), (2, 0.27881503)]\n",
            "[(2, 0.99357164)]\n",
            "[(5, 0.9752509)]\n",
            "[(1, 0.55670434), (5, 0.43529034)]\n",
            "[(3, 0.68732864), (5, 0.31074795)]\n"
          ],
          "name": "stdout"
        }
      ]
    },
    {
      "cell_type": "markdown",
      "metadata": {
        "id": "wr8S97_htuXa",
        "colab_type": "text"
      },
      "source": [
        "The top 2 topics for the first 10 movie reviews are 1 & 2."
      ]
    },
    {
      "cell_type": "markdown",
      "metadata": {
        "id": "VQaqHsATf81T",
        "colab_type": "text"
      },
      "source": [
        "4. Find the top‐5 terms (terms with the top‐5 highest weights) for each of the 6 topics. Based on\n",
        "those terms, describe what those topics are about."
      ]
    },
    {
      "cell_type": "code",
      "metadata": {
        "id": "yQkV8Jxxf5dj",
        "colab_type": "code",
        "colab": {
          "base_uri": "https://localhost:8080/",
          "height": 221
        },
        "outputId": "8c0ca92b-897b-4573-a26f-ba8233771507"
      },
      "source": [
        "lda_model.show_topics(num_topics=6, num_words=5)"
      ],
      "execution_count": 12,
      "outputs": [
        {
          "output_type": "execute_result",
          "data": {
            "text/plain": [
              "[(0,\n",
              "  '0.007*\"good\" + 0.007*\"like\" + 0.007*\"film\" + 0.006*\"also\" + 0.006*\"eat\"'),\n",
              " (1,\n",
              "  '0.010*\"also\" + 0.008*\"film\" + 0.008*\"peopl\" + 0.006*\"like\" + 0.005*\"one\"'),\n",
              " (2,\n",
              "  '0.008*\"also\" + 0.008*\"film\" + 0.008*\"peopl\" + 0.007*\"time\" + 0.007*\"good\"'),\n",
              " (3,\n",
              "  '0.008*\"love\" + 0.008*\"film\" + 0.008*\"peopl\" + 0.008*\"like\" + 0.007*\"also\"'),\n",
              " (4,\n",
              "  '0.012*\"film\" + 0.007*\"peopl\" + 0.007*\"make\" + 0.006*\"good\" + 0.006*\"like\"'),\n",
              " (5,\n",
              "  '0.014*\"film\" + 0.009*\"peopl\" + 0.009*\"like\" + 0.008*\"good\" + 0.007*\"time\"')]"
            ]
          },
          "metadata": {
            "tags": []
          },
          "execution_count": 12
        }
      ]
    },
    {
      "cell_type": "markdown",
      "metadata": {
        "id": "v72CInnT1e7o",
        "colab_type": "text"
      },
      "source": [
        "Topic 0 is about films and good food.\n",
        "Topic 1 is about people and films about times they love.\n",
        "Topic 2 is about people and films about eating good food.\n",
        "Topic 3 is about people and films about people they like.\n",
        "Topic 4 is about films that people love.\n",
        "Topic 5 is about films about loving people."
      ]
    },
    {
      "cell_type": "code",
      "metadata": {
        "id": "a0pubMMO3NHq",
        "colab_type": "code",
        "colab": {}
      },
      "source": [
        "# install pyLDAvis if necessary\n",
        "# !pip install pyLDAvis"
      ],
      "execution_count": 0,
      "outputs": []
    },
    {
      "cell_type": "code",
      "metadata": {
        "id": "HKhvrHO-M4Nm",
        "colab_type": "code",
        "colab": {
          "base_uri": "https://localhost:8080/",
          "height": 997
        },
        "outputId": "c852bbf2-a7e9-4ace-9d57-e5f03340dfd5"
      },
      "source": [
        "# Visualize the topics\n",
        "import pyLDAvis\n",
        "import pyLDAvis.gensim\n",
        "pyLDAvis.enable_notebook()\n",
        "vis = pyLDAvis.gensim.prepare(lda_model, bow_corpus, dictionary) \n",
        "vis"
      ],
      "execution_count": 25,
      "outputs": [
        {
          "output_type": "stream",
          "text": [
            "/usr/local/lib/python3.6/dist-packages/pyLDAvis/_prepare.py:257: FutureWarning: Sorting because non-concatenation axis is not aligned. A future version\n",
            "of pandas will change to not sort by default.\n",
            "\n",
            "To accept the future behavior, pass 'sort=False'.\n",
            "\n",
            "To retain the current behavior and silence the warning, pass 'sort=True'.\n",
            "\n",
            "  return pd.concat([default_term_info] + list(topic_dfs))\n"
          ],
          "name": "stderr"
        },
        {
          "output_type": "execute_result",
          "data": {
            "text/html": [
              "\n",
              "<link rel=\"stylesheet\" type=\"text/css\" href=\"https://cdn.rawgit.com/bmabey/pyLDAvis/files/ldavis.v1.0.0.css\">\n",
              "\n",
              "\n",
              "<div id=\"ldavis_el15401399551984761045214494237\"></div>\n",
              "<script type=\"text/javascript\">\n",
              "\n",
              "var ldavis_el15401399551984761045214494237_data = {\"mdsDat\": {\"x\": [0.002517399954468599, -0.017947852663041455, -0.005939180632542389, 0.007651694663041531, 0.00880525477588861, 0.004912683902185156], \"y\": [-0.0031600995509066553, -0.0005983574777742642, 0.003144946890903395, -0.011840891013332104, 0.011640830257336057, 0.0008135708937735757], \"topics\": [1, 2, 3, 4, 5, 6], \"cluster\": [1, 1, 1, 1, 1, 1], \"Freq\": [30.251800537109375, 16.6302547454834, 14.76292896270752, 13.562517166137695, 12.92745304107666, 11.865044593811035]}, \"tinfo\": {\"Category\": [\"Default\", \"Default\", \"Default\", \"Default\", \"Default\", \"Default\", \"Default\", \"Default\", \"Default\", \"Default\", \"Default\", \"Default\", \"Default\", \"Default\", \"Default\", \"Default\", \"Default\", \"Default\", \"Default\", \"Default\", \"Default\", \"Default\", \"Default\", \"Default\", \"Default\", \"Default\", \"Default\", \"Default\", \"Default\", \"Default\", \"Topic1\", \"Topic1\", \"Topic1\", \"Topic1\", \"Topic1\", \"Topic1\", \"Topic1\", \"Topic1\", \"Topic1\", \"Topic1\", \"Topic1\", \"Topic1\", \"Topic1\", \"Topic1\", \"Topic1\", \"Topic1\", \"Topic1\", \"Topic1\", \"Topic1\", \"Topic1\", \"Topic1\", \"Topic1\", \"Topic1\", \"Topic1\", \"Topic1\", \"Topic1\", \"Topic1\", \"Topic1\", \"Topic1\", \"Topic1\", \"Topic1\", \"Topic1\", \"Topic1\", \"Topic1\", \"Topic1\", \"Topic1\", \"Topic1\", \"Topic1\", \"Topic1\", \"Topic1\", \"Topic1\", \"Topic1\", \"Topic1\", \"Topic1\", \"Topic1\", \"Topic1\", \"Topic1\", \"Topic1\", \"Topic1\", \"Topic1\", \"Topic1\", \"Topic1\", \"Topic1\", \"Topic1\", \"Topic1\", \"Topic1\", \"Topic1\", \"Topic1\", \"Topic1\", \"Topic1\", \"Topic1\", \"Topic1\", \"Topic1\", \"Topic1\", \"Topic1\", \"Topic1\", \"Topic1\", \"Topic1\", \"Topic1\", \"Topic1\", \"Topic1\", \"Topic1\", \"Topic1\", \"Topic1\", \"Topic1\", \"Topic1\", \"Topic1\", \"Topic1\", \"Topic1\", \"Topic1\", \"Topic1\", \"Topic1\", \"Topic1\", \"Topic1\", \"Topic1\", \"Topic1\", \"Topic1\", \"Topic1\", \"Topic1\", \"Topic2\", \"Topic2\", \"Topic2\", \"Topic2\", \"Topic2\", \"Topic2\", \"Topic2\", \"Topic2\", \"Topic2\", \"Topic2\", \"Topic2\", \"Topic2\", \"Topic2\", \"Topic2\", \"Topic2\", \"Topic2\", \"Topic2\", \"Topic2\", \"Topic2\", \"Topic2\", \"Topic2\", \"Topic2\", \"Topic2\", \"Topic2\", \"Topic2\", \"Topic2\", \"Topic2\", \"Topic2\", \"Topic2\", \"Topic2\", \"Topic2\", \"Topic2\", \"Topic2\", \"Topic2\", \"Topic2\", \"Topic2\", \"Topic2\", \"Topic2\", \"Topic2\", \"Topic2\", \"Topic2\", \"Topic2\", \"Topic2\", \"Topic2\", \"Topic2\", \"Topic2\", \"Topic2\", \"Topic2\", \"Topic2\", \"Topic2\", \"Topic2\", \"Topic2\", \"Topic2\", \"Topic2\", \"Topic2\", \"Topic2\", \"Topic2\", \"Topic2\", \"Topic2\", \"Topic2\", \"Topic2\", \"Topic2\", \"Topic2\", \"Topic2\", \"Topic2\", \"Topic2\", \"Topic2\", \"Topic2\", \"Topic2\", \"Topic2\", \"Topic2\", \"Topic2\", \"Topic2\", \"Topic2\", \"Topic2\", \"Topic2\", \"Topic2\", \"Topic2\", \"Topic2\", \"Topic2\", \"Topic2\", \"Topic2\", \"Topic2\", \"Topic2\", \"Topic2\", \"Topic2\", \"Topic2\", \"Topic2\", \"Topic2\", \"Topic2\", \"Topic2\", \"Topic2\", \"Topic2\", \"Topic2\", \"Topic3\", \"Topic3\", \"Topic3\", \"Topic3\", \"Topic3\", \"Topic3\", \"Topic3\", \"Topic3\", \"Topic3\", \"Topic3\", \"Topic3\", \"Topic3\", \"Topic3\", \"Topic3\", \"Topic3\", \"Topic3\", \"Topic3\", \"Topic3\", \"Topic3\", \"Topic3\", \"Topic3\", \"Topic3\", \"Topic3\", \"Topic3\", \"Topic3\", \"Topic3\", \"Topic3\", \"Topic3\", \"Topic3\", \"Topic3\", \"Topic3\", \"Topic3\", \"Topic3\", \"Topic3\", \"Topic3\", \"Topic3\", \"Topic3\", \"Topic3\", \"Topic3\", \"Topic3\", \"Topic3\", \"Topic3\", \"Topic3\", \"Topic3\", \"Topic3\", \"Topic3\", \"Topic3\", \"Topic3\", \"Topic3\", \"Topic3\", \"Topic3\", \"Topic3\", \"Topic3\", \"Topic3\", \"Topic3\", \"Topic3\", \"Topic3\", \"Topic3\", \"Topic3\", \"Topic3\", \"Topic3\", \"Topic3\", \"Topic3\", \"Topic3\", \"Topic3\", \"Topic3\", \"Topic3\", \"Topic3\", \"Topic3\", \"Topic3\", \"Topic3\", \"Topic3\", \"Topic3\", \"Topic3\", \"Topic3\", \"Topic3\", \"Topic3\", \"Topic3\", \"Topic3\", \"Topic3\", \"Topic3\", \"Topic3\", \"Topic3\", \"Topic4\", \"Topic4\", \"Topic4\", \"Topic4\", \"Topic4\", \"Topic4\", \"Topic4\", \"Topic4\", \"Topic4\", \"Topic4\", \"Topic4\", \"Topic4\", \"Topic4\", \"Topic4\", \"Topic4\", \"Topic4\", \"Topic4\", \"Topic4\", \"Topic4\", \"Topic4\", \"Topic4\", \"Topic4\", \"Topic4\", \"Topic4\", \"Topic4\", \"Topic4\", \"Topic4\", \"Topic4\", \"Topic4\", \"Topic4\", \"Topic4\", \"Topic4\", \"Topic4\", \"Topic4\", \"Topic4\", \"Topic4\", \"Topic4\", \"Topic4\", \"Topic4\", \"Topic4\", \"Topic4\", \"Topic4\", \"Topic4\", \"Topic4\", \"Topic4\", \"Topic4\", \"Topic4\", \"Topic4\", \"Topic4\", \"Topic4\", \"Topic4\", \"Topic4\", \"Topic4\", \"Topic4\", \"Topic4\", \"Topic4\", \"Topic4\", \"Topic4\", \"Topic4\", \"Topic4\", \"Topic4\", \"Topic4\", \"Topic4\", \"Topic4\", \"Topic4\", \"Topic4\", \"Topic4\", \"Topic4\", \"Topic4\", \"Topic4\", \"Topic4\", \"Topic4\", \"Topic4\", \"Topic4\", \"Topic4\", \"Topic4\", \"Topic4\", \"Topic4\", \"Topic4\", \"Topic4\", \"Topic4\", \"Topic4\", \"Topic4\", \"Topic4\", \"Topic4\", \"Topic4\", \"Topic5\", \"Topic5\", \"Topic5\", \"Topic5\", \"Topic5\", \"Topic5\", \"Topic5\", \"Topic5\", \"Topic5\", \"Topic5\", \"Topic5\", \"Topic5\", \"Topic5\", \"Topic5\", \"Topic5\", \"Topic5\", \"Topic5\", \"Topic5\", \"Topic5\", \"Topic5\", \"Topic5\", \"Topic5\", \"Topic5\", \"Topic5\", \"Topic5\", \"Topic5\", \"Topic5\", \"Topic5\", \"Topic5\", \"Topic5\", \"Topic5\", \"Topic5\", \"Topic5\", \"Topic5\", \"Topic5\", \"Topic5\", \"Topic5\", \"Topic5\", \"Topic5\", \"Topic5\", \"Topic5\", \"Topic5\", \"Topic5\", \"Topic5\", \"Topic5\", \"Topic5\", \"Topic5\", \"Topic5\", \"Topic5\", \"Topic5\", \"Topic5\", \"Topic5\", \"Topic5\", \"Topic5\", \"Topic5\", \"Topic5\", \"Topic5\", \"Topic5\", \"Topic5\", \"Topic5\", \"Topic5\", \"Topic5\", \"Topic5\", \"Topic5\", \"Topic5\", \"Topic5\", \"Topic5\", \"Topic5\", \"Topic5\", \"Topic5\", \"Topic5\", \"Topic5\", \"Topic5\", \"Topic5\", \"Topic5\", \"Topic5\", \"Topic5\", \"Topic5\", \"Topic6\", \"Topic6\", \"Topic6\", \"Topic6\", \"Topic6\", \"Topic6\", \"Topic6\", \"Topic6\", \"Topic6\", \"Topic6\", \"Topic6\", \"Topic6\", \"Topic6\", \"Topic6\", \"Topic6\", \"Topic6\", \"Topic6\", \"Topic6\", \"Topic6\", \"Topic6\", \"Topic6\", \"Topic6\", \"Topic6\", \"Topic6\", \"Topic6\", \"Topic6\", \"Topic6\", \"Topic6\", \"Topic6\", \"Topic6\", \"Topic6\", \"Topic6\", \"Topic6\", \"Topic6\", \"Topic6\", \"Topic6\", \"Topic6\", \"Topic6\", \"Topic6\", \"Topic6\", \"Topic6\", \"Topic6\", \"Topic6\", \"Topic6\", \"Topic6\", \"Topic6\", \"Topic6\", \"Topic6\", \"Topic6\", \"Topic6\", \"Topic6\", \"Topic6\", \"Topic6\", \"Topic6\", \"Topic6\", \"Topic6\", \"Topic6\", \"Topic6\", \"Topic6\", \"Topic6\", \"Topic6\", \"Topic6\", \"Topic6\", \"Topic6\", \"Topic6\", \"Topic6\", \"Topic6\", \"Topic6\", \"Topic6\", \"Topic6\", \"Topic6\", \"Topic6\", \"Topic6\", \"Topic6\", \"Topic6\", \"Topic6\", \"Topic6\", \"Topic6\", \"Topic6\"], \"Freq\": [1194.0, 1931.0, 1110.0, 188.0, 373.0, 836.0, 761.0, 413.0, 1422.0, 733.0, 749.0, 500.0, 547.0, 1048.0, 335.0, 707.0, 500.0, 665.0, 294.0, 472.0, 463.0, 222.0, 113.0, 403.0, 694.0, 869.0, 548.0, 385.0, 292.0, 447.0, 10.603281021118164, 2.482067584991455, 4.16373872756958, 4.114536762237549, 2.0735859870910645, 1.3509527444839478, 1.350798487663269, 1.3502488136291504, 1.349208950996399, 1.3488322496414185, 1.3476853370666504, 1.343117356300354, 1.342579960823059, 1.3430451154708862, 1.3423458337783813, 1.341347098350525, 1.3415298461914062, 1.3398431539535522, 1.3392152786254883, 1.337817668914795, 1.337207317352295, 1.3336187601089478, 1.3327823877334595, 1.3305476903915405, 2.6449618339538574, 6.467947959899902, 3.318101644515991, 2.5897328853607178, 1.2954635620117188, 1.2894392013549805, 1.8979047536849976, 35.06257629394531, 3.7825093269348145, 43.654991149902344, 24.08283805847168, 5.404876232147217, 823.5121459960938, 340.9280700683594, 50.826271057128906, 181.94955444335938, 6.84951639175415, 6.3432440757751465, 2.5053064823150635, 9.941414833068848, 131.39390563964844, 60.19943618774414, 98.14864349365234, 393.2503356933594, 7.287343978881836, 485.63580322265625, 4.1427812576293945, 47.12604904174805, 510.0523681640625, 454.8555908203125, 323.7745056152344, 34.80608367919922, 237.85531616210938, 100.18415069580078, 85.25211334228516, 212.43447875976562, 370.6228942871094, 59.52488708496094, 159.55845642089844, 29.553855895996094, 136.00265502929688, 132.67605590820312, 115.0177230834961, 233.4182586669922, 95.79317474365234, 103.4676513671875, 187.04090881347656, 213.0362091064453, 172.35531616210938, 211.47808837890625, 184.89686584472656, 250.7352294921875, 217.44224548339844, 227.1464080810547, 207.18887329101562, 171.21224975585938, 152.52923583984375, 213.3926544189453, 290.2408142089844, 208.8847198486328, 174.04385375976562, 162.01490783691406, 147.0064239501953, 152.3900146484375, 152.69683837890625, 2.3281524181365967, 2.260690689086914, 1.926287293434143, 1.2536424398422241, 1.2536066770553589, 1.2535390853881836, 1.2535210847854614, 1.2535017728805542, 1.2534958124160767, 1.253404140472412, 1.253341794013977, 1.253324031829834, 1.2532892227172852, 1.253253698348999, 1.2419930696487427, 1.2392157316207886, 1.8166263103485107, 1.232280969619751, 1.2279093265533447, 1.2227693796157837, 1.2205020189285278, 1.2155234813690186, 1.2177159786224365, 1.2170902490615845, 1.2110854387283325, 1.2078845500946045, 1.2054975032806396, 1.21005117893219, 1.2085363864898682, 1.8006465435028076, 5.153571605682373, 21.360576629638672, 5.931426525115967, 10.711055755615234, 3.9914283752441406, 9.136993408203125, 80.41293334960938, 61.99864959716797, 2.716946601867676, 66.77539825439453, 55.67036819458008, 5.420503616333008, 21.105850219726562, 17.089008331298828, 11.016541481018066, 4.561492443084717, 9.691850662231445, 82.74988555908203, 17.835641860961914, 116.81398010253906, 14.413704872131348, 18.084033966064453, 11.689600944519043, 134.4354248046875, 132.53379821777344, 7.528589248657227, 112.56105041503906, 181.86549377441406, 72.533203125, 23.51810646057129, 63.108184814453125, 53.23963165283203, 61.704864501953125, 41.68098449707031, 102.88167572021484, 228.34617614746094, 86.11666107177734, 105.97742462158203, 89.71713256835938, 67.00102996826172, 215.2760009765625, 40.97677230834961, 71.42982482910156, 96.64558410644531, 187.0343780517578, 129.13613891601562, 101.51000213623047, 106.42521667480469, 128.3875732421875, 120.62532806396484, 115.01771545410156, 172.41043090820312, 205.19435119628906, 100.87752532958984, 110.67781829833984, 107.86959838867188, 112.00005340576172, 89.20556640625, 110.02699279785156, 117.65847778320312, 93.92742919921875, 109.93618774414062, 99.41284942626953, 94.81578063964844, 4.614044666290283, 7.775368690490723, 5.981153964996338, 1.450029730796814, 0.9168471693992615, 0.9166039228439331, 0.916439950466156, 0.9164393544197083, 0.9163984656333923, 1.3773713111877441, 1.3138777017593384, 0.8999906778335571, 1.3606886863708496, 1.7752968072891235, 0.8799628019332886, 0.8598940372467041, 0.8541448712348938, 0.8577105402946472, 0.8535069227218628, 1.2586253881454468, 1.2735270261764526, 0.8477206230163574, 1.279945731163025, 0.8207804560661316, 0.8357717990875244, 1.2646396160125732, 0.8114709854125977, 0.8098093271255493, 0.8094207048416138, 0.8063096404075623, 0.8234588503837585, 1.6141059398651123, 10.541139602661133, 5.000116348266602, 19.833393096923828, 5.407480716705322, 1.5730684995651245, 3.049295663833618, 20.44820785522461, 104.91586303710938, 204.8718719482422, 5.529728412628174, 114.59085845947266, 30.321269989013672, 216.1001739501953, 102.82677459716797, 61.62051773071289, 93.2044448852539, 39.91043472290039, 82.16301727294922, 34.55387878417969, 91.24010467529297, 20.428913116455078, 106.36524200439453, 59.10013198852539, 48.08473205566406, 129.93089294433594, 52.2391242980957, 84.42487335205078, 210.16244506835938, 172.2477264404297, 57.0352897644043, 45.76828384399414, 112.17068481445312, 180.9632110595703, 114.64514923095703, 119.01605224609375, 127.56021881103516, 95.14057922363281, 214.14141845703125, 58.09730911254883, 155.635986328125, 78.41856384277344, 112.3297119140625, 103.89781951904297, 98.53962707519531, 94.56504821777344, 81.25792694091797, 64.74597930908203, 79.55378723144531, 77.38761901855469, 76.34845733642578, 79.9323959350586, 0.9935038685798645, 0.9931905269622803, 0.9931711554527283, 0.9930810928344727, 0.9928286075592041, 0.9674938917160034, 0.9608525633811951, 8.95174503326416, 0.9180554151535034, 0.9087881445884705, 0.9048133492469788, 0.898714005947113, 0.8989978432655334, 3.1403889656066895, 0.8879700303077698, 1.7727746963500977, 0.8795263171195984, 0.8728827238082886, 1.3062373399734497, 0.8691825270652771, 0.8647438883781433, 1.7183654308319092, 0.8614805340766907, 1.3302839994430542, 0.8525206446647644, 3.3606297969818115, 1.7389651536941528, 0.8482199311256409, 0.8439019918441772, 0.8428608775138855, 6.852642059326172, 7.815332889556885, 8.507558822631836, 45.81401824951172, 7.8520188331604, 23.974048614501953, 19.46462631225586, 16.079044342041016, 83.74784851074219, 5.729240894317627, 14.503931999206543, 7.697172164916992, 211.78240966796875, 14.7822847366333, 20.545671463012695, 80.64876556396484, 8.788743019104004, 17.6155948638916, 100.6461410522461, 27.597209930419922, 118.51364135742188, 76.276123046875, 191.66197204589844, 18.640520095825195, 57.62144088745117, 51.5235481262207, 41.57326889038086, 167.85330200195312, 191.977783203125, 107.01293182373047, 85.96936798095703, 109.67220306396484, 99.7126235961914, 62.49578094482422, 47.15391159057617, 207.9973907470703, 151.08221435546875, 98.57174682617188, 43.453731536865234, 57.0099983215332, 109.09318542480469, 70.57791900634766, 56.060855865478516, 90.76206970214844, 73.86380767822266, 98.99874877929688, 59.0682258605957, 87.58797454833984, 100.13348388671875, 77.87850189208984, 71.62785339355469, 69.3624267578125, 64.59786987304688, 66.56292724609375, 62.464332580566406, 63.30427551269531, 1.0664132833480835, 1.0664072036743164, 1.0663819313049316, 1.0663437843322754, 1.0663424730300903, 1.066321611404419, 1.0658574104309082, 1.065619945526123, 1.0652952194213867, 1.031702995300293, 1.0169579982757568, 1.0122724771499634, 0.9981003403663635, 1.0031005144119263, 0.9992091655731201, 0.991069495677948, 0.9821141958236694, 0.9825199246406555, 0.9879769086837769, 0.9549497961997986, 0.9000506401062012, 4.011490821838379, 1.263664960861206, 0.8371381163597107, 2.035642385482788, 2.4460344314575195, 0.8131300806999207, 1.4771167039871216, 0.7755051851272583, 1.5411758422851562, 1.1239207983016968, 2.510631799697876, 18.442792892456055, 36.19684982299805, 6.142227649688721, 52.11978530883789, 18.711044311523438, 94.6720962524414, 17.722314834594727, 231.70022583007812, 61.29405975341797, 127.30985260009766, 72.69046783447266, 6.146547317504883, 96.45084381103516, 39.47536087036133, 90.77220916748047, 186.8977508544922, 108.75729370117188, 39.12885284423828, 124.22415924072266, 25.41767692565918, 36.46134567260742, 43.09262466430664, 82.58493041992188, 98.37489318847656, 23.42762565612793, 101.4150390625, 79.0953598022461, 155.58682250976562, 39.90183639526367, 202.91859436035156, 107.68843841552734, 90.51600646972656, 68.59326171875, 94.24723052978516, 123.98789978027344, 125.70162200927734, 64.38752746582031, 56.005859375, 56.597511291503906, 54.7687873840332, 70.55030059814453, 106.52361297607422, 74.9835433959961, 72.60969543457031, 65.82795715332031, 56.679439544677734, 1.5326637029647827, 2.6789379119873047, 0.9000386595726013, 0.8999894857406616, 0.8998982310295105, 0.899677574634552, 0.8996759653091431, 0.8996132016181946, 0.8993566036224365, 0.8861199617385864, 0.8857840299606323, 0.8853411674499512, 0.8838231563568115, 0.8673927187919617, 0.8572736382484436, 0.847842812538147, 0.8269301056861877, 0.8172723054885864, 1.254347562789917, 2.402508497238159, 0.8120359182357788, 2.034846067428589, 0.7942547798156738, 1.5753263235092163, 0.7697302103042603, 0.7595611214637756, 0.7735544443130493, 2.2499563694000244, 1.8809958696365356, 9.370898246765137, 3.590852737426758, 2.12888765335083, 3.535639762878418, 6.687446117401123, 146.89659118652344, 59.787113189697266, 278.1847839355469, 34.552127838134766, 11.746476173400879, 10.043540000915527, 101.7114486694336, 47.852848052978516, 37.114925384521484, 43.4873161315918, 110.68504333496094, 78.59977722167969, 105.79700469970703, 89.0488510131836, 12.354382514953613, 29.791183471679688, 17.301803588867188, 91.69883728027344, 33.60935592651367, 68.7132568359375, 59.02297592163086, 72.8097915649414, 22.304840087890625, 151.26986694335938, 48.60080337524414, 69.4498291015625, 56.07182312011719, 131.73822021484375, 119.95635986328125, 58.82586669921875, 100.20407104492188, 85.94872283935547, 59.94064712524414, 70.12808227539062, 108.94690704345703, 125.95465850830078, 59.39091873168945, 101.83489227294922, 72.95193481445312, 64.6327896118164, 56.98030471801758, 67.22779846191406, 63.542964935302734, 63.20939254760742, 60.924468994140625], \"Term\": [\"also\", \"film\", \"love\", \"gt\", \"war\", \"make\", \"eat\", \"restaur\", \"peopl\", \"movi\", \"one\", \"delici\", \"feel\", \"time\", \"human\", \"life\", \"tast\", \"two\", \"three\", \"food\", \"realli\", \"shrimp\", \"crab\", \"shop\", \"see\", \"say\", \"look\", \"book\", \"director\", \"use\", \"magnum\", \"zetian\", \"ansheng\", \"scarlett\", \"implos\", \"lancet\", \"stoop\", \"minu\", \"smoothei\", \"olio\", \"asiatiqu\", \"tasmisu\", \"orchard\", \"squabbl\", \"huxley\", \"makha\", \"kaiwu\", \"macaqu\", \"pistachio\", \"xiangxi\", \"apprais\", \"samsung\", \"plaza\", \"quintess\", \"condition\", \"yuanyang\", \"discoveri\", \"brodi\", \"nitrogen\", \"cc\", \"stylish\", \"soon\", \"vienna\", \"kong\", \"danc\", \"nash\", \"film\", \"think\", \"chen\", \"thing\", \"ripley\", \"blink\", \"grandios\", \"kuan\", \"girl\", \"later\", \"happi\", \"time\", \"ruo\", \"like\", \"dick\", \"mind\", \"peopl\", \"good\", \"say\", \"crime\", \"mani\", \"place\", \"father\", \"want\", \"love\", \"song\", \"take\", \"hotel\", \"alway\", \"lot\", \"price\", \"stori\", \"friend\", \"tri\", \"year\", \"go\", \"person\", \"two\", \"still\", \"make\", \"life\", \"eat\", \"see\", \"first\", \"come\", \"one\", \"also\", \"movi\", \"know\", \"look\", \"world\", \"even\", \"feel\", \"katsu\", \"sharma\", \"chae\", \"delux\", \"cayenn\", \"shibu\", \"khaosan\", \"santo\", \"pakkr\", \"ph\", \"stingi\", \"chaengwattana\", \"chlorja\", \"postcard\", \"butler\", \"austrian\", \"fettuccin\", \"\\u625bthe\", \"hayek\", \"millionair\", \"oriol\", \"jinn\", \"lola\", \"mimi\", \"simuenelli\", \"jukebox\", \"viva\", \"aka\", \"lousi\", \"\\u0e40\\u0e15\", \"governor\", \"cat\", \"volcano\", \"yum\", \"smoothi\", \"lava\", \"shrimp\", \"tea\", \"ozono\", \"gt\", \"ice\", \"ari\", \"grill\", \"steak\", \"debat\", \"tuna\", \"schwarzenegg\", \"sweet\", \"lt\", \"shop\", \"banana\", \"kung\", \"tom\", \"delici\", \"tast\", \"creed\", \"restaur\", \"eat\", \"baht\", \"salmon\", \"pork\", \"today\", \"fish\", \"tabl\", \"old\", \"good\", \"menu\", \"food\", \"big\", \"dish\", \"like\", \"piec\", \"price\", \"realli\", \"also\", \"stori\", \"person\", \"know\", \"one\", \"life\", \"mani\", \"peopl\", \"film\", \"year\", \"see\", \"go\", \"movi\", \"come\", \"make\", \"time\", \"still\", \"love\", \"think\", \"say\", \"cupcak\", \"basil\", \"teddi\", \"dusti\", \"gwyn\", \"fangfei\", \"mush\", \"confectioneri\", \"ratchaburi\", \"mezzanin\", \"sticker\", \"petchkasem\", \"harp\", \"huaqiao\", \"dilmah\", \"risotto\", \"frugrain\", \"tompson\", \"khen\", \"subprim\", \"complimentari\", \"fb\", \"zhenqi\", \"boundri\", \"ton\", \"starter\", \"somebodi\", \"swellow\", \"panist\", \"darl\", \"miyuki\", \"regulatori\", \"doll\", \"diplomat\", \"bank\", \"cocoa\", \"microfin\", \"kale\", \"shadow\", \"realli\", \"time\", \"financi\", \"look\", \"crab\", \"also\", \"tast\", \"tri\", \"use\", \"sit\", \"day\", \"bear\", \"world\", \"spici\", \"know\", \"fri\", \"fish\", \"eat\", \"enough\", \"play\", \"peopl\", \"love\", \"chang\", \"experi\", \"go\", \"good\", \"movi\", \"think\", \"say\", \"want\", \"film\", \"three\", \"like\", \"food\", \"make\", \"one\", \"see\", \"two\", \"feel\", \"work\", \"still\", \"first\", \"year\", \"stori\", \"taksin\", \"wasteland\", \"thapa\", \"magma\", \"smoker\", \"nariou\", \"uncertain\", \"cave\", \"timemus\", \"ui\", \"copper\", \"dewey\", \"kant\", \"brazil\", \"rousseau\", \"matia\", \"hamachi\", \"shabushi\", \"arabia\", \"legitimaci\", \"furen\", \"gorilla\", \"laiti\", \"promenad\", \"arithmet\", \"supernatur\", \"boston\", \"epistemolog\", \"interrel\", \"irreconcil\", \"weni\", \"metaphor\", \"walter\", \"daughter\", \"dolphin\", \"educ\", \"monster\", \"hostel\", \"human\", \"frankenstein\", \"vampir\", \"chic\", \"love\", \"philosoph\", \"dracula\", \"war\", \"cartoon\", \"elf\", \"feel\", \"narr\", \"life\", \"restaur\", \"like\", \"chees\", \"famili\", \"howev\", \"state\", \"also\", \"peopl\", \"see\", \"even\", \"one\", \"mani\", \"menu\", \"kill\", \"film\", \"good\", \"stori\", \"sauc\", \"give\", \"make\", \"end\", \"man\", \"movi\", \"first\", \"say\", \"let\", \"think\", \"time\", \"two\", \"want\", \"still\", \"look\", \"go\", \"person\", \"eat\", \"suffolk\", \"shack\", \"spam\", \"beachsid\", \"freshest\", \"krup\", \"beam\", \"akimo\", \"mishmash\", \"ikura\", \"franco\", \"over\", \"manli\", \"papa\", \"afu\", \"baptist\", \"ginni\", \"pape\", \"smother\", \"shibuya\", \"worldchaho\", \"chri\", \"discomfort\", \"jianpai\", \"atlant\", \"woodi\", \"shangri\", \"tencent\", \"zendai\", \"grandeur\", \"mini\", \"fisherman\", \"raytheon\", \"crab\", \"shaohuang\", \"gt\", \"reveng\", \"war\", \"xixia\", \"also\", \"director\", \"one\", \"book\", \"vietnam\", \"year\", \"brother\", \"still\", \"peopl\", \"stori\", \"eye\", \"say\", \"forc\", \"countri\", \"mother\", \"feel\", \"see\", \"dynasti\", \"movi\", \"first\", \"like\", \"best\", \"film\", \"make\", \"two\", \"world\", \"life\", \"time\", \"love\", \"use\", \"charact\", \"kind\", \"lot\", \"know\", \"good\", \"go\", \"mani\", \"think\", \"old\", \"snowman\", \"pee\", \"kenni\", \"carrey\", \"jar\", \"pint\", \"anyt\", \"ther\", \"stormi\", \"jeff\", \"ferrari\", \"lol\", \"skytrain\", \"kiarostami\", \"hyper\", \"saami\", \"nugget\", \"phae\", \"cynthia\", \"wai\", \"oo\", \"xiaohu\", \"highi\", \"unagi\", \"portion\", \"petrol\", \"deluca\", \"jiaolong\", \"mubai\", \"jess\", \"jonni\", \"mevi\", \"lucinda\", \"walter\", \"make\", \"three\", \"film\", \"sister\", \"partner\", \"estat\", \"two\", \"howev\", \"gt\", \"atmospher\", \"eat\", \"delici\", \"movi\", \"want\", \"revolut\", \"offic\", \"invest\", \"go\", \"dream\", \"food\", \"order\", \"even\", \"car\", \"peopl\", \"audienc\", \"person\", \"beauti\", \"good\", \"love\", \"restaur\", \"say\", \"life\", \"take\", \"look\", \"time\", \"like\", \"end\", \"also\", \"see\", \"feel\", \"use\", \"one\", \"mani\", \"think\", \"stori\"], \"Total\": [1194.0, 1931.0, 1110.0, 188.0, 373.0, 836.0, 761.0, 413.0, 1422.0, 733.0, 749.0, 500.0, 547.0, 1048.0, 335.0, 707.0, 500.0, 665.0, 294.0, 472.0, 463.0, 222.0, 113.0, 403.0, 694.0, 869.0, 548.0, 385.0, 292.0, 447.0, 12.217364311218262, 3.235288381576538, 6.222769260406494, 6.205844879150391, 3.178881883621216, 2.0843429565429688, 2.0843091011047363, 2.084177255630493, 2.083921432495117, 2.084038734436035, 2.0838754177093506, 2.0818092823028564, 2.081636428833008, 2.0826687812805176, 2.082505941390991, 2.081240653991699, 2.082345962524414, 2.080756187438965, 2.080564022064209, 2.0807700157165527, 2.0806238651275635, 2.079677104949951, 2.0804994106292725, 2.0788259506225586, 4.136560440063477, 10.135855674743652, 5.200295925140381, 4.108055591583252, 2.068779468536377, 2.0637924671173096, 3.0552027225494385, 60.157501220703125, 6.222176551818848, 80.33378601074219, 43.11695098876953, 9.158843040466309, 1931.94873046875, 775.9822387695312, 102.58720397949219, 422.0289306640625, 12.07766342163086, 11.213154792785645, 4.093550682067871, 18.32513427734375, 306.7713623046875, 131.9402313232422, 226.8970489501953, 1048.8489990234375, 13.108877182006836, 1329.751220703125, 7.097901344299316, 102.95469665527344, 1422.7706298828125, 1253.509033203125, 869.5775146484375, 73.87362670898438, 664.825439453125, 249.62506103515625, 208.5006561279297, 589.3797607421875, 1110.2471923828125, 139.91336059570312, 429.3263854980469, 63.55557632446289, 367.7005615234375, 358.40789794921875, 304.161376953125, 710.740234375, 247.02162170410156, 271.6646728515625, 566.7221069335938, 666.3218383789062, 514.0732421875, 665.2022094726562, 563.3057861328125, 836.7701416015625, 707.0692749023438, 761.9482421875, 694.74609375, 535.9168090820312, 460.4193115234375, 749.8878784179688, 1194.763671875, 733.5040283203125, 568.451171875, 548.3552856445312, 455.2750549316406, 522.6148071289062, 547.9534301757812, 3.075721263885498, 3.0656471252441406, 3.039733648300171, 2.0009207725524902, 2.0009119510650635, 2.0009074211120605, 2.000900983810425, 2.000896692276001, 2.000894784927368, 2.000882148742676, 2.00087833404541, 2.0008552074432373, 2.000863552093506, 2.0008487701416016, 2.001861333847046, 1.9987684488296509, 2.9382224082946777, 1.9977322816848755, 1.9970817565917969, 1.992186188697815, 1.9959770441055298, 1.990151286125183, 1.995556116104126, 1.9954627752304077, 1.988898515701294, 1.987992525100708, 1.9873298406600952, 2.004352331161499, 2.004469633102417, 2.9907233715057373, 8.96548843383789, 40.14196014404297, 10.574751853942871, 20.407772064208984, 7.094970226287842, 18.32660675048828, 222.278076171875, 171.677734375, 4.923348426818848, 188.87322998046875, 153.35147094726562, 10.859256744384766, 52.490150451660156, 41.132049560546875, 24.756052017211914, 8.959805488586426, 21.575899124145508, 263.2115478515625, 44.02686309814453, 403.2684326171875, 34.41648483276367, 45.14989471435547, 27.589401245117188, 500.64117431640625, 500.6184387207031, 16.49991226196289, 413.8755187988281, 761.9482421875, 256.29119873046875, 65.75366973876953, 221.13397216796875, 180.46478271484375, 216.98052978515625, 133.8736572265625, 419.12164306640625, 1253.509033203125, 353.78399658203125, 472.5671691894531, 390.35687255859375, 269.77947998046875, 1329.751220703125, 141.25379943847656, 304.161376953125, 463.8164367675781, 1194.763671875, 710.740234375, 514.0732421875, 568.451171875, 749.8878784179688, 707.0692749023438, 664.825439453125, 1422.7706298828125, 1931.94873046875, 566.7221069335938, 694.74609375, 666.3218383789062, 733.5040283203125, 460.4193115234375, 836.7701416015625, 1048.8489990234375, 563.3057861328125, 1110.2471923828125, 775.9822387695312, 869.5775146484375, 5.673905372619629, 11.6495361328125, 10.131112098693848, 2.6067073345184326, 1.7121355533599854, 1.7121846675872803, 1.7122111320495605, 1.7122161388397217, 1.7122235298156738, 2.573741912841797, 2.4910292625427246, 1.713539958000183, 2.613391637802124, 3.4180233478546143, 1.7169079780578613, 1.7276265621185303, 1.729088544845581, 1.7401584386825562, 1.7354058027267456, 2.5790321826934814, 2.6149094104766846, 1.744897723197937, 2.6698524951934814, 1.7172386646270752, 1.7505507469177246, 2.655116319656372, 1.7170231342315674, 1.7171571254730225, 1.7171673774719238, 1.7180492877960205, 1.7546182870864868, 3.4954566955566406, 24.400203704833984, 11.514948844909668, 51.28725814819336, 13.258472442626953, 3.4664032459259033, 7.162754535675049, 69.18326568603516, 463.8164367675781, 1048.8489990234375, 15.23342514038086, 548.3552856445312, 113.82884216308594, 1194.763671875, 500.6184387207031, 271.6646728515625, 447.4313049316406, 162.1606903076172, 387.2669372558594, 137.53382873535156, 455.2750549316406, 75.39324951171875, 568.451171875, 276.64263916015625, 216.98052978515625, 761.9482421875, 245.787353515625, 450.8914489746094, 1422.7706298828125, 1110.2471923828125, 277.0285339355469, 210.1370086669922, 666.3218383789062, 1253.509033203125, 733.5040283203125, 775.9822387695312, 869.5775146484375, 589.3797607421875, 1931.94873046875, 294.3005065917969, 1329.751220703125, 472.5671691894531, 836.7701416015625, 749.8878784179688, 694.74609375, 665.2022094726562, 547.9534301757812, 361.13665771484375, 563.3057861328125, 535.9168090820312, 566.7221069335938, 710.740234375, 1.7778863906860352, 1.77791428565979, 1.7779206037521362, 1.77799654006958, 1.7779567241668701, 1.7825236320495605, 1.784761667251587, 16.893970489501953, 1.7936509847640991, 1.8000717163085938, 1.798622488975525, 1.799668550491333, 1.8003053665161133, 6.371078014373779, 1.8026145696640015, 3.6348416805267334, 1.8077142238616943, 1.8094830513000488, 2.7114062309265137, 1.8094865083694458, 1.8062611818313599, 3.598933696746826, 1.8100965023040771, 2.8144726753234863, 1.81149160861969, 7.155101299285889, 3.710334539413452, 1.8117271661758423, 1.8134911060333252, 1.8117166757583618, 15.182320594787598, 18.29920196533203, 21.06413459777832, 147.85369873046875, 20.90789794921875, 72.60396575927734, 60.938289642333984, 49.75310516357422, 335.67181396484375, 15.502355575561523, 45.819828033447266, 22.23862648010254, 1110.2471923828125, 48.57547378540039, 72.2110824584961, 373.6324768066406, 26.661775588989258, 62.4810676574707, 547.9534301757812, 114.26815032958984, 707.0692749023438, 413.8755187988281, 1329.751220703125, 70.44029998779297, 297.6444396972656, 259.0122375488281, 197.7620849609375, 1194.763671875, 1422.7706298828125, 694.74609375, 522.6148071289062, 749.8878784179688, 664.825439453125, 353.78399658203125, 245.0434112548828, 1931.94873046875, 1253.509033203125, 710.740234375, 218.8582763671875, 325.79290771484375, 836.7701416015625, 448.7468566894531, 331.88140869140625, 733.5040283203125, 535.9168090820312, 869.5775146484375, 374.4283752441406, 775.9822387695312, 1048.8489990234375, 665.2022094726562, 589.3797607421875, 563.3057861328125, 548.3552856445312, 666.3218383789062, 514.0732421875, 761.9482421875, 1.8404138088226318, 1.8404133319854736, 1.840414047241211, 1.8404242992401123, 1.8404219150543213, 1.8404159545898438, 1.8404078483581543, 1.8404123783111572, 1.8404383659362793, 1.846513032913208, 1.8370226621627808, 1.8367053270339966, 1.8297545909881592, 1.841756820678711, 1.850848913192749, 1.8412811756134033, 1.8394465446472168, 1.8405953645706177, 1.8533562421798706, 1.824793815612793, 1.8164525032043457, 8.499909400939941, 2.8035449981689453, 1.8799939155578613, 4.596600532531738, 5.631311416625977, 1.9044520854949951, 3.5530519485473633, 1.890660285949707, 3.7750906944274902, 2.776804208755493, 6.506034851074219, 54.305599212646484, 113.82884216308594, 17.112716674804688, 188.87322998046875, 60.14413070678711, 373.6324768066406, 57.29359436035156, 1194.763671875, 292.2235107421875, 749.8878784179688, 385.852783203125, 17.782983779907227, 566.7221069335938, 192.95408630371094, 563.3057861328125, 1422.7706298828125, 710.740234375, 195.19186401367188, 869.5775146484375, 113.40499877929688, 184.26438903808594, 230.3162078857422, 547.9534301757812, 694.74609375, 106.02690124511719, 733.5040283203125, 535.9168090820312, 1329.751220703125, 218.71942138671875, 1931.94873046875, 836.7701416015625, 665.2022094726562, 455.2750549316406, 707.0692749023438, 1048.8489990234375, 1110.2471923828125, 447.4313049316406, 360.7239074707031, 373.06463623046875, 358.40789794921875, 568.451171875, 1253.509033203125, 666.3218383789062, 664.825439453125, 775.9822387695312, 419.12164306640625, 2.5379109382629395, 4.839499473571777, 1.6977226734161377, 1.6977293491363525, 1.6977603435516357, 1.6978065967559814, 1.6978189945220947, 1.6978020668029785, 1.6978564262390137, 1.70318603515625, 1.7033214569091797, 1.7034941911697388, 1.7040982246398926, 1.7105485200881958, 1.7185964584350586, 1.7031742334365845, 1.6991080045700073, 1.6993097066879272, 2.6188364028930664, 5.026798248291016, 1.6993582248687744, 4.348981857299805, 1.7170226573944092, 3.4705073833465576, 1.716796875, 1.7003812789916992, 1.7474201917648315, 5.207137107849121, 4.354433059692383, 21.94605255126953, 8.716277122497559, 5.2568864822387695, 9.527929306030273, 21.06413459777832, 836.7701416015625, 294.3005065917969, 1931.94873046875, 154.61416625976562, 42.7684440612793, 36.2078971862793, 665.2022094726562, 259.0122375488281, 188.87322998046875, 232.74957275390625, 761.9482421875, 500.64117431640625, 733.5040283203125, 589.3797607421875, 48.62214279174805, 150.4909210205078, 76.23902893066406, 666.3218383789062, 182.56448364257812, 472.5671691894531, 387.9825134277344, 522.6148071289062, 110.29013061523438, 1422.7706298828125, 312.8694152832031, 514.0732421875, 384.8526611328125, 1253.509033203125, 1110.2471923828125, 413.8755187988281, 869.5775146484375, 707.0692749023438, 429.3263854980469, 548.3552856445312, 1048.8489990234375, 1329.751220703125, 448.7468566894531, 1194.763671875, 694.74609375, 547.9534301757812, 447.4313049316406, 749.8878784179688, 664.825439453125, 775.9822387695312, 710.740234375], \"loglift\": [30.0, 29.0, 28.0, 27.0, 26.0, 25.0, 24.0, 23.0, 22.0, 21.0, 20.0, 19.0, 18.0, 17.0, 16.0, 15.0, 14.0, 13.0, 12.0, 11.0, 10.0, 9.0, 8.0, 7.0, 6.0, 5.0, 4.0, 3.0, 2.0, 1.0, 1.0539000034332275, 0.9305999875068665, 0.7937999963760376, 0.784600019454956, 0.7684000134468079, 0.7620000243186951, 0.761900007724762, 0.7615000009536743, 0.7609000205993652, 0.7605000138282776, 0.7598000168800354, 0.7573999762535095, 0.757099986076355, 0.7569000124931335, 0.7565000057220459, 0.7562999725341797, 0.7559000253677368, 0.7554000020027161, 0.7551000118255615, 0.7538999915122986, 0.7534999847412109, 0.7512999773025513, 0.7502999901771545, 0.7494000196456909, 0.7483999729156494, 0.746399998664856, 0.7462999820709229, 0.7342000007629395, 0.7275000214576721, 0.7253000140190125, 0.7195000052452087, 0.6557999849319458, 0.6978999972343445, 0.5856999754905701, 0.6132000088691711, 0.6682000160217285, 0.34290000796318054, 0.373199999332428, 0.4932999908924103, 0.35429999232292175, 0.6284000277519226, 0.6258999705314636, 0.7045999765396118, 0.5841000080108643, 0.34769999980926514, 0.4108999967575073, 0.35760000348091125, 0.21459999680519104, 0.6085000038146973, 0.1882999986410141, 0.6571999788284302, 0.4142000079154968, 0.16979999840259552, 0.1818999946117401, 0.2076999992132187, 0.4431000053882599, 0.16779999434947968, 0.2827000021934509, 0.3012999892234802, 0.17520000040531158, 0.09849999845027924, 0.3409999907016754, 0.20579999685287476, 0.42989999055862427, 0.20100000500679016, 0.20190000534057617, 0.22310000658035278, 0.08209999650716782, 0.2483000010251999, 0.23029999434947968, 0.08709999918937683, 0.05530000105500221, 0.10279999673366547, 0.04960000142455101, 0.08160000294446945, -0.009499999694526196, 0.01640000008046627, -0.014700000174343586, -0.014299999922513962, 0.054499998688697815, 0.09080000221729279, -0.06120000034570694, -0.21940000355243683, -0.06040000170469284, 0.012000000104308128, -0.023600000888109207, 0.06520000100135803, -0.03680000081658363, -0.08209999650716782, 1.5154999494552612, 1.489400029182434, 1.3378000259399414, 1.3264000415802002, 1.3264000415802002, 1.326300024986267, 1.326300024986267, 1.326300024986267, 1.326300024986267, 1.326200008392334, 1.326200008392334, 1.326200008392334, 1.3260999917984009, 1.3260999917984009, 1.31659996509552, 1.3158999681472778, 1.313099980354309, 1.3107999563217163, 1.3076000213623047, 1.305799961090088, 1.3020999431610107, 1.3008999824523926, 1.2999999523162842, 1.2994999885559082, 1.2978999614715576, 1.295699954032898, 1.2940000295639038, 1.2892999649047852, 1.2879999876022339, 1.2865999937057495, 1.2403000593185425, 1.163100004196167, 1.2157000303268433, 1.1492999792099, 1.2187000513076782, 1.0979000329971313, 0.7771999835968018, 0.7753999829292297, 1.1994999647140503, 0.7541999816894531, 0.7807000279426575, 1.0990999937057495, 0.8828999996185303, 0.9156000018119812, 0.9843000173568726, 1.1188000440597534, 0.9937000274658203, 0.6367999911308289, 0.8902999758720398, 0.5548999905586243, 0.9236000180244446, 0.8790000081062317, 0.9351999759674072, 0.47909998893737793, 0.4648999869823456, 1.0092999935150146, 0.4918999969959259, 0.361299991607666, 0.5317000150680542, 0.7657999992370605, 0.5400000214576721, 0.573199987411499, 0.5364999771118164, 0.6270999908447266, 0.38940000534057617, 0.09109999984502792, 0.38100001215934753, 0.29899999499320984, 0.32350000739097595, 0.4009999930858612, -0.026900000870227814, 0.5564000010490417, 0.3450999855995178, 0.22550000250339508, -0.060499999672174454, 0.0885000005364418, 0.17170000076293945, 0.1185000017285347, 0.029100000858306885, 0.025499999523162842, 0.039500001817941666, -0.3165000081062317, -0.44839999079704285, 0.06800000369548798, -0.0430000014603138, -0.026900000870227814, -0.08540000021457672, 0.15279999375343323, -0.23489999771118164, -0.3937000036239624, 0.0026000000070780516, -0.5184999704360962, -0.26089999079704285, -0.4221000075340271, 1.7063000202178955, 1.5087000131607056, 1.3861000537872314, 1.3265000581741333, 1.2884999513626099, 1.2882000207901, 1.2879999876022339, 1.2879999876022339, 1.2879999876022339, 1.2878999710083008, 1.273300051689148, 1.2690999507904053, 1.2604000568389893, 1.2580000162124634, 1.2446999549865723, 1.215399980545044, 1.207800030708313, 1.2056000232696533, 1.2034000158309937, 1.1957000494003296, 1.193600058555603, 1.1912000179290771, 1.1778000593185425, 1.1748000383377075, 1.173699975013733, 1.1713000535964966, 1.163599967956543, 1.1613999605178833, 1.1608999967575073, 1.156599998474121, 1.156599998474121, 1.1404000520706177, 1.073699951171875, 1.0788999795913696, 0.9629999995231628, 1.0161999464035034, 1.1230000257492065, 1.0591000318527222, 0.6941999793052673, 0.42669999599456787, 0.2800000011920929, 0.8996999859809875, 0.3474999964237213, 0.5902000069618225, 0.20309999585151672, 0.3303000032901764, 0.429500013589859, 0.3443000018596649, 0.5110999941825867, 0.3625999987125397, 0.5317000150680542, 0.30559998750686646, 0.6072999835014343, 0.2370000034570694, 0.36959999799728394, 0.40619999170303345, 0.14419999718666077, 0.3643999993801117, 0.23770000040531158, 0.0006000000284984708, 0.04960000142455101, 0.3325999975204468, 0.3889000117778778, 0.13130000233650208, -0.02239999920129776, 0.057100001722574234, 0.03819999843835831, -0.006399999838322401, 0.0892999991774559, -0.2865999937057495, 0.2906000018119812, -0.2321999967098236, 0.1168999969959259, -0.09510000050067902, -0.06350000202655792, -0.03999999910593033, -0.03779999911785126, 0.0044999998062849045, 0.19429999589920044, -0.04430000111460686, -0.022099999710917473, -0.09149999916553497, -0.2721000015735626, 1.4158999919891357, 1.4155999422073364, 1.4155999422073364, 1.4154000282287598, 1.4151999950408936, 1.3868000507354736, 1.378600001335144, 1.3628000020980835, 1.3280999660491943, 1.3143999576568604, 1.3107999563217163, 1.3035000562667847, 1.3034000396728516, 1.2904000282287598, 1.2898000478744507, 1.2798000574111938, 1.277400016784668, 1.2689000368118286, 1.2675000429153442, 1.2646000385284424, 1.261299967765808, 1.2585999965667725, 1.2553999423980713, 1.2484999895095825, 1.2441999912261963, 1.2422000169754028, 1.2400000095367432, 1.2389999628067017, 1.2329000234603882, 1.2325999736785889, 1.2023999691009521, 1.1470999717712402, 1.0911999940872192, 0.826200008392334, 1.0184999704360962, 0.8898000121116638, 0.8565999865531921, 0.8683000206947327, 0.609499990940094, 1.002500057220459, 0.847599983215332, 0.9369000196456909, 0.3411000072956085, 0.8082000017166138, 0.7408999800682068, 0.46470001339912415, 0.8881000280380249, 0.7318000197410583, 0.30329999327659607, 0.5770000219345093, 0.2117999941110611, 0.3066999912261963, 0.06080000102519989, 0.66839998960495, 0.35589998960494995, 0.382999986410141, 0.4383000135421753, 0.03519999980926514, -0.005100000184029341, 0.12729999423027039, 0.19300000369548798, 0.07540000230073929, 0.1005999967455864, 0.26429998874664307, 0.3497999906539917, -0.23090000450611115, -0.11800000071525574, 0.022299999371170998, 0.38109999895095825, 0.2547999918460846, -0.039500001817941666, 0.14810000360012054, 0.21950000524520874, -0.0917000025510788, 0.016100000590085983, -0.17499999701976776, 0.15119999647140503, -0.18359999358654022, -0.35109999775886536, -0.14710000157356262, -0.10970000177621841, -0.0966000035405159, -0.14090000092983246, -0.3057999908924103, -0.10989999771118164, -0.4900999963283539, 1.500100016593933, 1.500100016593933, 1.500100016593933, 1.500100016593933, 1.500100016593933, 1.5, 1.4996000528335571, 1.499400019645691, 1.4990999698638916, 1.4637000560760498, 1.4544999599456787, 1.4500000476837158, 1.4397000074386597, 1.4381999969482422, 1.4293999671936035, 1.4263999462127686, 1.4183000326156616, 1.4180999994277954, 1.416700005531311, 1.398300051689148, 1.3436000347137451, 1.2948999404907227, 1.248900055885315, 1.236799955368042, 1.2312999963760376, 1.211899995803833, 1.1948000192642212, 1.1680999994277954, 1.1547000408172607, 1.149899959564209, 1.1412999629974365, 1.0936000347137451, 0.9659000039100647, 0.9000999927520752, 1.0211999416351318, 0.7583000063896179, 0.8781999945640564, 0.6729999780654907, 0.8725000023841858, 0.40560001134872437, 0.48399999737739563, 0.27250000834465027, 0.3765999972820282, 0.9835000038146973, 0.2750000059604645, 0.45899999141693115, 0.22030000388622284, 0.01600000075995922, 0.16859999299049377, 0.43869999051094055, 0.09989999979734421, 0.5503000020980835, 0.42570000886917114, 0.36970001459121704, 0.1535000056028366, 0.09109999984502792, 0.5360000133514404, 0.06719999760389328, 0.13249999284744263, -0.09969999641180038, 0.34439998865127563, -0.2076999992132187, -0.0044999998062849045, 0.05130000039935112, 0.15309999883174896, 0.03060000017285347, -0.08940000087022781, -0.13259999454021454, 0.10719999670982361, 0.18320000171661377, 0.1599999964237213, 0.1673000007867813, -0.040800001472234726, -0.4194999933242798, -0.1386999934911728, -0.16859999299049377, -0.4212999939918518, 0.045099999755620956, 1.6272000074386597, 1.5401999950408936, 1.496999979019165, 1.496899962425232, 1.4967999458312988, 1.496500015258789, 1.496500015258789, 1.496399998664856, 1.4960999488830566, 1.4781999588012695, 1.4776999950408936, 1.4771000146865845, 1.475000023841858, 1.4524999856948853, 1.4361000061035156, 1.434000015258789, 1.4113999605178833, 1.3996000289916992, 1.3954999446868896, 1.3933000564575195, 1.3931000232696533, 1.3720999956130981, 1.3605999946594238, 1.3416999578475952, 1.3293999433517456, 1.325700044631958, 1.3166999816894531, 1.2925000190734863, 1.292199969291687, 1.2805999517440796, 1.2447999715805054, 1.2275999784469604, 1.1402000188827515, 0.9842000007629395, 0.3917999863624573, 0.5378000140190125, 0.19359999895095825, 0.6330999732017517, 0.8392999768257141, 0.8492000102996826, 0.25360000133514404, 0.44279998540878296, 0.5044999718666077, 0.45410001277923584, 0.20239999890327454, 0.2800999879837036, 0.19529999792575836, 0.24169999361038208, 0.7615000009536743, 0.511900007724762, 0.6485000252723694, 0.14830000698566437, 0.439300000667572, 0.20329999923706055, 0.2485000044107437, 0.16060000658035278, 0.53329998254776, -0.10970000177621841, 0.2694000005722046, 0.1298000067472458, 0.2053000032901764, -0.12129999697208405, -0.09359999746084213, 0.18060000240802765, -0.029200000688433647, 0.02419999986886978, 0.16269999742507935, 0.07500000298023224, -0.13300000131130219, -0.22529999911785126, 0.10930000245571136, -0.33079999685287476, -0.12219999730587006, -0.005900000222027302, 0.07079999893903732, -0.28029999136924744, -0.21619999408721924, -0.37610000371932983, -0.32510000467300415], \"logprob\": [30.0, 29.0, 28.0, 27.0, 26.0, 25.0, 24.0, 23.0, 22.0, 21.0, 20.0, 19.0, 18.0, 17.0, 16.0, 15.0, 14.0, 13.0, 12.0, 11.0, 10.0, 9.0, 8.0, 7.0, 6.0, 5.0, 4.0, 3.0, 2.0, 1.0, -8.587400436401367, -10.039400100708008, -9.522100448608398, -9.534000396728516, -10.219300270080566, -10.647700309753418, -10.64780044555664, -10.648300170898438, -10.64900016784668, -10.649299621582031, -10.650199890136719, -10.653499603271484, -10.653900146484375, -10.653599739074707, -10.65410041809082, -10.654899597167969, -10.65470027923584, -10.656000137329102, -10.656499862670898, -10.657500267028809, -10.657999992370605, -10.660599708557129, -10.661299705505371, -10.663000106811523, -9.975899696350098, -9.081700325012207, -9.749099731445312, -9.996999740600586, -10.68970012664795, -10.694299697875977, -10.30780029296875, -7.39139986038208, -9.618200302124023, -7.1722002029418945, -7.767000198364258, -9.261199951171875, -4.235000133514404, -5.1168999671936035, -7.020100116729736, -5.744800090789795, -9.024399757385254, -9.101200103759766, -10.030099868774414, -8.651800155639648, -6.070300102233887, -6.850900173187256, -6.362100124359131, -4.974100112915039, -8.962400436401367, -4.7631001472473145, -9.527199745178223, -7.095699787139893, -4.714000225067139, -4.82859992980957, -5.168499946594238, -7.39870023727417, -5.476900100708008, -6.3414998054504395, -6.502900123596191, -5.589900016784668, -5.033400058746338, -6.862100124359131, -5.876100063323975, -7.562300205230713, -6.035900115966797, -6.0605998039245605, -6.203499794006348, -5.495699882507324, -6.386300086975098, -6.309299945831299, -5.717199802398682, -5.587100028991699, -5.798999786376953, -5.594399929046631, -5.728700160980225, -5.424099922180176, -5.5665998458862305, -5.522900104522705, -5.6149001121521, -5.805600166320801, -5.921199798583984, -5.585400104522705, -5.2778000831604, -5.606800079345703, -5.7891998291015625, -5.860899925231934, -5.958099842071533, -5.922100067138672, -5.920100212097168, -9.50510025024414, -9.534500122070312, -9.694600105285645, -10.124199867248535, -10.124199867248535, -10.124199867248535, -10.124300003051758, -10.124300003051758, -10.124300003051758, -10.124300003051758, -10.12440013885498, -10.12440013885498, -10.12440013885498, -10.124500274658203, -10.133500099182129, -10.135700225830078, -9.753199577331543, -10.141300201416016, -10.14490032196045, -10.149100303649902, -10.150899887084961, -10.154999732971191, -10.153200149536133, -10.15369987487793, -10.158699989318848, -10.161299705505371, -10.163299560546875, -10.159500122070312, -10.160799980163574, -9.762100219726562, -8.71049976348877, -7.288700103759766, -8.569899559020996, -7.978899955749512, -8.966099739074707, -8.137900352478027, -5.9629998207092285, -6.223100185394287, -9.350700378417969, -6.148900032043457, -6.3308000564575195, -8.65999984741211, -7.3007001876831055, -7.5117998123168945, -7.950799942016602, -8.832599639892578, -8.078900337219238, -5.9344000816345215, -7.468999862670898, -5.589600086212158, -7.682000160217285, -7.4552001953125, -7.891499996185303, -5.449100017547607, -5.463399887084961, -8.331500053405762, -5.626699924468994, -5.146900177001953, -6.066199779510498, -7.192399978637695, -6.205399990081787, -6.375400066375732, -6.227799892425537, -6.620200157165527, -5.716599941253662, -4.919300079345703, -5.894499778747559, -5.686999797821045, -5.853499889373779, -6.145500183105469, -4.978300094604492, -6.637199878692627, -6.081500053405762, -5.779200077056885, -5.118899822235107, -5.489299774169922, -5.730100154876709, -5.682799816131592, -5.495200157165527, -5.557499885559082, -5.605100154876709, -5.200300216674805, -5.026299953460693, -5.736299991607666, -5.643599987030029, -5.669300079345703, -5.631700038909912, -5.859300136566162, -5.649499893188477, -5.582399845123291, -5.807700157165527, -5.650300025939941, -5.750899791717529, -5.798299789428711, -8.70199966430664, -8.180100440979004, -8.442500114440918, -9.85949993133545, -10.317899703979492, -10.31820011138916, -10.318400382995605, -10.318400382995605, -10.318400382995605, -9.910900115966797, -9.958100318908691, -10.33650016784668, -9.923100471496582, -9.657099723815918, -10.359000205993652, -10.382100105285645, -10.388799667358398, -10.384599685668945, -10.38949966430664, -10.001099586486816, -9.989299774169922, -10.396300315856934, -9.984299659729004, -10.428600311279297, -10.410499572753906, -9.996299743652344, -10.4399995803833, -10.442099571228027, -10.442500114440918, -10.446399688720703, -10.425299644470215, -9.752300262451172, -7.875800132751465, -8.621600151062012, -7.24370002746582, -8.543299674987793, -9.77810001373291, -9.11620044708252, -7.213200092315674, -5.577899932861328, -4.908699989318848, -8.520999908447266, -5.489699840545654, -6.819300174713135, -4.855400085449219, -5.598100185394287, -6.110099792480469, -5.696300029754639, -6.54449987411499, -5.822400093078613, -6.688600063323975, -5.717599868774414, -7.214200019836426, -5.564199924468994, -6.151899814605713, -6.358099937438965, -5.364099979400635, -6.275300025939941, -5.795199871063232, -4.883200168609619, -5.082200050354004, -6.187399864196777, -6.40749979019165, -5.511099815368652, -5.032800197601318, -5.489299774169922, -5.4517998695373535, -5.382500171661377, -5.6757001876831055, -4.864500045776367, -6.169000148773193, -5.183599948883057, -5.86899995803833, -5.509699821472168, -5.587699890136719, -5.640600204467773, -5.68179988861084, -5.833499908447266, -6.0605998039245605, -5.854700088500977, -5.882299900054932, -5.8958001136779785, -5.849899768829346, -10.152799606323242, -10.15310001373291, -10.15310001373291, -10.153200149536133, -10.153499603271484, -10.179300308227539, -10.186200141906738, -7.954400062561035, -10.231800079345703, -10.241900444030762, -10.246299743652344, -10.253100395202637, -10.252799987792969, -9.001899719238281, -10.26509952545166, -9.573699951171875, -10.274700164794922, -10.28219985961914, -9.87909984588623, -10.286499977111816, -10.291600227355957, -9.604900360107422, -10.29539966583252, -9.860899925231934, -10.305899620056152, -8.934200286865234, -9.593000411987305, -10.31089973449707, -10.315999984741211, -10.31719970703125, -8.221699714660645, -8.090200424194336, -8.00529956817627, -6.321700096130371, -8.08549976348877, -6.969299793243408, -7.177700042724609, -7.368800163269043, -5.718500137329102, -8.400699615478516, -7.47189998626709, -8.105400085449219, -4.7906999588012695, -7.452899932861328, -7.123600006103516, -5.756199836730957, -7.972799777984619, -7.277500152587891, -5.5346999168396, -6.82859992980957, -5.371300220489502, -5.8119001388549805, -4.890600204467773, -7.2210001945495605, -6.092400074005127, -6.2042999267578125, -6.418799877166748, -5.023200035095215, -4.888899803161621, -5.473299980163574, -5.692299842834473, -5.448800086975098, -5.544000148773193, -6.011199951171875, -6.292900085449219, -4.808800220489502, -5.128499984741211, -5.555500030517578, -6.374599933624268, -6.103099822998047, -5.454100131988525, -5.889599800109863, -6.119900226593018, -5.6381001472473145, -5.844099998474121, -5.551199913024902, -6.067599773406982, -5.673699855804443, -5.53980016708374, -5.791100025177002, -5.874800205230713, -5.906899929046631, -5.978099822998047, -5.9481000900268555, -6.01170015335083, -5.998300075531006, -10.034000396728516, -10.034000396728516, -10.034099578857422, -10.034099578857422, -10.034099578857422, -10.034099578857422, -10.034600257873535, -10.034799575805664, -10.035099983215332, -10.067099571228027, -10.081500053405762, -10.086099624633789, -10.100199699401855, -10.095199584960938, -10.099100112915039, -10.1072998046875, -10.116399765014648, -10.116000175476074, -10.110400199890137, -10.144399642944336, -10.20359992980957, -8.709199905395508, -9.864299774169922, -10.276100158691406, -9.387499809265137, -9.203900337219238, -10.30519962310791, -9.708200454711914, -10.35260009765625, -9.665800094604492, -9.981499671936035, -9.177800178527832, -7.183700084686279, -6.509399890899658, -8.28320026397705, -6.144800186157227, -7.1691999435424805, -5.547900199890137, -7.223499774932861, -4.652900218963623, -5.982699871063232, -5.251699924468994, -5.812099933624268, -8.282400131225586, -5.529300212860107, -6.422699928283691, -5.590000152587891, -4.867800235748291, -5.409200191497803, -6.43149995803833, -5.276299953460693, -6.8628997802734375, -6.502099990844727, -6.335000038146973, -5.684500217437744, -5.5096001625061035, -6.944399833679199, -5.479100227355957, -5.727700233459473, -5.05109977722168, -6.411900043487549, -4.7855000495910645, -5.419099807739258, -5.592800140380859, -5.870100021362305, -5.5524001121521, -5.278200149536133, -5.264400005340576, -5.9334001541137695, -6.07289981842041, -6.062399864196777, -6.095200061798096, -5.8420000076293945, -5.429999828338623, -5.781099796295166, -5.813199996948242, -5.911300182342529, -6.0609002113342285, -9.585599899291992, -9.027199745178223, -10.117899894714355, -10.118000030517578, -10.1181001663208, -10.118300437927246, -10.118300437927246, -10.118399620056152, -10.11870002746582, -10.133500099182129, -10.133899688720703, -10.134400367736816, -10.136099815368652, -10.154800415039062, -10.166600227355957, -10.177599906921387, -10.20259952545166, -10.214400291442871, -9.78600025177002, -9.136099815368652, -10.220800399780273, -9.302200317382812, -10.242899894714355, -9.558099746704102, -10.274299621582031, -10.287599563598633, -10.26930046081543, -9.201700210571289, -9.380800247192383, -7.775000095367432, -8.734199523925781, -9.256999969482422, -8.749699592590332, -8.112299919128418, -5.022900104522705, -5.921800136566162, -4.384300231933594, -6.470099925994873, -7.548999786376953, -7.705699920654297, -5.390399932861328, -6.144499778747559, -6.398600101470947, -6.240099906921387, -5.3059000968933105, -5.648200035095215, -5.351099967956543, -5.523399829864502, -7.498600006103516, -6.6184000968933105, -7.161799907684326, -5.494100093841553, -6.497799873352051, -5.782599925994873, -5.934700012207031, -5.724699974060059, -6.907800197601318, -4.993500232696533, -6.128900051116943, -5.771999835968018, -5.985899925231934, -5.131800174713135, -5.225500106811523, -5.938000202178955, -5.405399799346924, -5.558800220489502, -5.9191999435424805, -5.76230001449585, -5.321700096130371, -5.176700115203857, -5.928400039672852, -5.389200210571289, -5.722799777984619, -5.843900203704834, -5.969900131225586, -5.804500102996826, -5.860899925231934, -5.866099834442139, -5.902900218963623]}, \"token.table\": {\"Topic\": [5, 2, 5, 1, 2, 3, 4, 5, 6, 1, 2, 3, 4, 5, 6, 1, 5, 6, 1, 2, 4, 1, 2, 3, 4, 5, 6, 4, 1, 1, 4, 5, 1, 2, 3, 4, 5, 6, 1, 2, 3, 4, 5, 6, 2, 1, 2, 3, 4, 5, 6, 1, 2, 3, 4, 5, 6, 1, 2, 3, 4, 5, 6, 5, 1, 2, 3, 4, 6, 5, 5, 1, 2, 3, 4, 5, 6, 1, 2, 3, 4, 5, 6, 1, 2, 3, 4, 5, 6, 1, 2, 3, 4, 5, 6, 1, 2, 3, 4, 5, 6, 1, 2, 3, 4, 5, 6, 1, 4, 3, 1, 2, 3, 4, 5, 1, 1, 2, 3, 4, 5, 6, 2, 1, 2, 3, 4, 5, 6, 6, 1, 2, 3, 4, 5, 6, 1, 2, 3, 4, 5, 6, 1, 2, 3, 4, 5, 6, 2, 1, 2, 2, 1, 2, 3, 4, 5, 6, 1, 2, 3, 4, 5, 6, 1, 2, 3, 4, 5, 6, 1, 2, 3, 4, 5, 6, 1, 2, 3, 4, 5, 6, 2, 2, 4, 5, 6, 1, 2, 3, 4, 5, 6, 1, 2, 3, 4, 5, 6, 1, 3, 1, 4, 3, 4, 1, 2, 3, 4, 5, 6, 1, 2, 3, 4, 5, 6, 1, 2, 3, 5, 1, 2, 3, 4, 5, 6, 3, 2, 6, 1, 2, 3, 4, 5, 6, 3, 1, 2, 3, 4, 5, 6, 1, 2, 3, 4, 5, 6, 1, 2, 3, 4, 5, 6, 1, 2, 3, 4, 5, 6, 6, 2, 4, 1, 3, 4, 5, 3, 1, 2, 3, 4, 5, 1, 2, 3, 4, 5, 6, 1, 5, 1, 1, 2, 3, 4, 5, 6, 1, 2, 3, 4, 5, 6, 1, 2, 3, 4, 5, 6, 1, 2, 3, 4, 5, 6, 1, 2, 3, 4, 5, 6, 3, 1, 2, 3, 4, 5, 6, 1, 2, 3, 4, 5, 6, 1, 2, 3, 4, 5, 6, 1, 2, 3, 4, 5, 6, 1, 2, 3, 4, 5, 6, 1, 2, 3, 4, 5, 6, 4, 1, 2, 3, 4, 5, 6, 1, 2, 3, 4, 5, 6, 1, 2, 3, 4, 5, 6, 1, 2, 3, 4, 5, 6, 1, 2, 3, 4, 5, 6, 3, 1, 2, 3, 4, 5, 6, 3, 1, 2, 3, 4, 5, 6, 6, 2, 3, 1, 2, 3, 4, 5, 6, 1, 2, 3, 4, 5, 6, 1, 2, 3, 4, 5, 6, 1, 2, 3, 4, 5, 6, 1, 3, 4, 5, 6, 1, 2, 3, 4, 5, 6, 1, 2, 3, 4, 5, 6, 5, 1, 2, 3, 4, 5, 6, 5, 1, 2, 3, 4, 5, 6, 1, 2, 3, 4, 5, 6, 3, 4, 5, 1, 2, 3, 4, 5, 6, 1, 2, 3, 4, 5, 6, 1, 2, 3, 4, 5, 6, 1, 2, 3, 4, 5, 6, 4, 1, 2, 3, 4, 6, 1, 5, 1, 1, 2, 3, 4, 5, 6, 1, 2, 3, 4, 5, 6, 3, 4, 1, 2, 3, 4, 5, 6, 2, 3, 2, 6, 1, 2, 3, 4, 5, 6, 1, 2, 3, 4, 5, 6, 1, 2, 3, 4, 5, 6, 2, 3, 1, 2, 3, 4, 5, 6, 1, 6, 1, 2, 3, 4, 5, 6, 5, 1, 4, 1, 2, 3, 4, 5, 6, 4, 6, 6, 1, 2, 3, 4, 6, 5, 1, 3, 6, 2, 1, 2, 3, 4, 5, 6, 2, 1, 1, 2, 3, 6, 4, 2, 6, 2, 3, 6, 1, 2, 3, 4, 5, 6, 1, 2, 3, 4, 5, 6, 1, 2, 3, 4, 5, 6, 1, 2, 3, 4, 5, 6, 5, 1, 2, 3, 4, 5, 6, 1, 2, 3, 4, 5, 6, 4, 1, 1, 2, 3, 4, 5, 6, 1, 2, 3, 4, 5, 6, 4, 1, 2, 3, 4, 5, 6, 1, 2, 3, 4, 5, 6, 1, 2, 3, 4, 5, 6, 6, 2, 1, 2, 3, 4, 5, 6, 1, 2, 3, 4, 5, 6, 2, 1, 2, 3, 4, 5, 6, 1, 2, 3, 4, 5, 6, 1, 2, 3, 4, 5, 6, 1, 4, 1, 1, 2, 3, 4, 5, 6, 1, 1, 2, 3, 4, 5, 6, 1, 2, 3, 4, 5, 6, 5, 1, 4, 5, 1, 2, 3, 4, 5, 6, 1, 2, 3, 4, 5, 6, 1, 2, 4, 6, 3, 2, 3, 2, 2, 1, 2, 3, 4, 5, 6, 5, 1, 5, 3, 1, 2, 3, 4, 5, 6, 1, 2, 3, 4, 5, 6, 1, 2, 3, 4, 5, 6, 1, 3, 6, 3, 4, 1, 2, 3, 4, 5, 6, 1, 2, 3, 4, 5, 1, 6, 1, 2, 3, 4, 5, 6, 1, 2, 3, 4, 5, 6, 1, 1, 2, 3, 4, 5, 6, 6, 1, 1, 2, 3, 4, 5, 6, 2, 5, 2, 3, 5, 2, 3, 5, 5, 1, 2, 3, 4, 5, 6, 3, 4, 6, 1, 2, 3, 4, 5, 6, 1, 2, 3, 4, 5, 6, 3, 6, 2, 6, 1, 2, 3, 4, 5, 6, 1, 2, 3, 4, 5, 6, 6, 1, 1, 2, 3, 4, 5, 6, 1, 2, 3, 4, 5, 6, 1, 1, 2, 3, 4, 5, 6, 6, 2, 1, 2, 3, 4, 5, 6, 1, 4, 1, 3, 1, 2, 3, 4, 5, 6, 1, 2, 3, 4, 5, 6, 2, 3, 1, 2, 3, 4, 5, 6, 1, 2, 3, 4, 5, 6, 1, 2, 3, 4, 5, 6, 1, 2, 3, 4, 5, 3, 4, 1, 2, 3, 4, 5, 6, 6, 1, 2, 3, 4, 5, 6, 1, 2, 1, 2, 3, 4, 5, 6, 1, 2, 3, 4, 5, 6, 1, 3, 4, 1, 2, 3, 4, 5, 6, 1, 2, 3, 4, 5, 6, 4, 5, 1, 2, 3, 4, 5, 6, 5, 1, 2, 3, 4, 5, 6, 2, 2, 5, 1, 2, 3, 4, 5, 6, 1, 2, 3, 4, 5, 6, 2, 1, 2, 3, 4, 5, 6, 1, 2, 3, 4, 5, 6, 6, 4, 1, 1, 2, 4, 5, 6, 3, 1, 2, 3, 4, 5, 6, 1, 2, 3, 4, 5, 6, 5, 1, 2, 3, 4, 5, 6, 1, 1, 3, 1, 2, 3, 4, 5, 6, 1, 2, 3, 4, 5, 6, 3, 6, 1, 2, 3, 4, 5, 6, 2, 1, 1, 2, 3, 4, 5, 6, 6, 1, 3, 5, 1, 2, 3, 4, 5, 6, 1, 2, 3, 4, 5, 6, 3, 1, 2, 3, 4, 5, 6, 1, 2, 3, 4, 5, 6, 4, 1, 1, 2, 3, 4, 5, 6, 1, 2, 3, 4, 5, 6, 1, 2, 3, 5, 6, 5, 6, 4, 6, 1, 2, 3, 4, 5, 6, 1, 2, 3, 4, 5, 6, 1, 2, 3, 4, 5, 6, 1, 2, 3, 4, 5, 6, 4, 1, 2, 3, 4, 5, 6, 1, 2, 3, 4, 5, 6, 3, 3, 1, 2, 3, 4, 5, 6, 1, 2, 3, 4, 5, 6, 1, 2, 3, 4, 5, 6, 4, 1, 6, 4, 1, 2, 3, 4, 5, 6, 1, 2, 3, 4, 5, 6, 1, 2, 3, 1, 2, 3, 4, 5, 6, 2, 1, 2, 5, 3, 4, 6, 1, 4, 6, 1, 2, 3, 4, 5, 6, 1, 2, 3, 4, 5, 6, 4, 1, 2, 3, 4, 5, 6, 2, 5, 1, 2, 3, 4, 5, 6, 1, 2, 3, 4, 5, 6, 5, 1, 1, 3, 6, 1, 2, 3, 4, 5, 6, 1, 2, 3, 4, 5, 6, 1, 2, 3, 6, 1, 2, 3, 4, 5, 6, 2, 5, 1, 1, 3, 2, 5, 2], \"Freq\": [0.5402926206588745, 0.49891427159309387, 0.5433564782142639, 0.24272581934928894, 0.15651631355285645, 0.18078888952732086, 0.1406135857105255, 0.1941806674003601, 0.08537252992391586, 0.36986616253852844, 0.16045664250850677, 0.13598020374774933, 0.08702733367681503, 0.13598020374774933, 0.11150377243757248, 0.6428006291389465, 0.16070015728473663, 0.5889909267425537, 0.48062506318092346, 0.36881232261657715, 0.36881232261657715, 0.18417467176914215, 0.4604366719722748, 0.09208733588457108, 0.09208733588457108, 0.09208733588457108, 0.09208733588457108, 0.5520312786102295, 0.4798751473426819, 0.2175520807504654, 0.2175520807504654, 0.4351041615009308, 0.27497366070747375, 0.19334085285663605, 0.13748683035373688, 0.16326560080051422, 0.0429646335542202, 0.18474791944026947, 0.2780712842941284, 0.182184636592865, 0.09588664770126343, 0.16300730407238007, 0.12784886360168457, 0.15661485493183136, 0.500308096408844, 0.33165398240089417, 0.28483226895332336, 0.15997427701950073, 0.14046521484851837, 0.04682173952460289, 0.039018116891384125, 0.29055842757225037, 0.4067818224430084, 0.05811168625950813, 0.14527921378612518, 0.029055843129754066, 0.05811168625950813, 0.11698812246322632, 0.23397624492645264, 0.3899604082107544, 0.07799208164215088, 0.07799208164215088, 0.13648614287376404, 0.543100118637085, 0.08584032952785492, 0.08584032952785492, 0.6867226362228394, 0.08584032952785492, 0.08584032952785492, 0.5433529615402222, 0.5433578491210938, 0.26902472972869873, 0.13814783096313477, 0.25448283553123474, 0.12360595166683197, 0.13087689876556396, 0.09452220052480698, 0.3066108524799347, 0.1325182467699051, 0.1585022211074829, 0.14031343162059784, 0.1169278621673584, 0.1455102264881134, 0.37490954995155334, 0.12344583123922348, 0.07772514969110489, 0.12801790237426758, 0.18288271129131317, 0.10972962528467178, 0.2459288090467453, 0.23055826127529144, 0.15114374458789825, 0.15114374458789825, 0.12296440452337265, 0.09734681993722916, 0.5350857973098755, 0.08918096870183945, 0.08918096870183945, 0.08918096870183945, 0.08918096870183945, 0.08918096870183945, 0.33173274993896484, 0.19178299605846405, 0.17104969918727875, 0.049241576343774796, 0.1891913264989853, 0.06738321483135223, 0.2695174813270569, 0.5390349626541138, 0.5823302268981934, 0.15695931017398834, 0.15695931017398834, 0.15695931017398834, 0.47087791562080383, 0.15695931017398834, 0.7302724719047546, 0.2954070568084717, 0.1399296671152115, 0.16065998375415802, 0.07255612313747406, 0.2021206170320511, 0.12438192218542099, 0.49953511357307434, 0.23574185371398926, 0.1904068887233734, 0.12693792581558228, 0.09066994488239288, 0.15413890779018402, 0.19947387278079987, 0.5890220403671265, 0.26254814863204956, 0.07501375675201416, 0.15002751350402832, 0.3375619053840637, 0.11252063512802124, 0.07501375675201416, 0.12455794215202332, 0.5231433510780334, 0.1494695395231247, 0.07473476976156235, 0.07473476976156235, 0.049823176115751266, 0.1775781512260437, 0.0591927170753479, 0.1775781512260437, 0.5327344536781311, 0.0591927170753479, 0.0591927170753479, 0.4997721016407013, 0.4845448434352875, 0.6579523682594299, 0.49978628754615784, 0.34653469920158386, 0.12995050847530365, 0.20575498044490814, 0.10107262432575226, 0.11551156640052795, 0.10107262432575226, 0.35206982493400574, 0.09425491094589233, 0.11366033554077148, 0.16078779101371765, 0.155243381857872, 0.12474914640188217, 0.42589256167411804, 0.12776777148246765, 0.08517850935459137, 0.26973196864128113, 0.042589254677295685, 0.05678567662835121, 0.49713802337646484, 0.1364692598581314, 0.10722585022449493, 0.08773023635149002, 0.07798243314027786, 0.09747804701328278, 0.22483402490615845, 0.13490042090415955, 0.0899336114525795, 0.359734445810318, 0.0899336114525795, 0.13490042090415955, 0.4997842013835907, 0.352944940328598, 0.11764831095933914, 0.47059324383735657, 0.11764831095933914, 0.1508469432592392, 0.1508469432592392, 0.3771173357963562, 0.0754234716296196, 0.1508469432592392, 0.0754234716296196, 0.33230578899383545, 0.19330205023288727, 0.15203532576560974, 0.117284394800663, 0.117284394800663, 0.08904926478862762, 0.38242241740226746, 0.38242241740226746, 0.7252402305603027, 0.24174673855304718, 0.5840384364128113, 0.5559810400009155, 0.2713492214679718, 0.12482064217329025, 0.14110159873962402, 0.16823652386665344, 0.19537144899368286, 0.09225873649120331, 0.07906607538461685, 0.14056190848350525, 0.26355358958244324, 0.061495836824178696, 0.3162643015384674, 0.14056190848350525, 0.30303192138671875, 0.48485106229782104, 0.06060638278722763, 0.12121276557445526, 0.4737820625305176, 0.09475641697645187, 0.09475641697645187, 0.1353663057088852, 0.10829304158687592, 0.09475641697645187, 0.8812272548675537, 0.3818489909172058, 0.3818489909172058, 0.5566256046295166, 0.09277094155550003, 0.13915640115737915, 0.09277094155550003, 0.06957820057868958, 0.06957820057868958, 0.5820554494857788, 0.22319360077381134, 0.09468819946050644, 0.09468819946050644, 0.31111836433410645, 0.13526885211467743, 0.13526885211467743, 0.28920620679855347, 0.21174025535583496, 0.21174025535583496, 0.09037693589925766, 0.09812353551387787, 0.10328792780637741, 0.12118248641490936, 0.44433578848838806, 0.20197081565856934, 0.16157665848731995, 0.08078832924365997, 0.04039416462182999, 0.2956209182739258, 0.26765677332878113, 0.11185655742883682, 0.08988473564386368, 0.07790010422468185, 0.1577976495027542, 0.5722721815109253, 0.499769926071167, 0.5556578636169434, 0.5635468363761902, 0.14088670909404755, 0.14088670909404755, 0.14088670909404755, 0.5824424028396606, 0.17368726432323456, 0.08684363216161728, 0.434218168258667, 0.08684363216161728, 0.17368726432323456, 0.28402915596961975, 0.1197713315486908, 0.13003745675086975, 0.09923910349607468, 0.2087443321943283, 0.1539917141199112, 0.35669127106666565, 0.35669127106666565, 0.576890230178833, 0.3002452254295349, 0.24835099279880524, 0.1927500218153, 0.13344232738018036, 0.0630144327878952, 0.0630144327878952, 0.16393305361270905, 0.08196652680635452, 0.45081591606140137, 0.16393305361270905, 0.08196652680635452, 0.08196652680635452, 0.19131526350975037, 0.04782881587743759, 0.19131526350975037, 0.38263052701950073, 0.04782881587743759, 0.19131526350975037, 0.27696579694747925, 0.08308973908424377, 0.13848289847373962, 0.290814071893692, 0.06924144923686981, 0.13848289847373962, 0.35603857040405273, 0.16980302333831787, 0.11502785235643387, 0.11502785235643387, 0.06573019921779633, 0.18623556196689606, 0.38362571597099304, 0.1980629414319992, 0.1980629414319992, 0.11317882686853409, 0.14147353172302246, 0.21692608296871185, 0.14147353172302246, 0.29792049527168274, 0.23886136710643768, 0.1706152707338333, 0.0826827809214592, 0.06430882960557938, 0.14567919075489044, 0.28924039006233215, 0.11018681526184082, 0.08264011144638062, 0.33056044578552246, 0.08264011144638062, 0.11018681526184082, 0.33610180020332336, 0.08002424240112305, 0.14404363930225372, 0.28808727860450745, 0.06401938945055008, 0.09602908790111542, 0.30083775520324707, 0.12924881279468536, 0.15376152098178864, 0.1582183837890625, 0.1247919574379921, 0.1314772367477417, 0.256319135427475, 0.17087942361831665, 0.21156498789787292, 0.13019384443759918, 0.13019384443759918, 0.09764537960290909, 0.5519595146179199, 0.2209462821483612, 0.1657097041606903, 0.13809141516685486, 0.0552365705370903, 0.13809141516685486, 0.2761828303337097, 0.29084518551826477, 0.1702975034713745, 0.1339418590068817, 0.16455714404582977, 0.0994996652007103, 0.13968223333358765, 0.2712515890598297, 0.14276400208473206, 0.2189047932624817, 0.10945239663124084, 0.13800519704818726, 0.11896999925374985, 0.3432520031929016, 0.11270961910486221, 0.16906441748142242, 0.09734012186527252, 0.1998034119606018, 0.07684746384620667, 0.22174108028411865, 0.18142452836036682, 0.1478273868560791, 0.19486337900161743, 0.10751082748174667, 0.1478273868560791, 0.5840491652488708, 0.40767258405685425, 0.11510755121707916, 0.09592296183109283, 0.11990369856357574, 0.11990369856357574, 0.14388443529605865, 0.5730994939804077, 0.2792208194732666, 0.12044819444417953, 0.1478227823972702, 0.18432223796844482, 0.15147273242473602, 0.11862321943044662, 0.5870882272720337, 0.6806836724281311, 0.34034183621406555, 0.42651236057281494, 0.10611047595739365, 0.11076898872852325, 0.10766331106424332, 0.10507525503635406, 0.1438961625099182, 0.19693535566329956, 0.19693535566329956, 0.3938707113265991, 0.06564512103796005, 0.06564512103796005, 0.1312902420759201, 0.31907936930656433, 0.14554497599601746, 0.14367902278900146, 0.1380811333656311, 0.14741094410419464, 0.10449382662773132, 0.23043541610240936, 0.285739928483963, 0.22121800482273102, 0.07373933494091034, 0.13365253806114197, 0.055304501205682755, 0.1537034511566162, 0.1537034511566162, 0.1537034511566162, 0.46111035346984863, 0.1537034511566162, 0.2327711433172226, 0.22430673241615295, 0.16505590081214905, 0.12908217310905457, 0.10368896275758743, 0.14601099491119385, 0.273356556892395, 0.13226930797100067, 0.14990520477294922, 0.1234513446688652, 0.220448836684227, 0.10581544041633606, 0.5443590879440308, 0.25802528858184814, 0.06450632214546204, 0.12901264429092407, 0.3870379626750946, 0.06450632214546204, 0.12901264429092407, 0.5433536767959595, 0.2530340254306793, 0.2277306169271469, 0.21327152848243713, 0.11928746849298477, 0.05422157794237137, 0.1373613327741623, 0.3886299431324005, 0.1416880041360855, 0.15383268892765045, 0.11335039883852005, 0.07691634446382523, 0.12954331934452057, 0.5783393979072571, 0.5536298155784607, 0.5436418056488037, 0.4270281195640564, 0.15320856869220734, 0.10105245560407639, 0.10105245560407639, 0.1173512414097786, 0.10431221127510071, 0.28545740246772766, 0.1903049349784851, 0.12891624867916107, 0.1749577671289444, 0.13198567926883698, 0.09208303689956665, 0.3196653425693512, 0.16208383440971375, 0.1680869460105896, 0.10055200755596161, 0.11255822330713272, 0.13807141780853271, 0.36298102140426636, 0.1818893998861313, 0.144394651055336, 0.1204618364572525, 0.08536037057638168, 0.10530439019203186, 0.5557201504707336, 0.11153881996870041, 0.5576940774917603, 0.11153881996870041, 0.11153881996870041, 0.11153881996870041, 0.2648943066596985, 0.529788613319397, 0.7328600883483887, 0.20956312119960785, 0.4000750482082367, 0.15240953862667084, 0.11430715769529343, 0.05715357884764671, 0.07620476931333542, 0.0847129076719284, 0.35473528504371643, 0.0688292384147644, 0.0211782269179821, 0.2753169536590576, 0.19589859247207642, 0.5840659141540527, 0.5531848073005676, 0.43191394209861755, 0.18510597944259644, 0.11899670213460922, 0.10577484220266342, 0.08373841643333435, 0.07492385059595108, 0.38264453411102295, 0.38264453411102295, 0.5007306337356567, 0.5824034810066223, 0.2813894748687744, 0.08039699494838715, 0.1607939898967743, 0.3215879797935486, 0.08039699494838715, 0.08039699494838715, 0.47202780842781067, 0.11013982445001602, 0.1258740872144699, 0.1416083425283432, 0.06293704360723495, 0.09440556168556213, 0.2663966715335846, 0.14671121537685394, 0.10810299962759018, 0.20076271891593933, 0.09265971183776855, 0.1853194236755371, 0.2925667464733124, 0.5851334929466248, 0.2502444386482239, 0.15789231657981873, 0.09235210716724396, 0.2502444386482239, 0.12512221932411194, 0.12810131907463074, 0.4801906943321228, 0.5818701386451721, 0.24779677391052246, 0.36517420411109924, 0.11737742274999619, 0.12389838695526123, 0.07173064351081848, 0.07825161516666412, 0.5415613055229187, 0.6291520595550537, 0.5514225959777832, 0.28856611251831055, 0.11804977059364319, 0.15739969909191132, 0.07869984954595566, 0.13116641342639923, 0.22298289835453033, 0.551962673664093, 0.5890113115310669, 0.5871348977088928, 0.27339768409729004, 0.04556627944111824, 0.04556627944111824, 0.2278314083814621, 0.41009652614593506, 0.531916618347168, 0.19204410910606384, 0.19204410910606384, 0.3840882182121277, 0.5024743676185608, 0.11472787708044052, 0.11472787708044052, 0.11472787708044052, 0.11472787708044052, 0.11472787708044052, 0.4589115083217621, 0.5030199885368347, 0.48022758960723877, 0.13961109519004822, 0.13961109519004822, 0.41883328557014465, 0.13961109519004822, 0.5554613471031189, 0.6502540111541748, 0.5890243649482727, 0.49977484345436096, 0.5762341022491455, 0.5846077799797058, 0.3223918676376343, 0.1265081912279129, 0.13058911263942719, 0.1918027549982071, 0.11426546424627304, 0.11426546424627304, 0.33506259322166443, 0.15546904504299164, 0.10722002387046814, 0.1474275290966034, 0.15278853476047516, 0.10185902565717697, 0.3060948848724365, 0.1864715963602066, 0.1864715963602066, 0.09675413370132446, 0.12490078806877136, 0.09851329773664474, 0.5477147698402405, 0.11203256249427795, 0.08713643997907639, 0.049792248755693436, 0.12448062747716904, 0.0746883749961853, 0.543355405330658, 0.5456985831260681, 0.10913971811532974, 0.10913971811532974, 0.05456985905766487, 0.1637095808982849, 0.05456985905766487, 0.2214844524860382, 0.3986720144748688, 0.26578134298324585, 0.02214844524860382, 0.04429689049720764, 0.06644533574581146, 0.5524567365646362, 0.47976750135421753, 0.4547513723373413, 0.16674216091632843, 0.09852946549654007, 0.09852946549654007, 0.08337108045816422, 0.09852946549654007, 0.10913094878196716, 0.4910892844200134, 0.16369642317295074, 0.05456547439098358, 0.10913094878196716, 0.05456547439098358, 0.5526429414749146, 0.336512953042984, 0.11751246452331543, 0.17092721164226532, 0.15757352113723755, 0.10148803144693375, 0.11484172195196152, 0.30690062046051025, 0.17112891376018524, 0.09900020062923431, 0.1683003455400467, 0.13294312357902527, 0.12162882089614868, 0.3654818832874298, 0.16168437898159027, 0.11731518059968948, 0.14438791573047638, 0.11731518059968948, 0.09475456923246384, 0.5870286822319031, 0.5011134743690491, 0.29542890191078186, 0.14771445095539093, 0.20971804857254028, 0.11853628605604172, 0.10212357342243195, 0.12765446305274963, 0.37108558416366577, 0.12834538519382477, 0.11997503787279129, 0.11439479887485504, 0.1534564346075058, 0.11160468310117722, 0.4988850951194763, 0.33415982127189636, 0.09907703846693039, 0.15492045879364014, 0.1909484714269638, 0.11348824203014374, 0.10808403789997101, 0.24984745681285858, 0.4088413119316101, 0.20442065596580505, 0.06814021617174149, 0.04542681202292442, 0.04542681202292442, 0.10495460033416748, 0.20990920066833496, 0.20990920066833496, 0.10495460033416748, 0.10495460033416748, 0.4198184013366699, 0.4805945158004761, 0.5624307990074158, 0.9003578424453735, 0.2999629080295563, 0.1314578503370285, 0.13384798169136047, 0.13026277720928192, 0.12906770408153534, 0.17567548155784607, 0.48048263788223267, 0.35856181383132935, 0.06930186599493027, 0.15065622329711914, 0.16873496770858765, 0.15065622329711914, 0.09943310916423798, 0.35798871517181396, 0.1729777306318283, 0.11431571841239929, 0.15041542053222656, 0.10980325937271118, 0.09626586735248566, 0.5465213656425476, 0.27511513233184814, 0.5502302646636963, 0.27511513233184814, 0.22612668573856354, 0.24308617413043976, 0.16394184529781342, 0.1752481758594513, 0.10458359122276306, 0.08762408792972565, 0.16394157707691193, 0.10929438471794128, 0.05464719235897064, 0.43717753887176514, 0.16394157707691193, 0.05464719235897064, 0.19022667407989502, 0.19022667407989502, 0.19022667407989502, 0.38045334815979004, 0.3885393440723419, 0.28848347067832947, 0.5769669413566589, 0.5019611120223999, 0.5011368989944458, 0.4565114676952362, 0.14569514989852905, 0.14569514989852905, 0.09713009744882584, 0.09713009744882584, 0.05827806144952774, 0.36012622714042664, 0.4798056483268738, 0.5433487892150879, 0.569924533367157, 0.21333056688308716, 0.11487030982971191, 0.16410043835639954, 0.3117908239364624, 0.09846026450395584, 0.08205021917819977, 0.3082718253135681, 0.17801612615585327, 0.10420456528663635, 0.1345975548028946, 0.18669983744621277, 0.09117899090051651, 0.2849336862564087, 0.15269173681735992, 0.15678168833255768, 0.12406203150749207, 0.13769522309303284, 0.14451181888580322, 0.22965101897716522, 0.22965101897716522, 0.45930203795433044, 0.584040105342865, 0.5610023736953735, 0.2887943685054779, 0.0962647944688797, 0.10501614212989807, 0.24503766000270844, 0.131270170211792, 0.131270170211792, 0.5459204912185669, 0.10918409377336502, 0.10918409377336502, 0.10918409377336502, 0.10918409377336502, 0.48337680101394653, 0.5885441303253174, 0.19270265102386475, 0.0996737852692604, 0.16612297296524048, 0.16612297296524048, 0.17276789247989655, 0.1993475705385208, 0.2648395895957947, 0.24575203657150269, 0.12168305367231369, 0.1359986960887909, 0.1359986960887909, 0.0978236272931099, 0.4798375368118286, 0.28404247760772705, 0.17069219052791595, 0.138687402009964, 0.14668859541416168, 0.16935865581035614, 0.08934669196605682, 0.588457465171814, 0.4803912937641144, 0.3015599846839905, 0.1907302439212799, 0.16495588421821594, 0.07474564015865326, 0.11340717226266861, 0.15206870436668396, 0.5010077953338623, 0.5444531440734863, 0.6093413829803467, 0.20311379432678223, 0.20311379432678223, 0.4997763931751251, 0.5823544263839722, 0.5429598689079285, 0.5433024764060974, 0.16367207467556, 0.14029034972190857, 0.11690862476825714, 0.16367207467556, 0.14029034972190857, 0.28058069944381714, 0.20663294196128845, 0.20663294196128845, 0.619898796081543, 0.3584555387496948, 0.12089088559150696, 0.14759933948516846, 0.1349479705095291, 0.13143369555473328, 0.10613095015287399, 0.33458268642425537, 0.19841530919075012, 0.10893389582633972, 0.12060537934303284, 0.10115290433168411, 0.1342221200466156, 0.5835872292518616, 0.5881034135818481, 0.4997795522212982, 0.5884742736816406, 0.32938432693481445, 0.10293260216712952, 0.18527868390083313, 0.30879780650138855, 0.04117304086685181, 0.04117304086685181, 0.24070149660110474, 0.29025769233703613, 0.1628274768590927, 0.11327128857374191, 0.10619183629751205, 0.08495346456766129, 0.5889952182769775, 0.48063889145851135, 0.400600790977478, 0.11216822266578674, 0.18027035892009735, 0.0961441919207573, 0.08012016117572784, 0.1321982592344284, 0.32380297780036926, 0.1774262934923172, 0.18629761040210724, 0.0887131467461586, 0.12198057770729065, 0.10202012211084366, 0.4806538224220276, 0.26228442788124084, 0.2848951816558838, 0.15827509760856628, 0.09044291079044342, 0.09044291079044342, 0.11305363476276398, 0.5824800729751587, 0.4997878968715668, 0.3780887722969055, 0.2334287166595459, 0.11507049202919006, 0.1479477733373642, 0.06575457006692886, 0.05917911231517792, 0.35530635714530945, 0.35530635714530945, 0.48104074597358704, 0.5840358734130859, 0.22097168862819672, 0.0920715406537056, 0.14731445908546448, 0.0920715406537056, 0.3314575254917145, 0.12890015542507172, 0.26519110798835754, 0.20913445949554443, 0.22638265788555145, 0.10780126601457596, 0.07330486178398132, 0.1185813918709755, 0.2860856354236603, 0.5721712708473206, 0.23195379972457886, 0.2730289399623871, 0.11839308589696884, 0.1836300939321518, 0.05315607786178589, 0.14255493879318237, 0.24940089881420135, 0.13301381468772888, 0.13301381468772888, 0.09976036101579666, 0.3159078061580658, 0.06650690734386444, 0.1645340919494629, 0.1028338074684143, 0.18510085344314575, 0.14396733045578003, 0.12340056896209717, 0.24680113792419434, 0.5795823335647583, 0.08279747515916824, 0.08279747515916824, 0.1655949503183365, 0.08279747515916824, 0.5788288116455078, 0.5547497868537903, 0.5339893102645874, 0.07628418505191803, 0.07628418505191803, 0.07628418505191803, 0.07628418505191803, 0.07628418505191803, 0.5871390104293823, 0.22812415659427643, 0.36499863862991333, 0.1672910451889038, 0.15208277106285095, 0.045624829828739166, 0.045624829828739166, 0.4808438718318939, 0.4997759163379669, 0.21475084125995636, 0.23759667575359344, 0.1599208414554596, 0.19647417962551117, 0.06396833807229996, 0.11879833787679672, 0.3725947439670563, 0.10924845188856125, 0.1471979171037674, 0.11384838819503784, 0.1425979882478714, 0.11499837040901184, 0.6445536613464355, 0.1611384153366089, 0.1611384153366089, 0.18539203703403473, 0.4634801149368286, 0.13904403150081635, 0.09269601851701736, 0.09269601851701736, 0.04634800925850868, 0.2979505658149719, 0.15977059304714203, 0.14249810576438904, 0.15401309728622437, 0.14105872809886932, 0.10507436096668243, 0.5526440143585205, 0.54335618019104, 0.2601785361766815, 0.11563490331172943, 0.2890872359275818, 0.1445436179637909, 0.08672617375850677, 0.1011805385351181, 0.5250853896141052, 0.2337443083524704, 0.1168721541762352, 0.0584360770881176, 0.1168721541762352, 0.350616455078125, 0.1168721541762352, 0.6523907780647278, 0.499773234128952, 0.5480071306228638, 0.2554129958152771, 0.29012933373451233, 0.12150715291500092, 0.10662873089313507, 0.09918951243162155, 0.12894636392593384, 0.2744310200214386, 0.3599095344543457, 0.12146946787834167, 0.15296155214309692, 0.03149208426475525, 0.05848529934883118, 0.5027908682823181, 0.2651762068271637, 0.1875636726617813, 0.14875739812850952, 0.07761254906654358, 0.09701568633317947, 0.2263699471950531, 0.26516908407211304, 0.14800134301185608, 0.24666890501976013, 0.09866756200790405, 0.11716773360967636, 0.12333445250988007, 0.586820662021637, 0.5624433755874634, 0.47986453771591187, 0.14094491302967072, 0.5637796521186829, 0.14094491302967072, 0.5395616888999939, 0.7880496978759766, 0.5824033617973328, 0.4288368225097656, 0.1072092056274414, 0.1072092056274414, 0.0929146409034729, 0.15009288489818573, 0.12150376290082932, 0.5818060636520386, 0.08311515301465988, 0.06649212539196014, 0.09973818808794022, 0.08311515301465988, 0.08311515301465988, 0.5433560013771057, 0.23874816298484802, 0.19895680248737335, 0.2652757465839386, 0.1459016501903534, 0.05305514857172966, 0.10611029714345932, 0.4801531732082367, 0.37663131952285767, 0.37663131952285767, 0.2932817041873932, 0.14158426225185394, 0.16686716675758362, 0.2123764008283615, 0.12641452252864838, 0.06067897006869316, 0.24311941862106323, 0.413303017616272, 0.1944955289363861, 0.07293582707643509, 0.04862388223409653, 0.04862388223409653, 0.40144050121307373, 0.40144050121307373, 0.32841843366622925, 0.1668720692396164, 0.14201878011226654, 0.12249119579792023, 0.16154636442661285, 0.0798855647444725, 0.4997805058956146, 0.4797752797603607, 0.32782721519470215, 0.18150091171264648, 0.11255870759487152, 0.13929139077663422, 0.1533612310886383, 0.08582600951194763, 0.5889779329299927, 0.6546210646629333, 0.3877423405647278, 0.5433560609817505, 0.13976041972637177, 0.13976041972637177, 0.13976041972637177, 0.4192812740802765, 0.13976041972637177, 0.13976041972637177, 0.22795352339744568, 0.3153357207775116, 0.1557682454586029, 0.13677211105823517, 0.08738218247890472, 0.07978373020887375, 0.5823578834533691, 0.22409188747406006, 0.3137286305427551, 0.15686431527137756, 0.08963675051927567, 0.08216702193021774, 0.1344551295042038, 0.3726768493652344, 0.14441227912902832, 0.14907073974609375, 0.11180305480957031, 0.08385229110717773, 0.1397538185119629, 0.5624656081199646, 0.48035138845443726, 0.27166399359703064, 0.26567140221595764, 0.20574551820755005, 0.08189870417118073, 0.09188634902238846, 0.08589375764131546, 0.2970682382583618, 0.36114177107810974, 0.09319787472486496, 0.05242380499839783, 0.1223222091794014, 0.07572327554225922, 0.09870585054159164, 0.09870585054159164, 0.5922350883483887, 0.09870585054159164, 0.09870585054159164, 0.2814481854438782, 0.2814481854438782, 0.5624548196792603, 0.5889968276023865, 0.43125006556510925, 0.12321430444717407, 0.13269232213497162, 0.12321430444717407, 0.09951924532651901, 0.09004122018814087, 0.43944305181503296, 0.12758024036884308, 0.15335401892662048, 0.11340465396642685, 0.08505349606275558, 0.0811874270439148, 0.21066902577877045, 0.17329226434230804, 0.19707746803760529, 0.10193662345409393, 0.11213028430938721, 0.20387324690818787, 0.3746964633464813, 0.11250428110361099, 0.19545234739780426, 0.09534260630607605, 0.11822483688592911, 0.10392344743013382, 0.5575220584869385, 0.2659798860549927, 0.2936861217021942, 0.11082495003938675, 0.1052836999297142, 0.1052836999297142, 0.1163661926984787, 0.1449832171201706, 0.4349496364593506, 0.25372061133384705, 0.10873740911483765, 0.03624580428004265, 0.03624580428004265, 0.5746603012084961, 0.5712487697601318, 0.3791438937187195, 0.15828336775302887, 0.2282225340604782, 0.10306823998689651, 0.06993916630744934, 0.06257714331150055, 0.2232191264629364, 0.5580478310585022, 0.1116095632314682, 0.1116095632314682, 0.1116095632314682, 0.1116095632314682, 0.317196786403656, 0.133793905377388, 0.14281371235847473, 0.11725758016109467, 0.13680051267147064, 0.15333683788776398, 0.5555334091186523, 0.28814229369163513, 0.5762845873832703, 0.5602989196777344, 0.3039572834968567, 0.12962883710861206, 0.20785313844680786, 0.08716421574354172, 0.14303871989250183, 0.12739385664463043, 0.24007074534893036, 0.06547383964061737, 0.1964215189218521, 0.32736918330192566, 0.06547383964061737, 0.13094767928123474, 0.6428618431091309, 0.16071546077728271, 0.16071546077728271, 0.22493413090705872, 0.05623353272676468, 0.05623353272676468, 0.22493413090705872, 0.3374011814594269, 0.05623353272676468, 0.5031877160072327, 0.2836945950984955, 0.567389190196991, 0.09456486999988556, 0.19893378019332886, 0.19893378019332886, 0.3978675603866577, 0.2373702973127365, 0.42726653814315796, 0.33231842517852783, 0.35970017313957214, 0.11876892298460007, 0.16118639707565308, 0.12216231971979141, 0.08653164654970169, 0.15100620687007904, 0.25961339473724365, 0.07493995130062103, 0.09367494285106659, 0.216790571808815, 0.2542605400085449, 0.10170421749353409, 0.5624567866325378, 0.13173216581344604, 0.13173216581344604, 0.13173216581344604, 0.46106258034706116, 0.06586608290672302, 0.06586608290672302, 0.3551570475101471, 0.3551570475101471, 0.3073628842830658, 0.18829436600208282, 0.17998726665973663, 0.09691622108221054, 0.14398981630802155, 0.08584008365869522, 0.3228817284107208, 0.12519903481006622, 0.19987916946411133, 0.11641314625740051, 0.15155673027038574, 0.08346603065729141, 0.5505236387252808, 0.4805913269519806, 0.22993887960910797, 0.22993887960910797, 0.45987775921821594, 0.19199353456497192, 0.17453958094120026, 0.03490791469812393, 0.1570856273174286, 0.3141712546348572, 0.12217770516872406, 0.3299677073955536, 0.17821785807609558, 0.13410452008247375, 0.10587199777364731, 0.16939519345760345, 0.081168532371521, 0.5919579267501831, 0.09865964949131012, 0.09865964949131012, 0.09865964949131012, 0.14700281620025635, 0.5390103459358215, 0.24500469863414764, 0.04900093749165535, 0.04900093749165535, 0.04900093749165535, 0.5289157629013062, 0.5289157629013062, 0.618182897567749, 0.37455251812934875, 0.37455251812934875, 0.6687345504760742, 0.3343672752380371, 0.5005675554275513], \"Term\": [\"afu\", \"aka\", \"akimo\", \"also\", \"also\", \"also\", \"also\", \"also\", \"also\", \"alway\", \"alway\", \"alway\", \"alway\", \"alway\", \"alway\", \"ansheng\", \"ansheng\", \"anyt\", \"apprais\", \"arabia\", \"arabia\", \"ari\", \"ari\", \"ari\", \"ari\", \"ari\", \"ari\", \"arithmet\", \"asiatiqu\", \"atlant\", \"atlant\", \"atlant\", \"atmospher\", \"atmospher\", \"atmospher\", \"atmospher\", \"atmospher\", \"atmospher\", \"audienc\", \"audienc\", \"audienc\", \"audienc\", \"audienc\", \"audienc\", \"austrian\", \"baht\", \"baht\", \"baht\", \"baht\", \"baht\", \"baht\", \"banana\", \"banana\", \"banana\", \"banana\", \"banana\", \"banana\", \"bank\", \"bank\", \"bank\", \"bank\", \"bank\", \"bank\", \"baptist\", \"basil\", \"basil\", \"basil\", \"basil\", \"basil\", \"beachsid\", \"beam\", \"bear\", \"bear\", \"bear\", \"bear\", \"bear\", \"bear\", \"beauti\", \"beauti\", \"beauti\", \"beauti\", \"beauti\", \"beauti\", \"best\", \"best\", \"best\", \"best\", \"best\", \"best\", \"big\", \"big\", \"big\", \"big\", \"big\", \"big\", \"blink\", \"blink\", \"blink\", \"blink\", \"blink\", \"blink\", \"book\", \"book\", \"book\", \"book\", \"book\", \"book\", \"boston\", \"boston\", \"boundri\", \"brazil\", \"brazil\", \"brazil\", \"brazil\", \"brazil\", \"brodi\", \"brother\", \"brother\", \"brother\", \"brother\", \"brother\", \"brother\", \"butler\", \"car\", \"car\", \"car\", \"car\", \"car\", \"car\", \"carrey\", \"cartoon\", \"cartoon\", \"cartoon\", \"cartoon\", \"cartoon\", \"cartoon\", \"cat\", \"cat\", \"cat\", \"cat\", \"cat\", \"cat\", \"cave\", \"cave\", \"cave\", \"cave\", \"cave\", \"cave\", \"cayenn\", \"cc\", \"chae\", \"chaengwattana\", \"chang\", \"chang\", \"chang\", \"chang\", \"chang\", \"chang\", \"charact\", \"charact\", \"charact\", \"charact\", \"charact\", \"charact\", \"chees\", \"chees\", \"chees\", \"chees\", \"chees\", \"chees\", \"chen\", \"chen\", \"chen\", \"chen\", \"chen\", \"chen\", \"chic\", \"chic\", \"chic\", \"chic\", \"chic\", \"chic\", \"chlorja\", \"chri\", \"chri\", \"chri\", \"chri\", \"cocoa\", \"cocoa\", \"cocoa\", \"cocoa\", \"cocoa\", \"cocoa\", \"come\", \"come\", \"come\", \"come\", \"come\", \"come\", \"complimentari\", \"complimentari\", \"condition\", \"condition\", \"confectioneri\", \"copper\", \"countri\", \"countri\", \"countri\", \"countri\", \"countri\", \"countri\", \"crab\", \"crab\", \"crab\", \"crab\", \"crab\", \"crab\", \"creed\", \"creed\", \"creed\", \"creed\", \"crime\", \"crime\", \"crime\", \"crime\", \"crime\", \"crime\", \"cupcak\", \"cynthia\", \"cynthia\", \"danc\", \"danc\", \"danc\", \"danc\", \"danc\", \"danc\", \"darl\", \"daughter\", \"daughter\", \"daughter\", \"daughter\", \"daughter\", \"daughter\", \"day\", \"day\", \"day\", \"day\", \"day\", \"day\", \"debat\", \"debat\", \"debat\", \"debat\", \"debat\", \"debat\", \"delici\", \"delici\", \"delici\", \"delici\", \"delici\", \"delici\", \"deluca\", \"delux\", \"dewey\", \"dick\", \"dick\", \"dick\", \"dick\", \"dilmah\", \"diplomat\", \"diplomat\", \"diplomat\", \"diplomat\", \"diplomat\", \"director\", \"director\", \"director\", \"director\", \"director\", \"director\", \"discomfort\", \"discomfort\", \"discoveri\", \"dish\", \"dish\", \"dish\", \"dish\", \"dish\", \"dish\", \"doll\", \"doll\", \"doll\", \"doll\", \"doll\", \"doll\", \"dolphin\", \"dolphin\", \"dolphin\", \"dolphin\", \"dolphin\", \"dolphin\", \"dracula\", \"dracula\", \"dracula\", \"dracula\", \"dracula\", \"dracula\", \"dream\", \"dream\", \"dream\", \"dream\", \"dream\", \"dream\", \"dusti\", \"dynasti\", \"dynasti\", \"dynasti\", \"dynasti\", \"dynasti\", \"dynasti\", \"eat\", \"eat\", \"eat\", \"eat\", \"eat\", \"eat\", \"educ\", \"educ\", \"educ\", \"educ\", \"educ\", \"educ\", \"elf\", \"elf\", \"elf\", \"elf\", \"elf\", \"elf\", \"end\", \"end\", \"end\", \"end\", \"end\", \"end\", \"enough\", \"enough\", \"enough\", \"enough\", \"enough\", \"enough\", \"epistemolog\", \"estat\", \"estat\", \"estat\", \"estat\", \"estat\", \"estat\", \"even\", \"even\", \"even\", \"even\", \"even\", \"even\", \"experi\", \"experi\", \"experi\", \"experi\", \"experi\", \"experi\", \"eye\", \"eye\", \"eye\", \"eye\", \"eye\", \"eye\", \"famili\", \"famili\", \"famili\", \"famili\", \"famili\", \"famili\", \"fangfei\", \"father\", \"father\", \"father\", \"father\", \"father\", \"father\", \"fb\", \"feel\", \"feel\", \"feel\", \"feel\", \"feel\", \"feel\", \"ferrari\", \"fettuccin\", \"fettuccin\", \"film\", \"film\", \"film\", \"film\", \"film\", \"film\", \"financi\", \"financi\", \"financi\", \"financi\", \"financi\", \"financi\", \"first\", \"first\", \"first\", \"first\", \"first\", \"first\", \"fish\", \"fish\", \"fish\", \"fish\", \"fish\", \"fish\", \"fisherman\", \"fisherman\", \"fisherman\", \"fisherman\", \"fisherman\", \"food\", \"food\", \"food\", \"food\", \"food\", \"food\", \"forc\", \"forc\", \"forc\", \"forc\", \"forc\", \"forc\", \"franco\", \"frankenstein\", \"frankenstein\", \"frankenstein\", \"frankenstein\", \"frankenstein\", \"frankenstein\", \"freshest\", \"fri\", \"fri\", \"fri\", \"fri\", \"fri\", \"fri\", \"friend\", \"friend\", \"friend\", \"friend\", \"friend\", \"friend\", \"frugrain\", \"furen\", \"ginni\", \"girl\", \"girl\", \"girl\", \"girl\", \"girl\", \"girl\", \"give\", \"give\", \"give\", \"give\", \"give\", \"give\", \"go\", \"go\", \"go\", \"go\", \"go\", \"go\", \"good\", \"good\", \"good\", \"good\", \"good\", \"good\", \"gorilla\", \"governor\", \"governor\", \"governor\", \"governor\", \"governor\", \"grandeur\", \"grandeur\", \"grandios\", \"grill\", \"grill\", \"grill\", \"grill\", \"grill\", \"grill\", \"gt\", \"gt\", \"gt\", \"gt\", \"gt\", \"gt\", \"gwyn\", \"hamachi\", \"happi\", \"happi\", \"happi\", \"happi\", \"happi\", \"happi\", \"harp\", \"harp\", \"hayek\", \"highi\", \"hostel\", \"hostel\", \"hostel\", \"hostel\", \"hostel\", \"hostel\", \"hotel\", \"hotel\", \"hotel\", \"hotel\", \"hotel\", \"hotel\", \"howev\", \"howev\", \"howev\", \"howev\", \"howev\", \"howev\", \"huaqiao\", \"huaqiao\", \"human\", \"human\", \"human\", \"human\", \"human\", \"human\", \"huxley\", \"hyper\", \"ice\", \"ice\", \"ice\", \"ice\", \"ice\", \"ice\", \"ikura\", \"implos\", \"interrel\", \"invest\", \"invest\", \"invest\", \"invest\", \"invest\", \"invest\", \"irreconcil\", \"jar\", \"jeff\", \"jess\", \"jess\", \"jess\", \"jess\", \"jess\", \"jianpai\", \"jiaolong\", \"jiaolong\", \"jiaolong\", \"jinn\", \"jonni\", \"jonni\", \"jonni\", \"jonni\", \"jonni\", \"jonni\", \"jukebox\", \"kaiwu\", \"kale\", \"kale\", \"kale\", \"kale\", \"kant\", \"katsu\", \"kenni\", \"khaosan\", \"khen\", \"kiarostami\", \"kill\", \"kill\", \"kill\", \"kill\", \"kill\", \"kill\", \"kind\", \"kind\", \"kind\", \"kind\", \"kind\", \"kind\", \"know\", \"know\", \"know\", \"know\", \"know\", \"know\", \"kong\", \"kong\", \"kong\", \"kong\", \"kong\", \"kong\", \"krup\", \"kuan\", \"kuan\", \"kuan\", \"kuan\", \"kuan\", \"kuan\", \"kung\", \"kung\", \"kung\", \"kung\", \"kung\", \"kung\", \"laiti\", \"lancet\", \"later\", \"later\", \"later\", \"later\", \"later\", \"later\", \"lava\", \"lava\", \"lava\", \"lava\", \"lava\", \"lava\", \"legitimaci\", \"let\", \"let\", \"let\", \"let\", \"let\", \"let\", \"life\", \"life\", \"life\", \"life\", \"life\", \"life\", \"like\", \"like\", \"like\", \"like\", \"like\", \"like\", \"lol\", \"lola\", \"look\", \"look\", \"look\", \"look\", \"look\", \"look\", \"lot\", \"lot\", \"lot\", \"lot\", \"lot\", \"lot\", \"lousi\", \"love\", \"love\", \"love\", \"love\", \"love\", \"love\", \"lt\", \"lt\", \"lt\", \"lt\", \"lt\", \"lt\", \"lucinda\", \"lucinda\", \"lucinda\", \"lucinda\", \"lucinda\", \"lucinda\", \"macaqu\", \"magma\", \"magnum\", \"make\", \"make\", \"make\", \"make\", \"make\", \"make\", \"makha\", \"man\", \"man\", \"man\", \"man\", \"man\", \"man\", \"mani\", \"mani\", \"mani\", \"mani\", \"mani\", \"mani\", \"manli\", \"matia\", \"matia\", \"matia\", \"menu\", \"menu\", \"menu\", \"menu\", \"menu\", \"menu\", \"metaphor\", \"metaphor\", \"metaphor\", \"metaphor\", \"metaphor\", \"metaphor\", \"mevi\", \"mevi\", \"mevi\", \"mevi\", \"mezzanin\", \"microfin\", \"microfin\", \"millionair\", \"mimi\", \"mind\", \"mind\", \"mind\", \"mind\", \"mind\", \"mind\", \"mini\", \"minu\", \"mishmash\", \"miyuki\", \"monster\", \"monster\", \"monster\", \"monster\", \"monster\", \"monster\", \"mother\", \"mother\", \"mother\", \"mother\", \"mother\", \"mother\", \"movi\", \"movi\", \"movi\", \"movi\", \"movi\", \"movi\", \"mubai\", \"mubai\", \"mubai\", \"mush\", \"nariou\", \"narr\", \"narr\", \"narr\", \"narr\", \"narr\", \"narr\", \"nash\", \"nash\", \"nash\", \"nash\", \"nash\", \"nitrogen\", \"nugget\", \"offic\", \"offic\", \"offic\", \"offic\", \"offic\", \"offic\", \"old\", \"old\", \"old\", \"old\", \"old\", \"old\", \"olio\", \"one\", \"one\", \"one\", \"one\", \"one\", \"one\", \"oo\", \"orchard\", \"order\", \"order\", \"order\", \"order\", \"order\", \"order\", \"oriol\", \"over\", \"ozono\", \"ozono\", \"ozono\", \"pakkr\", \"panist\", \"papa\", \"pape\", \"partner\", \"partner\", \"partner\", \"partner\", \"partner\", \"partner\", \"pee\", \"pee\", \"pee\", \"peopl\", \"peopl\", \"peopl\", \"peopl\", \"peopl\", \"peopl\", \"person\", \"person\", \"person\", \"person\", \"person\", \"person\", \"petchkasem\", \"petrol\", \"ph\", \"phae\", \"philosoph\", \"philosoph\", \"philosoph\", \"philosoph\", \"philosoph\", \"philosoph\", \"piec\", \"piec\", \"piec\", \"piec\", \"piec\", \"piec\", \"pint\", \"pistachio\", \"place\", \"place\", \"place\", \"place\", \"place\", \"place\", \"play\", \"play\", \"play\", \"play\", \"play\", \"play\", \"plaza\", \"pork\", \"pork\", \"pork\", \"pork\", \"pork\", \"pork\", \"portion\", \"postcard\", \"price\", \"price\", \"price\", \"price\", \"price\", \"price\", \"promenad\", \"promenad\", \"quintess\", \"ratchaburi\", \"raytheon\", \"raytheon\", \"raytheon\", \"raytheon\", \"raytheon\", \"raytheon\", \"realli\", \"realli\", \"realli\", \"realli\", \"realli\", \"realli\", \"regulatori\", \"regulatori\", \"restaur\", \"restaur\", \"restaur\", \"restaur\", \"restaur\", \"restaur\", \"reveng\", \"reveng\", \"reveng\", \"reveng\", \"reveng\", \"reveng\", \"revolut\", \"revolut\", \"revolut\", \"revolut\", \"revolut\", \"revolut\", \"ripley\", \"ripley\", \"ripley\", \"ripley\", \"ripley\", \"risotto\", \"rousseau\", \"ruo\", \"ruo\", \"ruo\", \"ruo\", \"ruo\", \"ruo\", \"saami\", \"salmon\", \"salmon\", \"salmon\", \"salmon\", \"salmon\", \"salmon\", \"samsung\", \"santo\", \"sauc\", \"sauc\", \"sauc\", \"sauc\", \"sauc\", \"sauc\", \"say\", \"say\", \"say\", \"say\", \"say\", \"say\", \"scarlett\", \"scarlett\", \"scarlett\", \"schwarzenegg\", \"schwarzenegg\", \"schwarzenegg\", \"schwarzenegg\", \"schwarzenegg\", \"schwarzenegg\", \"see\", \"see\", \"see\", \"see\", \"see\", \"see\", \"shabushi\", \"shack\", \"shadow\", \"shadow\", \"shadow\", \"shadow\", \"shadow\", \"shadow\", \"shangri\", \"shaohuang\", \"shaohuang\", \"shaohuang\", \"shaohuang\", \"shaohuang\", \"shaohuang\", \"sharma\", \"shibu\", \"shibuya\", \"shop\", \"shop\", \"shop\", \"shop\", \"shop\", \"shop\", \"shrimp\", \"shrimp\", \"shrimp\", \"shrimp\", \"shrimp\", \"shrimp\", \"simuenelli\", \"sister\", \"sister\", \"sister\", \"sister\", \"sister\", \"sister\", \"sit\", \"sit\", \"sit\", \"sit\", \"sit\", \"sit\", \"skytrain\", \"smoker\", \"smoothei\", \"smoothi\", \"smoothi\", \"smoothi\", \"smother\", \"snowman\", \"somebodi\", \"song\", \"song\", \"song\", \"song\", \"song\", \"song\", \"soon\", \"soon\", \"soon\", \"soon\", \"soon\", \"soon\", \"spam\", \"spici\", \"spici\", \"spici\", \"spici\", \"spici\", \"spici\", \"squabbl\", \"starter\", \"starter\", \"state\", \"state\", \"state\", \"state\", \"state\", \"state\", \"steak\", \"steak\", \"steak\", \"steak\", \"steak\", \"steak\", \"sticker\", \"sticker\", \"still\", \"still\", \"still\", \"still\", \"still\", \"still\", \"stingi\", \"stoop\", \"stori\", \"stori\", \"stori\", \"stori\", \"stori\", \"stori\", \"stormi\", \"stylish\", \"subprim\", \"suffolk\", \"supernatur\", \"supernatur\", \"supernatur\", \"supernatur\", \"supernatur\", \"supernatur\", \"sweet\", \"sweet\", \"sweet\", \"sweet\", \"sweet\", \"sweet\", \"swellow\", \"tabl\", \"tabl\", \"tabl\", \"tabl\", \"tabl\", \"tabl\", \"take\", \"take\", \"take\", \"take\", \"take\", \"take\", \"taksin\", \"tasmisu\", \"tast\", \"tast\", \"tast\", \"tast\", \"tast\", \"tast\", \"tea\", \"tea\", \"tea\", \"tea\", \"tea\", \"tea\", \"teddi\", \"teddi\", \"teddi\", \"teddi\", \"teddi\", \"tencent\", \"tencent\", \"thapa\", \"ther\", \"thing\", \"thing\", \"thing\", \"thing\", \"thing\", \"thing\", \"think\", \"think\", \"think\", \"think\", \"think\", \"think\", \"three\", \"three\", \"three\", \"three\", \"three\", \"three\", \"time\", \"time\", \"time\", \"time\", \"time\", \"time\", \"timemus\", \"today\", \"today\", \"today\", \"today\", \"today\", \"today\", \"tom\", \"tom\", \"tom\", \"tom\", \"tom\", \"tom\", \"tompson\", \"ton\", \"tri\", \"tri\", \"tri\", \"tri\", \"tri\", \"tri\", \"tuna\", \"tuna\", \"tuna\", \"tuna\", \"tuna\", \"tuna\", \"two\", \"two\", \"two\", \"two\", \"two\", \"two\", \"ui\", \"unagi\", \"unagi\", \"uncertain\", \"use\", \"use\", \"use\", \"use\", \"use\", \"use\", \"vampir\", \"vampir\", \"vampir\", \"vampir\", \"vampir\", \"vampir\", \"vienna\", \"vienna\", \"vienna\", \"vietnam\", \"vietnam\", \"vietnam\", \"vietnam\", \"vietnam\", \"vietnam\", \"viva\", \"volcano\", \"volcano\", \"volcano\", \"wai\", \"wai\", \"wai\", \"walter\", \"walter\", \"walter\", \"want\", \"want\", \"want\", \"want\", \"want\", \"want\", \"war\", \"war\", \"war\", \"war\", \"war\", \"war\", \"wasteland\", \"weni\", \"weni\", \"weni\", \"weni\", \"weni\", \"weni\", \"woodi\", \"woodi\", \"work\", \"work\", \"work\", \"work\", \"work\", \"work\", \"world\", \"world\", \"world\", \"world\", \"world\", \"world\", \"worldchaho\", \"xiangxi\", \"xiaohu\", \"xiaohu\", \"xiaohu\", \"xixia\", \"xixia\", \"xixia\", \"xixia\", \"xixia\", \"xixia\", \"year\", \"year\", \"year\", \"year\", \"year\", \"year\", \"yuanyang\", \"yuanyang\", \"yuanyang\", \"yuanyang\", \"yum\", \"yum\", \"yum\", \"yum\", \"yum\", \"yum\", \"zendai\", \"zendai\", \"zetian\", \"zhenqi\", \"zhenqi\", \"\\u0e40\\u0e15\", \"\\u0e40\\u0e15\", \"\\u625bthe\"]}, \"R\": 30, \"lambda.step\": 0.01, \"plot.opts\": {\"xlab\": \"PC1\", \"ylab\": \"PC2\"}, \"topic.order\": [6, 1, 3, 4, 2, 5]};\n",
              "\n",
              "function LDAvis_load_lib(url, callback){\n",
              "  var s = document.createElement('script');\n",
              "  s.src = url;\n",
              "  s.async = true;\n",
              "  s.onreadystatechange = s.onload = callback;\n",
              "  s.onerror = function(){console.warn(\"failed to load library \" + url);};\n",
              "  document.getElementsByTagName(\"head\")[0].appendChild(s);\n",
              "}\n",
              "\n",
              "if(typeof(LDAvis) !== \"undefined\"){\n",
              "   // already loaded: just create the visualization\n",
              "   !function(LDAvis){\n",
              "       new LDAvis(\"#\" + \"ldavis_el15401399551984761045214494237\", ldavis_el15401399551984761045214494237_data);\n",
              "   }(LDAvis);\n",
              "}else if(typeof define === \"function\" && define.amd){\n",
              "   // require.js is available: use it to load d3/LDAvis\n",
              "   require.config({paths: {d3: \"https://cdnjs.cloudflare.com/ajax/libs/d3/3.5.5/d3.min\"}});\n",
              "   require([\"d3\"], function(d3){\n",
              "      window.d3 = d3;\n",
              "      LDAvis_load_lib(\"https://cdn.rawgit.com/bmabey/pyLDAvis/files/ldavis.v1.0.0.js\", function(){\n",
              "        new LDAvis(\"#\" + \"ldavis_el15401399551984761045214494237\", ldavis_el15401399551984761045214494237_data);\n",
              "      });\n",
              "    });\n",
              "}else{\n",
              "    // require.js not available: dynamically load d3 & LDAvis\n",
              "    LDAvis_load_lib(\"https://cdnjs.cloudflare.com/ajax/libs/d3/3.5.5/d3.min.js\", function(){\n",
              "         LDAvis_load_lib(\"https://cdn.rawgit.com/bmabey/pyLDAvis/files/ldavis.v1.0.0.js\", function(){\n",
              "                 new LDAvis(\"#\" + \"ldavis_el15401399551984761045214494237\", ldavis_el15401399551984761045214494237_data);\n",
              "            })\n",
              "         });\n",
              "}\n",
              "</script>"
            ],
            "text/plain": [
              "PreparedData(topic_coordinates=              x         y  topics  cluster       Freq\n",
              "topic                                                \n",
              "5      0.002517 -0.003160       1        1  30.251801\n",
              "0     -0.017948 -0.000598       2        1  16.630255\n",
              "2     -0.005939  0.003145       3        1  14.762929\n",
              "3      0.007652 -0.011841       4        1  13.562517\n",
              "1      0.008805  0.011641       5        1  12.927453\n",
              "4      0.004913  0.000814       6        1  11.865045, topic_info=     Category         Freq   Term        Total  loglift  logprob\n",
              "151   Default  1194.000000   also  1194.000000  30.0000  30.0000\n",
              "1117  Default  1931.000000   film  1931.000000  29.0000  29.0000\n",
              "369   Default  1110.000000   love  1110.000000  28.0000  28.0000\n",
              "26    Default   188.000000     gt   188.000000  27.0000  27.0000\n",
              "2980  Default   373.000000    war   373.000000  26.0000  26.0000\n",
              "...       ...          ...    ...          ...      ...      ...\n",
              "86     Topic6    56.980305    use   447.431305   0.0708  -5.9699\n",
              "39     Topic6    67.227798    one   749.887878  -0.2803  -5.8045\n",
              "252    Topic6    63.542965   mani   664.825439  -0.2162  -5.8609\n",
              "81     Topic6    63.209393  think   775.982239  -0.3761  -5.8661\n",
              "1156   Topic6    60.924469  stori   710.740234  -0.3251  -5.9029\n",
              "\n",
              "[539 rows x 6 columns], token_table=      Topic      Freq    Term\n",
              "term                         \n",
              "3874      5  0.540293     afu\n",
              "1934      2  0.498914     aka\n",
              "2885      5  0.543356   akimo\n",
              "151       1  0.242726    also\n",
              "151       2  0.156516    also\n",
              "...     ...       ...     ...\n",
              "9574      1  0.374553  zhenqi\n",
              "9574      3  0.374553  zhenqi\n",
              "3028      2  0.668735      เต\n",
              "3028      5  0.334367      เต\n",
              "9991      2  0.500568    扛the\n",
              "\n",
              "[1290 rows x 3 columns], R=30, lambda_step=0.01, plot_opts={'xlab': 'PC1', 'ylab': 'PC2'}, topic_order=[6, 1, 3, 4, 2, 5])"
            ]
          },
          "metadata": {
            "tags": []
          },
          "execution_count": 25
        }
      ]
    },
    {
      "cell_type": "markdown",
      "metadata": {
        "id": "wJX8H_KjaV7S",
        "colab_type": "text"
      },
      "source": [
        "5. Based on finding in 3 and 4, describe what review 1 [ID=1] and review 501 [ID=501] are about?\n",
        "Please submit 1 file:\n",
        "A word file includes python code with your comment #, and one screenshot on your Jupyter\n",
        "Notebook showing that your code has run through successfully for each of the first four steps (4\n",
        "screenshots in total). Also, report your answers to question 3, 4, and 5 at the end of the word\n",
        "file."
      ]
    },
    {
      "cell_type": "code",
      "metadata": {
        "id": "IVdNQ7Q7urN9",
        "colab_type": "code",
        "colab": {
          "base_uri": "https://localhost:8080/",
          "height": 71
        },
        "outputId": "d1834b6d-3a69-499d-80b3-633a755fe99d"
      },
      "source": [
        "print(lda_model[bow_corpus[1]])\n",
        "data.review[0]"
      ],
      "execution_count": 19,
      "outputs": [
        {
          "output_type": "stream",
          "text": [
            "[(0, 0.9935906)]\n"
          ],
          "name": "stdout"
        },
        {
          "output_type": "execute_result",
          "data": {
            "text/plain": [
              "'About the shop: There is a restaurant in Soi Langsuan (Road) inside of Luxx Hotel. The décor of the restaurant: decorated in a rustic style, white walls, glass tables, red chairs, parquet floors, dim lights open at night, the romantic atmosphere: Duck l&#39;orange Pork Wellington and French onion soup. Average Price: 250-450 Baht Food Review: Duck l&#39;orange (455) Duck breast sliced Pork Wellington (445) is a piece of tender pork stuffed with stuffing and wrapped in a thin pastry and then baked to serve with the sauce. Duck roll (285) is a Duck wrapped with vegetables and dough wrap not much delicious French onion soup (235) Sweet taste Garnish with cheese Bake Scallop (225) is a scallop in a thick cream with cheese. Serve with a thin toast to eat together. Score by topic: &lt;Atmosphere&gt; 8/10 Atmosphere nice romantic &lt;food taste&gt; 7/10&lt;Service&gt; 9/10 Good service, good food recommendation &lt;Value&gt; 6/10 price is quite expensive and about 1,000 baht if not ordered the original special. Conclusion: The atmosphere is good, some delicious food. Three and a half stars for some delicious food. Note: This review is for personal use only. We do not like it. If not, please forgive me. I think that is one comment. To win the competition. I have a very good restaurant now. Thank you'"
            ]
          },
          "metadata": {
            "tags": []
          },
          "execution_count": 19
        }
      ]
    },
    {
      "cell_type": "code",
      "metadata": {
        "id": "oWcQIZGCu7mW",
        "colab_type": "code",
        "colab": {
          "base_uri": "https://localhost:8080/",
          "height": 71
        },
        "outputId": "51c150f7-6954-46ee-e53c-d9a2d6ee7fe0"
      },
      "source": [
        "print(lda_model[bow_corpus[501]])\n",
        "data.review[501]"
      ],
      "execution_count": 21,
      "outputs": [
        {
          "output_type": "stream",
          "text": [
            "[(2, 0.15490067), (3, 0.8429755)]\n"
          ],
          "name": "stdout"
        },
        {
          "output_type": "execute_result",
          "data": {
            "text/plain": [
              "'In the summer, go to Bali with friends. Rottweiler woke up at five in the morning and took a spider boat out to sea. To see the dolphins. I have never seen dolphins before except TV or dolls. Just remember that the smile of the dolphins is the biggest misunderstanding of mankind. This tells us that this should be derived from the phrase &quot;Dolphin Smile&quot; is the most illusory disguise in the world. The impression of the dolphins in my heart is lovely and sweet, accompanied by the early morning of Rottweiler and the bright yellow clouds of the sky. The dolphins jumped out of the sea in the morning light and were chased by a boat. The boat followed the direction in which the dolphins appeared. I couldn&#39;t help thinking, why should we chase, not wait? The dolphins were trapped in this bay full of boats. Because we were in a hurry, we were too attached to the encounter with the dolphins. I knew very early that there was a documentary about Dolphin Bay, but it took a long time to think about it. Documentaries are easy to be pre-positioned. I suspect that Dolphin Bay will lead to moral controversy, but I don&#39;t want to even mention the value orientation of Americans. I have also seen people say, &quot;In the name of fraternity, it divides everything into three or six, etc., which is essentially a cheap and self-deceptive value.&quot; Many times people think about a question, what is the balance between animals and humans. In fact, all creatures are just different levels of the food chain, so why do you have beef and pork on the table, but you shouldn&#39;t have dolphins, dogs? Just because we don&#39;t know, the dolphins and dogs are in what position. If you want to go deeper into this issue, I am afraid you have to set up another article. &quot;We should not eat dolphin meat&quot; may not be universal value, but it is the clear values \\u200b\\u200bwe see in Dolphin Bay. But I have to say that it &quot;self-deception&quot;, but I feel funny. After the formation of a personal world view, I will guide my behavior: Should I, should I, kill? Eat dolphins? Don&#39;t talk about the hollowness of the object level, just talk about your own value judgment. Put aside the philosophical significance of specific issues. We should not stand on the judgment standards of the public. At least for ourselves, those in the film, including me outside the film, are deeply guilty of this massacre. This is just a choice made in the personal morality. Isn&#39;t Dolphin Bay not to evoke people&#39;s compassion, but to make people think about the status of dolphins and dogs, cattle and sheep? Even shortening the death time of dolphins has become a gift. Like a dolphin, &quot;You give me a good time.&quot;So, humans answered &quot;Okay, I am satisfied with you.&quot; It is cruel kindness. Of course, from the shooting, &quot;Dolphin Bay&quot; has an inevitable American-style lyric. It may not be completely fair and objective, but also to achieve its purpose. The material that is good for itself. Fortunately, the ending we see is that the purpose is achieved. This is not the sublimity of human nature, but the persistence of humanity when it comes to ugliness. It is just that I feel that practicing my own values \\u200b\\u200bis a It&#39;s a very difficult thing. I don&#39;t know how many people are trying to defend their hearts. They are willing to go to prison many times. They are willing to stand on the streets for a long time. Everyone has their own value judgments. I think most people have no time to correct them. The world view of others. As for those who read a documentary, they can only see &quot;propaganda&quot;, and then go to obscenity &quot;Americans&#39; obscenity&quot;, but it is the bullshit with the correct political direction. In addition, &quot;Dolphin Bay&quot; has overemphasized creation. The subjective expression of suspicion, but after all, promoted people&#39;s thinking about the event itself, and obtained a goodwill result.'"
            ]
          },
          "metadata": {
            "tags": []
          },
          "execution_count": 21
        }
      ]
    },
    {
      "cell_type": "code",
      "metadata": {
        "id": "9zMufSYhvyA-",
        "colab_type": "code",
        "colab": {}
      },
      "source": [
        ""
      ],
      "execution_count": 0,
      "outputs": []
    }
  ]
}