{
  "nbformat": 4,
  "nbformat_minor": 0,
  "metadata": {
    "colab": {
      "name": "Welcome To Colaboratory",
      "provenance": [],
      "collapsed_sections": [],
      "toc_visible": true,
      "include_colab_link": true
    },
    "kernelspec": {
      "display_name": "Python 3",
      "name": "python3"
    }
  },
  "cells": [
    {
      "cell_type": "markdown",
      "metadata": {
        "id": "view-in-github",
        "colab_type": "text"
      },
      "source": [
        "<a href=\"https://colab.research.google.com/github/AnoVando/MSIS/blob/master/MSIS521_IA3_JoshuaMatthews.ipynb\" target=\"_parent\"><img src=\"https://colab.research.google.com/assets/colab-badge.svg\" alt=\"Open In Colab\"/></a>"
      ]
    },
    {
      "cell_type": "code",
      "metadata": {
        "id": "_5k9xerm07Zk",
        "colab_type": "code",
        "colab": {}
      },
      "source": [
        "import pandas as pd"
      ],
      "execution_count": 0,
      "outputs": []
    },
    {
      "cell_type": "code",
      "metadata": {
        "id": "olx0X9Ox07S1",
        "colab_type": "code",
        "colab": {
          "base_uri": "https://localhost:8080/",
          "height": 204
        },
        "outputId": "c363e321-165a-4037-f845-ea499fa582bd"
      },
      "source": [
        "url = 'https://github.com/AnoVando/MSIS/raw/master/IA3.csv'\n",
        "data = pd.read_csv(url, header='infer')\n",
        "data.head()"
      ],
      "execution_count": 33,
      "outputs": [
        {
          "output_type": "execute_result",
          "data": {
            "text/html": [
              "<div>\n",
              "<style scoped>\n",
              "    .dataframe tbody tr th:only-of-type {\n",
              "        vertical-align: middle;\n",
              "    }\n",
              "\n",
              "    .dataframe tbody tr th {\n",
              "        vertical-align: top;\n",
              "    }\n",
              "\n",
              "    .dataframe thead th {\n",
              "        text-align: right;\n",
              "    }\n",
              "</style>\n",
              "<table border=\"1\" class=\"dataframe\">\n",
              "  <thead>\n",
              "    <tr style=\"text-align: right;\">\n",
              "      <th></th>\n",
              "      <th>id</th>\n",
              "      <th>review</th>\n",
              "      <th>label</th>\n",
              "    </tr>\n",
              "  </thead>\n",
              "  <tbody>\n",
              "    <tr>\n",
              "      <th>0</th>\n",
              "      <td>1</td>\n",
              "      <td>About the shop: There is a restaurant in Soi L...</td>\n",
              "      <td>restaurant</td>\n",
              "    </tr>\n",
              "    <tr>\n",
              "      <th>1</th>\n",
              "      <td>2</td>\n",
              "      <td>About the shop: Through this store for about t...</td>\n",
              "      <td>restaurant</td>\n",
              "    </tr>\n",
              "    <tr>\n",
              "      <th>2</th>\n",
              "      <td>3</td>\n",
              "      <td>Roast Coffee &amp;amp; Eatery is a restaurant loca...</td>\n",
              "      <td>restaurant</td>\n",
              "    </tr>\n",
              "    <tr>\n",
              "      <th>3</th>\n",
              "      <td>4</td>\n",
              "      <td>Eat from the children. The shop is opposite. P...</td>\n",
              "      <td>restaurant</td>\n",
              "    </tr>\n",
              "    <tr>\n",
              "      <th>4</th>\n",
              "      <td>5</td>\n",
              "      <td>The Ak 1 shop at another branch tastes the sam...</td>\n",
              "      <td>restaurant</td>\n",
              "    </tr>\n",
              "  </tbody>\n",
              "</table>\n",
              "</div>"
            ],
            "text/plain": [
              "   id                                             review       label\n",
              "0   1  About the shop: There is a restaurant in Soi L...  restaurant\n",
              "1   2  About the shop: Through this store for about t...  restaurant\n",
              "2   3  Roast Coffee &amp; Eatery is a restaurant loca...  restaurant\n",
              "3   4  Eat from the children. The shop is opposite. P...  restaurant\n",
              "4   5  The Ak 1 shop at another branch tastes the sam...  restaurant"
            ]
          },
          "metadata": {
            "tags": []
          },
          "execution_count": 33
        }
      ]
    },
    {
      "cell_type": "code",
      "metadata": {
        "id": "oquhbxF207cP",
        "colab_type": "code",
        "colab": {
          "base_uri": "https://localhost:8080/",
          "height": 68
        },
        "outputId": "c91d499d-244d-4ff8-ce69-c1d065a7b52b"
      },
      "source": [
        "import gensim\n",
        "from gensim.utils import simple_preprocess\n",
        "from gensim.parsing.preprocessing import STOPWORDS\n",
        "from nltk.stem import WordNetLemmatizer, SnowballStemmer\n",
        "from nltk.stem.porter import *\n",
        "import numpy as np\n",
        "np.random.seed(2018)\n",
        "import nltk\n",
        "nltk.download('wordnet')"
      ],
      "execution_count": 34,
      "outputs": [
        {
          "output_type": "stream",
          "text": [
            "[nltk_data] Downloading package wordnet to /root/nltk_data...\n",
            "[nltk_data]   Package wordnet is already up-to-date!\n"
          ],
          "name": "stdout"
        },
        {
          "output_type": "execute_result",
          "data": {
            "text/plain": [
              "True"
            ]
          },
          "metadata": {
            "tags": []
          },
          "execution_count": 34
        }
      ]
    },
    {
      "cell_type": "code",
      "metadata": {
        "id": "vfwp85-85kPQ",
        "colab_type": "code",
        "colab": {}
      },
      "source": [
        "custom_list = ['quot']"
      ],
      "execution_count": 0,
      "outputs": []
    },
    {
      "cell_type": "code",
      "metadata": {
        "id": "n-9wLdFU07ew",
        "colab_type": "code",
        "colab": {}
      },
      "source": [
        "stemmer = PorterStemmer()\n",
        "def lemmatize_stemming(text):\n",
        "    return stemmer.stem(WordNetLemmatizer().lemmatize(text, pos='v'))\n",
        "def preprocess(text):\n",
        "    result = []\n",
        "    for token in gensim.utils.simple_preprocess(text):\n",
        "        if token not in gensim.parsing.preprocessing.STOPWORDS and len(token) > 3:\n",
        "            if token not in custom_list:\n",
        "                result.append(lemmatize_stemming(token))\n",
        "    return result"
      ],
      "execution_count": 0,
      "outputs": []
    },
    {
      "cell_type": "code",
      "metadata": {
        "id": "XHAJDHXE2-91",
        "colab_type": "code",
        "colab": {}
      },
      "source": [
        "processed_docs = data['review'].fillna('').astype(str).map(preprocess)"
      ],
      "execution_count": 0,
      "outputs": []
    },
    {
      "cell_type": "code",
      "metadata": {
        "id": "QYb2qcCg07hI",
        "colab_type": "code",
        "colab": {
          "base_uri": "https://localhost:8080/",
          "height": 204
        },
        "outputId": "1d1f002e-919d-49ee-f8fe-3a89040243f8"
      },
      "source": [
        "processed_docs[:10]"
      ],
      "execution_count": 38,
      "outputs": [
        {
          "output_type": "execute_result",
          "data": {
            "text/plain": [
              "0    [shop, restaur, langsuan, road, insid, luxx, h...\n",
              "1    [shop, store, year, time, restaur, locat, sans...\n",
              "2    [roast, coffe, eateri, restaur, locat, seenspa...\n",
              "3    [children, shop, opposit, phra, prathat, conve...\n",
              "4    [shop, branch, tast, concentr, tell, pot, bigg...\n",
              "5    [shop, type, japanes, buffet, buffet, open, bu...\n",
              "6    [restaur, place, peopl, love, dessert, tell, l...\n",
              "7    [shop, peopl, thai, style, restaur, varieti, f...\n",
              "8          [good, atmospher, good, servic, food, come]\n",
              "9    [peopl, live, know, restaur, downsid, store, w...\n",
              "Name: review, dtype: object"
            ]
          },
          "metadata": {
            "tags": []
          },
          "execution_count": 38
        }
      ]
    },
    {
      "cell_type": "code",
      "metadata": {
        "id": "zDel5_nk07jz",
        "colab_type": "code",
        "colab": {}
      },
      "source": [
        "dictionary = gensim.corpora.Dictionary(processed_docs)"
      ],
      "execution_count": 0,
      "outputs": []
    },
    {
      "cell_type": "code",
      "metadata": {
        "id": "5KRwtf6I4ofu",
        "colab_type": "code",
        "colab": {}
      },
      "source": [
        "bow_corpus = [dictionary.doc2bow(doc) for doc in processed_docs]"
      ],
      "execution_count": 0,
      "outputs": []
    },
    {
      "cell_type": "code",
      "metadata": {
        "id": "vVbDiHVd5Am_",
        "colab_type": "code",
        "colab": {}
      },
      "source": [
        "from gensim import corpora, models\n",
        "tfidf = models.TfidfModel(bow_corpus)\n",
        "corpus_tfidf = tfidf[bow_corpus]"
      ],
      "execution_count": 0,
      "outputs": []
    },
    {
      "cell_type": "code",
      "metadata": {
        "id": "XI2AuKO65Efs",
        "colab_type": "code",
        "colab": {}
      },
      "source": [
        "lda_model = gensim.models.LdaMulticore(bow_corpus, num_topics=6, id2word=dictionary, passes=2, workers=2)"
      ],
      "execution_count": 0,
      "outputs": []
    },
    {
      "cell_type": "code",
      "metadata": {
        "id": "8sETQeI45Meo",
        "colab_type": "code",
        "colab": {
          "base_uri": "https://localhost:8080/",
          "height": 241
        },
        "outputId": "105c4b3f-8564-43f3-8713-82b2dcd76034"
      },
      "source": [
        "for idx, topic in lda_model.print_topics(-1):\n",
        "    print('Topic: {} \\nWords: {}'.format(idx, topic))"
      ],
      "execution_count": 45,
      "outputs": [
        {
          "output_type": "stream",
          "text": [
            "Topic: 0 \n",
            "Words: 0.014*\"love\" + 0.009*\"like\" + 0.008*\"film\" + 0.008*\"peopl\" + 0.007*\"time\" + 0.005*\"think\" + 0.005*\"want\" + 0.005*\"life\" + 0.005*\"say\" + 0.005*\"good\"\n",
            "Topic: 1 \n",
            "Words: 0.012*\"good\" + 0.011*\"film\" + 0.010*\"like\" + 0.010*\"food\" + 0.008*\"delici\" + 0.008*\"tast\" + 0.007*\"restaur\" + 0.007*\"menu\" + 0.007*\"time\" + 0.006*\"shop\"\n",
            "Topic: 2 \n",
            "Words: 0.010*\"peopl\" + 0.008*\"love\" + 0.007*\"like\" + 0.006*\"film\" + 0.006*\"good\" + 0.005*\"time\" + 0.005*\"life\" + 0.005*\"shrimp\" + 0.004*\"feel\" + 0.004*\"order\"\n",
            "Topic: 3 \n",
            "Words: 0.019*\"film\" + 0.010*\"peopl\" + 0.007*\"like\" + 0.007*\"stori\" + 0.007*\"love\" + 0.007*\"movi\" + 0.006*\"time\" + 0.005*\"life\" + 0.005*\"good\" + 0.005*\"feel\"\n",
            "Topic: 4 \n",
            "Words: 0.012*\"good\" + 0.011*\"film\" + 0.010*\"peopl\" + 0.009*\"time\" + 0.006*\"like\" + 0.006*\"love\" + 0.006*\"think\" + 0.005*\"life\" + 0.005*\"movi\" + 0.005*\"year\"\n",
            "Topic: 5 \n",
            "Words: 0.013*\"peopl\" + 0.012*\"like\" + 0.011*\"film\" + 0.009*\"good\" + 0.007*\"time\" + 0.006*\"think\" + 0.005*\"life\" + 0.005*\"movi\" + 0.005*\"restaur\" + 0.005*\"shop\"\n"
          ],
          "name": "stdout"
        }
      ]
    },
    {
      "cell_type": "code",
      "metadata": {
        "id": "VM9FRmbv5UbT",
        "colab_type": "code",
        "colab": {}
      },
      "source": [
        ""
      ],
      "execution_count": 0,
      "outputs": []
    }
  ]
}