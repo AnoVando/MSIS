{
  "nbformat": 4,
  "nbformat_minor": 0,
  "metadata": {
    "colab": {
      "name": "Welcome To Colaboratory",
      "provenance": [],
      "collapsed_sections": [],
      "toc_visible": true,
      "include_colab_link": true
    },
    "kernelspec": {
      "display_name": "Python 3",
      "name": "python3"
    }
  },
  "cells": [
    {
      "cell_type": "markdown",
      "metadata": {
        "id": "view-in-github",
        "colab_type": "text"
      },
      "source": [
        "<a href=\"https://colab.research.google.com/github/AnoVando/MSIS/blob/master/MSIS521_In_Class_Lab_2-15-2020.ipynb\" target=\"_parent\"><img src=\"https://colab.research.google.com/assets/colab-badge.svg\" alt=\"Open In Colab\"/></a>"
      ]
    },
    {
      "cell_type": "code",
      "metadata": {
        "id": "tvYrWWpE3IBo",
        "colab_type": "code",
        "colab": {
          "base_uri": "https://localhost:8080/",
          "height": 204
        },
        "outputId": "3b023bda-89ed-4533-8e5b-bb2a29d5c610"
      },
      "source": [
        "import nltk\n",
        "nltk.download('punkt') # tokenizer\n",
        "nltk.download('wordnet') # lemmatizer\n",
        "nltk.download('stopwords') # used to handle words like a, an, the\n",
        "nltk.download('averaged_perceptron_tagger') # Part of Speech\n",
        "\n",
        "d1 = \"Yong is a good guy, he is not bad\"\n",
        "d2 = \"feet wolves cooked boys girls ,!<@!\"\n",
        "d3 = \"Yong is not a good guy, he is bad\"\n",
        "\n",
        "c1 = [d1, d2, d3] # list of documents\n",
        "\n",
        "###TOKENIZE\n",
        "token_d1 = nltk.word_tokenize(d1)\n",
        "print(token_d1)"
      ],
      "execution_count": 1,
      "outputs": [
        {
          "output_type": "stream",
          "text": [
            "[nltk_data] Downloading package punkt to /root/nltk_data...\n",
            "[nltk_data]   Package punkt is already up-to-date!\n",
            "[nltk_data] Downloading package wordnet to /root/nltk_data...\n",
            "[nltk_data]   Package wordnet is already up-to-date!\n",
            "[nltk_data] Downloading package stopwords to /root/nltk_data...\n",
            "[nltk_data]   Package stopwords is already up-to-date!\n",
            "[nltk_data] Downloading package averaged_perceptron_tagger to\n",
            "[nltk_data]     /root/nltk_data...\n",
            "[nltk_data]   Package averaged_perceptron_tagger is already up-to-\n",
            "[nltk_data]       date!\n",
            "['Yong', 'is', 'a', 'good', 'guy', ',', 'he', 'is', 'not', 'bad']\n"
          ],
          "name": "stdout"
        }
      ]
    },
    {
      "cell_type": "code",
      "metadata": {
        "id": "dd4RBSqp5cTr",
        "colab_type": "code",
        "colab": {
          "base_uri": "https://localhost:8080/",
          "height": 34
        },
        "outputId": "8eaaaf99-ae06-4ebf-fb07-2e8ee4a59a9c"
      },
      "source": [
        "tokenizer2 = nltk.tokenize.WhitespaceTokenizer()\n",
        "token_d12 = tokenizer2.tokenize(d1)\n",
        "print(token_d12)"
      ],
      "execution_count": 2,
      "outputs": [
        {
          "output_type": "stream",
          "text": [
            "['Yong', 'is', 'a', 'good', 'guy,', 'he', 'is', 'not', 'bad']\n"
          ],
          "name": "stdout"
        }
      ]
    },
    {
      "cell_type": "code",
      "metadata": {
        "id": "I8MLrUqq3QOW",
        "colab_type": "code",
        "colab": {
          "base_uri": "https://localhost:8080/",
          "height": 54
        },
        "outputId": "b509b075-f574-42ed-e2d4-9bfc6b13627d"
      },
      "source": [
        "##BOW Frequency\n",
        "from sklearn.feature_extraction.text import CountVectorizer\n",
        "vectorizer1 = CountVectorizer()\n",
        "vectorizer1.fit(c1)\n",
        "\n",
        "print(vectorizer1.vocabulary_)"
      ],
      "execution_count": 3,
      "outputs": [
        {
          "output_type": "stream",
          "text": [
            "{'yong': 11, 'is': 8, 'good': 5, 'guy': 6, 'he': 7, 'not': 9, 'bad': 0, 'feet': 3, 'wolves': 10, 'cooked': 2, 'boys': 1, 'girls': 4}\n"
          ],
          "name": "stdout"
        }
      ]
    },
    {
      "cell_type": "code",
      "metadata": {
        "id": "GvPIuScZ8QVN",
        "colab_type": "code",
        "colab": {
          "base_uri": "https://localhost:8080/",
          "height": 68
        },
        "outputId": "94dec4d7-f892-46b2-bdf4-29ac5e22c3b2"
      },
      "source": [
        "v1 = vectorizer1.transform(c1)\n",
        "print(v1.toarray())"
      ],
      "execution_count": 4,
      "outputs": [
        {
          "output_type": "stream",
          "text": [
            "[[1 0 0 0 0 1 1 1 2 1 0 1]\n",
            " [0 1 1 1 1 0 0 0 0 0 1 0]\n",
            " [1 0 0 0 0 1 1 1 2 1 0 1]]\n"
          ],
          "name": "stdout"
        }
      ]
    },
    {
      "cell_type": "code",
      "metadata": {
        "id": "N_wKXGsH7xwj",
        "colab_type": "code",
        "colab": {
          "base_uri": "https://localhost:8080/",
          "height": 68
        },
        "outputId": "bb566da7-7529-427e-dd48-613110110564"
      },
      "source": [
        "###STEMMER\n",
        "token_d2 = nltk.word_tokenize(d2.lower())\n",
        "\n",
        "stemmer = nltk.stem.PorterStemmer()\n",
        "stemmered_token_d2 = [stemmer.stem(token) for token in token_d2 if token.isalpha()]\n",
        "\n",
        "# more complete method for looping\n",
        "# stemmed_token_d2 = []\n",
        "# for token in token_d2:\n",
        "#     if token.isalpha():\n",
        "#         stemmed_token_d2.append(stemmer.stem(token))\n",
        "\n",
        "print(token_d2)\n",
        "print(stemmered_token_d2)\n",
        "\n",
        "# LEMMATIZER\n",
        "lemmatizer = nltk.stem.WordNetLemmatizer()\n",
        "lemmatized_token_d2 = [lemmatizer.lemmatize(token) for token in token_d2 if token.isalpha()]\n",
        "print(lemmatized_token_d2)"
      ],
      "execution_count": 5,
      "outputs": [
        {
          "output_type": "stream",
          "text": [
            "['feet', 'wolves', 'cooked', 'boys', 'girls', ',', '!', '<', '@', '!']\n",
            "['feet', 'wolv', 'cook', 'boy', 'girl']\n",
            "['foot', 'wolf', 'cooked', 'boy', 'girl']\n"
          ],
          "name": "stdout"
        }
      ]
    },
    {
      "cell_type": "code",
      "metadata": {
        "id": "REZO0GkwG6jU",
        "colab_type": "code",
        "colab": {
          "base_uri": "https://localhost:8080/",
          "height": 51
        },
        "outputId": "f5643617-9ca0-4b36-f1e3-26ed7daceee1"
      },
      "source": [
        "###remove stop words\n",
        "from nltk.corpus import stopwords\n",
        "\n",
        "stop_words_removed = [token for token in token_d1 if not token in stopwords.words('english') if token.isalpha()]\n",
        "\n",
        "# stop_words_removed = []\n",
        "# for token in token_d1:\n",
        "#     if token.isalpha():\n",
        "#         if not in stopwords.words('englis'):\n",
        "#             stop_words_removed.append(stopwords.words(token))           \n",
        "\n",
        "print(token_d1)\n",
        "print(stop_words_removed)"
      ],
      "execution_count": 6,
      "outputs": [
        {
          "output_type": "stream",
          "text": [
            "['Yong', 'is', 'a', 'good', 'guy', ',', 'he', 'is', 'not', 'bad']\n",
            "['Yong', 'good', 'guy', 'bad']\n"
          ],
          "name": "stdout"
        }
      ]
    },
    {
      "cell_type": "code",
      "metadata": {
        "id": "wAVWkCmEJueO",
        "colab_type": "code",
        "colab": {
          "base_uri": "https://localhost:8080/",
          "height": 85
        },
        "outputId": "38f55740-b35a-418c-f6ee-adad180ee5ea"
      },
      "source": [
        "### low frequency words\n",
        "from sklearn.feature_extraction.text import CountVectorizer\n",
        "vectorizer1 = CountVectorizer(min_df=2)\n",
        "vectorizer1.fit(c1)\n",
        "print(vectorizer1.vocabulary_)\n",
        "v1 = vectorizer1.transform(c1)\n",
        "\n",
        "print(v1.toarray())"
      ],
      "execution_count": 7,
      "outputs": [
        {
          "output_type": "stream",
          "text": [
            "{'yong': 6, 'is': 4, 'good': 1, 'guy': 2, 'he': 3, 'not': 5, 'bad': 0}\n",
            "[[1 1 1 1 2 1 1]\n",
            " [0 0 0 0 0 0 0]\n",
            " [1 1 1 1 2 1 1]]\n"
          ],
          "name": "stdout"
        }
      ]
    },
    {
      "cell_type": "code",
      "metadata": {
        "id": "h9nT7BigJxQh",
        "colab_type": "code",
        "colab": {
          "base_uri": "https://localhost:8080/",
          "height": 292
        },
        "outputId": "0755ee78-02fd-4d8b-c310-22e804326229"
      },
      "source": [
        "###TFI-IDF\n",
        "from sklearn.feature_extraction.text import TfidfVectorizer\n",
        "\n",
        "vectorizer2 = TfidfVectorizer()\n",
        "vectorizer2.fit(c1)\n",
        "print(vectorizer2.vocabulary_)\n",
        "\n",
        "print('\\n')\n",
        "\n",
        "v2 = vectorizer2.transform(c1)\n",
        "print(v2.toarray())\n",
        "\n",
        "print('\\n')\n",
        "\n",
        "c2 = [\"hello world\", \"Yong is calling\"]\n",
        "v_c2 = vectorizer2.transform(c2)\n",
        "print(v_c2.toarray())"
      ],
      "execution_count": 12,
      "outputs": [
        {
          "output_type": "stream",
          "text": [
            "{'yong': 11, 'is': 8, 'good': 5, 'guy': 6, 'he': 7, 'not': 9, 'bad': 0, 'feet': 3, 'wolves': 10, 'cooked': 2, 'boys': 1, 'girls': 4}\n",
            "\n",
            "\n",
            "[[0.31622777 0.         0.         0.         0.         0.31622777\n",
            "  0.31622777 0.31622777 0.63245553 0.31622777 0.         0.31622777]\n",
            " [0.         0.4472136  0.4472136  0.4472136  0.4472136  0.\n",
            "  0.         0.         0.         0.         0.4472136  0.        ]\n",
            " [0.31622777 0.         0.         0.         0.         0.31622777\n",
            "  0.31622777 0.31622777 0.63245553 0.31622777 0.         0.31622777]]\n",
            "\n",
            "\n",
            "[[0.         0.         0.         0.         0.         0.\n",
            "  0.         0.         0.         0.         0.         0.        ]\n",
            " [0.         0.         0.         0.         0.         0.\n",
            "  0.         0.         0.70710678 0.         0.         0.70710678]]\n"
          ],
          "name": "stdout"
        }
      ]
    },
    {
      "cell_type": "code",
      "metadata": {
        "id": "YZ13pJNXLMIR",
        "colab_type": "code",
        "colab": {
          "base_uri": "https://localhost:8080/",
          "height": 190
        },
        "outputId": "db6b4a42-3a67-45ff-87ef-02559a41460d"
      },
      "source": [
        "### Bag of 2-grams\n",
        "vectorizer3 = TfidfVectorizer(ngram_range=(1, 2), min_df=2)\n",
        "vectorizer3.fit(c1)\n",
        "v3 = vectorizer3.transform(c1)\n",
        "\n",
        "print(v3.toarray())\n",
        "print('\\n')\n",
        "print(vectorizer3.vocabulary_)"
      ],
      "execution_count": 14,
      "outputs": [
        {
          "output_type": "stream",
          "text": [
            "[[0.25819889 0.25819889 0.25819889 0.25819889 0.25819889 0.25819889\n",
            "  0.25819889 0.51639778 0.25819889 0.25819889 0.25819889 0.25819889]\n",
            " [0.         0.         0.         0.         0.         0.\n",
            "  0.         0.         0.         0.         0.         0.        ]\n",
            " [0.25819889 0.25819889 0.25819889 0.25819889 0.25819889 0.25819889\n",
            "  0.25819889 0.51639778 0.25819889 0.25819889 0.25819889 0.25819889]]\n",
            "\n",
            "\n",
            "{'yong': 10, 'is': 7, 'good': 1, 'guy': 3, 'he': 5, 'not': 9, 'bad': 0, 'yong is': 11, 'good guy': 2, 'guy he': 4, 'he is': 6, 'is not': 8}\n"
          ],
          "name": "stdout"
        }
      ]
    },
    {
      "cell_type": "code",
      "metadata": {
        "id": "2YF_GON9_yTg",
        "colab_type": "code",
        "colab": {
          "base_uri": "https://localhost:8080/",
          "height": 187
        },
        "outputId": "db896288-9863-409d-99cb-051faafa0c36"
      },
      "source": [
        "### Part of Speech TAG\n",
        "d4 = \"I drink water in parties\"\n",
        "d5 = \"I grab a drink in parties\"\n",
        "token4 = nltk.word_tokenize(d4)\n",
        "\n",
        "POS_token4 = nltk.pos_tag(token4)\n",
        "\n",
        "print(POS_token4)\n",
        "print('\\n')\n",
        "\n",
        "c2 = [d4, d5]\n",
        "POS_c2 = []\n",
        "for doc in c2:\n",
        "    token_doc = nltk.word_tokenize(doc) # tokenize the words\n",
        "    POS_token_doc = nltk.pos_tag(token_doc) # pos tag the tokens\n",
        "    POS_token_temp = []\n",
        "    for i in POS_token_doc:\n",
        "        POS_token_temp.append(i[0] + i[1]) # create tuples for the tokens/pos tags\n",
        "    POS_c2.append(\" \".join(POS_token_temp))\n",
        "\n",
        "vectorizer4 = TfidfVectorizer()\n",
        "vectorizer4.fit(POS_c2)\n",
        "print(vectorizer4.vocabulary_)\n",
        "\n",
        "print('\\n')\n",
        "\n",
        "POS_v3 = vectorizer4.transform(POS_c2)\n",
        "print(POS_v3.toarray())"
      ],
      "execution_count": 16,
      "outputs": [
        {
          "output_type": "stream",
          "text": [
            "[('I', 'PRP'), ('drink', 'VBP'), ('water', 'NN'), ('in', 'IN'), ('parties', 'NNS')]\n",
            "\n",
            "\n",
            "{'iprp': 5, 'drinkvbp': 2, 'waternn': 7, 'inin': 4, 'partiesnns': 6, 'grabvbp': 3, 'adt': 0, 'drinknn': 1}\n",
            "\n",
            "\n",
            "[[0.         0.         0.53309782 0.         0.37930349 0.37930349\n",
            "  0.37930349 0.53309782]\n",
            " [0.47042643 0.47042643 0.         0.47042643 0.33471228 0.33471228\n",
            "  0.33471228 0.        ]]\n"
          ],
          "name": "stdout"
        }
      ]
    },
    {
      "cell_type": "code",
      "metadata": {
        "id": "TGyxZuSgNgEm",
        "colab_type": "code",
        "colab": {}
      },
      "source": [
        ""
      ],
      "execution_count": 0,
      "outputs": []
    }
  ]
}