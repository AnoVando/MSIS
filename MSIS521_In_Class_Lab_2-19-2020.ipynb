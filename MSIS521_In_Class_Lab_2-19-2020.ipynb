{
  "nbformat": 4,
  "nbformat_minor": 0,
  "metadata": {
    "colab": {
      "name": "Welcome To Colaboratory",
      "provenance": [],
      "collapsed_sections": [],
      "toc_visible": true,
      "include_colab_link": true
    },
    "kernelspec": {
      "display_name": "Python 3",
      "name": "python3"
    }
  },
  "cells": [
    {
      "cell_type": "markdown",
      "metadata": {
        "id": "view-in-github",
        "colab_type": "text"
      },
      "source": [
        "<a href=\"https://colab.research.google.com/github/AnoVando/MSIS/blob/master/MSIS521_In_Class_Lab_2-19-2020.ipynb\" target=\"_parent\"><img src=\"https://colab.research.google.com/assets/colab-badge.svg\" alt=\"Open In Colab\"/></a>"
      ]
    },
    {
      "cell_type": "code",
      "metadata": {
        "id": "xg8lvir8bSWT",
        "colab_type": "code",
        "colab": {}
      },
      "source": [
        "from sklearn.feature_extraction.text import TfidfVectorizer\n",
        "from sklearn.feature_extraction.text import CountVectorizer\n",
        "from sklearn.metrics import *\n",
        "from sklearn.metrics.pairwise import *"
      ],
      "execution_count": 0,
      "outputs": []
    },
    {
      "cell_type": "code",
      "metadata": {
        "id": "RSjbEeqjbSek",
        "colab_type": "code",
        "outputId": "dc3a7fa2-7530-45c6-c816-951a74a4e6f3",
        "colab": {
          "base_uri": "https://localhost:8080/",
          "height": 119
        }
      },
      "source": [
        "d1 = \"Yong is a good guy, he is not bad\"\n",
        "d2 = \"feet wolves cooked boys girls ,!<@!\"\n",
        "d3 = \"Yong is not a good guy, he is bad\"\n",
        "d4 = \"I drink water in parties\"\n",
        "d5 = \"I grab a drink in parties\"\n",
        "\n",
        "c3 = [d4, d5]\n",
        "\n",
        "vectorizer5 = CountVectorizer()\n",
        "vectorizer5.fit(c3)\n",
        "print(vectorizer5.vocabulary_)\n",
        "print('\\n')\n",
        "v_c3 = vectorizer5.transform(c3).toarray()\n",
        "print(v_c3)\n",
        "cosine_similarity([v_c3[0,:]],[v_c3[1,:]])"
      ],
      "execution_count": 2,
      "outputs": [
        {
          "output_type": "stream",
          "text": [
            "{'drink': 0, 'water': 4, 'in': 2, 'parties': 3, 'grab': 1}\n",
            "\n",
            "\n",
            "[[1 0 1 1 1]\n",
            " [1 1 1 1 0]]\n"
          ],
          "name": "stdout"
        },
        {
          "output_type": "execute_result",
          "data": {
            "text/plain": [
              "array([[0.75]])"
            ]
          },
          "metadata": {
            "tags": []
          },
          "execution_count": 2
        }
      ]
    },
    {
      "cell_type": "code",
      "metadata": {
        "id": "HxzB1TJ8eOV9",
        "colab_type": "code",
        "outputId": "7fb266ac-ed5f-47ce-e1cb-eac5d8be6445",
        "colab": {
          "base_uri": "https://localhost:8080/",
          "height": 34
        }
      },
      "source": [
        "jaccard_score(v_c3[0,:],v_c3[1,:])"
      ],
      "execution_count": 3,
      "outputs": [
        {
          "output_type": "execute_result",
          "data": {
            "text/plain": [
              "0.6"
            ]
          },
          "metadata": {
            "tags": []
          },
          "execution_count": 3
        }
      ]
    },
    {
      "cell_type": "code",
      "metadata": {
        "id": "WxFAA20jgLKC",
        "colab_type": "code",
        "colab": {}
      },
      "source": [
        "from sklearn.cluster import KMeans\n",
        "d6 = \"Seattle weather is bad in winter\"\n",
        "d7 = \"Seattle Seahawks is a great football team\"\n",
        "d8 = \"I love Seahawks\"\n",
        "d9 = \"I learned a lot of Data analytics tools\"\n",
        "d10 = \"I am a data scientist\"\n",
        "c4 = [d1,d2,d3,d4,d5,d6,d7,d8,d9,d10]"
      ],
      "execution_count": 0,
      "outputs": []
    },
    {
      "cell_type": "code",
      "metadata": {
        "id": "ZEfdTVj6bSg1",
        "colab_type": "code",
        "colab": {}
      },
      "source": [
        "from sklearn.feature_extraction.text import TfidfVectorizer\n",
        "vectorizer6 = TfidfVectorizer(stop_words='english')\n",
        "X = vectorizer6.fit_transform(c4)"
      ],
      "execution_count": 0,
      "outputs": []
    },
    {
      "cell_type": "code",
      "metadata": {
        "id": "zGNMnW44iF0T",
        "colab_type": "code",
        "outputId": "3b1ce984-e848-4ebe-8ec8-22d38bfdc347",
        "colab": {
          "base_uri": "https://localhost:8080/",
          "height": 374
        }
      },
      "source": [
        "true_k = 4\n",
        "model1 = KMeans(n_clusters=true_k)\n",
        "model1.fit(X)\n",
        "print(model1.cluster_centers_)\n",
        "# model1.fit_transform(X) # fit, transform, predict, fit_transform, fit_predict\n",
        "model1clusters = model1.labels_.tolist()\n",
        "print(model1clusters)"
      ],
      "execution_count": 6,
      "outputs": [
        {
          "output_type": "stream",
          "text": [
            "[[0.23007895 0.         0.         0.         0.51943254 0.\n",
            "  0.         0.         0.         0.         0.         0.\n",
            "  0.         0.23007895 0.23007895 0.         0.         0.38095248\n",
            "  0.         0.         0.         0.23007895 0.         0.\n",
            "  0.         0.         0.        ]\n",
            " [0.         0.45086112 0.         0.         0.         0.\n",
            "  0.         0.         0.         0.51533945 0.         0.\n",
            "  0.51533945 0.         0.         0.         0.         0.\n",
            "  0.         0.         0.         0.         0.         0.\n",
            "  0.         0.         0.51533945]\n",
            " [0.         0.10272995 0.1118034  0.1118034  0.         0.\n",
            "  0.1118034  0.11857386 0.1118034  0.         0.         0.11857386\n",
            "  0.         0.         0.         0.19047624 0.         0.\n",
            "  0.26272082 0.21822012 0.11857386 0.         0.         0.13812811\n",
            "  0.13812811 0.1118034  0.        ]\n",
            " [0.         0.         0.         0.         0.         0.54362395\n",
            "  0.         0.         0.         0.         0.31974443 0.\n",
            "  0.         0.         0.         0.         0.54362395 0.\n",
            "  0.         0.         0.         0.         0.31974443 0.\n",
            "  0.         0.         0.        ]]\n",
            "[1, 2, 1, 3, 3, 2, 2, 2, 0, 0]\n"
          ],
          "name": "stdout"
        }
      ]
    },
    {
      "cell_type": "code",
      "metadata": {
        "id": "5bpA94omiHuw",
        "colab_type": "code",
        "outputId": "dc142a0b-84e5-4ee8-d2ae-521ee0634373",
        "colab": {
          "base_uri": "https://localhost:8080/",
          "height": 357
        }
      },
      "source": [
        "order_centroids = model1.cluster_centers_.argsort()[:, ::-1]\n",
        "terms = vectorizer6.get_feature_names()\n",
        "for c in range(0, 4):\n",
        "    print('Cluster %d:' % c)\n",
        "    for ind in order_centroids[c, :4]:\n",
        "        print(terms[ind])"
      ],
      "execution_count": 7,
      "outputs": [
        {
          "output_type": "stream",
          "text": [
            "Cluster 0:\n",
            "data\n",
            "scientist\n",
            "learned\n",
            "tools\n",
            "Cluster 1:\n",
            "yong\n",
            "guy\n",
            "good\n",
            "bad\n",
            "Cluster 2:\n",
            "seahawks\n",
            "seattle\n",
            "love\n",
            "winter\n",
            "Cluster 3:\n",
            "drink\n",
            "parties\n",
            "water\n",
            "grab\n"
          ],
          "name": "stdout"
        }
      ]
    },
    {
      "cell_type": "code",
      "metadata": {
        "id": "I9KroFpegNB4",
        "colab_type": "code",
        "colab": {
          "base_uri": "https://localhost:8080/",
          "height": 34
        },
        "outputId": "ab84bf05-6bd2-47da-a722-b2f7ef4a9209"
      },
      "source": [
        "##Hierachical cluster\n",
        "\n",
        "from sklearn.cluster import AgglomerativeClustering\n",
        "\n",
        "model2 = AgglomerativeClustering(n_clusters=4, affinity='euclidean', linkage='ward')\n",
        "model2.fit_predict(X.toarray())\n",
        "print(model2.labels_)\n"
      ],
      "execution_count": 8,
      "outputs": [
        {
          "output_type": "stream",
          "text": [
            "[3 0 3 2 2 0 0 0 1 1]\n"
          ],
          "name": "stdout"
        }
      ]
    },
    {
      "cell_type": "code",
      "metadata": {
        "id": "i2tJelyauZT-",
        "colab_type": "code",
        "colab": {}
      },
      "source": [
        "# use sklearn\n",
        "from sklearn.feature_extraction.text import CountVectorizer\n",
        "vectorizer7 = CountVectorizer(stop_words='english')\n",
        "X2 = vectorizer7.fit_transform(c4)\n",
        "terms = vectorizer7.get_feature_names()\n"
      ],
      "execution_count": 0,
      "outputs": []
    },
    {
      "cell_type": "code",
      "metadata": {
        "id": "37wwBMRWubjx",
        "colab_type": "code",
        "colab": {}
      },
      "source": [
        "from sklearn.decomposition import LatentDirichletAllocation\n",
        "lda = LatentDirichletAllocation(n_components=4).fit(X2)"
      ],
      "execution_count": 0,
      "outputs": []
    },
    {
      "cell_type": "code",
      "metadata": {
        "id": "-2E8aF5eukcu",
        "colab_type": "code",
        "colab": {
          "base_uri": "https://localhost:8080/",
          "height": 326
        },
        "outputId": "de1f142c-f6dd-451e-a6b2-a8d34dfafe4a"
      },
      "source": [
        "!pip install gensim"
      ],
      "execution_count": 11,
      "outputs": [
        {
          "output_type": "stream",
          "text": [
            "Requirement already satisfied: gensim in /usr/local/lib/python3.6/dist-packages (3.6.0)\n",
            "Requirement already satisfied: six>=1.5.0 in /usr/local/lib/python3.6/dist-packages (from gensim) (1.12.0)\n",
            "Requirement already satisfied: smart-open>=1.2.1 in /usr/local/lib/python3.6/dist-packages (from gensim) (1.9.0)\n",
            "Requirement already satisfied: scipy>=0.18.1 in /usr/local/lib/python3.6/dist-packages (from gensim) (1.4.1)\n",
            "Requirement already satisfied: numpy>=1.11.3 in /usr/local/lib/python3.6/dist-packages (from gensim) (1.17.5)\n",
            "Requirement already satisfied: requests in /usr/local/lib/python3.6/dist-packages (from smart-open>=1.2.1->gensim) (2.21.0)\n",
            "Requirement already satisfied: boto3 in /usr/local/lib/python3.6/dist-packages (from smart-open>=1.2.1->gensim) (1.11.15)\n",
            "Requirement already satisfied: boto>=2.32 in /usr/local/lib/python3.6/dist-packages (from smart-open>=1.2.1->gensim) (2.49.0)\n",
            "Requirement already satisfied: idna<2.9,>=2.5 in /usr/local/lib/python3.6/dist-packages (from requests->smart-open>=1.2.1->gensim) (2.8)\n",
            "Requirement already satisfied: certifi>=2017.4.17 in /usr/local/lib/python3.6/dist-packages (from requests->smart-open>=1.2.1->gensim) (2019.11.28)\n",
            "Requirement already satisfied: urllib3<1.25,>=1.21.1 in /usr/local/lib/python3.6/dist-packages (from requests->smart-open>=1.2.1->gensim) (1.24.3)\n",
            "Requirement already satisfied: chardet<3.1.0,>=3.0.2 in /usr/local/lib/python3.6/dist-packages (from requests->smart-open>=1.2.1->gensim) (3.0.4)\n",
            "Requirement already satisfied: botocore<1.15.0,>=1.14.15 in /usr/local/lib/python3.6/dist-packages (from boto3->smart-open>=1.2.1->gensim) (1.14.15)\n",
            "Requirement already satisfied: s3transfer<0.4.0,>=0.3.0 in /usr/local/lib/python3.6/dist-packages (from boto3->smart-open>=1.2.1->gensim) (0.3.3)\n",
            "Requirement already satisfied: jmespath<1.0.0,>=0.7.1 in /usr/local/lib/python3.6/dist-packages (from boto3->smart-open>=1.2.1->gensim) (0.9.4)\n",
            "Requirement already satisfied: docutils<0.16,>=0.10 in /usr/local/lib/python3.6/dist-packages (from botocore<1.15.0,>=1.14.15->boto3->smart-open>=1.2.1->gensim) (0.15.2)\n",
            "Requirement already satisfied: python-dateutil<3.0.0,>=2.1 in /usr/local/lib/python3.6/dist-packages (from botocore<1.15.0,>=1.14.15->boto3->smart-open>=1.2.1->gensim) (2.6.1)\n"
          ],
          "name": "stdout"
        }
      ]
    },
    {
      "cell_type": "code",
      "metadata": {
        "id": "7WlmPcKTyU2G",
        "colab_type": "code",
        "colab": {
          "base_uri": "https://localhost:8080/",
          "height": 136
        },
        "outputId": "6abae06d-18ef-439d-ef4d-6ebbcdbe2ced"
      },
      "source": [
        "import nltk\n",
        "nltk.download('punkt')\n",
        "nltk.download('wordnet')\n",
        "nltk.download('stopwords')"
      ],
      "execution_count": 18,
      "outputs": [
        {
          "output_type": "stream",
          "text": [
            "[nltk_data] Downloading package punkt to /root/nltk_data...\n",
            "[nltk_data]   Package punkt is already up-to-date!\n",
            "[nltk_data] Downloading package wordnet to /root/nltk_data...\n",
            "[nltk_data]   Package wordnet is already up-to-date!\n",
            "[nltk_data] Downloading package stopwords to /root/nltk_data...\n",
            "[nltk_data]   Unzipping corpora/stopwords.zip.\n"
          ],
          "name": "stdout"
        },
        {
          "output_type": "execute_result",
          "data": {
            "text/plain": [
              "True"
            ]
          },
          "metadata": {
            "tags": []
          },
          "execution_count": 18
        }
      ]
    },
    {
      "cell_type": "code",
      "metadata": {
        "id": "6Sd4ZU-5xlqO",
        "colab_type": "code",
        "colab": {
          "base_uri": "https://localhost:8080/",
          "height": 190
        },
        "outputId": "31d3531d-b186-4e79-faf8-b876937bd547"
      },
      "source": [
        "for topic_idx, topic in enumerate(lda.components_):\n",
        "    print(\"Topic %d:\" % (topic_idx))\n",
        "    print(\" \".join([terms[i] for i in topic.argsort()[:-4-1:-1]]))\n",
        "\n",
        "lda.transform(X2[1])\n",
        "#Process the whole collection for using gensim\n",
        "import nltk\n",
        "from nltk.corpus import stopwords\n",
        "\n",
        "lemmatizer = nltk.stem.WordNetLemmatizer()\n",
        "stemmer = nltk.stem.PorterStemmer()\n",
        "\n",
        "processed_c4 = []\n",
        "for doc in c4:\n",
        "    tokens = nltk.word_tokenize(doc.lower())\n",
        "    tokens = [lemmatizer.lemmatize(token) for token in tokens if token.isalpha()]\n",
        "    tokens = [stemmer.stem(token) for token in tokens]\n",
        "    tokens = [token for token in tokens if not token in stopwords.words('english')]\n",
        "    processed_c4.append(tokens)\n",
        "print(processed_c4)"
      ],
      "execution_count": 19,
      "outputs": [
        {
          "output_type": "stream",
          "text": [
            "Topic 0:\n",
            "seahawks seattle great team\n",
            "Topic 1:\n",
            "feet boys cooked girls\n",
            "Topic 2:\n",
            "bad yong good guy\n",
            "Topic 3:\n",
            "parties drink winter weather\n",
            "[['yong', 'good', 'guy', 'bad'], ['foot', 'wolf', 'cook', 'boy', 'girl'], ['yong', 'good', 'guy', 'bad'], ['drink', 'water', 'parti'], ['grab', 'drink', 'parti'], ['seattl', 'weather', 'bad', 'winter'], ['seattl', 'seahawk', 'great', 'footbal', 'team'], ['love', 'seahawk'], ['learn', 'lot', 'data', 'analyt', 'tool'], ['data', 'scientist']]\n"
          ],
          "name": "stdout"
        }
      ]
    },
    {
      "cell_type": "code",
      "metadata": {
        "id": "bCSpBZPZyCzw",
        "colab_type": "code",
        "colab": {}
      },
      "source": [
        ""
      ],
      "execution_count": 0,
      "outputs": []
    }
  ]
}