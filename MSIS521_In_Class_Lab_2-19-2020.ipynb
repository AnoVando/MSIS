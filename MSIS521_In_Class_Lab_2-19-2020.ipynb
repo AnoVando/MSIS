{
  "nbformat": 4,
  "nbformat_minor": 0,
  "metadata": {
    "colab": {
      "name": "Welcome To Colaboratory",
      "provenance": [],
      "collapsed_sections": [],
      "toc_visible": true,
      "include_colab_link": true
    },
    "kernelspec": {
      "display_name": "Python 3",
      "name": "python3"
    }
  },
  "cells": [
    {
      "cell_type": "markdown",
      "metadata": {
        "id": "view-in-github",
        "colab_type": "text"
      },
      "source": [
        "<a href=\"https://colab.research.google.com/github/AnoVando/MSIS/blob/master/MSIS521_In_Class_Lab_2-19-2020.ipynb\" target=\"_parent\"><img src=\"https://colab.research.google.com/assets/colab-badge.svg\" alt=\"Open In Colab\"/></a>"
      ]
    },
    {
      "cell_type": "code",
      "metadata": {
        "id": "xg8lvir8bSWT",
        "colab_type": "code",
        "colab": {}
      },
      "source": [
        "from sklearn.feature_extraction.text import TfidfVectorizer\n",
        "from sklearn.feature_extraction.text import CountVectorizer\n",
        "from sklearn.metrics import *\n",
        "from sklearn.metrics.pairwise import *"
      ],
      "execution_count": 0,
      "outputs": []
    },
    {
      "cell_type": "code",
      "metadata": {
        "id": "RSjbEeqjbSek",
        "colab_type": "code",
        "colab": {
          "base_uri": "https://localhost:8080/",
          "height": 119
        },
        "outputId": "c889f9f5-f8c2-4f3b-e642-52b5c7498113"
      },
      "source": [
        "d1 = \"Yong is a good guy, he is not bad\"\n",
        "d2 = \"feet wolves cooked boys girls ,!<@!\"\n",
        "d3 = \"Yong is not a good guy, he is bad\"\n",
        "d4 = \"I drink water in parties\"\n",
        "d5 = \"I grab a drink in parties\"\n",
        "\n",
        "c3 = [d4, d5]\n",
        "\n",
        "vectorizer5 = CountVectorizer()\n",
        "vectorizer5.fit(c3)\n",
        "print(vectorizer5.vocabulary_)\n",
        "print('\\n')\n",
        "v_c3 = vectorizer5.transform(c3).toarray()\n",
        "print(v_c3)\n",
        "cosine_similarity([v_c3[0,:]],[v_c3[1,:]])"
      ],
      "execution_count": 9,
      "outputs": [
        {
          "output_type": "stream",
          "text": [
            "{'drink': 0, 'water': 4, 'in': 2, 'parties': 3, 'grab': 1}\n",
            "\n",
            "\n",
            "[[1 0 1 1 1]\n",
            " [1 1 1 1 0]]\n"
          ],
          "name": "stdout"
        },
        {
          "output_type": "execute_result",
          "data": {
            "text/plain": [
              "array([[0.75]])"
            ]
          },
          "metadata": {
            "tags": []
          },
          "execution_count": 9
        }
      ]
    },
    {
      "cell_type": "code",
      "metadata": {
        "id": "HxzB1TJ8eOV9",
        "colab_type": "code",
        "colab": {
          "base_uri": "https://localhost:8080/",
          "height": 34
        },
        "outputId": "b2eeab8c-bba6-4617-ea7e-1343af8bf9da"
      },
      "source": [
        "jaccard_score(v_c3[0,:],v_c3[1,:])"
      ],
      "execution_count": 8,
      "outputs": [
        {
          "output_type": "execute_result",
          "data": {
            "text/plain": [
              "0.6"
            ]
          },
          "metadata": {
            "tags": []
          },
          "execution_count": 8
        }
      ]
    },
    {
      "cell_type": "code",
      "metadata": {
        "id": "WxFAA20jgLKC",
        "colab_type": "code",
        "colab": {}
      },
      "source": [
        "from sklearn.cluster import KMeans\n",
        "d6 = \"Seattle weather is bad in winter\"\n",
        "d7 = \"Seattle Seahawks is a great football team\"\n",
        "d8 = \"I love Seahawks\"\n",
        "d9 = \"I learned a lot of Data analytics tools\"\n",
        "d10 = \"I am a data scientist\"\n",
        "c4 = [d1,d2,d3,d4,d5,d6,d7,d8,d9,d10]"
      ],
      "execution_count": 0,
      "outputs": []
    },
    {
      "cell_type": "code",
      "metadata": {
        "id": "ZEfdTVj6bSg1",
        "colab_type": "code",
        "colab": {}
      },
      "source": [
        "from sklearn.feature_extraction.text import TfidfVectorizer\n",
        "vectorizer6 = TfidfVectorizer(stop_words='english')\n",
        "X = vectorizer6.fit_transform(c4)"
      ],
      "execution_count": 0,
      "outputs": []
    },
    {
      "cell_type": "code",
      "metadata": {
        "id": "zGNMnW44iF0T",
        "colab_type": "code",
        "colab": {
          "base_uri": "https://localhost:8080/",
          "height": 374
        },
        "outputId": "9f10b3aa-b722-4a23-829f-d7d451b56d63"
      },
      "source": [
        "true_k = 4\n",
        "model1 = KMeans(n_clusters=true_k)\n",
        "model1.fit(X)\n",
        "print(model1.cluster_centers_)\n",
        "# model1.fit_transform(X) # fit, transform, predict, fit_transform, fit_predict\n",
        "model1clusters = model1.labels_.tolist()\n",
        "print(model1clusters)"
      ],
      "execution_count": 13,
      "outputs": [
        {
          "output_type": "stream",
          "text": [
            "[[0.         0.10272995 0.1118034  0.1118034  0.         0.\n",
            "  0.1118034  0.11857386 0.1118034  0.         0.         0.11857386\n",
            "  0.         0.         0.         0.19047624 0.         0.\n",
            "  0.26272082 0.21822012 0.11857386 0.         0.         0.13812811\n",
            "  0.13812811 0.1118034  0.        ]\n",
            " [0.         0.         0.         0.         0.         0.54362395\n",
            "  0.         0.         0.         0.         0.31974443 0.\n",
            "  0.         0.         0.         0.         0.54362395 0.\n",
            "  0.         0.         0.         0.         0.31974443 0.\n",
            "  0.         0.         0.        ]\n",
            " [0.         0.45086112 0.         0.         0.         0.\n",
            "  0.         0.         0.         0.51533945 0.         0.\n",
            "  0.51533945 0.         0.         0.         0.         0.\n",
            "  0.         0.         0.         0.         0.         0.\n",
            "  0.         0.         0.51533945]\n",
            " [0.23007895 0.         0.         0.         0.51943254 0.\n",
            "  0.         0.         0.         0.         0.         0.\n",
            "  0.         0.23007895 0.23007895 0.         0.         0.38095248\n",
            "  0.         0.         0.         0.23007895 0.         0.\n",
            "  0.         0.         0.        ]]\n",
            "[2, 0, 2, 1, 1, 0, 0, 0, 3, 3]\n"
          ],
          "name": "stdout"
        }
      ]
    },
    {
      "cell_type": "code",
      "metadata": {
        "id": "5bpA94omiHuw",
        "colab_type": "code",
        "colab": {
          "base_uri": "https://localhost:8080/",
          "height": 357
        },
        "outputId": "a386dd2c-028c-4e4a-e95b-03f8c25c724f"
      },
      "source": [
        "order_centroids = model1.cluster_centers_.argsort()[:, ::-1]\n",
        "terms = vectorizer6.get_feature_names()\n",
        "for c in range(0, 4):\n",
        "    print('Cluster %d:' % c)\n",
        "    for ind in order_centroids[c, :4]:\n",
        "        print(terms[ind])"
      ],
      "execution_count": 14,
      "outputs": [
        {
          "output_type": "stream",
          "text": [
            "Cluster 0:\n",
            "seahawks\n",
            "seattle\n",
            "love\n",
            "winter\n",
            "Cluster 1:\n",
            "drink\n",
            "parties\n",
            "water\n",
            "grab\n",
            "Cluster 2:\n",
            "yong\n",
            "guy\n",
            "good\n",
            "bad\n",
            "Cluster 3:\n",
            "data\n",
            "scientist\n",
            "learned\n",
            "tools\n"
          ],
          "name": "stdout"
        }
      ]
    },
    {
      "cell_type": "code",
      "metadata": {
        "id": "I9KroFpegNB4",
        "colab_type": "code",
        "colab": {}
      },
      "source": [
        ""
      ],
      "execution_count": 0,
      "outputs": []
    }
  ]
}