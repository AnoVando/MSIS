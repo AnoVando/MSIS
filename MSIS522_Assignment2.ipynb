{
  "nbformat": 4,
  "nbformat_minor": 0,
  "metadata": {
    "kernelspec": {
      "display_name": "Python 3",
      "language": "python",
      "name": "python3"
    },
    "language_info": {
      "codemirror_mode": {
        "name": "ipython",
        "version": 3
      },
      "file_extension": ".py",
      "mimetype": "text/x-python",
      "name": "python",
      "nbconvert_exporter": "python",
      "pygments_lexer": "ipython3",
      "version": "3.6.3"
    },
    "colab": {
      "name": "MSIS522-Assignment2.ipynb",
      "provenance": [],
      "collapsed_sections": [
        "bSsc9tL7hs1k"
      ]
    }
  },
  "cells": [
    {
      "cell_type": "markdown",
      "metadata": {
        "id": "7bYyOjdzhs1T",
        "colab_type": "text"
      },
      "source": [
        "# Decision Tree & Ensemble Learning\n",
        "\n",
        "Classification And Regression Trees (CART for short) is a term introduced by [Leo Breiman](https://en.wikipedia.org/wiki/Leo_Breiman) to refer to Decision Tree algorithms that can be used for classification or regression predictive modeling problems.\n",
        "\n",
        "In this lab assignment, you will implement various ways to calculate impurity which is used to split data in constructing the decision trees and apply the Decision Tree and ensemble learning algorithms to solve two real-world problems: a classification one and a regression one. "
      ]
    },
    {
      "cell_type": "code",
      "metadata": {
        "id": "WsJh8RbLhs1V",
        "colab_type": "code",
        "colab": {}
      },
      "source": [
        "# import packages\n",
        "%matplotlib inline\n",
        "import numpy as np\n",
        "import matplotlib.pyplot as plt\n",
        "import seaborn as sns\n",
        "import pandas as pd\n",
        "from matplotlib.legend_handler import HandlerLine2D\n",
        "from sklearn.metrics import accuracy_score\n",
        "from sklearn.metrics import confusion_matrix\n",
        "from sklearn.metrics import mean_squared_error\n",
        "from sklearn.metrics import mean_absolute_error\n",
        "from sklearn.tree import DecisionTreeClassifier\n",
        "from sklearn.tree import DecisionTreeRegressor\n",
        "from sklearn.model_selection import GridSearchCV\n",
        "\n",
        "# make this notebook's output stable across runs\n",
        "np.random.seed(0)"
      ],
      "execution_count": 0,
      "outputs": []
    },
    {
      "cell_type": "markdown",
      "metadata": {
        "id": "0wdJsuTqhs1a",
        "colab_type": "text"
      },
      "source": [
        "## Gini impurity and Entropy\n"
      ]
    },
    {
      "cell_type": "markdown",
      "metadata": {
        "id": "gzfYaZ-hhs1b",
        "colab_type": "text"
      },
      "source": [
        "#### Gini impurity\n",
        "\n",
        "The CART algorithm recursively splits the training set into two subsets using a single feature k and a threshold $t_k$. The best feature and threshold are chosen to produce the purest subsets weighted by their size. **Gini impurity** measures the impurity of the data points in a set and is used to evaluate how good a split is when the CART algorithm searches for the best pair of feature and the threshold.\n",
        "\n",
        "To compute Gini impurity for a set of items with J classes, suppose $i \\in \\{1, 2, \\dots, J\\}$ and let $p_i$ be the fraction of items labeled with class i in the set.\n",
        "\\begin{align}\n",
        "I(p) = 1 - \\sum_{i=1}^J p_i^2\n",
        "\\end{align}\n",
        "\n",
        "The following function calculates the gini impurity for a given set of data points."
      ]
    },
    {
      "cell_type": "code",
      "metadata": {
        "id": "sNexBvnehs1c",
        "colab_type": "code",
        "colab": {}
      },
      "source": [
        "def gini_impurity(x):\n",
        "    \"\"\"\n",
        "    This function calculate the Gini impurity for a given set of data points.\n",
        "\n",
        "    Args:\n",
        "    x: a numpy ndarray\n",
        "    \"\"\"\n",
        "    unique, counts = np.unique(x, return_counts=True)\n",
        "    probabilities = counts / sum(counts)\n",
        "    gini = 1 - sum([p*p for p in probabilities])\n",
        "\n",
        "    return gini"
      ],
      "execution_count": 0,
      "outputs": []
    },
    {
      "cell_type": "code",
      "metadata": {
        "id": "WmZaWVMxhs1g",
        "colab_type": "code",
        "colab": {}
      },
      "source": [
        "np.testing.assert_equal(0, gini_impurity(np.array([1, 1, 1])))\n",
        "np.testing.assert_equal(0.5, gini_impurity(np.array([1, 0, 1, 0])))\n",
        "np.testing.assert_equal(3/4, gini_impurity(np.array(['a', 'b', 'c', 'd'])))\n",
        "np.testing.assert_almost_equal(2.0/3, gini_impurity(np.array([1, 2, 3, 1, 2, 3])))"
      ],
      "execution_count": 0,
      "outputs": []
    },
    {
      "cell_type": "markdown",
      "metadata": {
        "id": "bSsc9tL7hs1k",
        "colab_type": "text"
      },
      "source": [
        "#### Entropy\n",
        "\n",
        "Another popular measure of impurity is called **entropy**, which measures the average information content of a message. Entropy is zero when all messages are identical. When it applied to CART, a set's entropy is zero when it contains instances of only one class. Entropy is calculated as follows:\n",
        "\\begin{align}\n",
        "I(p) = - \\sum_{i=1}^J p_i log_2{p_i}\n",
        "\\end{align}\n",
        "\n",
        "<span style=\"color:orange\">**Question 1: In this exercise, you will implement the entropy function.**"
      ]
    },
    {
      "cell_type": "code",
      "metadata": {
        "id": "6zvQbpXqO-k5",
        "colab_type": "code",
        "colab": {}
      },
      "source": [
        "def entropy(x):\n",
        "    \"\"\"\n",
        "    This function calculate the Gini impurity for a given set of data points.\n",
        "\n",
        "    Args:\n",
        "    x: a numpy ndarray\n",
        "    \"\"\"\n",
        "    e = 0\n",
        "    unique, counts = np.unique(x, return_counts=True)\n",
        "    probs = counts / sum(counts)\n",
        "    e = sum([-p*np.log2(p) for p in probs])\n",
        "\n",
        "    return e\n",
        "\n",
        "  "
      ],
      "execution_count": 0,
      "outputs": []
    },
    {
      "cell_type": "code",
      "metadata": {
        "id": "xpOdGMWDhs1p",
        "colab_type": "code",
        "colab": {}
      },
      "source": [
        "np.testing.assert_equal(0, entropy(np.array([1, 1, 1])))\n",
        "np.testing.assert_equal(1.0, entropy(np.array([1, 0, 1, 0])))\n",
        "np.testing.assert_equal(2.0, entropy(np.array(['a', 'b', 'c', 'd'])))\n",
        "np.testing.assert_almost_equal(1.58496, entropy(np.array([1, 2, 3, 1, 2, 3])), 4)"
      ],
      "execution_count": 0,
      "outputs": []
    },
    {
      "cell_type": "markdown",
      "metadata": {
        "id": "4qX1XT12hs1t",
        "colab_type": "text"
      },
      "source": [
        "---"
      ]
    },
    {
      "cell_type": "markdown",
      "metadata": {
        "id": "EZGblkNkhs2g",
        "colab_type": "text"
      },
      "source": [
        "## Iris dataset\n",
        "\n",
        "The Iris data set contains the morphologic variation of Iris flowers of three related species (Iris setosa, Iris virginica and Iris versicolor). Four features were measured from each observation (see image below):\n",
        "- Sepal.Length: sepal length in centimeters.\n",
        "- Sepal.Width: sepal width in centimeters.\n",
        "- Petal.Length: petal length in centimeters.\n",
        "- Petal.Width: petal width in centimeters.\n",
        "\n",
        "<table>\n",
        "  <tr>\n",
        "    <td><img src=\"https://upload.wikimedia.org/wikipedia/commons/thumb/5/56/Kosaciec_szczecinkowaty_Iris_setosa.jpg/180px-Kosaciec_szczecinkowaty_Iris_setosa.jpg\" style=\"width:250px\"></td>\n",
        "    <td><img src=\"https://www.math.umd.edu/~petersd/666/html/iris_with_labels.jpg\" width=\"250px\"></td>\n",
        "    <td><img src=\"https://upload.wikimedia.org/wikipedia/commons/thumb/9/9f/Iris_virginica.jpg/295px-Iris_virginica.jpg\" width=\"250px\"></td>\n",
        "  </tr>\n",
        "  <tr>\n",
        "    <td>Iris setosa</td>\n",
        "    <td>Iris versicolor</td>\n",
        "    <td>Iris virginica</td>\n",
        "  </tr>\n",
        "</table>\n"
      ]
    },
    {
      "cell_type": "code",
      "metadata": {
        "id": "8BfuNcWVhs2h",
        "colab_type": "code",
        "outputId": "5269fa0f-8faa-4e2f-a759-0f63a49c5aaa",
        "colab": {
          "base_uri": "https://localhost:8080/",
          "height": 153
        }
      },
      "source": [
        "# load the iris train and test data from CSV files\n",
        "train = pd.read_csv('https://raw.githubusercontent.com/zariable/data/master/iris_train.csv')\n",
        "test = pd.read_csv('https://raw.githubusercontent.com/zariable/data/master/iris_test.csv')\n",
        "\n",
        "train_x = train.iloc[:,0:4]\n",
        "train_y = train.iloc[:,4]\n",
        "\n",
        "test_x = test.iloc[:,0:4]\n",
        "test_y = test.iloc[:,4]\n",
        "\n",
        "# print the number of instances in each class\n",
        "print(train_y.value_counts().sort_index())\n",
        "print(test_y.value_counts().sort_index())"
      ],
      "execution_count": 6,
      "outputs": [
        {
          "output_type": "stream",
          "text": [
            "Iris-setosa        34\n",
            "Iris-versicolor    32\n",
            "Iris-virginica     39\n",
            "Name: species, dtype: int64\n",
            "Iris-setosa        16\n",
            "Iris-versicolor    18\n",
            "Iris-virginica     11\n",
            "Name: species, dtype: int64\n"
          ],
          "name": "stdout"
        }
      ]
    },
    {
      "cell_type": "markdown",
      "metadata": {
        "id": "tpe8jv7Qhs2f",
        "colab_type": "text"
      },
      "source": [
        "### Decision Tree Classifier\n",
        "\n",
        "<span style=\"color:orange\">**In this exercise, we will apply the Decision Tree classifier to classify the Iris flower data.**"
      ]
    },
    {
      "cell_type": "markdown",
      "metadata": {
        "id": "8JwQoOdPhs2j",
        "colab_type": "text"
      },
      "source": [
        "#### Train and visualize a simple Decision Tree\n",
        "\n",
        "<span style=\"color:orange\">**Question 2: create a decision tree with max_depth of 2.**"
      ]
    },
    {
      "cell_type": "code",
      "metadata": {
        "scrolled": true,
        "id": "kQzTTFGlhs2k",
        "colab_type": "code",
        "colab": {}
      },
      "source": [
        "# TODO: read the scikit-learn doc on DecisionTreeClassifier and train a Decision Tree with max depth of 2\n",
        "\n",
        "dtc = DecisionTreeClassifier(max_depth=2)\n"
      ],
      "execution_count": 0,
      "outputs": []
    },
    {
      "cell_type": "markdown",
      "metadata": {
        "id": "Tn25MVpchs2n",
        "colab_type": "text"
      },
      "source": [
        "Now let's visualize the decision tree we just trained on the iris dataset and see how it makes predictions. Note that if the following code does not work for you because the graphviz is missing, do not worry about it and you should still be able to move on."
      ]
    },
    {
      "cell_type": "code",
      "metadata": {
        "scrolled": true,
        "id": "Y80Nilx1hs2o",
        "colab_type": "code",
        "outputId": "f4453eaa-ef0a-4e26-8192-86077395630b",
        "colab": {
          "base_uri": "https://localhost:8080/",
          "height": 490
        }
      },
      "source": [
        "from sklearn.externals.six import StringIO  \n",
        "from IPython.display import Image  \n",
        "from sklearn.tree import export_graphviz\n",
        "import pydotplus\n",
        "\n",
        "\n",
        "\n",
        "dot_data = StringIO()\n",
        "feature_names = train_x.columns\n",
        "class_names = train_y.unique()\n",
        "class_names.sort()\n",
        "dtc.fit(train_x, train_y)\n",
        "export_graphviz(dtc, out_file=dot_data, feature_names=feature_names, class_names=class_names, filled=True, rounded=True)\n",
        "graph = pydotplus.graph_from_dot_data(dot_data.getvalue())  \n",
        "Image(graph.create_png())\n"
      ],
      "execution_count": 8,
      "outputs": [
        {
          "output_type": "stream",
          "text": [
            "/usr/local/lib/python3.6/dist-packages/sklearn/externals/six.py:31: FutureWarning: The module is deprecated in version 0.21 and will be removed in version 0.23 since we've dropped support for Python 2.7. Please rely on the official version of six (https://pypi.org/project/six/).\n",
            "  \"(https://pypi.org/project/six/).\", FutureWarning)\n"
          ],
          "name": "stderr"
        },
        {
          "output_type": "execute_result",
          "data": {
            "image/png": "[encoded data removed]",
            "text/plain": [
              "<IPython.core.display.Image object>"
            ]
          },
          "metadata": {
            "tags": []
          },
          "execution_count": 8
        }
      ]
    },
    {
      "cell_type": "markdown",
      "metadata": {
        "id": "ZgqeLw6Lhs2t",
        "colab_type": "text"
      },
      "source": [
        "Decision trees are easy to inteprete and is often referred to as *whitebox* machine learning algorithm. Let's see how this decision tree represented above makes predictions. Suppose you find an iris flower and want to classify it into setosa, versicolor or virginica. You start at the root node (the very top node in the tree). In this node, we check if the flower's patel length is smaller than or equal to 2.35 cm. If it is, we move to the left child and predict setosa to be its class. Otherwise, we move to the right child node. Then similarly we check if the petal length is smaller than or equal to 4.95 cm. If it is, we move to its left child node and predict versicolor to be its class. Otherwise, we move to its right child and predict virginica to be its class. "
      ]
    },
    {
      "cell_type": "markdown",
      "metadata": {
        "id": "W94pWMvIhs2t",
        "colab_type": "text"
      },
      "source": [
        "#### Prediction with Decision tree\n",
        "\n",
        "With this simple decision tree above, we can apply it to make predictions on the test dataset and evaluate its performance.\n",
        "\n",
        "<span style=\"color:orange\">**Question 3: make prediction using the trained decision tree model on the test data.**"
      ]
    },
    {
      "cell_type": "code",
      "metadata": {
        "id": "ugRPudSThs2u",
        "colab_type": "code",
        "outputId": "12d591f8-e41d-4634-ff35-9b5216389efe",
        "colab": {
          "base_uri": "https://localhost:8080/",
          "height": 102
        }
      },
      "source": [
        "# TODO: use the trained decision tree model to make predictions on the test data and evaluate the model performance.\n",
        "test_z = dtc.predict(test_x)\n",
        "test_z_prob = dtc.predict_proba(test_x)[:,1]\n",
        "\n",
        "print(\"model accuracy: {}\".format(accuracy_score(test_y, test_z)))\n",
        "print(\"model confusion matrix:\\n {}\".format(confusion_matrix(test_y, test_z, labels=['Iris-setosa', 'Iris-versicolor', 'Iris-virginica'])))"
      ],
      "execution_count": 9,
      "outputs": [
        {
          "output_type": "stream",
          "text": [
            "model accuracy: 0.9111111111111111\n",
            "model confusion matrix:\n",
            " [[16  0  0]\n",
            " [ 0 17  1]\n",
            " [ 0  3  8]]\n"
          ],
          "name": "stdout"
        }
      ]
    },
    {
      "cell_type": "markdown",
      "metadata": {
        "id": "RMzcZjQQhs2x",
        "colab_type": "text"
      },
      "source": [
        "#### Hyper-parameters\n",
        "\n",
        "Hyper-parameter controls the complexity of the decision tree model. For example, the deeper the tree is, the more complex patterns the model will be able to capture. In this exercise, we train the decision trees with increasing number of maximum depth and plot its performance. We should see the accuracy of the training data increase as the tree grows deeper, but the accuracy on the test data might not as the model will eventually start to overfit and does not generalize well on the unseen test data.\n",
        "\n",
        "<span style=\"color:orange\">**Question 4: for each value of max_depth, we train a decision tree model and evaluate its accuracy on both train and test data, and plot both accuracies in the figure.**"
      ]
    },
    {
      "cell_type": "code",
      "metadata": {
        "id": "uw23r_MXhs2x",
        "colab_type": "code",
        "outputId": "a84a9c8d-a535-4cb5-bcf9-f30206a8fcfe",
        "colab": {
          "base_uri": "https://localhost:8080/",
          "height": 119
        }
      },
      "source": [
        "# TODO: train the decision tree model with various max_depth, make predictions and evaluate on both train and test data.\n",
        "\n",
        "# 1 Level\n",
        "dtc1 = DecisionTreeClassifier(max_depth=1)\n",
        "dtc1.fit(train_x,train_y)\n",
        "\n",
        "\n",
        "# 2 Levels\n",
        "dtc2 = DecisionTreeClassifier(max_depth=2)\n",
        "dtc2.fit(train_x,train_y)\n",
        "\n",
        "# 3 Levels\n",
        "dtc3 = DecisionTreeClassifier(max_depth=3)\n",
        "dtc3.fit(train_x,train_y)\n",
        "\n",
        "\n",
        "# 4 Levels\n",
        "dtc4 = DecisionTreeClassifier(max_depth=4)\n",
        "dtc4.fit(train_x,train_y)\n",
        "\n",
        "\n",
        "# 5 Levels\n",
        "dtc5 = DecisionTreeClassifier(max_depth=5)\n",
        "dtc5.fit(train_x,train_y)\n",
        "\n",
        "\n",
        "# 6 Levels\n",
        "dtc6 = DecisionTreeClassifier(max_depth=6)\n",
        "dtc6.fit(train_x,train_y)\n",
        "\n"
      ],
      "execution_count": 10,
      "outputs": [
        {
          "output_type": "execute_result",
          "data": {
            "text/plain": [
              "DecisionTreeClassifier(ccp_alpha=0.0, class_weight=None, criterion='gini',\n",
              "                       max_depth=6, max_features=None, max_leaf_nodes=None,\n",
              "                       min_impurity_decrease=0.0, min_impurity_split=None,\n",
              "                       min_samples_leaf=1, min_samples_split=2,\n",
              "                       min_weight_fraction_leaf=0.0, presort='deprecated',\n",
              "                       random_state=None, splitter='best')"
            ]
          },
          "metadata": {
            "tags": []
          },
          "execution_count": 10
        }
      ]
    },
    {
      "cell_type": "code",
      "metadata": {
        "id": "MrVzfjBKiE0C",
        "colab_type": "code",
        "colab": {}
      },
      "source": [
        "dtc1_score = dtc1.score(train_x, train_y)\n",
        "dtc2_score = dtc2.score(train_x, train_y)\n",
        "dtc3_score = dtc3.score(train_x, train_y)\n",
        "dtc4_score = dtc4.score(train_x, train_y)\n",
        "dtc5_score = dtc5.score(train_x, train_y)\n",
        "dtc6_score = dtc6.score(train_x, train_y)"
      ],
      "execution_count": 0,
      "outputs": []
    },
    {
      "cell_type": "code",
      "metadata": {
        "colab_type": "code",
        "id": "YfKYLC2cjB3T",
        "colab": {}
      },
      "source": [
        "test_x1 = dtc1.predict(test_x)\n",
        "dtc1_test = accuracy_score(test_y, test_x1)\n",
        "\n",
        "test_x2 = dtc2.predict(test_x)\n",
        "dtc2_test = accuracy_score(test_y, test_x2)\n",
        "\n",
        "test_x3 = dtc3.predict(test_x)\n",
        "dtc3_test = accuracy_score(test_y, test_x3)\n",
        "\n",
        "test_x4 = dtc4.predict(test_x)\n",
        "dtc4_test = accuracy_score(test_y, test_x4)\n",
        "\n",
        "test_x5 = dtc5.predict(test_x)\n",
        "dtc5_test = accuracy_score(test_y, test_x5)\n",
        "\n",
        "test_x6 = dtc6.predict(test_x)\n",
        "dtc6_test = accuracy_score(test_y, test_x6)\n"
      ],
      "execution_count": 0,
      "outputs": []
    },
    {
      "cell_type": "code",
      "metadata": {
        "id": "dJV_xIozHzId",
        "colab_type": "code",
        "colab": {}
      },
      "source": [
        "dtc_results = {'Training_Scores': [dtc1_score, dtc2_score, dtc3_score, dtc4_score, dtc5_score, dtc6_score],\n",
        "               'Depth': [1,2,3,4,5,6],\n",
        "               'Test_Scores': [dtc1_test, dtc2_test, dtc3_test, dtc4_test, dtc5_test, dtc6_test]}\n"
      ],
      "execution_count": 0,
      "outputs": []
    },
    {
      "cell_type": "code",
      "metadata": {
        "id": "xi5X_25SODl-",
        "colab_type": "code",
        "outputId": "7c0bf0fd-88dd-49ce-93bc-272fadbff84b",
        "colab": {
          "base_uri": "https://localhost:8080/",
          "height": 136
        }
      },
      "source": [
        "dtc_results = pd.DataFrame(dtc_results)\n",
        "print(dtc_results)"
      ],
      "execution_count": 14,
      "outputs": [
        {
          "output_type": "stream",
          "text": [
            "   Training_Scores  Depth  Test_Scores\n",
            "0         0.695238      1     0.600000\n",
            "1         0.961905      2     0.911111\n",
            "2         0.980952      3     0.977778\n",
            "3         1.000000      4     0.977778\n",
            "4         1.000000      5     0.977778\n",
            "5         1.000000      6     0.977778\n"
          ],
          "name": "stdout"
        }
      ]
    },
    {
      "cell_type": "code",
      "metadata": {
        "colab_type": "code",
        "outputId": "688a8eb4-6f66-4096-e28e-a37454e5564c",
        "id": "Gs-vZyfyjABY",
        "colab": {
          "base_uri": "https://localhost:8080/",
          "height": 295
        }
      },
      "source": [
        "plt.plot(dtc_results.Depth, dtc_results.Training_Scores, label='Training_Scores')\n",
        "plt.plot(dtc_results.Depth, dtc_results.Test_Scores, label='Test_Scores')\n",
        "plt.xlabel(\"Depth\") # Text for X-Axis\n",
        "plt.ylabel(\"Score\") # Text for Y-Axis\n",
        "plt.title(\"DTC Accuracy Scores Based on Level\")\n",
        "plt.yticks([.6,.7,.8,.9,1])\n",
        "plt.legend(loc='lower right')\n",
        "plt.show()"
      ],
      "execution_count": 15,
      "outputs": [
        {
          "output_type": "display_data",
          "data": {
            "image/png": "[encoded data removed]",
            "text/plain": [
              "<Figure size 432x288 with 1 Axes>"
            ]
          },
          "metadata": {
            "tags": []
          }
        }
      ]
    },
    {
      "cell_type": "markdown",
      "metadata": {
        "id": "2iaLr1ufhs20",
        "colab_type": "text"
      },
      "source": [
        "#### Fine-tune the decision tree classifier\n",
        "\n",
        "Decision tree is a very powerful model with very few assumptions about the incoming training data (unlike linear models, which assume the data linear), however, it is more likely to overfit the data and won't generalize well to unseen data. To void overfitting, we need to restrict the decision tree's freedom during training via regularization (e.g. max_depth, min_sample_split, max_leaf_nodes and etc.).\n",
        "\n",
        "To fine-tune the model and combat overfitting, use grid search with cross-validation (with the help of the GridSearchCV class) to find the best hyper-parameter settings for the DecisionTreeClassifier. In particular, we would like to fine-tune the following hyper-parameters:\n",
        "- **criteria**: this defines how we measure the quality of a split. we can choose either \"gini\" for the Gini impurity or \"entropy\" for the information gain.\n",
        "- **max_depth**: the maximum depth of the tree. This indicates how deep the tree can be. The deeper the tree, the more splits it has and it captures more information about the data. But meanwhile, deeper trees are more likely to overfit the data. For this practice, we will choose from {1, 2, 3} given there are only 4 features in the iris dataset.\n",
        "- **min_samples_split**: This value represents the minimum number of samples required to split an internal node. The smaller this value is, the deeper the tree will grow, thus more likely to overfit. On the other hand, if the value is really large (the size of the training data in the extreme case), the tree will be very shallow and could suffer from underfit. In this practice, we choose from {0.01, 0.05, 0.1, 0.2}.\n",
        "\n",
        "<span style=\"color:orange\">**Question 5: Use grid search with 3-fold cross-validation to fine-tune the decision tree model and output the best hyper-parameters.**"
      ]
    },
    {
      "cell_type": "code",
      "metadata": {
        "id": "9fuI5TWkhs21",
        "colab_type": "code",
        "outputId": "13181aee-4b0e-44e0-8ab6-bf58c919d850",
        "colab": {
          "base_uri": "https://localhost:8080/",
          "height": 51
        }
      },
      "source": [
        "# TODO: fine-tune the model, use grid search with 3-fold cross-validation.\n",
        "parameters = {\n",
        "    'max_depth': [1,3],\n",
        "    'min_samples_split': [0.01, 0.05, 0.1, 0.2],\n",
        "    'criterion': ['gini']\n",
        "}\n",
        "dt = DecisionTreeClassifier()\n",
        "grid = GridSearchCV(dtc, parameters, cv=3)\n",
        "grid.fit(train_x, train_y)\n",
        "\n",
        "# summarize the results of the grid search\n",
        "print(\"The best score is {}\".format(grid.best_score_))\n",
        "print(\"The best hyper parameter setting is {}\".format(grid.best_params_))"
      ],
      "execution_count": 16,
      "outputs": [
        {
          "output_type": "stream",
          "text": [
            "The best score is 0.9619047619047619\n",
            "The best hyper parameter setting is {'criterion': 'gini', 'max_depth': 3, 'min_samples_split': 0.01}\n"
          ],
          "name": "stdout"
        }
      ]
    },
    {
      "cell_type": "markdown",
      "metadata": {
        "id": "ZXeHA4TThs24",
        "colab_type": "text"
      },
      "source": [
        "#### Prediction and Evaluation\n",
        "\n",
        "Now we have a fine-tuned decision tree classifier based on the training data, let's apply this model to make predictions on the test data and evaluate its performance."
      ]
    },
    {
      "cell_type": "code",
      "metadata": {
        "id": "pzGEUWFPhs24",
        "colab_type": "code",
        "outputId": "cf78d151-e4b5-49ac-ace0-e010d4c2cbf4",
        "colab": {
          "base_uri": "https://localhost:8080/",
          "height": 102
        }
      },
      "source": [
        "test_z2 = grid.predict(test_x)\n",
        "\n",
        "print(\"model accuracy: {}\".format(accuracy_score(test_y, test_z2)))\n",
        "print(\"model confusion matrix:\\n {}\".format(confusion_matrix(test_y, test_z2, labels=['Iris-setosa', 'Iris-versicolor', 'Iris-virginica'])))"
      ],
      "execution_count": 17,
      "outputs": [
        {
          "output_type": "stream",
          "text": [
            "model accuracy: 0.9777777777777777\n",
            "model confusion matrix:\n",
            " [[16  0  0]\n",
            " [ 0 17  1]\n",
            " [ 0  0 11]]\n"
          ],
          "name": "stdout"
        }
      ]
    },
    {
      "cell_type": "markdown",
      "metadata": {
        "id": "fLrLCXpbIHI2",
        "colab_type": "text"
      },
      "source": [
        "### Random Forest\n",
        "\n",
        "**Question 6: Apply Random Forest together with Gridsearch to the Iris dataset and evaluate its accuracy.**"
      ]
    },
    {
      "cell_type": "code",
      "metadata": {
        "id": "UTzDdKnoIDM1",
        "colab_type": "code",
        "outputId": "1e7b421a-3970-4994-8a81-c2605b145e06",
        "colab": {
          "base_uri": "https://localhost:8080/",
          "height": 68
        }
      },
      "source": [
        "### TODO: fine-tune Random Forest classifier using grid search with cross-validation (GridSearchCV).\n",
        "from sklearn.ensemble import RandomForestClassifier\n",
        "\n",
        "parameters = {\n",
        "    'max_depth': [1,2,3],\n",
        "    'n_estimators': [10,20,30,40,50,60,70,80,90,100],\n",
        "    'criterion': ['gini','entropy']\n",
        "}\n",
        "\n",
        "rfc = RandomForestClassifier()\n",
        "rfc_grid = GridSearchCV(rfc, parameters, cv=3)\n",
        "rfc_grid.fit(train_x,train_y)\n",
        "test_z3 = rfc_grid.predict(test_x)\n",
        "\n",
        "print(\"model accuracy: {}\".format(accuracy_score(test_y, test_z3)))\n",
        "print(\"The best score is {}\".format(rfc_grid.best_score_))\n",
        "print(\"The best parameters are {}\".format(rfc_grid.best_params_))"
      ],
      "execution_count": 18,
      "outputs": [
        {
          "output_type": "stream",
          "text": [
            "model accuracy: 0.9777777777777777\n",
            "The best score is 0.9619047619047619\n",
            "The best parameters are {'criterion': 'entropy', 'max_depth': 3, 'n_estimators': 40}\n"
          ],
          "name": "stdout"
        }
      ]
    },
    {
      "cell_type": "markdown",
      "metadata": {
        "id": "VKgNC7kzIWNC",
        "colab_type": "text"
      },
      "source": [
        "### Adaboost\n",
        "\n",
        "**Question 7: Apply Adaboost together with Gridsearch to the Iris dataset and evaluate its accuracy.**"
      ]
    },
    {
      "cell_type": "code",
      "metadata": {
        "colab_type": "code",
        "outputId": "a4b27594-e2f8-47c7-9f6d-48d12bb11f0a",
        "id": "AzSF-eSdkJGY",
        "colab": {
          "base_uri": "https://localhost:8080/",
          "height": 68
        }
      },
      "source": [
        "### TODO \n",
        "from sklearn.ensemble import AdaBoostClassifier\n",
        "\n",
        "parameters = {\n",
        "    'n_estimators': [10,20,30,40,50,60,70,80,90,100]\n",
        "}\n",
        "\n",
        "ada = AdaBoostClassifier()\n",
        "ada_grid = GridSearchCV(ada, parameters, cv=3)\n",
        "ada_grid.fit(train_x,train_y)\n",
        "test_z4 = ada_grid.predict(test_x)\n",
        "\n",
        "print(\"model accuracy: {}\".format(accuracy_score(test_y, test_z4)))\n",
        "print(\"The best score is {}\".format(ada_grid.best_score_))\n",
        "print(\"The best parameters are {}\".format(ada_grid.best_params_))\n"
      ],
      "execution_count": 19,
      "outputs": [
        {
          "output_type": "stream",
          "text": [
            "model accuracy: 0.9111111111111111\n",
            "The best score is 0.9714285714285715\n",
            "The best parameters are {'n_estimators': 70}\n"
          ],
          "name": "stdout"
        }
      ]
    },
    {
      "cell_type": "markdown",
      "metadata": {
        "id": "tpZFN60NIWdK",
        "colab_type": "text"
      },
      "source": [
        "### Gradient Boosting\n",
        "\n",
        "**Question 8: Apply Boosting together with Gridsearch to the Iris dataset and evaluate its accuracy.**"
      ]
    },
    {
      "cell_type": "code",
      "metadata": {
        "id": "mmRcvEkSIXrR",
        "colab_type": "code",
        "outputId": "9b106300-79ed-420c-b6c6-614272602d0e",
        "colab": {
          "base_uri": "https://localhost:8080/",
          "height": 68
        }
      },
      "source": [
        "### TODO\n",
        "\n",
        "from sklearn.ensemble import GradientBoostingClassifier\n",
        "from sklearn.ensemble import GradientBoostingRegressor\n",
        "\n",
        "parameters = {\n",
        "    'n_estimators': [10,20,30,40,50,60,70,80,90,100]\n",
        "}\n",
        "\n",
        "gbc = GradientBoostingClassifier()\n",
        "gbc_grid = GridSearchCV(gbc, parameters, cv=3)\n",
        "gbc_grid.fit(train_x,train_y)\n",
        "test_z5 = gbc_grid.predict(test_x)\n",
        "\n",
        "print(\"model accuracy: {}\".format(accuracy_score(test_y, test_z5)))\n",
        "print(\"The best score is: {}\".format(ada_grid.best_score_))\n",
        "print(\"The best parameters are: {}\".format(ada_grid.best_params_))\n"
      ],
      "execution_count": 20,
      "outputs": [
        {
          "output_type": "stream",
          "text": [
            "model accuracy: 0.9777777777777777\n",
            "The best score is: 0.9714285714285715\n",
            "The best parameters are: {'n_estimators': 70}\n"
          ],
          "name": "stdout"
        }
      ]
    },
    {
      "cell_type": "markdown",
      "metadata": {
        "id": "aTlPSt2Uhs26",
        "colab_type": "text"
      },
      "source": [
        "---"
      ]
    },
    {
      "cell_type": "markdown",
      "metadata": {
        "colab_type": "text",
        "id": "oyoZxHnxHknE"
      },
      "source": [
        "**BONUS POINT: we will apply the supervised learning models we learnt so far to predict the California housing prices.**"
      ]
    },
    {
      "cell_type": "markdown",
      "metadata": {
        "id": "3odrweXdhs28",
        "colab_type": "text"
      },
      "source": [
        "## California Housing Dataset\n",
        "\n",
        "The California Housing dataset appeared in a 1997 paper titled Sparse Spatial Autoregressions by Pace, R. Kelley and Ronald Barry, published in the Statistics and Probability Letters journal. They built it using the 1990 California census data. It contains one row per census block group. A block group is the smallest geographical unit for which the U.S. Census Bureau publishes sample data (a block group typically has a population of 600 to 3,000 people). "
      ]
    },
    {
      "cell_type": "code",
      "metadata": {
        "id": "8zXK2RFshs29",
        "colab_type": "code",
        "colab": {}
      },
      "source": [
        "# Load train and test data from CSV files.\n",
        "train = pd.read_csv('https://raw.githubusercontent.com/zariable/data/master/housing_train.csv')\n",
        "test = pd.read_csv('https://raw.githubusercontent.com/zariable/data/master/housing_test.csv')\n",
        "\n",
        "train_x = train.iloc[:,0:8]\n",
        "train_y = train.iloc[:,8]\n",
        "\n",
        "test_x = test.iloc[:,0:8]\n",
        "test_y = test.iloc[:,8]"
      ],
      "execution_count": 0,
      "outputs": []
    },
    {
      "cell_type": "code",
      "metadata": {
        "id": "c2Ec8IcE6Bjf",
        "colab_type": "code",
        "outputId": "572f30b1-c877-4fa5-b510-9d9a3d792862",
        "colab": {
          "base_uri": "https://localhost:8080/",
          "height": 51
        }
      },
      "source": [
        "from sklearn.tree import DecisionTreeRegressor\n",
        "from sklearn.metrics import r2_score\n",
        "\n",
        "params = {\n",
        "    'max_depth': [1,2,3,4,5],\n",
        "    'min_samples_split': [0.01, 0.05, 0.1]\n",
        "}\n",
        "\n",
        "dec_tree = DecisionTreeRegressor()\n",
        "dec_tree_grid = GridSearchCV(dec_tree, params, cv=3)\n",
        "dec_tree_grid.fit(train_x, train_y)\n",
        "dec_tree_x = dec_tree_grid.predict(test_x)\n",
        "\n",
        "print(\"model accuracy: {}\".format(r2_score(test_y, dec_tree_x)))\n",
        "print(\"The best hyper parameter setting is {}\".format(dec_tree_grid.best_params_))"
      ],
      "execution_count": 56,
      "outputs": [
        {
          "output_type": "stream",
          "text": [
            "model accuracy: 0.5756936529457081\n",
            "The best hyper parameter setting is {'max_depth': 5, 'min_samples_split': 0.01}\n"
          ],
          "name": "stdout"
        }
      ]
    },
    {
      "cell_type": "code",
      "metadata": {
        "id": "C-Xv_wdQJob8",
        "colab_type": "code",
        "outputId": "cf9de987-07f6-4d28-a9eb-37621e07d95a",
        "colab": {
          "base_uri": "https://localhost:8080/",
          "height": 51
        }
      },
      "source": [
        "# TODO\n",
        "\n",
        "from sklearn.ensemble import AdaBoostRegressor\n",
        "\n",
        "ada_params = {\n",
        "    'n_estimators': [10,20,30,40,50]\n",
        "}\n",
        "\n",
        "ada_boost = AdaBoostRegressor()\n",
        "ab_grid = GridSearchCV(ada_boost, ada_params, cv=3)\n",
        "ab_grid.fit(train_x, train_y)\n",
        "ab_grid_x = ab_grid.predict(test_x)\n",
        "\n",
        "print(\"model accuracy: {}\".format(r2_score(test_y, ab_grid_x)))\n",
        "print(\"The best hyper parameter setting is {}\".format(ab_grid.best_params_))"
      ],
      "execution_count": 55,
      "outputs": [
        {
          "output_type": "stream",
          "text": [
            "model accuracy: 0.4916123292610026\n",
            "The best hyper parameter setting is {'n_estimators': 10}\n"
          ],
          "name": "stdout"
        }
      ]
    },
    {
      "cell_type": "code",
      "metadata": {
        "id": "J1-O_j0s8uID",
        "colab_type": "code",
        "outputId": "f5fbd97c-2192-442d-e978-ee0228ac6154",
        "colab": {
          "base_uri": "https://localhost:8080/",
          "height": 51
        }
      },
      "source": [
        "from sklearn.ensemble import GradientBoostingRegressor\n",
        "\n",
        "gb_params = {\n",
        "    'n_estimators': [10,20,30,40,50]\n",
        "}\n",
        "\n",
        "gb = GradientBoostingRegressor()\n",
        "gb_grid = GridSearchCV(gb, gb_params, cv=3)\n",
        "gb_grid.fit(train_x,train_y)\n",
        "gb_grid_x = gb_grid.predict(test_x)\n",
        "\n",
        "print(\"model accuracy: {}\".format(r2_score(test_y, gb_grid_x)))\n",
        "print(\"The best hyper parameter setting is {}\".format(gb_grid.best_params_))"
      ],
      "execution_count": 54,
      "outputs": [
        {
          "output_type": "stream",
          "text": [
            "model accuracy: 0.7099491033351388\n",
            "The best hyper parameter setting is {'n_estimators': 50}\n"
          ],
          "name": "stdout"
        }
      ]
    },
    {
      "cell_type": "code",
      "metadata": {
        "id": "NAkKAlbJtV31",
        "colab_type": "code",
        "colab": {
          "base_uri": "https://localhost:8080/",
          "height": 34
        },
        "outputId": "f5f6f305-2d4f-4282-ea53-811936a9518c"
      },
      "source": [
        "from sklearn.ensemble import RandomForestRegressor\n",
        "\n",
        "parameters = {\n",
        "    'max_depth': [1,2,3,4,5,6,7,8,9,10],\n",
        "    'n_estimators': [10,20,30,40,50,60,70,80,90,100]\n",
        "}\n",
        "\n",
        "rf = RandomForestRegressor()\n",
        "rf_grid = GridSearchCV(rf, parameters, cv=3)\n",
        "rf_grid.fit(train_x,train_y)\n",
        "rf_test_x = rf_grid.predict(test_x)\n",
        "\n",
        "print(\"model accuracy: {}\".format(r2_score(test_y, rf_test_x)))"
      ],
      "execution_count": 51,
      "outputs": [
        {
          "output_type": "stream",
          "text": [
            "model accuracy: 0.7742084796227771\n"
          ],
          "name": "stdout"
        }
      ]
    },
    {
      "cell_type": "code",
      "metadata": {
        "id": "YNPBE9p477sn",
        "colab_type": "code",
        "colab": {
          "base_uri": "https://localhost:8080/",
          "height": 34
        },
        "outputId": "a48de50c-503d-4235-ed0e-ab8361aad4f6"
      },
      "source": [
        "print(\"The best hyper parameter setting is {}\".format(rf_grid.best_params_))"
      ],
      "execution_count": 52,
      "outputs": [
        {
          "output_type": "stream",
          "text": [
            "The best hyper parameter setting is {'max_depth': 10, 'n_estimators': 100}\n"
          ],
          "name": "stdout"
        }
      ]
    },
    {
      "cell_type": "markdown",
      "metadata": {
        "id": "Q-zitGTxhs3E",
        "colab_type": "text"
      },
      "source": [
        "### End of Assignment 2\n",
        "---\n"
      ]
    }
  ]
}