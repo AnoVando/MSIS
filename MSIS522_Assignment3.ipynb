{
  "nbformat": 4,
  "nbformat_minor": 0,
  "metadata": {
    "kernelspec": {
      "display_name": "Python 3",
      "language": "python",
      "name": "python3"
    },
    "language_info": {
      "codemirror_mode": {
        "name": "ipython",
        "version": 3
      },
      "file_extension": ".py",
      "mimetype": "text/x-python",
      "name": "python",
      "nbconvert_exporter": "python",
      "pygments_lexer": "ipython3",
      "version": "3.6.3"
    },
    "colab": {
      "name": "MSIS522-Assignment3.ipynb",
      "provenance": [],
      "collapsed_sections": [
        "1Bq6HcaJSzWe",
        "mKBYBdKjSrC2",
        "TuA0ZcPfRu0e"
      ]
    }
  },
  "cells": [
    {
      "cell_type": "markdown",
      "metadata": {
        "id": "zK7EWLIXRu0C",
        "colab_type": "text"
      },
      "source": [
        "# Clustering"
      ]
    },
    {
      "cell_type": "markdown",
      "metadata": {
        "id": "1Bq6HcaJSzWe",
        "colab_type": "text"
      },
      "source": [
        "## Problem 1: Segment Customers"
      ]
    },
    {
      "cell_type": "markdown",
      "metadata": {
        "id": "5dKNjMuKRu0E",
        "colab_type": "text"
      },
      "source": [
        "The problem that we are going to solve in this assignment is to segment customers into different groups based on their shopping trends."
      ]
    },
    {
      "cell_type": "code",
      "metadata": {
        "id": "snzfWDzvRu0F",
        "colab_type": "code",
        "colab": {}
      },
      "source": [
        "# import packages\n",
        "%matplotlib inline\n",
        "import numpy as np\n",
        "import pandas as pd\n",
        "import matplotlib.pyplot as plt\n",
        "import seaborn as sns\n",
        "sns.set()"
      ],
      "execution_count": 0,
      "outputs": []
    },
    {
      "cell_type": "markdown",
      "metadata": {
        "id": "O5K8-XTXRu0K",
        "colab_type": "text"
      },
      "source": [
        "### Load data\n",
        "\n",
        "Our dataset has five columns: CustomerID, Genre, Age, Annual Income, and Spending Score. To view the results in two-dimensional feature space, we will retain only two of these five columns. We can remove CustomerID column, Genre, and Age column. We will retain the Annual Income (in thousands of dollars) and Spending Score (1-100) columns. The Spending Score column signifies how often a person spends money in a mall on a scale of 1 to 100 with 100 being the highest spender."
      ]
    },
    {
      "cell_type": "code",
      "metadata": {
        "id": "lbOcjmnqRu0L",
        "colab_type": "code",
        "colab": {
          "base_uri": "https://localhost:8080/",
          "height": 391
        },
        "outputId": "a02ef613-f0d4-4b2b-c4c4-76f0844a2582"
      },
      "source": [
        "# load the data\n",
        "shopping_data = pd.read_csv('https://raw.githubusercontent.com/zariable/data/master/shopping_data.csv')\n",
        "shopping_data.rename(\n",
        "    columns={\n",
        "        'CustomerID': 'customer_id',\n",
        "        'Genre': 'genre',\n",
        "        'Age': 'age',\n",
        "        'Annual Income (k$)': 'annual_income',\n",
        "        'Spending Score (1-100)': 'spending_score'\n",
        "    },\n",
        "    inplace=True\n",
        ")\n",
        "display(shopping_data.head())\n",
        "\n",
        "# TODO: retain only anual_income and spending_score for clustering\n",
        "\n",
        "shopping_data.drop(columns=['customer_id', 'genre', 'age'], inplace=True)\n",
        "display(shopping_data.head())"
      ],
      "execution_count": 2,
      "outputs": [
        {
          "output_type": "display_data",
          "data": {
            "text/html": [
              "<div>\n",
              "<style scoped>\n",
              "    .dataframe tbody tr th:only-of-type {\n",
              "        vertical-align: middle;\n",
              "    }\n",
              "\n",
              "    .dataframe tbody tr th {\n",
              "        vertical-align: top;\n",
              "    }\n",
              "\n",
              "    .dataframe thead th {\n",
              "        text-align: right;\n",
              "    }\n",
              "</style>\n",
              "<table border=\"1\" class=\"dataframe\">\n",
              "  <thead>\n",
              "    <tr style=\"text-align: right;\">\n",
              "      <th></th>\n",
              "      <th>customer_id</th>\n",
              "      <th>genre</th>\n",
              "      <th>age</th>\n",
              "      <th>annual_income</th>\n",
              "      <th>spending_score</th>\n",
              "    </tr>\n",
              "  </thead>\n",
              "  <tbody>\n",
              "    <tr>\n",
              "      <th>0</th>\n",
              "      <td>1</td>\n",
              "      <td>Male</td>\n",
              "      <td>19</td>\n",
              "      <td>15</td>\n",
              "      <td>39</td>\n",
              "    </tr>\n",
              "    <tr>\n",
              "      <th>1</th>\n",
              "      <td>2</td>\n",
              "      <td>Male</td>\n",
              "      <td>21</td>\n",
              "      <td>15</td>\n",
              "      <td>81</td>\n",
              "    </tr>\n",
              "    <tr>\n",
              "      <th>2</th>\n",
              "      <td>3</td>\n",
              "      <td>Female</td>\n",
              "      <td>20</td>\n",
              "      <td>16</td>\n",
              "      <td>6</td>\n",
              "    </tr>\n",
              "    <tr>\n",
              "      <th>3</th>\n",
              "      <td>4</td>\n",
              "      <td>Female</td>\n",
              "      <td>23</td>\n",
              "      <td>16</td>\n",
              "      <td>77</td>\n",
              "    </tr>\n",
              "    <tr>\n",
              "      <th>4</th>\n",
              "      <td>5</td>\n",
              "      <td>Female</td>\n",
              "      <td>31</td>\n",
              "      <td>17</td>\n",
              "      <td>40</td>\n",
              "    </tr>\n",
              "  </tbody>\n",
              "</table>\n",
              "</div>"
            ],
            "text/plain": [
              "   customer_id   genre  age  annual_income  spending_score\n",
              "0            1    Male   19             15              39\n",
              "1            2    Male   21             15              81\n",
              "2            3  Female   20             16               6\n",
              "3            4  Female   23             16              77\n",
              "4            5  Female   31             17              40"
            ]
          },
          "metadata": {
            "tags": []
          }
        },
        {
          "output_type": "display_data",
          "data": {
            "text/html": [
              "<div>\n",
              "<style scoped>\n",
              "    .dataframe tbody tr th:only-of-type {\n",
              "        vertical-align: middle;\n",
              "    }\n",
              "\n",
              "    .dataframe tbody tr th {\n",
              "        vertical-align: top;\n",
              "    }\n",
              "\n",
              "    .dataframe thead th {\n",
              "        text-align: right;\n",
              "    }\n",
              "</style>\n",
              "<table border=\"1\" class=\"dataframe\">\n",
              "  <thead>\n",
              "    <tr style=\"text-align: right;\">\n",
              "      <th></th>\n",
              "      <th>annual_income</th>\n",
              "      <th>spending_score</th>\n",
              "    </tr>\n",
              "  </thead>\n",
              "  <tbody>\n",
              "    <tr>\n",
              "      <th>0</th>\n",
              "      <td>15</td>\n",
              "      <td>39</td>\n",
              "    </tr>\n",
              "    <tr>\n",
              "      <th>1</th>\n",
              "      <td>15</td>\n",
              "      <td>81</td>\n",
              "    </tr>\n",
              "    <tr>\n",
              "      <th>2</th>\n",
              "      <td>16</td>\n",
              "      <td>6</td>\n",
              "    </tr>\n",
              "    <tr>\n",
              "      <th>3</th>\n",
              "      <td>16</td>\n",
              "      <td>77</td>\n",
              "    </tr>\n",
              "    <tr>\n",
              "      <th>4</th>\n",
              "      <td>17</td>\n",
              "      <td>40</td>\n",
              "    </tr>\n",
              "  </tbody>\n",
              "</table>\n",
              "</div>"
            ],
            "text/plain": [
              "   annual_income  spending_score\n",
              "0             15              39\n",
              "1             15              81\n",
              "2             16               6\n",
              "3             16              77\n",
              "4             17              40"
            ]
          },
          "metadata": {
            "tags": []
          }
        }
      ]
    },
    {
      "cell_type": "code",
      "metadata": {
        "id": "kZ4eZAmBJy9g",
        "colab_type": "code",
        "colab": {}
      },
      "source": [
        "X = shopping_data[['annual_income','spending_score']].to_numpy()"
      ],
      "execution_count": 0,
      "outputs": []
    },
    {
      "cell_type": "markdown",
      "metadata": {
        "id": "Wx6deWgoRu0O",
        "colab_type": "text"
      },
      "source": [
        "### Hierarchical Clustering\n",
        "First, we will apply hierarchical clustering and use dendrogram to help find the number of clusters within the data.\n",
        "\n",
        "**TODO: Use dendrogram to plot hierarchical clustering and find the number of clusters that makes sense.**"
      ]
    },
    {
      "cell_type": "code",
      "metadata": {
        "id": "11EVF7NPRu0P",
        "colab_type": "code",
        "colab": {
          "base_uri": "https://localhost:8080/",
          "height": 267
        },
        "outputId": "01f98960-f027-4539-d035-9864a3d46a9e"
      },
      "source": [
        "# TODO\n",
        "from scipy.cluster.hierarchy import dendrogram, linkage\n",
        "\n",
        "Z = linkage(X, 'ward')\n",
        "dn = dendrogram(Z)"
      ],
      "execution_count": 8,
      "outputs": [
        {
          "output_type": "display_data",
          "data": {
            "image/png": "[encoded data removed]",
            "text/plain": [
              "<Figure size 432x288 with 1 Axes>"
            ]
          },
          "metadata": {
            "tags": []
          }
        }
      ]
    },
    {
      "cell_type": "markdown",
      "metadata": {
        "id": "x_8vcGNyRu0T",
        "colab_type": "text"
      },
      "source": [
        "**TODO: Apply hierarchical clustering based on the number of clusters you pick from the dendrogram, and visualize the results using scatterplot.**"
      ]
    },
    {
      "cell_type": "code",
      "metadata": {
        "id": "ZDz8vl9rRu0T",
        "colab_type": "code",
        "colab": {
          "base_uri": "https://localhost:8080/",
          "height": 285
        },
        "outputId": "2d36d7b7-a564-4cd1-8521-2bed8d8537ae"
      },
      "source": [
        "# TODO\n",
        "from sklearn.cluster import AgglomerativeClustering\n",
        "\n",
        "ac = AgglomerativeClustering(n_clusters=5)\n",
        "y_ward = ac.fit_predict(X)\n",
        "plt.scatter\n",
        "plt.scatter(X[:,0], X[:,1], c=y_ward)"
      ],
      "execution_count": 14,
      "outputs": [
        {
          "output_type": "execute_result",
          "data": {
            "text/plain": [
              "<matplotlib.collections.PathCollection at 0x7f29e73c7748>"
            ]
          },
          "metadata": {
            "tags": []
          },
          "execution_count": 14
        },
        {
          "output_type": "display_data",
          "data": {
            "image/png": "[encoded data removed]",
            "text/plain": [
              "<Figure size 432x288 with 1 Axes>"
            ]
          },
          "metadata": {
            "tags": []
          }
        }
      ]
    },
    {
      "cell_type": "markdown",
      "metadata": {
        "id": "zc1jqvW7Ru0W",
        "colab_type": "text"
      },
      "source": [
        "### K-means Clustering\n",
        "Then, we will apply k-means to the same data and visualize the results.\n",
        "\n",
        "**TODO: Vary the number of K from 2 to 10 and plot the Sum of Squared Error (SSE) as K increases and pick up the value of K that makes sense.**"
      ]
    },
    {
      "cell_type": "code",
      "metadata": {
        "id": "7gC5iFpoRu0Y",
        "colab_type": "code",
        "colab": {}
      },
      "source": [
        "# TODO"
      ],
      "execution_count": 0,
      "outputs": []
    },
    {
      "cell_type": "markdown",
      "metadata": {
        "id": "52XDinaTRu0b",
        "colab_type": "text"
      },
      "source": [
        "**TODO: Cluster the data using K-means based on the pre-defined value of K from the previous step and and visualize the results using scatterplot. **"
      ]
    },
    {
      "cell_type": "code",
      "metadata": {
        "id": "SWQ4KJp-Ru0b",
        "colab_type": "code",
        "colab": {}
      },
      "source": [
        "# TODO"
      ],
      "execution_count": 0,
      "outputs": []
    },
    {
      "cell_type": "markdown",
      "metadata": {
        "id": "mKBYBdKjSrC2",
        "colab_type": "text"
      },
      "source": [
        "## Problem 2: Clustering (Manually)"
      ]
    },
    {
      "cell_type": "markdown",
      "metadata": {
        "id": "Enllke2tSrj6",
        "colab_type": "text"
      },
      "source": [
        "For the following dataset, perform the clustering “by hand”:\n",
        "\n",
        "17 28 50 60 80 89 150 167 171 189 \n",
        "1. \tUse the K-means algorithm with K= 3 to cluster the data\n",
        "2. \tUse hierarchical agglomerative clustering with single linkage to cluster the data\n",
        "3. \tUse hierarchical agglomerative clustering with complete linkage to cluster the data\n",
        "4. \tFor K-means What will the final clusters be after 3 iterations if k=3 and the initial centers are 150, 171 and 189"
      ]
    },
    {
      "cell_type": "markdown",
      "metadata": {
        "id": "TuA0ZcPfRu0e",
        "colab_type": "text"
      },
      "source": [
        "## Bonus points\n",
        "Use the dataset of accepted papers at the AAAI 2014 conference to find clusters of papers using K-Means. You can use paper title or abstract to build your features using [Bag of Words](https://en.wikipedia.org/wiki/Bag-of-words_model).\n",
        "\n",
        "1. Vary the number of K from 2 to 6 and show if the results vary and assess the clusters obtained.\n",
        "\n",
        "2. Make a case regarding which clusters ‘make sense’ e.g., is there a cluster were papers on reinforcement learning are together vs. another cluster which has papers on deep learning."
      ]
    },
    {
      "cell_type": "code",
      "metadata": {
        "id": "sgqqIL0PRu0f",
        "colab_type": "code",
        "colab": {}
      },
      "source": [
        "# Load the Relevant libraries\n",
        "import sklearn as sk\n",
        "\n",
        "# URL for the AAAI (UW Repository)\n",
        "aaai_data = pd.read_csv(\"https://raw.githubusercontent.com/zariable/data/master/AAAI2014AcceptedPapers.csv\")\n",
        "\n",
        "# TODO"
      ],
      "execution_count": 0,
      "outputs": []
    }
  ]
}