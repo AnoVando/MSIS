{
  "nbformat": 4,
  "nbformat_minor": 0,
  "metadata": {
    "colab": {
      "name": "MSIS549_HW3_RNN_Reuters (1).ipynb",
      "provenance": [],
      "collapsed_sections": [],
      "include_colab_link": true
    },
    "kernelspec": {
      "name": "python3",
      "display_name": "Python 3"
    }
  },
  "cells": [
    {
      "cell_type": "markdown",
      "metadata": {
        "id": "view-in-github",
        "colab_type": "text"
      },
      "source": [
        "<a href=\"https://colab.research.google.com/github/AnoVando/MSIS/blob/master/MSIS549_HW3_RNN_Reuters_JMatthews.ipynb\" target=\"_parent\"><img src=\"https://colab.research.google.com/assets/colab-badge.svg\" alt=\"Open In Colab\"/></a>"
      ]
    },
    {
      "cell_type": "markdown",
      "metadata": {
        "id": "r2fyLhUMQlyH",
        "colab_type": "text"
      },
      "source": [
        "# MSIS 579 HW3 RNN to Classify Reuters Topics\n",
        "\n",
        "In this homework, we will train a recurrent neural network to Classify Reuters newswires into 46 Topics.\n",
        "\n",
        "Dataset of 11,228 newswires from Reuters, labeled over 46 topics. As with the IMDB dataset, each wire is encoded as a sequence of word indexes (same conventions)."
      ]
    },
    {
      "cell_type": "code",
      "metadata": {
        "id": "r3Y8ZHFGR1uq",
        "colab_type": "code",
        "outputId": "4ddae260-31ca-4165-ae2c-caa59767415e",
        "colab": {
          "base_uri": "https://localhost:8080/",
          "height": 136
        }
      },
      "source": [
        "%tensorflow_version 1.14\n",
        "%matplotlib inline\n",
        "import warnings\n",
        "warnings.filterwarnings('ignore')\n",
        "\n",
        "import tensorflow as tf\n",
        "tf.logging.set_verbosity(tf.logging.ERROR)\n",
        "\n",
        "from __future__ import print_function\n",
        "\n",
        "import numpy as np\n",
        "import keras\n",
        "keras.__version__\n",
        "\n",
        "!pip install numpy==1.16.1"
      ],
      "execution_count": 0,
      "outputs": [
        {
          "output_type": "stream",
          "text": [
            "`%tensorflow_version` only switches the major version: 1.x or 2.x.\n",
            "You set: `1.14`. This will be interpreted as: `1.x`.\n",
            "\n",
            "\n",
            "TensorFlow 1.x selected.\n"
          ],
          "name": "stdout"
        },
        {
          "output_type": "stream",
          "text": [
            "Using TensorFlow backend.\n"
          ],
          "name": "stderr"
        },
        {
          "output_type": "stream",
          "text": [
            "Requirement already satisfied: numpy==1.16.1 in /usr/local/lib/python3.6/dist-packages (1.16.1)\n"
          ],
          "name": "stdout"
        }
      ]
    },
    {
      "cell_type": "markdown",
      "metadata": {
        "id": "Uvtq164jRPNz",
        "colab_type": "text"
      },
      "source": [
        "## Load Reuters Dataset\n",
        "\n",
        "First let's load the Reuters dataset. Please refer to [this API page](https://keras.io/datasets/#reuters-newswire-topics-classification) for details on how to load the data."
      ]
    },
    {
      "cell_type": "code",
      "metadata": {
        "id": "Mbt21X3mQjZw",
        "colab_type": "code",
        "outputId": "94224031-6184-4899-940a-187cc1a9d164",
        "colab": {
          "base_uri": "https://localhost:8080/",
          "height": 102
        }
      },
      "source": [
        "from keras.datasets import reuters\n",
        "from keras.models import Sequential\n",
        "from keras.layers import Dense, Dropout, Activation\n",
        "from keras import preprocessing\n",
        "from keras.preprocessing.text import Tokenizer\n",
        "\n",
        "max_words = 10000\n",
        "# (among top max_features most common words)\n",
        "maxlen = 500\n",
        "print('Loading data...')\n",
        "(x_train, y_train), (x_test, y_test) = reuters.load_data(num_words=max_words, test_split=0.2)\n",
        "word_index = reuters.get_word_index(path=\"reuters_word_index.json\")\n",
        "x_train = preprocessing.sequence.pad_sequences(x_train, maxlen=maxlen)\n",
        "x_test = preprocessing.sequence.pad_sequences(x_test, maxlen=maxlen)"
      ],
      "execution_count": 0,
      "outputs": [
        {
          "output_type": "stream",
          "text": [
            "Loading data...\n",
            "Downloading data from https://s3.amazonaws.com/text-datasets/reuters.npz\n",
            "2113536/2110848 [==============================] - 1s 0us/step\n",
            "Downloading data from https://s3.amazonaws.com/text-datasets/reuters_word_index.json\n",
            "557056/550378 [==============================] - 0s 0us/step\n"
          ],
          "name": "stdout"
        }
      ]
    },
    {
      "cell_type": "code",
      "metadata": {
        "id": "aMHBMg4VWFI3",
        "colab_type": "code",
        "colab": {}
      },
      "source": [
        "from keras.utils import np_utils # one hot encode the y-label\n",
        "y_train = np_utils.to_categorical(y_train, 46)\n",
        "y_test = np_utils.to_categorical(y_test, 46)"
      ],
      "execution_count": 0,
      "outputs": []
    },
    {
      "cell_type": "markdown",
      "metadata": {
        "id": "Qd7wneSMSTpS",
        "colab_type": "text"
      },
      "source": [
        "## Task 1: Fully Connected Neural Networks\n",
        "\n",
        "In this task, we will learn a word embedding layer as well as fully connected layers to classify Reuters newwires. Please refer to the lab code from lesson 4. Watch out the overfitting. "
      ]
    },
    {
      "cell_type": "code",
      "metadata": {
        "id": "W7OPafLXRsnc",
        "colab_type": "code",
        "outputId": "780eb5ee-3c92-488b-afd4-405dbde8f2ff",
        "colab": {
          "base_uri": "https://localhost:8080/",
          "height": 391
        }
      },
      "source": [
        "# TODO\n",
        "from keras.models import Sequential\n",
        "from keras.layers import Flatten, Dense\n",
        "from keras.layers import Embedding\n",
        "from keras import layers\n",
        "\n",
        "model = Sequential()\n",
        "# We specify the maximum input length to our Embedding layer\n",
        "# so we can later flatten the embedded inputs\n",
        "model.add(Embedding(10000, 8, input_length=maxlen))\n",
        "# After the Embedding layer, \n",
        "# our activations have shape `(samples, maxlen, 8)`.\n",
        "\n",
        "# We flatten the 3D tensor of embeddings \n",
        "# into a 2D tensor of shape `(samples, maxlen * 8)`\n",
        "\n",
        "\n",
        "# We add the classifier on top\n",
        "\n",
        "model.add(Flatten())\n",
        "model.add(Dense(64, activation='relu'))\n",
        "model.add(Dense(128, activation='relu'))\n",
        "model.add(Dense(512, activation='relu'))\n",
        "model.add(Dropout(0.5))\n",
        "model.add(Dense(46, activation='softmax'))\n",
        "model.compile(optimizer='rmsprop', loss='categorical_crossentropy', metrics=['accuracy'])\n",
        "model.summary()\n",
        "\n"
      ],
      "execution_count": 0,
      "outputs": [
        {
          "output_type": "stream",
          "text": [
            "Model: \"sequential_1\"\n",
            "_________________________________________________________________\n",
            "Layer (type)                 Output Shape              Param #   \n",
            "=================================================================\n",
            "embedding_1 (Embedding)      (None, 500, 8)            80000     \n",
            "_________________________________________________________________\n",
            "flatten_1 (Flatten)          (None, 4000)              0         \n",
            "_________________________________________________________________\n",
            "dense_1 (Dense)              (None, 64)                256064    \n",
            "_________________________________________________________________\n",
            "dense_2 (Dense)              (None, 128)               8320      \n",
            "_________________________________________________________________\n",
            "dense_3 (Dense)              (None, 512)               66048     \n",
            "_________________________________________________________________\n",
            "dropout_1 (Dropout)          (None, 512)               0         \n",
            "_________________________________________________________________\n",
            "dense_4 (Dense)              (None, 46)                23598     \n",
            "=================================================================\n",
            "Total params: 434,030\n",
            "Trainable params: 434,030\n",
            "Non-trainable params: 0\n",
            "_________________________________________________________________\n"
          ],
          "name": "stdout"
        }
      ]
    },
    {
      "cell_type": "code",
      "metadata": {
        "id": "ZkKdWUnoVX37",
        "colab_type": "code",
        "outputId": "52452c2d-67ed-4335-f40d-f25281d901af",
        "colab": {
          "base_uri": "https://localhost:8080/",
          "height": 374
        }
      },
      "source": [
        "history = model.fit(\n",
        "    x_train, \n",
        "    y_train,\n",
        "    epochs=10,\n",
        "    batch_size=32,\n",
        "    validation_split=0.2\n",
        ")\n"
      ],
      "execution_count": 0,
      "outputs": [
        {
          "output_type": "stream",
          "text": [
            "Train on 7185 samples, validate on 1797 samples\n",
            "Epoch 1/10\n",
            "7185/7185 [==============================] - 2s 288us/step - loss: 2.0241 - accuracy: 0.4683 - val_loss: 1.7500 - val_accuracy: 0.5398\n",
            "Epoch 2/10\n",
            "7185/7185 [==============================] - 2s 243us/step - loss: 1.5387 - accuracy: 0.5905 - val_loss: 1.5149 - val_accuracy: 0.6144\n",
            "Epoch 3/10\n",
            "7185/7185 [==============================] - 2s 241us/step - loss: 1.2526 - accuracy: 0.6642 - val_loss: 1.5062 - val_accuracy: 0.6283\n",
            "Epoch 4/10\n",
            "7185/7185 [==============================] - 2s 245us/step - loss: 1.0178 - accuracy: 0.7307 - val_loss: 1.7169 - val_accuracy: 0.6405\n",
            "Epoch 5/10\n",
            "7185/7185 [==============================] - 2s 248us/step - loss: 0.8500 - accuracy: 0.7779 - val_loss: 1.9832 - val_accuracy: 0.6450\n",
            "Epoch 6/10\n",
            "7185/7185 [==============================] - 2s 242us/step - loss: 0.7139 - accuracy: 0.8090 - val_loss: 2.2752 - val_accuracy: 0.6411\n",
            "Epoch 7/10\n",
            "7185/7185 [==============================] - 2s 246us/step - loss: 0.6144 - accuracy: 0.8369 - val_loss: 2.3386 - val_accuracy: 0.6316\n",
            "Epoch 8/10\n",
            "7185/7185 [==============================] - 2s 238us/step - loss: 0.5339 - accuracy: 0.8592 - val_loss: 2.7288 - val_accuracy: 0.6188\n",
            "Epoch 9/10\n",
            "7185/7185 [==============================] - 2s 246us/step - loss: 0.4668 - accuracy: 0.8742 - val_loss: 3.0284 - val_accuracy: 0.6266\n",
            "Epoch 10/10\n",
            "7185/7185 [==============================] - 2s 239us/step - loss: 0.4278 - accuracy: 0.8864 - val_loss: 3.4561 - val_accuracy: 0.6249\n"
          ],
          "name": "stdout"
        }
      ]
    },
    {
      "cell_type": "markdown",
      "metadata": {
        "id": "N3__yfDeh6sZ",
        "colab_type": "text"
      },
      "source": [
        "10 epoch ends up with overfitting. Reducing the epochs to 3 epochs.\n"
      ]
    },
    {
      "cell_type": "code",
      "metadata": {
        "id": "2aXv-QIOWnKE",
        "colab_type": "code",
        "outputId": "6d82f8d6-a31c-40b2-c190-a5e776294d01",
        "colab": {
          "base_uri": "https://localhost:8080/",
          "height": 562
        }
      },
      "source": [
        "import matplotlib.pyplot as plt\n",
        "\n",
        "acc = history.history['accuracy']\n",
        "val_acc = history.history['val_accuracy']\n",
        "loss = history.history['loss']\n",
        "val_loss = history.history['val_loss']\n",
        "\n",
        "epochs = range(len(acc))\n",
        "\n",
        "plt.plot(epochs, acc, 'bo', label='Training acc')\n",
        "plt.plot(epochs, val_acc, 'b', label='Validation acc')\n",
        "plt.title('Training and validation accuracy')\n",
        "plt.legend()\n",
        "\n",
        "plt.figure()\n",
        "\n",
        "plt.plot(epochs, loss, 'bo', label='Training loss')\n",
        "plt.plot(epochs, val_loss, 'b', label='Validation loss')\n",
        "plt.title('Training and validation loss')\n",
        "plt.legend()\n"
      ],
      "execution_count": 0,
      "outputs": [
        {
          "output_type": "execute_result",
          "data": {
            "text/plain": [
              "<matplotlib.legend.Legend at 0x7f7330a47f98>"
            ]
          },
          "metadata": {
            "tags": []
          },
          "execution_count": 6
        },
        {
          "output_type": "display_data",
          "data": {
            "image/png": "[encoded data removed]",
            "text/plain": [
              "<Figure size 432x288 with 1 Axes>"
            ]
          },
          "metadata": {
            "tags": [],
            "needs_background": "light"
          }
        },
        {
          "output_type": "display_data",
          "data": {
            "image/png": "[encoded data removed]",
            "text/plain": [
              "<Figure size 432x288 with 1 Axes>"
            ]
          },
          "metadata": {
            "tags": [],
            "needs_background": "light"
          }
        }
      ]
    },
    {
      "cell_type": "code",
      "metadata": {
        "id": "wxKS3h3_Fc4V",
        "colab_type": "code",
        "outputId": "6342513b-2e00-4dbe-bfcc-4cf47eb7251e",
        "colab": {
          "base_uri": "https://localhost:8080/",
          "height": 136
        }
      },
      "source": [
        "#using 3 epochs\n",
        "history = model.fit(\n",
        "    x_train, \n",
        "    y_train,\n",
        "    epochs=3,\n",
        "    batch_size=32,\n",
        "    validation_split=0.2\n",
        ")"
      ],
      "execution_count": 0,
      "outputs": [
        {
          "output_type": "stream",
          "text": [
            "Train on 7185 samples, validate on 1797 samples\n",
            "Epoch 1/3\n",
            "7185/7185 [==============================] - 2s 312us/step - loss: 2.0273 - accuracy: 0.4518 - val_loss: 1.7094 - val_accuracy: 0.5409\n",
            "Epoch 2/3\n",
            "7185/7185 [==============================] - 2s 273us/step - loss: 1.5461 - accuracy: 0.5981 - val_loss: 1.5026 - val_accuracy: 0.6155\n",
            "Epoch 3/3\n",
            "7185/7185 [==============================] - 2s 268us/step - loss: 1.2488 - accuracy: 0.6697 - val_loss: 1.4890 - val_accuracy: 0.6294\n"
          ],
          "name": "stdout"
        }
      ]
    },
    {
      "cell_type": "code",
      "metadata": {
        "id": "MV3DuDFbRo6g",
        "colab_type": "code",
        "outputId": "5728522d-3126-48eb-9f71-4ef67625c6e5",
        "colab": {
          "base_uri": "https://localhost:8080/",
          "height": 562
        }
      },
      "source": [
        "import matplotlib.pyplot as plt\n",
        "\n",
        "acc = history.history['accuracy']\n",
        "val_acc = history.history['val_accuracy']\n",
        "loss = history.history['loss']\n",
        "val_loss = history.history['val_loss']\n",
        "\n",
        "epochs = range(len(acc))\n",
        "\n",
        "plt.plot(epochs, acc, 'bo', label='Training acc')\n",
        "plt.plot(epochs, val_acc, 'b', label='Validation acc')\n",
        "plt.title('Training and validation accuracy')\n",
        "plt.legend()\n",
        "\n",
        "plt.figure()\n",
        "\n",
        "plt.plot(epochs, loss, 'bo', label='Training loss')\n",
        "plt.plot(epochs, val_loss, 'b', label='Validation loss')\n",
        "plt.title('Training and validation loss')\n",
        "plt.legend()"
      ],
      "execution_count": 0,
      "outputs": [
        {
          "output_type": "execute_result",
          "data": {
            "text/plain": [
              "<matplotlib.legend.Legend at 0x7f5efbc43f60>"
            ]
          },
          "metadata": {
            "tags": []
          },
          "execution_count": 6
        },
        {
          "output_type": "display_data",
          "data": {
            "image/png": "[encoded data removed]",
            "text/plain": [
              "<Figure size 432x288 with 1 Axes>"
            ]
          },
          "metadata": {
            "tags": [],
            "needs_background": "light"
          }
        },
        {
          "output_type": "display_data",
          "data": {
            "image/png": "[encoded data removed]",
            "text/plain": [
              "<Figure size 432x288 with 1 Axes>"
            ]
          },
          "metadata": {
            "tags": [],
            "needs_background": "light"
          }
        }
      ]
    },
    {
      "cell_type": "code",
      "metadata": {
        "id": "iAJ3PzDJXT-x",
        "colab_type": "code",
        "outputId": "6fee0c97-4747-4588-810e-78366e9e1808",
        "colab": {
          "base_uri": "https://localhost:8080/",
          "height": 34
        }
      },
      "source": [
        "test_eval = model.evaluate(x_test, y_test)"
      ],
      "execution_count": 0,
      "outputs": [
        {
          "output_type": "stream",
          "text": [
            "2246/2246 [==============================] - 0s 55us/step\n"
          ],
          "name": "stdout"
        }
      ]
    },
    {
      "cell_type": "code",
      "metadata": {
        "id": "xW8LPof5Xn4h",
        "colab_type": "code",
        "outputId": "46b79c18-b078-4966-ade1-e9ea94cd8f2d",
        "colab": {
          "base_uri": "https://localhost:8080/",
          "height": 51
        }
      },
      "source": [
        "print('Test loss:', test_eval[0])\n",
        "print('Test accuracy:', test_eval[1])"
      ],
      "execution_count": 0,
      "outputs": [
        {
          "output_type": "stream",
          "text": [
            "Test loss: 1.525930942325643\n",
            "Test accuracy: 0.6193232536315918\n"
          ],
          "name": "stdout"
        }
      ]
    },
    {
      "cell_type": "markdown",
      "metadata": {
        "id": "w9__yxAHUSrb",
        "colab_type": "text"
      },
      "source": [
        "## Task 2: RNN/LSTM\n",
        "Now, we have a fully connected neural networks trained for prediction topics in Reuters data. In this task, we will swap out the fully connect layers and replace with a more powerful RNN layers (LSTM, GRU). Try experiment with different RNN layers and see if they can help improve the model performance."
      ]
    },
    {
      "cell_type": "code",
      "metadata": {
        "id": "znGT26SiVjtt",
        "colab_type": "code",
        "outputId": "fa010957-0a65-4289-d9a4-97bbdde59ddd",
        "colab": {
          "base_uri": "https://localhost:8080/",
          "height": 374
        }
      },
      "source": [
        "from keras.models import Sequential\n",
        "from keras.layers import Dense, Embedding, SimpleRNN\n",
        "from keras.layers import LSTM\n",
        "\n",
        "model = Sequential()\n",
        "model.add(Embedding(max_words, 32))\n",
        "model.add(SimpleRNN(32, return_sequences=True))\n",
        "model.add(SimpleRNN(32, return_sequences=True))\n",
        "model.add(SimpleRNN(32, return_sequences=True))\n",
        "model.add(Dropout(0.5))\n",
        "model.add(LSTM(32))\n",
        "model.add(Dense(46, activation='softmax'))\n",
        "\n",
        "model.compile(optimizer='rmsprop', loss='categorical_crossentropy', metrics=['accuracy'])\n",
        "history = model.fit(\n",
        "    x_train, \n",
        "    y_train,\n",
        "    epochs=10,\n",
        "    batch_size=128,\n",
        "    validation_split=0.2\n",
        ")"
      ],
      "execution_count": 0,
      "outputs": [
        {
          "output_type": "stream",
          "text": [
            "Train on 7185 samples, validate on 1797 samples\n",
            "Epoch 1/10\n",
            "7185/7185 [==============================] - 44s 6ms/step - loss: 2.7202 - accuracy: 0.3459 - val_loss: 2.2848 - val_accuracy: 0.4558\n",
            "Epoch 2/10\n",
            "7185/7185 [==============================] - 44s 6ms/step - loss: 2.1156 - accuracy: 0.4754 - val_loss: 1.9992 - val_accuracy: 0.4891\n",
            "Epoch 3/10\n",
            "7185/7185 [==============================] - 44s 6ms/step - loss: 1.8663 - accuracy: 0.5204 - val_loss: 2.1358 - val_accuracy: 0.5164\n",
            "Epoch 4/10\n",
            "7185/7185 [==============================] - 44s 6ms/step - loss: 1.7261 - accuracy: 0.5428 - val_loss: 1.7964 - val_accuracy: 0.5220\n",
            "Epoch 5/10\n",
            "7185/7185 [==============================] - 44s 6ms/step - loss: 1.6267 - accuracy: 0.5687 - val_loss: 1.7219 - val_accuracy: 0.5509\n",
            "Epoch 6/10\n",
            "7185/7185 [==============================] - 44s 6ms/step - loss: 1.5180 - accuracy: 0.6006 - val_loss: 1.7006 - val_accuracy: 0.5693\n",
            "Epoch 7/10\n",
            "7185/7185 [==============================] - 44s 6ms/step - loss: 1.4318 - accuracy: 0.6191 - val_loss: 2.0428 - val_accuracy: 0.5331\n",
            "Epoch 8/10\n",
            "7185/7185 [==============================] - 44s 6ms/step - loss: 1.3373 - accuracy: 0.6533 - val_loss: 1.5862 - val_accuracy: 0.5993\n",
            "Epoch 9/10\n",
            "7185/7185 [==============================] - 44s 6ms/step - loss: 1.2510 - accuracy: 0.6656 - val_loss: 1.5854 - val_accuracy: 0.6149\n",
            "Epoch 10/10\n",
            "7185/7185 [==============================] - 44s 6ms/step - loss: 1.1631 - accuracy: 0.6891 - val_loss: 1.6578 - val_accuracy: 0.6004\n"
          ],
          "name": "stdout"
        }
      ]
    },
    {
      "cell_type": "code",
      "metadata": {
        "id": "YqPw2ZBUZQjc",
        "colab_type": "code",
        "outputId": "e0cbcc73-f8df-4683-8ba7-7f3d48c42769",
        "colab": {
          "base_uri": "https://localhost:8080/",
          "height": 545
        }
      },
      "source": [
        "import matplotlib.pyplot as plt\n",
        "\n",
        "acc = history.history['accuracy']\n",
        "val_acc = history.history['val_accuracy']\n",
        "loss = history.history['loss']\n",
        "val_loss = history.history['val_loss']\n",
        "\n",
        "epochs = range(len(acc))\n",
        "\n",
        "plt.plot(epochs, acc, 'bo', label='Training acc')\n",
        "plt.plot(epochs, val_acc, 'b', label='Validation acc')\n",
        "plt.title('Training and validation accuracy')\n",
        "plt.legend()\n",
        "\n",
        "plt.figure()\n",
        "\n",
        "plt.plot(epochs, loss, 'bo', label='Training loss')\n",
        "plt.plot(epochs, val_loss, 'b', label='Validation loss')\n",
        "plt.title('Training and validation loss')\n",
        "plt.legend()\n",
        "\n",
        "plt.show()"
      ],
      "execution_count": 0,
      "outputs": [
        {
          "output_type": "display_data",
          "data": {
            "image/png": "[encoded data removed]",
            "text/plain": [
              "<Figure size 432x288 with 1 Axes>"
            ]
          },
          "metadata": {
            "tags": [],
            "needs_background": "light"
          }
        },
        {
          "output_type": "display_data",
          "data": {
            "image/png": "[encoded data removed]",
            "text/plain": [
              "<Figure size 432x288 with 1 Axes>"
            ]
          },
          "metadata": {
            "tags": [],
            "needs_background": "light"
          }
        }
      ]
    },
    {
      "cell_type": "code",
      "metadata": {
        "id": "lBjOK9EKZWOO",
        "colab_type": "code",
        "outputId": "6d71a258-4b22-453e-c254-ed4ddc18746a",
        "colab": {
          "base_uri": "https://localhost:8080/",
          "height": 34
        }
      },
      "source": [
        "test_eval = model.evaluate(x_test, y_test)"
      ],
      "execution_count": 0,
      "outputs": [
        {
          "output_type": "stream",
          "text": [
            "2246/2246 [==============================] - 7s 3ms/step\n"
          ],
          "name": "stdout"
        }
      ]
    },
    {
      "cell_type": "code",
      "metadata": {
        "id": "JGeWF_Xra5ui",
        "colab_type": "code",
        "outputId": "bb4a027d-fb02-4304-c270-673b47b7e0a7",
        "colab": {
          "base_uri": "https://localhost:8080/",
          "height": 51
        }
      },
      "source": [
        "print('Test loss:', test_eval[0])\n",
        "print('Test accuracy:', test_eval[1])"
      ],
      "execution_count": 0,
      "outputs": [
        {
          "output_type": "stream",
          "text": [
            "Test loss: 1.7069324096822356\n",
            "Test accuracy: 0.6001781225204468\n"
          ],
          "name": "stdout"
        }
      ]
    },
    {
      "cell_type": "markdown",
      "metadata": {
        "id": "asCa299TUV7N",
        "colab_type": "text"
      },
      "source": [
        "## Task 3: Use a Pre-trained Word Embedding\n",
        "\n",
        "In this task, instead of learning the word embedding layer from scratch, we apply a pre-trained word embedding layer and only use the classification base for reuters data. Please refer to the [API](https://keras.io/examples/pretrained_word_embeddings/) for different pre-trained word embedding.\n",
        "\n",
        "Does the pre-trained word embedding help improve the model prediction?\n"
      ]
    },
    {
      "cell_type": "code",
      "metadata": {
        "id": "ctT6wmwm7odw",
        "colab_type": "code",
        "outputId": "b207fb5f-135c-4279-ebf0-1d8e1c07cb12",
        "colab": {
          "base_uri": "https://localhost:8080/",
          "height": 425
        }
      },
      "source": [
        "import os\n",
        "import shutil\n",
        "import zipfile\n",
        "import sys\n",
        "import numpy as np\n",
        "from keras.preprocessing.text import Tokenizer\n",
        "from keras.preprocessing.sequence import pad_sequences\n",
        "from keras.utils import to_categorical\n",
        "from keras.layers import Dense, Input, GlobalMaxPooling1D\n",
        "from keras.layers import Conv1D, MaxPooling1D, Embedding\n",
        "from keras.models import Model\n",
        "from keras.initializers import Constant\n",
        "\n",
        "!wget --no-check-certificate \\\n",
        "    \"http://nlp.stanford.edu/data/glove.6B.zip\" \\\n",
        "    -O \"/tmp/glove.6B.zip\"\n",
        "\n",
        "local_zip = '/tmp/glove.6B.zip'\n",
        "zip_ref   = zipfile.ZipFile(local_zip, 'r')\n",
        "zip_ref.extractall('/tmp')\n",
        "zip_ref.infolist()"
      ],
      "execution_count": 0,
      "outputs": [
        {
          "output_type": "stream",
          "text": [
            "--2020-05-09 06:57:12--  http://nlp.stanford.edu/data/glove.6B.zip\n",
            "Resolving nlp.stanford.edu (nlp.stanford.edu)... 171.64.67.140\n",
            "Connecting to nlp.stanford.edu (nlp.stanford.edu)|171.64.67.140|:80... connected.\n",
            "HTTP request sent, awaiting response... 302 Found\n",
            "Location: https://nlp.stanford.edu/data/glove.6B.zip [following]\n",
            "--2020-05-09 06:57:12--  https://nlp.stanford.edu/data/glove.6B.zip\n",
            "Connecting to nlp.stanford.edu (nlp.stanford.edu)|171.64.67.140|:443... connected.\n",
            "HTTP request sent, awaiting response... 301 Moved Permanently\n",
            "Location: http://downloads.cs.stanford.edu/nlp/data/glove.6B.zip [following]\n",
            "--2020-05-09 06:57:13--  http://downloads.cs.stanford.edu/nlp/data/glove.6B.zip\n",
            "Resolving downloads.cs.stanford.edu (downloads.cs.stanford.edu)... 171.64.64.22\n",
            "Connecting to downloads.cs.stanford.edu (downloads.cs.stanford.edu)|171.64.64.22|:80... connected.\n",
            "HTTP request sent, awaiting response... 200 OK\n",
            "Length: 862182613 (822M) [application/zip]\n",
            "Saving to: ‘/tmp/glove.6B.zip’\n",
            "\n",
            "/tmp/glove.6B.zip   100%[===================>] 822.24M  2.04MB/s    in 6m 28s  \n",
            "\n",
            "2020-05-09 07:03:41 (2.12 MB/s) - ‘/tmp/glove.6B.zip’ saved [862182613/862182613]\n",
            "\n"
          ],
          "name": "stdout"
        },
        {
          "output_type": "execute_result",
          "data": {
            "text/plain": [
              "[<ZipInfo filename='glove.6B.50d.txt' compress_type=deflate filemode='-rw-rw-r--' file_size=171350079 compress_size=69182485>,\n",
              " <ZipInfo filename='glove.6B.100d.txt' compress_type=deflate filemode='-rw-rw-r--' file_size=347116733 compress_size=134300389>,\n",
              " <ZipInfo filename='glove.6B.200d.txt' compress_type=deflate filemode='-rw-rw-r--' file_size=693432828 compress_size=264336891>,\n",
              " <ZipInfo filename='glove.6B.300d.txt' compress_type=deflate filemode='-rw-rw-r--' file_size=1037962819 compress_size=394362180>]"
            ]
          },
          "metadata": {
            "tags": []
          },
          "execution_count": 4
        }
      ]
    },
    {
      "cell_type": "code",
      "metadata": {
        "id": "MkQprFAyU-0g",
        "colab_type": "code",
        "colab": {}
      },
      "source": [
        "# TODO\n",
        "from keras.datasets import reuters\n",
        "from keras.models import Sequential\n",
        "from keras.layers import Dense, Dropout, Activation\n",
        "from keras import preprocessing\n",
        "from keras.preprocessing.text import Tokenizer\n",
        "from keras.preprocessing import sequence\n",
        "\n",
        "EMBEDDING_DIM = 100\n"
      ],
      "execution_count": 0,
      "outputs": []
    },
    {
      "cell_type": "code",
      "metadata": {
        "id": "HRY9j0s65OMZ",
        "colab_type": "code",
        "outputId": "fc2ce581-b488-4c96-ff28-70997e8cc799",
        "colab": {
          "base_uri": "https://localhost:8080/",
          "height": 51
        }
      },
      "source": [
        "print('Indexing word vectors.')\n",
        "\n",
        "embeddings_index = {}\n",
        "with open(os.path.join('/tmp/glove.6B.100d.txt')) as f:\n",
        "    for line in f:\n",
        "        word, coefs = line.split(maxsplit=1)\n",
        "        coefs = np.fromstring(coefs, 'f', sep=' ')\n",
        "        embeddings_index[word] = coefs\n",
        "\n",
        "print('Found %s word vectors.' % len(embeddings_index))"
      ],
      "execution_count": 0,
      "outputs": [
        {
          "output_type": "stream",
          "text": [
            "Indexing word vectors.\n",
            "Found 400000 word vectors.\n"
          ],
          "name": "stdout"
        }
      ]
    },
    {
      "cell_type": "code",
      "metadata": {
        "id": "GuQyE0M5-FZ_",
        "colab_type": "code",
        "outputId": "33645937-1eb2-4ba0-a746-4acae5c8cdb9",
        "colab": {
          "base_uri": "https://localhost:8080/",
          "height": 34
        }
      },
      "source": [
        "print('Preparing embedding matrix.')\n",
        "\n",
        "# prepare embedding matrix\n",
        "\n",
        "num_words = min(max_words, len(word_index) + 1)\n",
        "embedding_matrix = np.zeros((num_words, EMBEDDING_DIM))\n",
        "for word, i in word_index.items():\n",
        "    if i >= max_words:\n",
        "        continue\n",
        "    embedding_vector = embeddings_index.get(word)\n",
        "    if embedding_vector is not None:\n",
        "        # words not found in embedding index will be all-zeros.\n",
        "        embedding_matrix[i] = embedding_vector\n",
        "\n",
        "#load pre-trained word embeddings into an Embedding layer\n",
        "# note that we set trainable = False so as to keep the embeddings fixed\n",
        "embedding_layer = Embedding(num_words,\n",
        "                            EMBEDDING_DIM,\n",
        "                            embeddings_initializer=Constant(embedding_matrix),\n",
        "                            input_length=maxlen,\n",
        "                            trainable=False)"
      ],
      "execution_count": 0,
      "outputs": [
        {
          "output_type": "stream",
          "text": [
            "Preparing embedding matrix.\n"
          ],
          "name": "stdout"
        }
      ]
    },
    {
      "cell_type": "code",
      "metadata": {
        "id": "4lK7SeOLDXwz",
        "colab_type": "code",
        "outputId": "bf47cc92-cfe8-400b-f466-7fc0f4daf820",
        "colab": {
          "base_uri": "https://localhost:8080/",
          "height": 561
        }
      },
      "source": [
        "\n",
        "print('Training model.')\n",
        "\n",
        "# train a 1D convnet with global maxpooling\n",
        "sequence_input = Input(shape=(maxlen,), dtype='int32')\n",
        "embedded_sequences = embedding_layer(sequence_input)\n",
        "x=(Dropout(0.5))(embedded_sequences)\n",
        "x = Conv1D(128, 5, activation='relu')(x)\n",
        "x = MaxPooling1D(5)(x)\n",
        "x = Conv1D(128, 5, activation='relu')(x)\n",
        "x = MaxPooling1D(5)(x)\n",
        "x = Conv1D(128, 5, activation='relu')(x)\n",
        "x = GlobalMaxPooling1D()(x)\n",
        "x = Dense(128, activation='relu')(x)\n",
        "preds = Dense(46, activation='softmax')(x)\n",
        "\n",
        "model = Model(sequence_input, preds)\n",
        "model.compile(loss='categorical_crossentropy',\n",
        "              optimizer='rmsprop',\n",
        "              metrics=['acc'])\n",
        "\n",
        "history = model.fit(x_train, y_train,\n",
        "          batch_size=128,\n",
        "          epochs=10,\n",
        "          validation_split=0.2)"
      ],
      "execution_count": 0,
      "outputs": [
        {
          "output_type": "stream",
          "text": [
            "Training model.\n",
            "Train on 7185 samples, validate on 1797 samples\n",
            "Epoch 1/15\n",
            "7185/7185 [==============================] - 32s 4ms/step - loss: 2.3592 - acc: 0.3868 - val_loss: 2.3146 - val_acc: 0.4157\n",
            "Epoch 2/15\n",
            "7185/7185 [==============================] - 32s 4ms/step - loss: 2.0267 - acc: 0.4604 - val_loss: 1.9635 - val_acc: 0.4719\n",
            "Epoch 3/15\n",
            "7185/7185 [==============================] - 31s 4ms/step - loss: 1.9482 - acc: 0.4757 - val_loss: 1.8896 - val_acc: 0.5064\n",
            "Epoch 4/15\n",
            "7185/7185 [==============================] - 32s 4ms/step - loss: 1.8706 - acc: 0.4998 - val_loss: 1.8085 - val_acc: 0.5136\n",
            "Epoch 5/15\n",
            "7185/7185 [==============================] - 32s 4ms/step - loss: 1.8161 - acc: 0.5197 - val_loss: 1.7855 - val_acc: 0.5403\n",
            "Epoch 6/15\n",
            "7185/7185 [==============================] - 32s 4ms/step - loss: 1.7719 - acc: 0.5370 - val_loss: 1.8715 - val_acc: 0.5170\n",
            "Epoch 7/15\n",
            "7185/7185 [==============================] - 32s 4ms/step - loss: 1.7230 - acc: 0.5474 - val_loss: 1.7557 - val_acc: 0.5364\n",
            "Epoch 8/15\n",
            "7185/7185 [==============================] - 32s 4ms/step - loss: 1.6733 - acc: 0.5662 - val_loss: 1.7645 - val_acc: 0.5515\n",
            "Epoch 9/15\n",
            "7185/7185 [==============================] - 32s 4ms/step - loss: 1.6270 - acc: 0.5717 - val_loss: 1.8351 - val_acc: 0.5019\n",
            "Epoch 10/15\n",
            "7185/7185 [==============================] - 32s 4ms/step - loss: 1.5905 - acc: 0.5837 - val_loss: 1.6658 - val_acc: 0.5687\n",
            "Epoch 11/15\n",
            "7185/7185 [==============================] - 32s 4ms/step - loss: 1.5417 - acc: 0.5922 - val_loss: 2.1179 - val_acc: 0.4936\n",
            "Epoch 12/15\n",
            "7185/7185 [==============================] - 32s 4ms/step - loss: 1.5062 - acc: 0.6039 - val_loss: 1.5513 - val_acc: 0.5954\n",
            "Epoch 13/15\n",
            "7185/7185 [==============================] - 31s 4ms/step - loss: 1.4596 - acc: 0.6159 - val_loss: 1.7016 - val_acc: 0.5632\n",
            "Epoch 14/15\n",
            "7185/7185 [==============================] - 32s 4ms/step - loss: 1.4205 - acc: 0.6238 - val_loss: 1.7768 - val_acc: 0.5876\n",
            "Epoch 15/15\n",
            "7185/7185 [==============================] - 32s 4ms/step - loss: 1.3853 - acc: 0.6341 - val_loss: 1.8206 - val_acc: 0.5676\n"
          ],
          "name": "stdout"
        }
      ]
    },
    {
      "cell_type": "code",
      "metadata": {
        "id": "Jt_SuLsDQY3n",
        "colab_type": "code",
        "outputId": "5f57ac75-0bd4-4c4b-e791-07d4983d6543",
        "colab": {
          "base_uri": "https://localhost:8080/",
          "height": 545
        }
      },
      "source": [
        "import matplotlib.pyplot as plt\n",
        "\n",
        "acc = history.history['acc']\n",
        "val_acc = history.history['val_acc']\n",
        "loss = history.history['loss']\n",
        "val_loss = history.history['val_loss']\n",
        "\n",
        "epochs = range(len(acc))\n",
        "\n",
        "plt.plot(epochs, acc, 'bo', label='Training acc')\n",
        "plt.plot(epochs, val_acc, 'b', label='Validation acc')\n",
        "plt.title('Training and validation accuracy')\n",
        "plt.legend()\n",
        "\n",
        "plt.figure()\n",
        "\n",
        "plt.plot(epochs, loss, 'bo', label='Training loss')\n",
        "plt.plot(epochs, val_loss, 'b', label='Validation loss')\n",
        "plt.title('Training and validation loss')\n",
        "plt.legend()\n",
        "\n",
        "plt.show()"
      ],
      "execution_count": 0,
      "outputs": [
        {
          "output_type": "display_data",
          "data": {
            "image/png": "[encoded data removed]",
            "text/plain": [
              "<Figure size 432x288 with 1 Axes>"
            ]
          },
          "metadata": {
            "tags": [],
            "needs_background": "light"
          }
        },
        {
          "output_type": "display_data",
          "data": {
            "image/png": "[encoded data removed]",
            "text/plain": [
              "<Figure size 432x288 with 1 Axes>"
            ]
          },
          "metadata": {
            "tags": [],
            "needs_background": "light"
          }
        }
      ]
    },
    {
      "cell_type": "code",
      "metadata": {
        "id": "KySpqs96Rw9X",
        "colab_type": "code",
        "colab": {}
      },
      "source": [
        "test_eval = model.evaluate(x_test, y_test, verbose=0)"
      ],
      "execution_count": 0,
      "outputs": []
    },
    {
      "cell_type": "code",
      "metadata": {
        "id": "AXF-t0mgIZY5",
        "colab_type": "code",
        "outputId": "223f68ff-5a37-466d-fa91-b7af1ec013dc",
        "colab": {
          "base_uri": "https://localhost:8080/",
          "height": 51
        }
      },
      "source": [
        "print('Test loss:', test_eval[0])\n",
        "print('Test accuracy:', test_eval[1])"
      ],
      "execution_count": 0,
      "outputs": [
        {
          "output_type": "stream",
          "text": [
            "Test loss: 1.8551949461124246\n",
            "Test accuracy: 0.551202118396759\n"
          ],
          "name": "stdout"
        }
      ]
    },
    {
      "cell_type": "markdown",
      "metadata": {
        "id": "e5dHJwxXelNn",
        "colab_type": "text"
      },
      "source": [
        "The Pre trained model did not exactly improve the model prediction with a test accuracy of 55%. Increasing the epoch increased the chances of overfitting. One reason may be that the size of the training data is less.\n"
      ]
    },
    {
      "cell_type": "code",
      "metadata": {
        "id": "qelRoiI8gjLb",
        "colab_type": "code",
        "colab": {}
      },
      "source": [
        ""
      ],
      "execution_count": 0,
      "outputs": []
    }
  ]
}